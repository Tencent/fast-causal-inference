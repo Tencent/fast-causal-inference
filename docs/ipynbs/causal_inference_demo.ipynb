{
 "cells": [
  {
   "cell_type": "code",
   "execution_count": null,
   "metadata": {},
   "outputs": [],
   "source": [
    "# 1. Extract fast-causal-inference.tar.gz archive\n",
    "tar -xzvf fast-causal-inference.tar.gz"
   ]
  },
  {
   "cell_type": "code",
   "execution_count": null,
   "metadata": {},
   "outputs": [],
   "source": [
    "# 2. Install fast-causal-inference lib\n",
    "cd fast-causal-inference\n",
    "pip install -e ./"
   ]
  },
  {
   "metadata": {},
   "cell_type": "code",
   "outputs": [],
   "execution_count": null,
   "source": [
    "# 3. Create fast-causal-inference provider\n",
    "import fast_causal_inference\n",
    "allinsql_provider = fast_causal_inference.FCIProvider(\"olap_database\")"
   ]
  },
  {
   "metadata": {},
   "cell_type": "code",
   "outputs": [],
   "execution_count": null,
   "source": [
    "# 4. Import data to Olap, Also can use readClickhouse function\n",
    "# readSparkDf(spark_session, spark_dataframe) or readCsv(csv_file_abs_path)\n",
    "dataframe = allinsql_provider.readCsv(\"test_demo.csv\")\n",
    "table_name = dataframe._origin_table_name\n",
    "dataframe2 = allinsql_provider.readStarRocks(table_name)"
   ]
  },
  {
   "metadata": {},
   "cell_type": "code",
   "outputs": [],
   "execution_count": null,
   "source": [
    "# 5. Dataframe functions\n",
    "# Function Detail: https://tencent.github.io/fast-causal-inference/docs/dataframe.html#dataframe\n",
    "dataframe.groupBy(\"key\")\n",
    "dataframe.head(10)\n",
    "dataframe.select(\"key\")\n",
    "dataframe.show()\n",
    "dataframe.sample(0.5)\n",
    "dataframe.toPandas()\n",
    "dataframe.avg(\"key\")"
   ]
  },
  {
   "metadata": {},
   "cell_type": "code",
   "outputs": [],
   "execution_count": null,
   "source": [
    "# 6. Causal Inference functions\n",
    "# Function Detail: https://tencent.github.io/fast-causal-inference/docs/inference.html#\n",
    "\n",
    "# DeltaMethod\n",
    "dataframe.groupBy('treatment').delta_method('avg(x1)', False).show()\n",
    "\n",
    "# MannWhitneyUTest\n",
    "dataframe.mann_whitney_utest('x1', 'treatment').show()\n",
    "\n",
    "# OLS\n",
    "import fast_causal_inference.dataframe.regression as Regression\n",
    "model = Regression.Ols(False)\n",
    "model.fit('y~x1+x2+x3', dataframe)\n",
    "effect_df = model.effect('x1+x2+x3', dataframe)\n",
    "effect_df.show()\n",
    "\n",
    "# Matching\n",
    "import fast_causal_inference.dataframe.match as Match\n",
    "Match.matching_plot(dataframe,'treatment','x1')"
   ]
  }
 ],
 "metadata": {
  "kernelspec": {
   "display_name": "xeus-python",
   "language": "python",
   "name": "xeus-python"
  },
  "language_info": {
   "codemirror_mode": {
    "name": "ipython",
    "version": 3
   },
   "file_extension": ".py",
   "mimetype": "text/x-python",
   "name": "python",
   "nbconvert_exporter": "python",
   "pygments_lexer": "ipython3",
   "version": "3.10.4"
  }
 },
 "nbformat": 4,
 "nbformat_minor": 4
}
