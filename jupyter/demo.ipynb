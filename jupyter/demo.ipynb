{
 "cells": [
  {
   "cell_type": "markdown",
   "id": "b4c049a0-885f-41f3-9cba-a42917635da0",
   "metadata": {},
   "source": [
    "\n",
    "\n",
    "# Fast Causal inference\n",
    "\n",
    "Fast Causal Inference is Tencent's first open-source causal inference project. It is an OLAP-based high-performance causal inference (statistical model) computing library, which solves the performance bottleneck of existing statistical model libraries (R/Python) under big data, and provides causal inference capabilities for massive data execution in seconds and sub-seconds. At the same time, the threshold for using statistical models is lowered through the SQL language, making it easy to use in production environments. At present, it has supported the causal analysis of WeChat-Search, WeChat-Video-Account and other businesses, greatly improving the work efficiency of data scientists.\n",
    "![Example Image](https://github.com/Tencent/fast-causal-inference/raw/main/docs/images/fast-causal-inference3.png)\n"
   ]
  },
  {
   "cell_type": "markdown",
   "id": "1a303640-afd2-46c4-ad50-9d9036d6c57e",
   "metadata": {
    "tags": []
   },
   "source": [
    "# Get started"
   ]
  },
  {
   "cell_type": "code",
   "execution_count": 1,
   "id": "73fb08a2-9751-43d0-84cb-ff82e87b0dab",
   "metadata": {},
   "outputs": [],
   "source": [
    "import time\n",
    "import pandas as pd"
   ]
  },
  {
   "cell_type": "code",
   "execution_count": 2,
   "id": "6279fa4d",
   "metadata": {
    "tags": []
   },
   "outputs": [],
   "source": [
    "import fast_causal_inference\n",
    "ais = fast_causal_inference.FCIProvider('all_in_sql')\n",
    "df = ais.readClickHouse('test_data_small')"
   ]
  },
  {
   "cell_type": "code",
   "execution_count": 3,
   "id": "43c829be-2ee3-4d0a-a0cc-e20c0595109d",
   "metadata": {},
   "outputs": [
    {
     "name": "stdout",
     "output_type": "stream",
     "text": [
      "                                       id          x1            x2           x3          x4           x5 x_long_tail1 x_long_tail2 x_cat1  \\\n",
      "0    12c39867-38a1-4c77-9827-94b7adf1dbc8  .943108987  -5.162511593  1.006670604  .500232002  3.853385719   .236077207   .188170373      B   \n",
      "1    12c39867-38a1-4c77-9827-94b7adf1dbc8  .943108987  -5.162511593  1.006670604  .500232002  3.853385719   .236077207   .188170373      B   \n",
      "2    12c39867-38a1-4c77-9827-94b7adf1dbc8  .943108987  -5.162511593  1.006670604  .500232002  3.853385719   .236077207   .188170373      B   \n",
      "3    12c39867-38a1-4c77-9827-94b7adf1dbc8  .943108987  -5.162511593  1.006670604  .500232002  3.853385719   .236077207   .188170373      B   \n",
      "4    12c39867-38a1-4c77-9827-94b7adf1dbc8  .943108987  -5.162511593  1.006670604  .500232002  3.853385719   .236077207   .188170373      B   \n",
      "..                                    ...         ...           ...          ...         ...          ...          ...          ...    ...   \n",
      "195  16aa43c9-4bb3-41e3-a9c3-2c0bcc599f2f  .202705778  -4.017077946   .043760561  .513564936  4.149706747   .041373291    .33312824      D   \n",
      "196  16aa43c9-4bb3-41e3-a9c3-2c0bcc599f2f  .202705778  -4.017077946   .043760561  .513564936  4.149706747   .041373291    .33312824      D   \n",
      "197  16aa43c9-4bb3-41e3-a9c3-2c0bcc599f2f  .202705778  -4.017077946   .043760561  .513564936  4.149706747   .041373291    .33312824      D   \n",
      "198  16aa43c9-4bb3-41e3-a9c3-2c0bcc599f2f  .202705778  -4.017077946   .043760561  .513564936  4.149706747   .041373291    .33312824      D   \n",
      "199  16aa43c9-4bb3-41e3-a9c3-2c0bcc599f2f  .202705778  -4.017077946   .043760561  .513564936  4.149706747   .041373291    .33312824      D   \n",
      "\n",
      "    treatment t_ob              y         y_ob numerator_pre      numerator denominator_pre denominator      weight        day_  \n",
      "0           0    1  -13.296273502  2.958009477  -7.070275004  -13.296273502               9          10  .933403739  2023-11-03  \n",
      "1           0    1  -13.296273502  2.958009477  -7.070275004  -13.296273502               9          10  .933403739  2023-11-03  \n",
      "2           0    1  -13.296273502  2.958009477  -7.070275004  -13.296273502               9          10  .933403739  2023-11-03  \n",
      "3           0    1  -13.296273502  2.958009477  -7.070275004  -13.296273502               9          10  .933403739  2023-11-03  \n",
      "4           0    1  -13.296273502  2.958009477  -7.070275004  -13.296273502               9          10  .933403739  2023-11-03  \n",
      "..        ...  ...            ...          ...           ...            ...             ...         ...         ...         ...  \n",
      "195         0    0  -12.174380483   .473976998  -8.028925202  -12.174380483               8           6  .553498957  2023-11-03  \n",
      "196         0    0  -12.174380483   .473976998  -8.028925202  -12.174380483               8           6  .553498957  2023-11-03  \n",
      "197         0    0  -12.174380483   .473976998  -8.028925202  -12.174380483               8           6  .553498957  2023-11-03  \n",
      "198         0    0  -12.174380483   .473976998  -8.028925202  -12.174380483               8           6  .553498957  2023-11-03  \n",
      "199         0    0  -12.174380483   .473976998  -8.028925202  -12.174380483               8           6  .553498957  2023-11-03  \n",
      "\n",
      "[200 rows x 19 columns]\n"
     ]
    }
   ],
   "source": [
    "df.show()"
   ]
  },
  {
   "cell_type": "markdown",
   "id": "c5f77e99-6844-42df-ab0c-c89fa83d6e0c",
   "metadata": {},
   "source": [
    "# know your data"
   ]
  },
  {
   "cell_type": "markdown",
   "id": "eee2dc3b-7ed2-431d-9878-22968ad72149",
   "metadata": {},
   "source": [
    "### test data generation"
   ]
  },
  {
   "cell_type": "code",
   "execution_count": 4,
   "id": "0aad3a91-3874-4025-a1d0-8ca45586f6b6",
   "metadata": {
    "tags": []
   },
   "outputs": [
    {
     "name": "stdout",
     "output_type": "stream",
     "text": [
      "         x1        x2        x3        x4        x5  x_long_tail1  x_long_tail2 x_cat1  treatment  t_ob          y      y_ob  numerator_pre  \\\n",
      "0  1.764052 -0.404234  0.691733  1.747157  1.567715      0.186325      0.066557      E          1     1  14.341114  0.672431       3.511439   \n",
      "1  0.400157 -1.666462  4.310034  1.393977  4.755300      0.172270      0.059758      C          0     1  12.022749  2.776448       9.612530   \n",
      "2  0.978738  3.467200  1.162678  1.188839  1.739792      0.004183      0.002593      E          1     1  44.461318 -1.288468      10.548653   \n",
      "3  2.240893  0.381298  1.951522  0.235632  0.480281      0.747511      0.114508      E          1     1  17.249192  3.037100       8.715654   \n",
      "4  1.867558 -0.355621  0.703186  1.544799  3.959299      0.168121      1.927359      D          1     1  20.020350  1.589388       7.982669   \n",
      "\n",
      "   numerator  denominator_pre  denominator    weight  \n",
      "0  14.341114         6.554783    11.801924  0.129557  \n",
      "1  12.022749        10.953917     7.550823  0.558684  \n",
      "2  44.461318         4.174754     7.436273  0.382343  \n",
      "3  17.249192         4.696189    12.268354  0.025037  \n",
      "4  20.020350        10.829893    18.515595  0.616490  \n"
     ]
    }
   ],
   "source": [
    "import numpy as np\n",
    "import pandas as pd\n",
    "import random\n",
    "# Set random seed for reproducibility\n",
    "np.random.seed(0)\n",
    "n = 10000\n",
    "\n",
    "################################## generate covariables #############################################\n",
    "# Generate x1-x5, they come from different distributions and have different variances\n",
    "x1 = np.random.normal(0, 1, n) # Normal distribution, variance is 1\n",
    "x2 = np.random.normal(0, 2, n)  # Normal distribution, variance is 4\n",
    "x3 = np.random.exponential(1, n)  # Exponential distribution, variance is 1\n",
    "x4 = np.random.exponential(2, n)  # Exponential distribution, variance is 4\n",
    "x5 = np.random.uniform(0, 5, n)  # Uniform distribution, variance is approximately 1.33\n",
    "weight = np.random.uniform(0, 1, n) # use for sample reweighing\n",
    "\n",
    "# Generate x6-x7, they are long-tail distributed data\n",
    "x_long_tail1 = np.random.pareto(3, n)  # Pareto distribution\n",
    "x_long_tail2 = np.random.pareto(2, n)  # Pareto distribution\n",
    "\n",
    "# Generate x_cat1, it is a discrete variable of string type\n",
    "x_cat1 = np.random.choice(['A', 'B', 'C', 'D', 'E'], n)\n",
    "###################################################################################################### \n",
    "\n",
    "\n",
    "\n",
    "################################## generate exprimental data ######################################### \n",
    "# Generate treatment, it is a binary random variable\n",
    "treatment = np.random.choice([0, 1], n)\n",
    "\n",
    "\n",
    "# Generate y \n",
    "# y is highly correlated with x1, x2, x3,x_long_tail2 and treatment\n",
    "# and there is heterogeneity on x_cat1 and x1,x2,x4\n",
    "y_pre = x1 + 2*x2 + 3*x3 + 3*np.log(x_long_tail2+1) + np.random.normal(0, 1, n)\n",
    "y = y_pre + 5*treatment + treatment*(x1+x2**2+np.log(x4+1)+(x_long_tail1>1))*2 + np.random.normal(0, 2, n)\n",
    "y[x_cat1 == 'A'] += 3\n",
    "y[x_cat1 == 'B'] -= 2\n",
    "\n",
    "# Generate ratio metric: numerator/denominator, for example click/show\n",
    "numerator_pre = y_pre \n",
    "numerator = y \n",
    "denominator_pre = x1 + 2*x5 + 3*np.log(x_long_tail1+1) + np.random.normal(0, 1, n)\n",
    "denominator = denominator_pre + 2*treatment + treatment*(x1)*2 + np.random.normal(0, 2, n)\n",
    "###################################################################################################### \n",
    "\n",
    "\n",
    "################################## generate observational data ####################################### \n",
    "# use x1,x2,x3 before\n",
    "# Generate linear combination for t_ob\n",
    "linear_combination_t = 1*x1 + 0.2*x2 + 0.5 * x3 + 0.1 * np.random.normal(0, 1, n)\n",
    "\n",
    "# Convert the linear combination into a probability using the logistic function\n",
    "prob_t = 1 / (1 + np.exp(-linear_combination_t))\n",
    "\n",
    "# Generate binary variable t based on the probability\n",
    "t_ob = np.random.binomial(1, prob_t)\n",
    "\n",
    "# Generate linear combination for y\n",
    "linear_combination_y = 0.5 * x1 - 0.25 * x2 + 0.1 * x3 + 0.5 * t_ob + 0.1 * np.random.normal(0, 1, n)\n",
    "\n",
    "# Generate target variable y\n",
    "y_ob = linear_combination_y + np.random.normal(0, 1, n)\n",
    "###################################################################################################### \n",
    "\n",
    "\n",
    "\n",
    "# get DataFrame\n",
    "df = pd.DataFrame({\n",
    "    'x1': x1,\n",
    "    'x2': x2,\n",
    "    'x3': x3,\n",
    "    'x4': x4,\n",
    "    'x5': x5,\n",
    "    'x_long_tail1': x_long_tail1,\n",
    "    'x_long_tail2': x_long_tail2,\n",
    "    'x_cat1': x_cat1,\n",
    "    'treatment': treatment,\n",
    "    't_ob':t_ob,\n",
    "    'y': y,\n",
    "    'y_ob': y_ob,\n",
    "    'numerator_pre':numerator_pre,\n",
    "    'numerator':numerator,\n",
    "    'denominator_pre':denominator_pre,\n",
    "    'denominator':denominator,\n",
    "    'weight' : weight\n",
    "})\n",
    "\n",
    "\n",
    "# show data \n",
    "print(df.head())"
   ]
  },
  {
   "cell_type": "markdown",
   "id": "ca6f3e29-ad4e-4318-a054-cb1c8fc3e716",
   "metadata": {},
   "source": [
    "Covariables\n",
    "\n",
    "- `x1`: This variable follows a normal distribution with a mean of 0 and a variance of 1.\n",
    "- `x2`: This variable also follows a normal distribution, but with a mean of 0 and a larger variance of 4.\n",
    "- `x3`: This variable is generated from an exponential distribution with a rate parameter of 1, resulting in a variance of 1.\n",
    "- `x4`: Similar to `x3`, this variable is generated from an exponential distribution, but with a larger rate parameter of 2, resulting in a variance of 4.\n",
    "- `x5`: This variable is generated from a uniform distribution between 0 and 5, with an approximate variance of 1.33.\n",
    "- `weight`: This variable is generated from a uniform distribution between 0 and 1 and can be used for sample reweighing.\n",
    "- `x_long_tail1`: This variable follows a Pareto distribution with a shape parameter of 3, representing a long-tailed distribution.\n",
    "- `x_long_tail2`: Similarly, this variable follows a Pareto distribution with a shape parameter of 2.\n",
    "- `x_cat1`: This variable is a discrete variable of string type, randomly chosen from the categories 'A', 'B', 'C', 'D', and 'E'.\n",
    "\n",
    "Experimental data\n",
    "- `treatment`: This variable represents the treatment assignment and is a binary random variable.\n",
    "\n",
    "- `y`: The target variable `y` is highly correlated with `x1`, `x2`, `x3`, `x_long_tail2`, and `treatment`. There is also heterogeneity in the relationship with `x_cat1` and `x1`, `x2`, `x4`. It is generated by adding `y_pre` with treatment effects, interaction terms, and random noise.\n",
    "\n",
    "- `numerator_pre`: This variable is a precursor to the numerator of a ratio metric and is highly correlated with `y_pre`.\n",
    "\n",
    "- `numerator`: The numerator of the ratio metric is derived from `numerator_pre` and is highly correlated with `y`.\n",
    "\n",
    "- `denominator_pre`: This variable is a precursor to the denominator of a ratio metric and is generated based on `x1`, `x5`, and `x_long_tail1`.\n",
    "\n",
    "- `denominator`: The denominator of the ratio metric is derived from `denominator_pre` and is influenced by treatment effects, interaction terms with `x1`, and random noise.\n",
    "\n",
    "Observational data \n",
    "- `t_ob`: This binary variable is generated based on a linear combination of `x1`, `x2`, and `x3`. The linear combination is converted into a probability using the logistic function, and `t_ob` is generated by sampling from a binomial distribution with the probability.\n",
    "\n",
    "- `y_ob`: The target variable `y_ob` is generated based on a linear combination of `x1`, `x2`, `x3`, and `t_ob`, along with random noise. It represents the outcome variable in the observational data.\n"
   ]
  },
  {
   "cell_type": "markdown",
   "id": "2bb5bda7-d6b8-44cb-a3e8-27cadcc3c43c",
   "metadata": {},
   "source": [
    "### data description"
   ]
  },
  {
   "cell_type": "code",
   "execution_count": 8,
   "id": "e20e8a39-69d2-4a5c-8c6f-b66e075d5fcc",
   "metadata": {},
   "outputs": [
    {
     "data": {
      "text/plain": [
       "x1                 double\n",
       "x2                 double\n",
       "x3                 double\n",
       "x4                 double\n",
       "x5                 double\n",
       "x_long_tail1       double\n",
       "x_long_tail2       double\n",
       "x_cat1             string\n",
       "treatment          bigint\n",
       "t_ob               bigint\n",
       "y                  double\n",
       "y_ob               double\n",
       "numerator_pre      double\n",
       "numerator          double\n",
       "denominator_pre    bigint\n",
       "denominator        bigint\n",
       "weight             double\n",
       "dtype: object"
      ]
     },
     "execution_count": 8,
     "metadata": {},
     "output_type": "execute_result"
    }
   ],
   "source": [
    "df = ais.readClickHouse('test_data_small')\n",
    "df.dtypes"
   ]
  },
  {
   "cell_type": "code",
   "execution_count": 9,
   "id": "50e0a121-a978-45b8-bd0a-dca42ee1cb76",
   "metadata": {},
   "outputs": [
    {
     "data": {
      "text/plain": [
       "                                     id          x1            x2           x3          x4           x5 x_long_tail1 x_long_tail2 x_cat1 treatment  \\\n",
       "0  12c39867-38a1-4c77-9827-94b7adf1dbc8  .943108987  -5.162511593  1.006670604  .500232002  3.853385719   .236077207   .188170373      B         0   \n",
       "1  12c39867-38a1-4c77-9827-94b7adf1dbc8  .943108987  -5.162511593  1.006670604  .500232002  3.853385719   .236077207   .188170373      B         0   \n",
       "\n",
       "  t_ob              y         y_ob numerator_pre      numerator denominator_pre denominator      weight        day_  \n",
       "0    1  -13.296273502  2.958009477  -7.070275004  -13.296273502               9          10  .933403739  2023-11-03  \n",
       "1    1  -13.296273502  2.958009477  -7.070275004  -13.296273502               9          10  .933403739  2023-11-03  "
      ]
     },
     "execution_count": 9,
     "metadata": {},
     "output_type": "execute_result"
    }
   ],
   "source": [
    "df.head(2)"
   ]
  },
  {
   "cell_type": "code",
   "execution_count": 10,
   "id": "66739f01-aea3-4a63-9778-f8017c4785f6",
   "metadata": {},
   "outputs": [
    {
     "name": "stdout",
     "output_type": "stream",
     "text": [
      "Ignoring column `x_cat1`, whose type `string` is not numeric.\n"
     ]
    },
    {
     "data": {
      "text/html": [
       "<div>\n",
       "<style scoped>\n",
       "    .dataframe tbody tr th:only-of-type {\n",
       "        vertical-align: middle;\n",
       "    }\n",
       "\n",
       "    .dataframe tbody tr th {\n",
       "        vertical-align: top;\n",
       "    }\n",
       "\n",
       "    .dataframe thead th {\n",
       "        text-align: right;\n",
       "    }\n",
       "</style>\n",
       "<table border=\"1\" class=\"dataframe\">\n",
       "  <thead>\n",
       "    <tr style=\"text-align: right;\">\n",
       "      <th></th>\n",
       "      <th>count</th>\n",
       "      <th>avg</th>\n",
       "      <th>std</th>\n",
       "      <th>min</th>\n",
       "      <th>quantile_0.25</th>\n",
       "      <th>quantile_0.50</th>\n",
       "      <th>quantile_0.75</th>\n",
       "      <th>quantile_0.90</th>\n",
       "      <th>quantile_0.99</th>\n",
       "      <th>max</th>\n",
       "    </tr>\n",
       "  </thead>\n",
       "  <tbody>\n",
       "    <tr>\n",
       "      <th>x1</th>\n",
       "      <td>450000.0</td>\n",
       "      <td>-0.018434</td>\n",
       "      <td>0.987558</td>\n",
       "      <td>-3.740101</td>\n",
       "      <td>-0.677051</td>\n",
       "      <td>-0.014510</td>\n",
       "      <td>0.653619</td>\n",
       "      <td>1.274144</td>\n",
       "      <td>2.327715</td>\n",
       "      <td>3.801660</td>\n",
       "    </tr>\n",
       "    <tr>\n",
       "      <th>x2</th>\n",
       "      <td>450000.0</td>\n",
       "      <td>0.021976</td>\n",
       "      <td>1.986112</td>\n",
       "      <td>-8.893264</td>\n",
       "      <td>-1.304574</td>\n",
       "      <td>-0.005497</td>\n",
       "      <td>1.321508</td>\n",
       "      <td>2.594787</td>\n",
       "      <td>4.696652</td>\n",
       "      <td>7.196620</td>\n",
       "    </tr>\n",
       "    <tr>\n",
       "      <th>x3</th>\n",
       "      <td>450000.0</td>\n",
       "      <td>0.993292</td>\n",
       "      <td>0.987874</td>\n",
       "      <td>0.000439</td>\n",
       "      <td>0.281670</td>\n",
       "      <td>0.680478</td>\n",
       "      <td>1.382421</td>\n",
       "      <td>2.262843</td>\n",
       "      <td>4.384397</td>\n",
       "      <td>9.417911</td>\n",
       "    </tr>\n",
       "    <tr>\n",
       "      <th>x4</th>\n",
       "      <td>450000.0</td>\n",
       "      <td>1.985747</td>\n",
       "      <td>1.971292</td>\n",
       "      <td>0.000400</td>\n",
       "      <td>0.546992</td>\n",
       "      <td>1.356368</td>\n",
       "      <td>2.727915</td>\n",
       "      <td>4.544307</td>\n",
       "      <td>9.170565</td>\n",
       "      <td>19.830242</td>\n",
       "    </tr>\n",
       "    <tr>\n",
       "      <th>x5</th>\n",
       "      <td>450000.0</td>\n",
       "      <td>2.495959</td>\n",
       "      <td>1.437556</td>\n",
       "      <td>0.000984</td>\n",
       "      <td>1.219397</td>\n",
       "      <td>2.485067</td>\n",
       "      <td>3.734842</td>\n",
       "      <td>4.472982</td>\n",
       "      <td>4.943966</td>\n",
       "      <td>4.999841</td>\n",
       "    </tr>\n",
       "    <tr>\n",
       "      <th>x_long_tail1</th>\n",
       "      <td>450000.0</td>\n",
       "      <td>0.515560</td>\n",
       "      <td>0.883443</td>\n",
       "      <td>0.000021</td>\n",
       "      <td>0.098383</td>\n",
       "      <td>0.256564</td>\n",
       "      <td>0.594447</td>\n",
       "      <td>1.222587</td>\n",
       "      <td>4.211273</td>\n",
       "      <td>28.065146</td>\n",
       "    </tr>\n",
       "    <tr>\n",
       "      <th>x_long_tail2</th>\n",
       "      <td>450000.0</td>\n",
       "      <td>1.008366</td>\n",
       "      <td>3.047902</td>\n",
       "      <td>0.000002</td>\n",
       "      <td>0.154055</td>\n",
       "      <td>0.422879</td>\n",
       "      <td>1.041230</td>\n",
       "      <td>2.251153</td>\n",
       "      <td>9.612506</td>\n",
       "      <td>156.238517</td>\n",
       "    </tr>\n",
       "    <tr>\n",
       "      <th>treatment</th>\n",
       "      <td>450000.0</td>\n",
       "      <td>0.509400</td>\n",
       "      <td>0.499912</td>\n",
       "      <td>0.000000</td>\n",
       "      <td>0.000000</td>\n",
       "      <td>1.000000</td>\n",
       "      <td>1.000000</td>\n",
       "      <td>1.000000</td>\n",
       "      <td>1.000000</td>\n",
       "      <td>1.000000</td>\n",
       "    </tr>\n",
       "    <tr>\n",
       "      <th>t_ob</th>\n",
       "      <td>450000.0</td>\n",
       "      <td>0.599100</td>\n",
       "      <td>0.490081</td>\n",
       "      <td>0.000000</td>\n",
       "      <td>0.000000</td>\n",
       "      <td>1.000000</td>\n",
       "      <td>1.000000</td>\n",
       "      <td>1.000000</td>\n",
       "      <td>1.000000</td>\n",
       "      <td>1.000000</td>\n",
       "    </tr>\n",
       "    <tr>\n",
       "      <th>y</th>\n",
       "      <td>450000.0</td>\n",
       "      <td>12.359893</td>\n",
       "      <td>12.764431</td>\n",
       "      <td>-13.296274</td>\n",
       "      <td>4.193484</td>\n",
       "      <td>10.050566</td>\n",
       "      <td>17.142143</td>\n",
       "      <td>27.069170</td>\n",
       "      <td>58.847437</td>\n",
       "      <td>148.732617</td>\n",
       "    </tr>\n",
       "    <tr>\n",
       "      <th>y_ob</th>\n",
       "      <td>450000.0</td>\n",
       "      <td>0.377476</td>\n",
       "      <td>1.293163</td>\n",
       "      <td>-5.128077</td>\n",
       "      <td>-0.476306</td>\n",
       "      <td>0.356861</td>\n",
       "      <td>1.251771</td>\n",
       "      <td>2.031053</td>\n",
       "      <td>3.419394</td>\n",
       "      <td>5.114904</td>\n",
       "    </tr>\n",
       "    <tr>\n",
       "      <th>numerator_pre</th>\n",
       "      <td>450000.0</td>\n",
       "      <td>4.499999</td>\n",
       "      <td>5.308904</td>\n",
       "      <td>-14.775517</td>\n",
       "      <td>0.900087</td>\n",
       "      <td>4.191331</td>\n",
       "      <td>7.844461</td>\n",
       "      <td>11.244876</td>\n",
       "      <td>18.171450</td>\n",
       "      <td>36.174521</td>\n",
       "    </tr>\n",
       "    <tr>\n",
       "      <th>numerator</th>\n",
       "      <td>450000.0</td>\n",
       "      <td>12.359893</td>\n",
       "      <td>12.764431</td>\n",
       "      <td>-13.296274</td>\n",
       "      <td>4.193484</td>\n",
       "      <td>10.050566</td>\n",
       "      <td>17.142143</td>\n",
       "      <td>27.069170</td>\n",
       "      <td>58.847437</td>\n",
       "      <td>148.732617</td>\n",
       "    </tr>\n",
       "    <tr>\n",
       "      <th>denominator_pre</th>\n",
       "      <td>450000.0</td>\n",
       "      <td>5.521000</td>\n",
       "      <td>3.324663</td>\n",
       "      <td>-3.000000</td>\n",
       "      <td>3.000000</td>\n",
       "      <td>5.000000</td>\n",
       "      <td>8.000000</td>\n",
       "      <td>10.000000</td>\n",
       "      <td>13.000000</td>\n",
       "      <td>18.000000</td>\n",
       "    </tr>\n",
       "    <tr>\n",
       "      <th>denominator</th>\n",
       "      <td>450000.0</td>\n",
       "      <td>6.498400</td>\n",
       "      <td>4.452218</td>\n",
       "      <td>-10.000000</td>\n",
       "      <td>3.000000</td>\n",
       "      <td>6.000000</td>\n",
       "      <td>9.000000</td>\n",
       "      <td>12.000000</td>\n",
       "      <td>17.000000</td>\n",
       "      <td>24.000000</td>\n",
       "    </tr>\n",
       "    <tr>\n",
       "      <th>weight</th>\n",
       "      <td>450000.0</td>\n",
       "      <td>0.500305</td>\n",
       "      <td>0.287938</td>\n",
       "      <td>0.000091</td>\n",
       "      <td>0.251736</td>\n",
       "      <td>0.491157</td>\n",
       "      <td>0.746071</td>\n",
       "      <td>0.897132</td>\n",
       "      <td>0.989310</td>\n",
       "      <td>0.999931</td>\n",
       "    </tr>\n",
       "  </tbody>\n",
       "</table>\n",
       "</div>"
      ],
      "text/plain": [
       "                    count        avg        std        min  quantile_0.25  quantile_0.50  quantile_0.75  quantile_0.90  quantile_0.99         max\n",
       "x1               450000.0  -0.018434   0.987558  -3.740101      -0.677051      -0.014510       0.653619       1.274144       2.327715    3.801660\n",
       "x2               450000.0   0.021976   1.986112  -8.893264      -1.304574      -0.005497       1.321508       2.594787       4.696652    7.196620\n",
       "x3               450000.0   0.993292   0.987874   0.000439       0.281670       0.680478       1.382421       2.262843       4.384397    9.417911\n",
       "x4               450000.0   1.985747   1.971292   0.000400       0.546992       1.356368       2.727915       4.544307       9.170565   19.830242\n",
       "x5               450000.0   2.495959   1.437556   0.000984       1.219397       2.485067       3.734842       4.472982       4.943966    4.999841\n",
       "x_long_tail1     450000.0   0.515560   0.883443   0.000021       0.098383       0.256564       0.594447       1.222587       4.211273   28.065146\n",
       "x_long_tail2     450000.0   1.008366   3.047902   0.000002       0.154055       0.422879       1.041230       2.251153       9.612506  156.238517\n",
       "treatment        450000.0   0.509400   0.499912   0.000000       0.000000       1.000000       1.000000       1.000000       1.000000    1.000000\n",
       "t_ob             450000.0   0.599100   0.490081   0.000000       0.000000       1.000000       1.000000       1.000000       1.000000    1.000000\n",
       "y                450000.0  12.359893  12.764431 -13.296274       4.193484      10.050566      17.142143      27.069170      58.847437  148.732617\n",
       "y_ob             450000.0   0.377476   1.293163  -5.128077      -0.476306       0.356861       1.251771       2.031053       3.419394    5.114904\n",
       "numerator_pre    450000.0   4.499999   5.308904 -14.775517       0.900087       4.191331       7.844461      11.244876      18.171450   36.174521\n",
       "numerator        450000.0  12.359893  12.764431 -13.296274       4.193484      10.050566      17.142143      27.069170      58.847437  148.732617\n",
       "denominator_pre  450000.0   5.521000   3.324663  -3.000000       3.000000       5.000000       8.000000      10.000000      13.000000   18.000000\n",
       "denominator      450000.0   6.498400   4.452218 -10.000000       3.000000       6.000000       9.000000      12.000000      17.000000   24.000000\n",
       "weight           450000.0   0.500305   0.287938   0.000091       0.251736       0.491157       0.746071       0.897132       0.989310    0.999931"
      ]
     },
     "execution_count": 10,
     "metadata": {},
     "output_type": "execute_result"
    }
   ],
   "source": [
    "# data descirption\n",
    "df.describe('*')"
   ]
  },
  {
   "cell_type": "markdown",
   "id": "67aecdae-ef4d-4842-bb7f-45a0a320ff48",
   "metadata": {},
   "source": [
    "#### histplot"
   ]
  },
  {
   "cell_type": "code",
   "execution_count": 11,
   "id": "f1a3a444-cf80-40eb-a671-e29681fb89dd",
   "metadata": {},
   "outputs": [
    {
     "data": {
      "image/png": "[encoded data removed]",
      "text/plain": [
       "<Figure size 640x480 with 1 Axes>"
      ]
     },
     "metadata": {},
     "output_type": "display_data"
    },
    {
     "name": "stdout",
     "output_type": "stream",
     "text": [
      "The type of x_cat1 is not numeric\n"
     ]
    },
    {
     "data": {
      "image/png": "[encoded data removed]",
      "text/plain": [
       "<Figure size 640x480 with 1 Axes>"
      ]
     },
     "metadata": {},
     "output_type": "display_data"
    }
   ],
   "source": [
    "# histplot\n",
    "\n",
    "from fast_causal_inference.lib.tools import *\n",
    "col = 'x1'\n",
    "histplot('test_data_small',col,bin_num=50)\n",
    "\n",
    "col = 'x_cat1'\n",
    "histplot('test_data_small',col,bin_num=50)"
   ]
  },
  {
   "cell_type": "markdown",
   "id": "ab5aae90-e327-44d4-ad2b-8873dbaf45c9",
   "metadata": {},
   "source": [
    "#### boxplot"
   ]
  },
  {
   "cell_type": "code",
   "execution_count": 12,
   "id": "774f495c-10a2-46e8-91e6-ee06647c5017",
   "metadata": {},
   "outputs": [
    {
     "name": "stdout",
     "output_type": "stream",
     "text": [
      "min: 2.112079908012099e-05\n",
      "25_quantile: 0.0977738975744854\n",
      "50_quantile: 0.2596895760493567\n",
      "75_quantile: 0.5957177071642172\n",
      "max: 28.0651455946412\n"
     ]
    },
    {
     "data": {
      "image/png": "[encoded data removed]",
      "text/plain": [
       "<Figure size 640x480 with 1 Axes>"
      ]
     },
     "metadata": {},
     "output_type": "display_data"
    }
   ],
   "source": [
    "# boxplot\n",
    "\n",
    "from fast_causal_inference.lib.tools import *\n",
    "\n",
    "col = 'x_long_tail1'\n",
    "boxplot('test_data_small',col)"
   ]
  },
  {
   "cell_type": "markdown",
   "id": "e01fd229-ffed-4b93-a6a9-0c17ac54835e",
   "metadata": {},
   "source": [
    "# AB experiment Analysis"
   ]
  },
  {
   "cell_type": "markdown",
   "id": "8058363b-5e71-48dc-ab22-cd51d85e8c8c",
   "metadata": {},
   "source": [
    "### ttest"
   ]
  },
  {
   "cell_type": "markdown",
   "id": "af779c9a-822b-44f2-be2f-bf242eb5e792",
   "metadata": {},
   "source": [
    "- In A/B test analysis, **t-test** is widely used to test whether the average of treatment variant is statistically significantly different from the average of the control variant. However, the mean and variance formula only applied to i.i.d (independent and identically distributed) random variables, and in real business cases our metrics are more complex. Mostly, business metrics are defined as ratios, for example, Clickthrough rate or CTR which is defined as Clicks/Views. Here, we will *utilize the delta method to approximate the variance of the metrics ratio*.\n",
    "$$t=\\frac{\\bar X_B-\\bar X_A}{\\sqrt{Var(\\bar X_A)+Var(\\bar X_B)}}$$\n",
    "\n",
    "$$Var(\\bar X)=\\frac{1}{n}\\frac{1}{n-1}\\sum_{i=1}^n (X_i-\\bar X)^2 $$\n",
    "- **Delta method** extends the normal approximations of the central limit theorem. Delta method approximates asymptotically normal random variables by applying the Taylor series on the function of random variables. We can estimate the variance of x/y as follows:\n",
    "$$v=(1/y,-x/y^2)|_{x=\\bar x, y=\\bar y )}$$\n",
    "\n",
    "$$\\mathop{{M}}\\nolimits_{{2 \\times 2}}=\\frac{1}{n}{ \\left[ {\\begin{array}{*{20}{c}}\n",
    "{var(x)}&{cov(x,y)}\\\\\n",
    "{cov(x,y)}&{var(y)}\\\\\n",
    "\\end{array}} \\right] }={ \\left[ {\\mathop{{m}}\\nolimits_{{ij}}} \\right] }  $$\n",
    "\n",
    "$$var(x/y)=v*\\mathop{{M}}\\nolimits_{{2 \\times 2}}*v$$"
   ]
  },
  {
   "cell_type": "markdown",
   "id": "af99a160-627e-4f2e-959d-dc1d5f2931c8",
   "metadata": {},
   "source": [
    "- <font size=\"4\">case1: use deltamethod to do t-test</font>"
   ]
  },
  {
   "cell_type": "code",
   "execution_count": 13,
   "id": "a2d066d0-9dd5-4bc3-a62d-21d504e941e8",
   "metadata": {},
   "outputs": [
    {
     "data": {
      "text/plain": [
       "   estimate    stderr t-statistic   p-value     lower     upper\n",
       "0  1.777200  0.005356  331.805064  0.000000  1.766702  1.787698"
      ]
     },
     "execution_count": 13,
     "metadata": {},
     "output_type": "execute_result"
    }
   ],
   "source": [
    "df.ttest_2samp('avg(numerator)/avg(denominator)','treatment','two-sided')"
   ]
  },
  {
   "cell_type": "markdown",
   "id": "782e1391-90e8-4272-9fd7-efb0e10e68e8",
   "metadata": {},
   "source": [
    "- <font size=\"4\">case2: use deltamethod to do t-test and **CUPED** to reduce variance</font>  \n",
    "\n",
    "\n",
    "    - We offer a feature in ttest_2samp that utilizes [CUPED (Controlled-experiment Using Pre-Experiment Data)](https://ai.stanford.edu/~ronnyk/2013-02CUPEDImprovingSensitivityOfControlledExperiments.pdf) This technique adjusts metrics using pre-experiment data from both control and treatment groups, aiming to decrease metric variability.\n",
    "    - To further reduce variance, you can combine multiple metrics using the '+' operator.\n",
    "    - Additionally, ttest_2samp allows you to perform a t-test grouped by any dimensions of your choice."
   ]
  },
  {
   "cell_type": "code",
   "execution_count": 14,
   "id": "196c6c8c-4d0c-4ee7-8fa3-88e51272b596",
   "metadata": {},
   "outputs": [
    {
     "data": {
      "text/plain": [
       "   estimate    stderr t-statistic   p-value     lower     upper\n",
       "0  1.777910  0.004153  428.067810  0.000000  1.769770  1.786050"
      ]
     },
     "execution_count": 14,
     "metadata": {},
     "output_type": "execute_result"
    }
   ],
   "source": [
    "df.ttest_2samp('avg(numerator)/avg(denominator)','treatment','two-sided',X='avg(numerator_pre)/avg(denominator_pre)+avg(x1)')"
   ]
  },
  {
   "cell_type": "code",
   "execution_count": 15,
   "id": "1ee6c590-4286-43ce-ae35-d46ba1945498",
   "metadata": {},
   "outputs": [
    {
     "data": {
      "text/plain": [
       "  x_cat1  estimate    stderr t-statistic   p-value     lower     upper\n",
       "0      B  1.893872  0.008662  218.639623  0.000000  1.876894  1.910850\n",
       "1      E  1.815718  0.008990  201.970895  0.000000  1.798097  1.833339\n",
       "2      D  1.759955  0.009470  185.841675  0.000000  1.741393  1.778516\n",
       "3      C  1.881807  0.010574  177.966542  0.000000  1.861082  1.902532\n",
       "4      A  1.596066  0.009815  162.613632  0.000000  1.576829  1.615304"
      ]
     },
     "execution_count": 15,
     "metadata": {},
     "output_type": "execute_result"
    }
   ],
   "source": [
    "df.groupBy('x_cat1').ttest_2samp('avg(numerator)/avg(denominator)','treatment','two-sided',X='avg(numerator_pre)/avg(denominator_pre)')"
   ]
  },
  {
   "cell_type": "markdown",
   "id": "a372f881-39e5-4b31-a133-a4699f7081e6",
   "metadata": {},
   "source": [
    "- <font size=\"4\">case3: ttest_1samp </font>  \n",
    "    - ttest_1samp can be used in pair test.\n"
   ]
  },
  {
   "cell_type": "code",
   "execution_count": 16,
   "id": "aca383d6-476a-4058-ae3e-1e18b599374a",
   "metadata": {},
   "outputs": [
    {
     "data": {
      "text/plain": [
       "   estimate    stderr t-statistic   p-value     lower     upper\n",
       "0  1.901990  0.003118  610.073683  0.000000  1.895880  1.908101"
      ]
     },
     "execution_count": 16,
     "metadata": {},
     "output_type": "execute_result"
    }
   ],
   "source": [
    "df.ttest_1samp('avg(numerator)/avg(denominator)','two-sided')"
   ]
  },
  {
   "cell_type": "markdown",
   "id": "4ec2c219-bb55-42c5-95c3-8ad0e2477236",
   "metadata": {},
   "source": [
    "### MWU test"
   ]
  },
  {
   "cell_type": "markdown",
   "id": "bc609f8a-24e5-4106-a5cd-81cd6440467e",
   "metadata": {},
   "source": [
    "The [Mann–Whitney U test](https://en.wikipedia.org/wiki/Mann%E2%80%93Whitney_U_test) is a nonparametric test of the null hypothesis that, for randomly selected values X and Y from two populations, the probability of X being greater than Y is equal to the probability of Y being greater than X."
   ]
  },
  {
   "cell_type": "code",
   "execution_count": 17,
   "id": "f2560909-59f1-4244-a282-da8703b86bb5",
   "metadata": {},
   "outputs": [
    {
     "data": {
      "text/plain": [
       "[5.0865804E9, 0.0]"
      ]
     },
     "execution_count": 17,
     "metadata": {},
     "output_type": "execute_result"
    }
   ],
   "source": [
    "df.mann_whitney_utest('numerator', 'treatment')"
   ]
  },
  {
   "cell_type": "markdown",
   "id": "ab336479-8dca-4b22-b1fa-66a4d3c15130",
   "metadata": {
    "tags": []
   },
   "source": [
    "### SRM"
   ]
  },
  {
   "cell_type": "markdown",
   "id": "7cf25177-a5ed-4f54-8d0e-2ad1be3b02a3",
   "metadata": {},
   "source": [
    "**SRM (Sample ratio mismatch)** is an experimental flaw where the expected traffic allocation doesn’t fit with the observed visitor number for each testing variation. We do this using the chi-squared test of independence."
   ]
  },
  {
   "cell_type": "code",
   "execution_count": 18,
   "id": "557bef2a-d380-4a5f-b7fc-c4523224b55d",
   "metadata": {},
   "outputs": [
    {
     "data": {
      "text/plain": [
       "  groupname      f_obs     ratio  chisquare   p-value\n",
       "0         0  1.038e+06  1.000000  2.186e+06  0.000000"
      ]
     },
     "execution_count": 18,
     "metadata": {},
     "output_type": "execute_result"
    }
   ],
   "source": [
    "df.srm('numerator', 'treatment', [1,1])"
   ]
  },
  {
   "cell_type": "markdown",
   "id": "9c5a57cf-c74d-48b2-9390-ffbeaaa634e4",
   "metadata": {},
   "source": [
    "# Regression-based model"
   ]
  },
  {
   "cell_type": "markdown",
   "id": "d373bd1f-1926-439a-b57b-ff9ccea2aaab",
   "metadata": {},
   "source": [
    "### Linear regression"
   ]
  },
  {
   "cell_type": "markdown",
   "id": "6b36b6e3-fd2d-47b3-89cb-5b46c18dfac9",
   "metadata": {},
   "source": [
    "In statistics, [linear regression](https://en.wikipedia.org/wiki/Linear_regression) is a linear approach for modelling the relationship between a scalar response and one or more explanatory variables (also known as dependent and independent variables). The case of one explanatory variable is called simple linear regression. Written in matrix notation as:\n",
    "$$y=X\\beta+\\epsilon$$"
   ]
  },
  {
   "cell_type": "markdown",
   "id": "f603ba67-8f00-43a7-8296-c058ab8405eb",
   "metadata": {
    "tags": []
   },
   "source": [
    "#### OLS"
   ]
  },
  {
   "cell_type": "markdown",
   "id": "f31ceb56-9228-4044-8e24-6cb02387951b",
   "metadata": {},
   "source": [
    "In statistics, [ordinary least squares (OLS)](https://en.wikipedia.org/wiki/Ordinary_least_squares) is a type of linear least squares method for choosing the unknown parameters in a linear regression model (with fixed level-one effects of a linear function of a set of explanatory variables) by the principle of least squares: minimizing the sum of the squares of the differences between the observed dependent variable (values of the variable being observed) in the input dataset and the output of the (linear) function of the independent variable.\n",
    "$$S(\\boldsymbol{\\beta}) = \\sum_{i=1}^n \\left| y_i - \\sum_{j=1}^p X_{ij}\\beta_j\\right|^2 = \\left\\|\\mathbf y - \\mathbf{X} \\boldsymbol \\beta \\right\\|^2.$$\n",
    "We can leverage **matrix multiplication** to compute Ordinary Least Squares (OLS), which is highly efficient in the OLAP engine we are using.\n",
    "$$\\hat{\\boldsymbol{\\beta}} = \\left( \\mathbf{X}^{\\operatorname{T}} \\mathbf{X} \\right)^{-1} \\mathbf{X}^{\\operatorname{T}} \\mathbf y.$$\n"
   ]
  },
  {
   "cell_type": "code",
   "execution_count": null,
   "id": "59f50a78-6298-4bc3-8732-562392a402f3",
   "metadata": {},
   "outputs": [],
   "source": [
    "# ols\n",
    "sql_instance = fast_causal_inference.create()\n",
    "result = sql_instance.execute(f\"\"\"SELECT \n",
    "                                    ols(y ~ x1 + x2) AS res\n",
    "                              FROM\n",
    "                                    test_data_small\"\"\")\n",
    "print(result)\n"
   ]
  },
  {
   "cell_type": "code",
   "execution_count": null,
   "id": "385d8412-d83d-457f-99e5-c3d693da4164",
   "metadata": {},
   "outputs": [],
   "source": [
    "# predict\n",
    "sql_instance.sql(f\"\"\"SELECT\n",
    "                            predict(olsState(y+x1+x2),x1,x2) AS res\n",
    "                      FROM\n",
    "                            test_data_small\n",
    "                      limit 10\"\"\")"
   ]
  },
  {
   "cell_type": "markdown",
   "id": "7fa4d3ac-bc9b-4f2f-b610-2a96f46fbaa6",
   "metadata": {},
   "source": [
    "#### WLS"
   ]
  },
  {
   "cell_type": "markdown",
   "id": "52063db6-fce9-4794-bfd0-2b7a4986ea45",
   "metadata": {},
   "source": [
    "[Weighted least squares (WLS)](https://en.wikipedia.org/wiki/Weighted_least_squares), also known as weighted linear regression,[1][2] is a generalization of ordinary least squares and linear regression in which knowledge of the unequal variance of observations (heteroscedasticity) is incorporated into the regression. WLS is also a specialization of generalized least squares, when all the off-diagonal entries of the covariance matrix of the errors, are null.\n",
    "$$  \\underset{\\boldsymbol\\beta}{\\operatorname{arg\\ min}}\\, \\sum_{i=1}^{n} w_i \\left|y_i - \\sum_{j=1}^{m} X_{ij}\\beta_j\\right|^2 =\n",
    "  \\underset{\\boldsymbol\\beta}{\\operatorname{arg\\ min}}\\, \\left\\|W^\\frac{1}{2}\\left(\\mathbf{y} - X\\boldsymbol\\beta\\right)\\right\\|^2.$$\n",
    "We can leverage **matrix multiplication** to compute Weighted least squares (WLS), which is highly efficient in the OLAP engine we are using.\n",
    "$$\\hat{\\boldsymbol{\\beta}} = (X^\\textsf{T} W X)^{-1} X^\\textsf{T} W \\mathbf{y}.$$"
   ]
  },
  {
   "cell_type": "code",
   "execution_count": null,
   "id": "5f97250e-f0fc-4eb2-ac56-b24e2baff801",
   "metadata": {},
   "outputs": [],
   "source": [
    "result = sql_instance.sql(f\"\"\"SELECT\n",
    "                                    wls(y~x1+x2,weight) as res\n",
    "                              from \n",
    "                                    test_data_small\"\"\")\n",
    "print(result['res'][0])"
   ]
  },
  {
   "cell_type": "markdown",
   "id": "9971b225-82cc-453a-8e94-703177cb184c",
   "metadata": {},
   "source": [
    "#### Lasso"
   ]
  },
  {
   "cell_type": "markdown",
   "id": "5ba654ab-cd84-44d8-a81d-797a3a5c4e05",
   "metadata": {},
   "source": [
    "**Lasso (Least Absolute Shrinkage and Selection Operator)** is a method used in regression analysis that performs both variable selection and regularization. This enhances the prediction accuracy and interpretability of the statistical model it produces. Lasso introduces a penalty term to the loss function of the least square method, which is the absolute value of the magnitude of the coefficients. This results in some coefficients being shrunk to zero, effectively selecting a simpler model that does not include those coefficients. To estimate Lasso, we use **gradient descent**, an optimization algorithm.\n"
   ]
  },
  {
   "cell_type": "code",
   "execution_count": null,
   "id": "462e95e5-23e3-460c-8dbb-dcb6ac7393b4",
   "metadata": {},
   "outputs": [],
   "source": [
    "# 训练\n",
    "result = sql_instance.sql(f\"\"\"SELECT\n",
    "                                stochasticLinearRegression(0.001, 0.1, 15, 'Lasso')(y, x1, x2, x3) as res\n",
    "                           FROM\n",
    "                                test_data_small\"\"\")\n",
    "print(result['res'][0])"
   ]
  },
  {
   "cell_type": "markdown",
   "id": "8137b4a9-aa68-492d-8d74-0e3fc3f23074",
   "metadata": {},
   "source": [
    "### logistic model"
   ]
  },
  {
   "cell_type": "markdown",
   "id": "b9514809-d619-4d0d-83fb-4de98b75a258",
   "metadata": {},
   "source": [
    "In statistics, the [logistic model (or logit model)](https://en.wikipedia.org/w/index.php?title=Logistic_regression) is a statistical model that models the probability of an event taking place by having the log-odds for the event be a linear combination of one or more independent variables. In regression analysis, logistic regression (or logit regression) is estimating the parameters of a logistic model (the coefficients in the linear combination). To estimate logistic model, we use **gradient descent**, an optimization algorithm.\n",
    "\n",
    "$$p(x)=\\frac{1}{1+e^{-(\\beta_0+\\beta_1 x)}}$$"
   ]
  },
  {
   "cell_type": "code",
   "execution_count": null,
   "id": "762159d3-fae1-498e-9d21-ed481e40a689",
   "metadata": {},
   "outputs": [],
   "source": [
    "table = 'test_data_small'\n",
    "X = ['x1', 'x2', 'x3', 'x4', 'x5', 'x_long_tail1', 'x_long_tail2']\n",
    "T = 't_ob'\n",
    "sql_instance.sql(f\"\"\" WITH(\n",
    "\n",
    "          SELECT \n",
    "                    stochasticLogisticRegressionState(0.1, 1.0, 100, 'SGD')({T},{','.join(X)}) AS model\n",
    "          FROM\n",
    "                    {table}\n",
    "         )AS model\n",
    "         \n",
    "        SELECT            \n",
    "                evalMLMethod(model,{','.join(X)}) AS score\n",
    "            FROM\n",
    "                  {table}\n",
    "            limit 200\n",
    "          \"\"\")\n"
   ]
  },
  {
   "cell_type": "markdown",
   "id": "c93584bd-5e34-4963-b390-2a01b0451bca",
   "metadata": {
    "tags": []
   },
   "source": [
    "### IV"
   ]
  },
  {
   "cell_type": "markdown",
   "id": "95b50503-7ef0-4e32-8ed2-ed4415902199",
   "metadata": {},
   "source": [
    "\n",
    "[instrumental variables (IV)](https://en.wikipedia.org/wiki/Instrumental_variables_estimation) is a method used in statistics, econometrics, epidemiology, and related disciplines to estimate causal relationships when controlled experiments are not feasible or when a treatment is not successfully delivered to every unit in a randomized experiment. \n",
    "\n",
    "The idea behind IV is to use a variable, known as an instrument, that is correlated with the endogenous explanatory variables (the variables that are correlated with the error term), but uncorrelated with the error term itself. This allows us to isolate the variation in the explanatory variable that is purely due to the instrument and thus uncorrelated with the error term, which can then be used to estimate the causal effect of the explanatory variable on the dependent variable.\n",
    "\n",
    "Here is an example:\n",
    "\n",
    "1. $t_1 = treatment + X_1 + X_2$\n",
    "2. $Y = \\hat t_1 + X_1 + X_2$\n",
    "\n",
    "- $X_1$ and $X_2$ are independent variables or predictors.\n",
    "- $t_1$ is the dependent variable that you are trying to explain or predict.  \n",
    "- $treatment$ is an independent variable representing some intervention or condition that you believe affects $t_1$. \n",
    "- $Y$ is the dependent variable that you are trying to explain or predict\n",
    "-  $\\hat t_1$ is the predicted value of $t_1 from the first equation\n",
    "\n",
    "\n",
    "We first regress $X_3$ on the treatment and the other exogenous variables $X_1$ and $X_2$ to get the predicted values $\\hat t_1$. Then, we replace $t_1$ with $\\hat t_1$ in the second equation and estimate the parameters. This gives us the causal effect of $t_1$ on $Y$, purged of the endogeneity problem."
   ]
  },
  {
   "cell_type": "code",
   "execution_count": null,
   "id": "ce71fb7b-faa1-4f7e-a2ee-3403b1f47ee1",
   "metadata": {},
   "outputs": [],
   "source": [
    "# iv \n",
    "import fast_causal_inference.dataframe.regression as Regression\n",
    "\n",
    "df.agg(Regression.iv_regression('y~(t_ob~treatment)+x1+x2'))"
   ]
  },
  {
   "cell_type": "markdown",
   "id": "e9a73f9c-2970-4344-955b-45c2579e89d4",
   "metadata": {},
   "source": [
    "# Obeservational Analysis"
   ]
  },
  {
   "cell_type": "markdown",
   "id": "4cdcb96a-a895-4d04-ac0b-4713ed0f1d6d",
   "metadata": {},
   "source": [
    "### Case1- PSM"
   ]
  },
  {
   "cell_type": "markdown",
   "id": "33358d29-b7ef-4f2c-85d0-1ece8c7d2c1b",
   "metadata": {},
   "source": [
    "[Propensity score matching (PSM)](https://en.wikipedia.org/wiki/Propensity_score_matching) is a quasi-experimental method in which the researcher uses statistical techniques to construct an artificial control group by matching each treated unit with a non-treated unit of similar characteristics. Using these matches, the researcher can estimate the impact of an intervention.\n",
    "![Example Image](https://builtin.com/sites/www.builtin.com/files/styles/ckeditor_optimize/public/inline-images/1_propensity-score-matching.jpeg)"
   ]
  },
  {
   "cell_type": "markdown",
   "id": "ec3bc2a6-48ee-431a-b02f-823200ae513b",
   "metadata": {},
   "source": [
    "#### predict propensity score"
   ]
  },
  {
   "cell_type": "markdown",
   "id": "db208aab-ca3e-4c2b-91c5-b3e99714f66c",
   "metadata": {},
   "source": [
    "Once we have collected the data, we can build the propensity model predicting the probability of receiving the treatment given the confounders. Typically, logistic regression is used for this classification model. Let’s build a propensity model:"
   ]
  },
  {
   "cell_type": "code",
   "execution_count": null,
   "id": "13b5dec7-dcfa-4c56-8e85-104fba40b3b3",
   "metadata": {},
   "outputs": [],
   "source": [
    "import fast_causal_inference\n",
    "Y='y'\n",
    "T='t_ob'\n",
    "table = 'test_data_small'\n",
    "X = [ 'x1', 'x2', 'x3']\n"
   ]
  },
  {
   "cell_type": "code",
   "execution_count": null,
   "id": "c6f687c2-bcef-487c-bc7a-e30324969238",
   "metadata": {},
   "outputs": [],
   "source": [
    "import time\n",
    "table_output = f\"{table}_{int(time.time())}\"\n",
    "\n",
    "fast_causal_inference.clickhouse_create_view(clickhouse_view_name=table_output, sql_statement=f\"\"\" WITH(\n",
    "\n",
    "          SELECT \n",
    "                    stochasticLogisticRegressionState(1, 2, 50, 'SGD')({T},{','.join(X)}) AS model\n",
    "          FROM\n",
    "                    {table}\n",
    "         )AS model\n",
    "         \n",
    "SELECT            \n",
    "                evalMLMethod(model,{','.join(X)}) AS score, *\n",
    "            FROM\n",
    "                  {table}\n",
    "          \"\"\", primary_column=\"score\",is_force_materialize=True, is_sql_complete=True, is_use_local=False)"
   ]
  },
  {
   "cell_type": "markdown",
   "id": "9da9ae99-471e-496d-b3aa-ba26e1a2ad0c",
   "metadata": {},
   "source": [
    "#### Matching"
   ]
  },
  {
   "cell_type": "markdown",
   "id": "69d98b28-cc1d-47ee-ad4a-2f94ff9ff7d1",
   "metadata": {},
   "source": [
    "We will be performing one-to-one matching to find the most similar control records for each passenger in the treatment group. Matching based on the propensity score, which is a balancing score, allows us to ensure that the distribution of confounders between the matched records is likely to be similar."
   ]
  },
  {
   "cell_type": "code",
   "execution_count": null,
   "id": "0270ae99-6d7e-4a90-b001-db16b3f4b575",
   "metadata": {},
   "outputs": [],
   "source": [
    "table_match = f\"{table}_{int(time.time())}_matched\"\n",
    "fast_causal_inference.clickhouse_create_view(clickhouse_view_name=table_match, sql_statement=f\"\"\"\n",
    "select *,caliperMatching(if({T}=1,1,-1),score,0.05) AS matchingIndex \n",
    "from {table_output} where matchingIndex!=0 \"\"\", primary_column=\"matchingIndex\",is_force_materialize=True, is_sql_complete=True, is_use_local=False)\n",
    "print(\"table_match: \",table_match)\n",
    "print(\"sample size:\",sql_instance.sql(f\"select count(*) as cnt from {table_match}\").values[0])"
   ]
  },
  {
   "cell_type": "markdown",
   "id": "e961fd1c-2576-4b3b-b2ad-19cb56b016cc",
   "metadata": {},
   "source": [
    "#### Balance check"
   ]
  },
  {
   "cell_type": "markdown",
   "id": "3a599413-140e-499b-b284-0f031d398397",
   "metadata": {},
   "source": [
    "It’s time to evaluate how good the matching was. Let’s inspect if the groups look more comparable in terms of the confounders:"
   ]
  },
  {
   "cell_type": "code",
   "execution_count": null,
   "id": "c2e23384-0e7f-469d-a31a-8a1c28cb3145",
   "metadata": {},
   "outputs": [],
   "source": [
    "# before matched\n",
    "from fast_causal_inference.lib.tools import *\n",
    "SMD(table_output,T,X)"
   ]
  },
  {
   "cell_type": "code",
   "execution_count": null,
   "id": "fad51e0c-2895-41fd-9819-e81d027c0e66",
   "metadata": {},
   "outputs": [],
   "source": [
    "from fast_causal_inference.lib.tools import *\n",
    "matching_plot(table_output,T,'score')"
   ]
  },
  {
   "cell_type": "code",
   "execution_count": null,
   "id": "329ab6c3-763f-4408-925d-7e7ef7f8e2be",
   "metadata": {},
   "outputs": [],
   "source": [
    "# After matched\n",
    "from fast_causal_inference.lib.tools import *\n",
    "SMD(table_match,T,X)"
   ]
  },
  {
   "cell_type": "code",
   "execution_count": null,
   "id": "3ba6afb4-8fd1-4178-a92a-be5db96a9153",
   "metadata": {},
   "outputs": [],
   "source": [
    "from fast_causal_inference.lib.tools import *\n",
    "matching_plot(table_match,T,'score')"
   ]
  },
  {
   "cell_type": "markdown",
   "id": "6f11fa07-a840-456a-ad40-980718b8028f",
   "metadata": {
    "tags": []
   },
   "source": [
    "#### Evaluate treatment effect on the outcome\n",
    "\n",
    "Now, it’s time to familiarize ourselves with a few terms related to the treatment effect, also known as the causal effect. Looking at a small example with a continuous outcome may be the easiest way to get familiarized with it.\n",
    "##### DIM estimator\n",
    "After the matching process, we can consider the experimental and control groups as homogeneous, free from bias. This allows us to directly estimate the Average Treatment Effect (ATE) and compute its variance using the bootstrap method. The `ATEestimator` function also returns the confidence interval for the DIM(Difference in Means) estimator. As per the formula below:\n",
    "\n",
    "- $\\hat \\tau_{ipw}$ represents the ATE estimator. \n",
    "\n",
    "For each sample $i=1,...,N$:\n",
    "\n",
    "- $Y_i$ is the outcome variable\n",
    "- $Z_i$ represents the treatment\n",
    "- $X_i$ is the covariate.\n",
    "\n",
    "$$\\hat \\tau_{ATE}=\\frac{\\sum_{i=1}^N Y_iZ_i}{\\sum_{i=1}^NZ_i}-\\frac{\\sum_{i=1}^N Y_i(1-Z_i))}{\\sum_{i=1}^N(1-Z_i)}$$"
   ]
  },
  {
   "cell_type": "code",
   "execution_count": null,
   "id": "d37c47b1-e56d-4250-843f-c23b148143b2",
   "metadata": {},
   "outputs": [],
   "source": [
    "from fast_causal_inference.lib.estimators import *\n",
    "ATEestimator(table_match,Y,T,n=100000,B=500)"
   ]
  },
  {
   "cell_type": "markdown",
   "id": "2739cb56-8ae0-4af4-9817-a1ca5aa92d5e",
   "metadata": {},
   "source": [
    "##### IPW estimator\n",
    "Without resorting to matching, we can directly estimate the Average Treatment Effect (ATE) using all available samples. This process involves the use of the Inverse Probability Weighting (IPW) estimator for ATE estimation, with the variance calculated via the bootstrap method. The `IPWestimator` function also yields the confidence interval of the ATE. As illustrated in the formula below:\n",
    "\n",
    "- $\\hat \\tau_{ipw}$ is the IPW estimator. \n",
    "\n",
    "For each sample $i=1,...,N$:\n",
    "\n",
    "- $Y_i$ is the outcome variable\n",
    "- $Z_i$ is the treatment\n",
    "- $X_i$ is the covariate\n",
    "- $e(X_i)$ is the predicted propensity score.\n",
    "\n",
    "$$\\hat \\tau_{ipw}=\\frac{\\sum_{i=1}^N Y_iZ_i/e(X_i)}{\\sum_{i=1}^NZ_i/e(X_i)}-\\frac{\\sum_{i=1}^N Y_i(1-Z_i)/(1-e(X_i))}{\\sum_{i=1}^N(1-Z_i)/(1-e(X_i))}$$"
   ]
  },
  {
   "cell_type": "code",
   "execution_count": null,
   "id": "ef193e85-8152-40bc-8f50-8ce72733fdf6",
   "metadata": {},
   "outputs": [],
   "source": [
    "from fast_causal_inference.lib.estimators import *\n",
    "IPWestimator(table_output,Y,T,'score',n=100000,B=500)"
   ]
  },
  {
   "cell_type": "markdown",
   "id": "0820dbcf-b3b8-4f14-8c82-c5dcdfd74e79",
   "metadata": {},
   "source": [
    "### Case2- Uplift modeling"
   ]
  },
  {
   "cell_type": "markdown",
   "id": "949cfc2c-c397-43d3-a3f4-4ac4449108e6",
   "metadata": {},
   "source": [
    "Uplift modeling is a set of causal inference techniques that leverage machine learning models to estimate the causal impact of a treatment on an individual's behavior.\n",
    "\n",
    "In this context:\n",
    "\n",
    "- \"Persuadables\" are individuals who respond positively to the treatment.\n",
    "- \"Sleeping dogs\" are individuals who exhibit a strong negative response to the treatment.\n",
    "- \"Lost causes\" are individuals who do not reach the desired outcome even with the treatment.\n",
    "- \"Sure things\" are individuals who always achieve the desired outcome, regardless of the treatment.\n",
    "\n",
    "The objective is to identify the \"persuadables\" to focus efforts on, avoid wasting resources on \"sure things\" and \"lost causes,\" and prevent unnecessary intervention for \"sleeping dogs.\"\n",
    "\n",
    "![Example Image](https://encrypted-tbn0.gstatic.com/images?q=tbn:ANd9GcSsUVyoXY2SaSAdDVAIur1ssPPU8NZ0Qwlff252bgd8zVDOye08yErMf-aIZy_hNOMk_RY&usqp=CAU)"
   ]
  },
  {
   "cell_type": "markdown",
   "id": "9a591b75-ea7a-4f70-8540-38c3f464c8ef",
   "metadata": {},
   "source": [
    "#### data split"
   ]
  },
  {
   "cell_type": "code",
   "execution_count": null,
   "id": "4c132d38-4cfe-4ebd-bc6b-f324eb60734b",
   "metadata": {},
   "outputs": [],
   "source": [
    "table = 'test_data_small'\n",
    "Y='y'\n",
    "T='treatment'\n",
    "X = 'x1+x2+x3+x4+x5+x_long_tail1+x_long_tail2'\n",
    "needcut_X = 'x1+x2+x3+x4+x5+x_long_tail1+x_long_tail2'\n",
    "\n",
    "from fast_causal_inference.lib.tools import *\n",
    "table_train,table_test = data_split(table)"
   ]
  },
  {
   "cell_type": "markdown",
   "id": "96c624f0-b4e4-4ad2-a801-cb27d9d5e9cd",
   "metadata": {},
   "source": [
    "#### causal tree"
   ]
  },
  {
   "cell_type": "markdown",
   "id": "fd8eb0e3-588c-4cd1-af36-18f65c5dcd17",
   "metadata": {},
   "source": [
    "The causal tree is a method used in [Recursive Partitioning for Heterogeneous Causal Effects](https://www.pnas.org/doi/10.1073/pnas.1510489113) to estimate the individual treatment effects within a population. It is a variant of traditional decision trees that aims to identify subgroups of individuals who respond differently to a treatment.\n",
    "\n",
    "The causal tree algorithm recursively partitions the data based on a set of covariates and their treatment assignment. It seeks to find the optimal splits that maximize the heterogeneity in treatment effects across the resulting subgroups. This allows for the identification of subpopulations that exhibit varying responses to the treatment.\n",
    "\n",
    "The causal tree approach is valuable in understanding and predicting individual treatment effects in situations where the treatment effect may vary across different subpopulations. It provides a useful tool for personalized decision-making and targeted interventions based on the identified subgroups with distinct treatment responses."
   ]
  },
  {
   "cell_type": "markdown",
   "id": "427cbb29-cd04-42a8-a914-4fb4da002c2a",
   "metadata": {},
   "source": [
    "##### train"
   ]
  },
  {
   "cell_type": "code",
   "execution_count": null,
   "id": "38f93632-bf57-48bd-8695-df6a920ae34a",
   "metadata": {},
   "outputs": [],
   "source": [
    "from fast_causal_inference.lib.causaltree import CausalTree\n",
    "hte = CausalTree(depth = 3,min_sample_ratio_leaf=0.001)\n",
    "hte.fit(Y,T,X,needcut_X,table_train)"
   ]
  },
  {
   "cell_type": "markdown",
   "id": "f66061a2-59e9-41fb-857a-17a334170a45",
   "metadata": {},
   "source": [
    "##### tree visualization"
   ]
  },
  {
   "cell_type": "code",
   "execution_count": null,
   "id": "e218a83a-88d7-4cb3-847c-b921c644e60b",
   "metadata": {
    "tags": []
   },
   "outputs": [],
   "source": [
    "treeplot = hte.treeplot()\n",
    "treeplot.render('digraph.gv', view=False) # save to file digraph.gv.pdf\n",
    "treeplot"
   ]
  },
  {
   "cell_type": "code",
   "execution_count": null,
   "id": "bea48ad7-b00d-4b2c-9c71-5d9aeb9edc1d",
   "metadata": {},
   "outputs": [],
   "source": [
    "# uplift curve in training data\n",
    "hte.hte_plot() "
   ]
  },
  {
   "cell_type": "markdown",
   "id": "0543b34c-d7d9-4a32-a79d-cf4011fdb6c7",
   "metadata": {},
   "source": [
    "#### DML"
   ]
  },
  {
   "cell_type": "markdown",
   "id": "d109c468-22e6-47ce-8618-3fd89f61e646",
   "metadata": {},
   "source": [
    "Double Machine Learning is a method for estimating (heterogeneous) treatment effects when all potential confounders/controls (factors that simultaneously had a direct effect on the treatment decision in the collected data and the observed outcome) are observed, but are either too many (high-dimensional) for classical statistical approaches to be applicable or their effect on the treatment and outcome cannot be satisfactorily modeled by parametric functions (non-parametric). Both of these latter problems can be addressed via machine learning techniques (see e.g. [Chernozhukov2016](https://arxiv.org/abs/1608.00060)).\n",
    "\n",
    "The method reduces the problem to first estimating two predictive tasks:\n",
    "\n",
    "- predicting the outcome from the controls,\n",
    "\n",
    "- predicting the treatment from the controls;\n",
    "\n",
    "Then the method combines these two predictive models in a final stage estimation so as to create a model of the heterogeneous treatment efffect. The approach allows for arbitrary Machine Learning algorithms to be used for the two predictive tasks, while maintaining many favorable statistical properties related to the final model (e.g. small mean squared error, asymptotic normality, construction of confidence intervals)."
   ]
  },
  {
   "cell_type": "code",
   "execution_count": null,
   "id": "9387f85d-43c7-4807-bbfe-72765dc9d2db",
   "metadata": {},
   "outputs": [],
   "source": [
    "from fast_causal_inference.lib.linear_dml import *\n",
    "Y='y'\n",
    "T='treatment'\n",
    "table = 'test_data_small'\n",
    "features = ['x1', 'x2']\n",
    "X_fordml = '+'.join(features)\n",
    "W='x3'\n",
    "model = LinearDML(Y=Y,T=T,X=X_fordml,W=W, model_y=\"ols\", model_t=\"ols\", cv=2, table=table)\n",
    "print('\\n----summary----')\n",
    "print(model.summary())\n",
    "print(model.effect(T0=0.1, T1=0.2))\n"
   ]
  },
  {
   "cell_type": "code",
   "execution_count": null,
   "id": "ff480601-36ef-473a-a8d9-3bd4ad3c560b",
   "metadata": {
    "tags": []
   },
   "outputs": [],
   "source": [
    "\n",
    "from fast_causal_inference.lib.linear_dml import NonParamDML\n",
    "\n",
    "Y='y'\n",
    "T='treatment'\n",
    "table = 'test_data_small'\n",
    "features = ['x1', 'x2']\n",
    "X_fordml = '+'.join(features)\n",
    "W='x7_needcut'\n",
    "\n",
    "model = NonParamDML(table=table, Y=Y,T=T,X=X_fordml, model_y='Ols', model_t='Ols', cv=2)\n",
    "print('\\n----summary----')\n",
    "print(model.summary())"
   ]
  },
  {
   "cell_type": "markdown",
   "id": "8f337e87-79ed-42a2-a087-e5ee6ac24afa",
   "metadata": {},
   "source": [
    "#### Model Evaluation"
   ]
  },
  {
   "cell_type": "markdown",
   "id": "91a7ccca-2dd5-4aaf-b0bf-7a17b57519c6",
   "metadata": {},
   "source": [
    "Since actual uplift can't be observed for each individual, measure the uplift over a group of customers.\n",
    "\n",
    "Uplift Curve: plots the real cumulative uplift across the population\n",
    "- First, rank the test dataframe order by the predict uplift.\n",
    "- Next, calculate the cumulative percentage of visits in each group (treatment or control).\n",
    "- Finally, calculate the group's uplift at each percentage.\n"
   ]
  },
  {
   "cell_type": "code",
   "execution_count": null,
   "id": "f5bedad2-5486-43e4-b176-8e219674e3aa",
   "metadata": {},
   "outputs": [],
   "source": [
    "\n",
    "from fast_causal_inference.lib.causaltree import CausalTree\n",
    "from fast_causal_inference.lib.metrics import *\n",
    "\n",
    "table_test_predict = f'{table_test}_pred'\n",
    "# clickhouse_drop_view(clickhouse_view_name=table_test_predict) # drop table\n",
    "hte.effect_2_clickhouse(table_test_predict,\n",
    "                        table_input=table_test,\n",
    "                        keep_col='*')\n",
    "tmp1 = get_lift_gain(\"effect\", Y, T, table_test_predict,discrete_treatment=True, K=100)\n",
    "print(tmp1)\n",
    "hte_plot([tmp1])"
   ]
  },
  {
   "cell_type": "markdown",
   "id": "934eda3e-ba26-4bde-9b39-b64557c5c700",
   "metadata": {
    "tags": []
   },
   "source": [
    "# Other tools "
   ]
  },
  {
   "cell_type": "markdown",
   "id": "31e9093d-eb90-430a-a212-635595724548",
   "metadata": {},
   "source": [
    "### create/drop  table\n"
   ]
  },
  {
   "cell_type": "code",
   "execution_count": null,
   "id": "2ad46dac-31e6-4f28-8fb4-7649060b1f94",
   "metadata": {},
   "outputs": [],
   "source": [
    "fast_causal_inference.clickhouse_create_view(\n",
    "                            clickhouse_view_name=\"a20231017\", \n",
    "                            sql_statement=\"\"\"\n",
    "                            WITH (\n",
    "                                    SELECT\n",
    "                                            OlsState(y,x1,x2) AS model\n",
    "                                    FROM\n",
    "                                            test_data_small\n",
    "                                   ) AS model\n",
    "                              SELECT\n",
    "                                    evalMLMethod (model,x1,x2) AS y_pre\n",
    "                              FROM\n",
    "                                    test_data_small\n",
    "                              limit 10\"\"\",\n",
    "                          is_sql_complete=True, \n",
    "                          is_force_materialize=True,  \n",
    "                          is_use_local=False)\n"
   ]
  },
  {
   "cell_type": "code",
   "execution_count": null,
   "id": "74797525-7c6c-4313-8545-5fbf71cceecd",
   "metadata": {},
   "outputs": [],
   "source": [
    "fast_causal_inference.clickhouse_drop_view(clickhouse_view_name=\"a20231017\") \n"
   ]
  }
 ],
 "metadata": {
  "kernelspec": {
   "display_name": "Python 3 (ipykernel)",
   "language": "python",
   "name": "python3"
  },
  "language_info": {
   "codemirror_mode": {
    "name": "ipython",
    "version": 3
   },
   "file_extension": ".py",
   "mimetype": "text/x-python",
   "name": "python",
   "nbconvert_exporter": "python",
   "pygments_lexer": "ipython3",
   "version": "3.11.5"
  },
  "toc-autonumbering": true
 },
 "nbformat": 4,
 "nbformat_minor": 5
}
