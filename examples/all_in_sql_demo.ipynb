{
 "cells": [
  {
   "cell_type": "markdown",
   "id": "1a303640-afd2-46c4-ad50-9d9036d6c57e",
   "metadata": {
    "tags": []
   },
   "source": [
    "# 初始化fast_causal_inference"
   ]
  },
  {
   "cell_type": "code",
   "execution_count": 1,
   "id": "6279fa4d",
   "metadata": {
    "tags": []
   },
   "outputs": [],
   "source": [
    "import fast_causal_inference\n",
    "fast_causal_inference.set_config(\"package_conf.yaml\")\n",
    "sql_instance = fast_causal_inference.create()"
   ]
  },
  {
   "cell_type": "markdown",
   "id": "0df98826",
   "metadata": {},
   "source": [
    "# 模型使用示例"
   ]
  },
  {
   "cell_type": "markdown",
   "id": "450e2966-4955-4532-abe1-16e4592c3f5a",
   "metadata": {},
   "source": [
    "### 测试分布式数据集：test_data_small"
   ]
  },
  {
   "cell_type": "markdown",
   "id": "674190c1",
   "metadata": {},
   "source": [
    "测试数据表: test_data_small 是793200行的fake data"
   ]
  },
  {
   "cell_type": "code",
   "execution_count": 2,
   "id": "b4b744c1-6716-4886-94b4-5b27396e88c2",
   "metadata": {},
   "outputs": [
    {
     "data": {
      "text/html": [
       "<div>\n",
       "<style scoped>\n",
       "    .dataframe tbody tr th:only-of-type {\n",
       "        vertical-align: middle;\n",
       "    }\n",
       "\n",
       "    .dataframe tbody tr th {\n",
       "        vertical-align: top;\n",
       "    }\n",
       "\n",
       "    .dataframe thead th {\n",
       "        text-align: right;\n",
       "    }\n",
       "</style>\n",
       "<table border=\"1\" class=\"dataframe\">\n",
       "  <thead>\n",
       "    <tr style=\"text-align: right;\">\n",
       "      <th></th>\n",
       "      <th>ttl_expression</th>\n",
       "      <th>default_type</th>\n",
       "      <th>name</th>\n",
       "      <th>default_expression</th>\n",
       "      <th>comment</th>\n",
       "      <th>type</th>\n",
       "      <th>codec_expression</th>\n",
       "    </tr>\n",
       "  </thead>\n",
       "  <tbody>\n",
       "    <tr>\n",
       "      <th>0</th>\n",
       "      <td></td>\n",
       "      <td></td>\n",
       "      <td>treatment</td>\n",
       "      <td></td>\n",
       "      <td></td>\n",
       "      <td>UInt8</td>\n",
       "      <td></td>\n",
       "    </tr>\n",
       "    <tr>\n",
       "      <th>1</th>\n",
       "      <td></td>\n",
       "      <td></td>\n",
       "      <td>numerator</td>\n",
       "      <td></td>\n",
       "      <td></td>\n",
       "      <td>Float64</td>\n",
       "      <td></td>\n",
       "    </tr>\n",
       "    <tr>\n",
       "      <th>2</th>\n",
       "      <td></td>\n",
       "      <td></td>\n",
       "      <td>denominator</td>\n",
       "      <td></td>\n",
       "      <td></td>\n",
       "      <td>UInt8</td>\n",
       "      <td></td>\n",
       "    </tr>\n",
       "    <tr>\n",
       "      <th>3</th>\n",
       "      <td></td>\n",
       "      <td></td>\n",
       "      <td>numerator_pre</td>\n",
       "      <td></td>\n",
       "      <td></td>\n",
       "      <td>Int64</td>\n",
       "      <td></td>\n",
       "    </tr>\n",
       "    <tr>\n",
       "      <th>4</th>\n",
       "      <td></td>\n",
       "      <td></td>\n",
       "      <td>denominator_pre</td>\n",
       "      <td></td>\n",
       "      <td></td>\n",
       "      <td>UInt8</td>\n",
       "      <td></td>\n",
       "    </tr>\n",
       "    <tr>\n",
       "      <th>5</th>\n",
       "      <td></td>\n",
       "      <td></td>\n",
       "      <td>Y</td>\n",
       "      <td></td>\n",
       "      <td></td>\n",
       "      <td>Float64</td>\n",
       "      <td></td>\n",
       "    </tr>\n",
       "    <tr>\n",
       "      <th>6</th>\n",
       "      <td></td>\n",
       "      <td></td>\n",
       "      <td>X1</td>\n",
       "      <td></td>\n",
       "      <td></td>\n",
       "      <td>Int32</td>\n",
       "      <td></td>\n",
       "    </tr>\n",
       "    <tr>\n",
       "      <th>7</th>\n",
       "      <td></td>\n",
       "      <td></td>\n",
       "      <td>X2</td>\n",
       "      <td></td>\n",
       "      <td></td>\n",
       "      <td>Int32</td>\n",
       "      <td></td>\n",
       "    </tr>\n",
       "    <tr>\n",
       "      <th>8</th>\n",
       "      <td></td>\n",
       "      <td></td>\n",
       "      <td>X3</td>\n",
       "      <td></td>\n",
       "      <td></td>\n",
       "      <td>Int32</td>\n",
       "      <td></td>\n",
       "    </tr>\n",
       "    <tr>\n",
       "      <th>9</th>\n",
       "      <td></td>\n",
       "      <td></td>\n",
       "      <td>X3_string</td>\n",
       "      <td></td>\n",
       "      <td></td>\n",
       "      <td>String</td>\n",
       "      <td></td>\n",
       "    </tr>\n",
       "    <tr>\n",
       "      <th>10</th>\n",
       "      <td></td>\n",
       "      <td></td>\n",
       "      <td>X7_needcut</td>\n",
       "      <td></td>\n",
       "      <td></td>\n",
       "      <td>Int64</td>\n",
       "      <td></td>\n",
       "    </tr>\n",
       "    <tr>\n",
       "      <th>11</th>\n",
       "      <td></td>\n",
       "      <td></td>\n",
       "      <td>X8_needcut</td>\n",
       "      <td></td>\n",
       "      <td></td>\n",
       "      <td>Int64</td>\n",
       "      <td></td>\n",
       "    </tr>\n",
       "    <tr>\n",
       "      <th>12</th>\n",
       "      <td></td>\n",
       "      <td></td>\n",
       "      <td>weight</td>\n",
       "      <td></td>\n",
       "      <td></td>\n",
       "      <td>Float64</td>\n",
       "      <td></td>\n",
       "    </tr>\n",
       "    <tr>\n",
       "      <th>13</th>\n",
       "      <td></td>\n",
       "      <td></td>\n",
       "      <td>distance</td>\n",
       "      <td></td>\n",
       "      <td></td>\n",
       "      <td>Float64</td>\n",
       "      <td></td>\n",
       "    </tr>\n",
       "  </tbody>\n",
       "</table>\n",
       "</div>"
      ],
      "text/plain": [
       "   ttl_expression default_type             name default_expression comment  \\\n",
       "0                                     treatment                              \n",
       "1                                     numerator                              \n",
       "2                                   denominator                              \n",
       "3                                 numerator_pre                              \n",
       "4                               denominator_pre                              \n",
       "5                                             Y                              \n",
       "6                                            X1                              \n",
       "7                                            X2                              \n",
       "8                                            X3                              \n",
       "9                                     X3_string                              \n",
       "10                                   X7_needcut                              \n",
       "11                                   X8_needcut                              \n",
       "12                                       weight                              \n",
       "13                                     distance                              \n",
       "\n",
       "       type codec_expression  \n",
       "0     UInt8                   \n",
       "1   Float64                   \n",
       "2     UInt8                   \n",
       "3     Int64                   \n",
       "4     UInt8                   \n",
       "5   Float64                   \n",
       "6     Int32                   \n",
       "7     Int32                   \n",
       "8     Int32                   \n",
       "9    String                   \n",
       "10    Int64                   \n",
       "11    Int64                   \n",
       "12  Float64                   \n",
       "13  Float64                   "
      ]
     },
     "execution_count": 2,
     "metadata": {},
     "output_type": "execute_result"
    }
   ],
   "source": [
    "sql_instance.sql(\"desc test_data_small;\")"
   ]
  },
  {
   "cell_type": "code",
   "execution_count": 3,
   "id": "7204b7eb",
   "metadata": {},
   "outputs": [
    {
     "data": {
      "text/html": [
       "<div>\n",
       "<style scoped>\n",
       "    .dataframe tbody tr th:only-of-type {\n",
       "        vertical-align: middle;\n",
       "    }\n",
       "\n",
       "    .dataframe tbody tr th {\n",
       "        vertical-align: top;\n",
       "    }\n",
       "\n",
       "    .dataframe thead th {\n",
       "        text-align: right;\n",
       "    }\n",
       "</style>\n",
       "<table border=\"1\" class=\"dataframe\">\n",
       "  <thead>\n",
       "    <tr style=\"text-align: right;\">\n",
       "      <th></th>\n",
       "      <th>treatment</th>\n",
       "      <th>distance</th>\n",
       "      <th>X8_needcut</th>\n",
       "      <th>weight</th>\n",
       "      <th>X7_needcut</th>\n",
       "      <th>numerator</th>\n",
       "      <th>denominator</th>\n",
       "      <th>X3_string</th>\n",
       "      <th>denominator_pre</th>\n",
       "      <th>Y</th>\n",
       "      <th>X1</th>\n",
       "      <th>X2</th>\n",
       "      <th>X3</th>\n",
       "      <th>numerator_pre</th>\n",
       "    </tr>\n",
       "  </thead>\n",
       "  <tbody>\n",
       "    <tr>\n",
       "      <th>0</th>\n",
       "      <td>0</td>\n",
       "      <td>0.0</td>\n",
       "      <td>0</td>\n",
       "      <td>0.1</td>\n",
       "      <td>0</td>\n",
       "      <td>0.0</td>\n",
       "      <td>1</td>\n",
       "      <td>0</td>\n",
       "      <td>1</td>\n",
       "      <td>0.0</td>\n",
       "      <td>-1</td>\n",
       "      <td>0</td>\n",
       "      <td>0</td>\n",
       "      <td>0</td>\n",
       "    </tr>\n",
       "    <tr>\n",
       "      <th>1</th>\n",
       "      <td>0</td>\n",
       "      <td>0.0</td>\n",
       "      <td>0</td>\n",
       "      <td>0.1</td>\n",
       "      <td>0</td>\n",
       "      <td>0.0</td>\n",
       "      <td>1</td>\n",
       "      <td>0</td>\n",
       "      <td>1</td>\n",
       "      <td>0.0</td>\n",
       "      <td>-1</td>\n",
       "      <td>0</td>\n",
       "      <td>0</td>\n",
       "      <td>0</td>\n",
       "    </tr>\n",
       "    <tr>\n",
       "      <th>2</th>\n",
       "      <td>0</td>\n",
       "      <td>0.0</td>\n",
       "      <td>0</td>\n",
       "      <td>0.1</td>\n",
       "      <td>0</td>\n",
       "      <td>0.0</td>\n",
       "      <td>1</td>\n",
       "      <td>0</td>\n",
       "      <td>1</td>\n",
       "      <td>0.0</td>\n",
       "      <td>-1</td>\n",
       "      <td>0</td>\n",
       "      <td>0</td>\n",
       "      <td>0</td>\n",
       "    </tr>\n",
       "    <tr>\n",
       "      <th>3</th>\n",
       "      <td>0</td>\n",
       "      <td>0.0</td>\n",
       "      <td>0</td>\n",
       "      <td>0.1</td>\n",
       "      <td>0</td>\n",
       "      <td>0.0</td>\n",
       "      <td>1</td>\n",
       "      <td>0</td>\n",
       "      <td>1</td>\n",
       "      <td>0.0</td>\n",
       "      <td>-1</td>\n",
       "      <td>0</td>\n",
       "      <td>0</td>\n",
       "      <td>0</td>\n",
       "    </tr>\n",
       "    <tr>\n",
       "      <th>4</th>\n",
       "      <td>0</td>\n",
       "      <td>0.0</td>\n",
       "      <td>0</td>\n",
       "      <td>0.1</td>\n",
       "      <td>0</td>\n",
       "      <td>0.0</td>\n",
       "      <td>1</td>\n",
       "      <td>0</td>\n",
       "      <td>1</td>\n",
       "      <td>0.0</td>\n",
       "      <td>-1</td>\n",
       "      <td>0</td>\n",
       "      <td>0</td>\n",
       "      <td>0</td>\n",
       "    </tr>\n",
       "  </tbody>\n",
       "</table>\n",
       "</div>"
      ],
      "text/plain": [
       "  treatment distance X8_needcut weight X7_needcut numerator denominator  \\\n",
       "0         0      0.0          0    0.1          0       0.0           1   \n",
       "1         0      0.0          0    0.1          0       0.0           1   \n",
       "2         0      0.0          0    0.1          0       0.0           1   \n",
       "3         0      0.0          0    0.1          0       0.0           1   \n",
       "4         0      0.0          0    0.1          0       0.0           1   \n",
       "\n",
       "  X3_string denominator_pre    Y  X1 X2 X3 numerator_pre  \n",
       "0         0               1  0.0  -1  0  0             0  \n",
       "1         0               1  0.0  -1  0  0             0  \n",
       "2         0               1  0.0  -1  0  0             0  \n",
       "3         0               1  0.0  -1  0  0             0  \n",
       "4         0               1  0.0  -1  0  0             0  "
      ]
     },
     "execution_count": 3,
     "metadata": {},
     "output_type": "execute_result"
    }
   ],
   "source": [
    "sql_instance.sql(\"select * from test_data_small limit 5;\")"
   ]
  },
  {
   "cell_type": "code",
   "execution_count": 4,
   "id": "aaf73f3a-aafd-4850-b888-5d5235c1bdd1",
   "metadata": {},
   "outputs": [
    {
     "name": "stdout",
     "output_type": "stream",
     "text": [
      "数据表总样本量：   count()\n",
      "0  793200\n"
     ]
    }
   ],
   "source": [
    "n = sql_instance.sql(\"select count(*) from test_data_small limit 1;\")\n",
    "print(\"数据表总样本量：\",n)"
   ]
  },
  {
   "cell_type": "markdown",
   "id": "5faeb9b5-62cb-4ae2-9bf9-dbe267f73572",
   "metadata": {},
   "source": [
    "### ttest"
   ]
  },
  {
   "cell_type": "markdown",
   "id": "24cbbddc-e000-44a8-b30c-a8bcee610bff",
   "metadata": {},
   "source": [
    "#### ttest"
   ]
  },
  {
   "cell_type": "markdown",
   "id": "08387988-cc69-4671-90eb-f9ea3b5d3ba5",
   "metadata": {},
   "source": [
    "做双样本t检验，关心的指标是 numerator/denominator，例如点击率指标，numerator代表点击，denominator代表曝光"
   ]
  },
  {
   "cell_type": "code",
   "execution_count": 5,
   "id": "765a6082-aeb2-4388-9673-75881538d1e7",
   "metadata": {},
   "outputs": [
    {
     "data": {
      "text/html": [
       "<div>\n",
       "<style scoped>\n",
       "    .dataframe tbody tr th:only-of-type {\n",
       "        vertical-align: middle;\n",
       "    }\n",
       "\n",
       "    .dataframe tbody tr th {\n",
       "        vertical-align: top;\n",
       "    }\n",
       "\n",
       "    .dataframe thead th {\n",
       "        text-align: right;\n",
       "    }\n",
       "</style>\n",
       "<table border=\"1\" class=\"dataframe\">\n",
       "  <thead>\n",
       "    <tr style=\"text-align: right;\">\n",
       "      <th></th>\n",
       "      <th>estimate</th>\n",
       "      <th>stderr</th>\n",
       "      <th>t-statistic</th>\n",
       "      <th>p-value</th>\n",
       "      <th>lower</th>\n",
       "      <th>upper</th>\n",
       "    </tr>\n",
       "  </thead>\n",
       "  <tbody>\n",
       "    <tr>\n",
       "      <th>0</th>\n",
       "      <td>-50.589793</td>\n",
       "      <td>70.303156</td>\n",
       "      <td>-0.719595</td>\n",
       "      <td>0.471774</td>\n",
       "      <td>-188.381868</td>\n",
       "      <td>87.202282</td>\n",
       "    </tr>\n",
       "  </tbody>\n",
       "</table>\n",
       "</div>"
      ],
      "text/plain": [
       "     estimate     stderr t-statistic   p-value        lower      upper\n",
       "0  -50.589793  70.303156   -0.719595  0.471774  -188.381868  87.202282"
      ]
     },
     "execution_count": 5,
     "metadata": {},
     "output_type": "execute_result"
    }
   ],
   "source": [
    "ttest = sql_instance.sql(\"\"\"select \n",
    "                                  ttest_2samp(avg(numerator)/avg(denominator),treatment,'two-sided') as ttest_result\n",
    "                            from \n",
    "                                  test_data_small\"\"\")\n",
    "# 某个cell ttest结果转pandas\n",
    "fast_causal_inference.to_pandas(ttest['ttest_result'][0])"
   ]
  },
  {
   "cell_type": "markdown",
   "id": "ddf923e7-b211-4482-bbb2-6cb6c15c1445",
   "metadata": {},
   "source": [
    "#### ttest with CUPED"
   ]
  },
  {
   "cell_type": "code",
   "execution_count": 6,
   "id": "6ca0923f",
   "metadata": {},
   "outputs": [
    {
     "name": "stdout",
     "output_type": "stream",
     "text": [
      "                                        ttest_result\n",
      "0  estimate    stderr      t-statistic p-value   ...\n"
     ]
    },
    {
     "data": {
      "text/html": [
       "<div>\n",
       "<style scoped>\n",
       "    .dataframe tbody tr th:only-of-type {\n",
       "        vertical-align: middle;\n",
       "    }\n",
       "\n",
       "    .dataframe tbody tr th {\n",
       "        vertical-align: top;\n",
       "    }\n",
       "\n",
       "    .dataframe thead th {\n",
       "        text-align: right;\n",
       "    }\n",
       "</style>\n",
       "<table border=\"1\" class=\"dataframe\">\n",
       "  <thead>\n",
       "    <tr style=\"text-align: right;\">\n",
       "      <th></th>\n",
       "      <th>estimate</th>\n",
       "      <th>stderr</th>\n",
       "      <th>t-statistic</th>\n",
       "      <th>p-value</th>\n",
       "      <th>lower</th>\n",
       "      <th>upper</th>\n",
       "    </tr>\n",
       "  </thead>\n",
       "  <tbody>\n",
       "    <tr>\n",
       "      <th>0</th>\n",
       "      <td>-50.900318</td>\n",
       "      <td>70.301131</td>\n",
       "      <td>-0.724033</td>\n",
       "      <td>0.469046</td>\n",
       "      <td>-188.688424</td>\n",
       "      <td>86.887788</td>\n",
       "    </tr>\n",
       "  </tbody>\n",
       "</table>\n",
       "</div>"
      ],
      "text/plain": [
       "     estimate     stderr t-statistic   p-value        lower      upper\n",
       "0  -50.900318  70.301131   -0.724033  0.469046  -188.688424  86.887788"
      ]
     },
     "execution_count": 6,
     "metadata": {},
     "output_type": "execute_result"
    }
   ],
   "source": [
    "ttest = sql_instance.sql(\"\"\"select \n",
    "                                  ttest_2samp(avg(numerator)/avg(denominator),treatment,'two-sided',\n",
    "                                  avg(numerator_pre)/avg(denominator_pre)) as ttest_result \n",
    "                            from \n",
    "                                  test_data_small\"\"\")\n",
    "print(ttest)\n",
    "# 某个cell ttest结果转pandas\n",
    "fast_causal_inference.to_pandas(ttest['ttest_result'][0])"
   ]
  },
  {
   "cell_type": "markdown",
   "id": "df42e8d3",
   "metadata": {},
   "source": [
    "#### 维度下钻的ttest"
   ]
  },
  {
   "cell_type": "code",
   "execution_count": 4,
   "id": "b518e91e",
   "metadata": {
    "tags": []
   },
   "outputs": [
    {
     "name": "stdout",
     "output_type": "stream",
     "text": [
      "  X2                                       ttest_result\n",
      "0  0  estimate    stderr      t-statistic p-value   ...\n",
      "1  2  estimate    stderr      t-statistic p-value   ...\n",
      "2  1  estimate    stderr      t-statistic p-value   ...\n"
     ]
    },
    {
     "data": {
      "text/html": [
       "<div>\n",
       "<style scoped>\n",
       "    .dataframe tbody tr th:only-of-type {\n",
       "        vertical-align: middle;\n",
       "    }\n",
       "\n",
       "    .dataframe tbody tr th {\n",
       "        vertical-align: top;\n",
       "    }\n",
       "\n",
       "    .dataframe thead th {\n",
       "        text-align: right;\n",
       "    }\n",
       "</style>\n",
       "<table border=\"1\" class=\"dataframe\">\n",
       "  <thead>\n",
       "    <tr style=\"text-align: right;\">\n",
       "      <th></th>\n",
       "      <th>estimate</th>\n",
       "      <th>stderr</th>\n",
       "      <th>t-statistic</th>\n",
       "      <th>p-value</th>\n",
       "      <th>lower</th>\n",
       "      <th>upper</th>\n",
       "    </tr>\n",
       "  </thead>\n",
       "  <tbody>\n",
       "    <tr>\n",
       "      <th>0</th>\n",
       "      <td>-214.165787</td>\n",
       "      <td>113.517865</td>\n",
       "      <td>-1.886626</td>\n",
       "      <td>0.059211</td>\n",
       "      <td>-436.658045</td>\n",
       "      <td>8.326471</td>\n",
       "    </tr>\n",
       "  </tbody>\n",
       "</table>\n",
       "</div>"
      ],
      "text/plain": [
       "      estimate      stderr t-statistic   p-value        lower     upper\n",
       "0  -214.165787  113.517865   -1.886626  0.059211  -436.658045  8.326471"
      ]
     },
     "execution_count": 4,
     "metadata": {},
     "output_type": "execute_result"
    }
   ],
   "source": [
    "ttest = sql_instance.sql(\"\"\"select \n",
    "                                  X2,ttest_2samp(avg(numerator)/avg(denominator),treatment,'two-sided',\n",
    "                                  avg(numerator_pre)/avg(denominator_pre)) as ttest_result \n",
    "                            from \n",
    "                                  test_data_small\n",
    "                            group by \n",
    "                                  X2\"\"\")\n",
    "print(ttest)\n",
    "# 某个cell ttest结果转pandas\n",
    "fast_causal_inference.to_pandas(ttest['ttest_result'][1])"
   ]
  },
  {
   "cell_type": "markdown",
   "id": "4b11f712-c43f-484b-87c6-82d378f7bcf4",
   "metadata": {},
   "source": [
    "### SRM"
   ]
  },
  {
   "cell_type": "code",
   "execution_count": 25,
   "id": "3e114ce8-88ec-42e5-99ec-9defa0339d5b",
   "metadata": {},
   "outputs": [
    {
     "data": {
      "text/html": [
       "<div>\n",
       "<style scoped>\n",
       "    .dataframe tbody tr th:only-of-type {\n",
       "        vertical-align: middle;\n",
       "    }\n",
       "\n",
       "    .dataframe tbody tr th {\n",
       "        vertical-align: top;\n",
       "    }\n",
       "\n",
       "    .dataframe thead th {\n",
       "        text-align: right;\n",
       "    }\n",
       "</style>\n",
       "<table border=\"1\" class=\"dataframe\">\n",
       "  <thead>\n",
       "    <tr style=\"text-align: right;\">\n",
       "      <th></th>\n",
       "      <th>groupname</th>\n",
       "      <th>f_obs</th>\n",
       "      <th>ratio</th>\n",
       "      <th>chisquare</th>\n",
       "      <th>p-value</th>\n",
       "    </tr>\n",
       "  </thead>\n",
       "  <tbody>\n",
       "    <tr>\n",
       "      <th>0</th>\n",
       "      <td>0</td>\n",
       "      <td>2.124e+06</td>\n",
       "      <td>1.000000</td>\n",
       "      <td>0.087586</td>\n",
       "      <td>0.767268</td>\n",
       "    </tr>\n",
       "    <tr>\n",
       "      <th>1</th>\n",
       "      <td>1</td>\n",
       "      <td>2.124e+06</td>\n",
       "      <td>1.000000</td>\n",
       "      <td>None</td>\n",
       "      <td>None</td>\n",
       "    </tr>\n",
       "  </tbody>\n",
       "</table>\n",
       "</div>"
      ],
      "text/plain": [
       "  groupname      f_obs     ratio chisquare   p-value\n",
       "0         0  2.124e+06  1.000000  0.087586  0.767268\n",
       "1         1  2.124e+06  1.000000      None      None"
      ]
     },
     "execution_count": 25,
     "metadata": {},
     "output_type": "execute_result"
    }
   ],
   "source": [
    "result = sql_instance.sql(\"\"\"SELECT  \n",
    "                                   SRM(X1, treatment, [1,1]) as srm\n",
    "                            FROM  \n",
    "                                   test_data_small\"\"\")\n",
    "print(result)\n",
    "fast_causal_inference.to_pandas(result['srm'][0])"
   ]
  },
  {
   "cell_type": "markdown",
   "id": "d73444a0",
   "metadata": {},
   "source": [
    "### OLS"
   ]
  },
  {
   "cell_type": "code",
   "execution_count": 8,
   "id": "abc64c70-8d8d-4859-a16e-45a60e528d5c",
   "metadata": {},
   "outputs": [
    {
     "name": "stdout",
     "output_type": "stream",
     "text": [
      "Call:\n",
      "lm(formula = y ~ + x1 + x2)\n",
      "\n",
      "Coefficients:\n",
      "\t\tEstimate    Std. Error\tt value\t    Pr(>|t|)\n",
      "(Intercept)\t561.074807  68.150467   8.232883    0.0         \n",
      "x1\t\t-6.709481   7.984102    -0.840355   0.40071     \n",
      "x2\t\t-78.429634  34.023479   -2.305162   0.021158    \n",
      "\n",
      "Residual standard error: 15654.799586 on 793197 degrees of freedom\n",
      "Multiple R-squared: 8e-06, Adjusted R-squared: 5e-06\n",
      "F-statistic: 3.056393 on 2 and 793197 DF,  p-value: 0.047058\n",
      "estimate [561.074807, -6.709481, -78.429634]\n",
      "stderr [68.150467, 7.984102, 34.023479]\n",
      "t_values [8.232883, -0.840355, -2.305162]\n",
      "pr [0.0, 0.40071, 0.021158]\n",
      "dml_summary \t\tCoefficient Results\n",
      "\t\tEstimate    Std. Error\tt value\t    Pr(>|t|)\n",
      "x0\t\t561.074807  68.150467   8.232883    0.0         \n",
      "\n",
      "\t\tCATE Intercept Results\n",
      "\t\tEstimate    Std. Error\tt value\t    Pr(>|t|)\n",
      "cate_intercept\t-6.709481   7.984102    -0.840355   0.40071     \n",
      "\n"
     ]
    }
   ],
   "source": [
    "# ols\n",
    "result = sql_instance.sql(f\"\"\"SELECT \n",
    "                                    ols(Y~X1+X2) AS res\n",
    "                              FROM\n",
    "                                    test_data_small\"\"\")\n",
    "print(result)\n",
    "print(\"estimate\", result.get_estimate())\n",
    "print(\"stderr\", result.get_stderr())\n",
    "print(\"t_values\", result.get_t_values())\n",
    "print(\"pr\", result.get_pr())\n",
    "print(\"dml_summary\", result.get_dml_summary())"
   ]
  },
  {
   "cell_type": "code",
   "execution_count": null,
   "id": "93e555cf-129f-4a89-8ec1-2c4738812100",
   "metadata": {},
   "outputs": [],
   "source": [
    "# predict\n",
    "#写法1：只适用于在相同数据上做训练和预测\n",
    "result = sql_instance.sql(f\"\"\"SELECT\n",
    "                                    predict(ols(Y~X1+X2),X1,X2) AS res\n",
    "                              FROM\n",
    "                                    test_data_small\n",
    "                              limit 10\"\"\")\n",
    "print(result)"
   ]
  },
  {
   "cell_type": "code",
   "execution_count": null,
   "id": "f9e1d808-c7b5-4b78-89da-949da8cd0967",
   "metadata": {},
   "outputs": [],
   "source": [
    "#写法2:适用于在相同或者不同数据集分别做训练和预测\n",
    "result = sql_instance.sql(f\"\"\"WITH (\n",
    "                                    SELECT\n",
    "                                            ols(Y~X1+X2) AS model\n",
    "                                    FROM\n",
    "                                            test_data_small\n",
    "                                   ) AS model\n",
    "                              SELECT\n",
    "                                    evalMLMethod (model,X1,X2) AS y_pre\n",
    "                              FROM\n",
    "                                    test_data_small\n",
    "                              limit 10\"\"\")\n",
    "print(result)"
   ]
  },
  {
   "cell_type": "markdown",
   "id": "a378c702-4c08-4739-b829-4fd28483bca2",
   "metadata": {},
   "source": [
    "### WLS"
   ]
  },
  {
   "cell_type": "code",
   "execution_count": 18,
   "id": "400a226c-f68a-41aa-b8d4-b9806eeb7633",
   "metadata": {},
   "outputs": [
    {
     "name": "stdout",
     "output_type": "stream",
     "text": [
      "Call:\n",
      "lm(formula = y ~ + x1 + x2)\n",
      "\n",
      "Coefficients:\n",
      "\t\tEstimate    Std. Error\tt value\t    Pr(>|t|)\n",
      "(Intercept)\t568.216     74.382803   7.639078    0.0         \n",
      "x1\t\t-6.907862   7.780073    -0.887892   0.374599    \n",
      "x2\t\t-89.265454  35.573033   -2.509357   0.012095    \n",
      "\n",
      "Residual standard error: 13920.418759 on 793197 degrees of freedom\n",
      "Multiple R-squared: 3.4e-05, Adjusted R-squared: 3.1e-05\n",
      "F-statistic: 13.409511 on 2 and 793197 DF,  p-value: 2e-06\n"
     ]
    }
   ],
   "source": [
    "result = sql_instance.sql(f\"\"\"SELECT\n",
    "                                    wls(Y~X1+X2,weight) as res\n",
    "                              from \n",
    "                                    test_data_small\"\"\")\n",
    "print(result)"
   ]
  },
  {
   "cell_type": "markdown",
   "id": "241fe745-0c4d-4a5e-bcee-e8ac354f3b55",
   "metadata": {},
   "source": [
    "### Lasso"
   ]
  },
  {
   "cell_type": "code",
   "execution_count": 22,
   "id": "0404a432-164b-48d8-81c8-3e7548a69e4a",
   "metadata": {},
   "outputs": [
    {
     "data": {
      "text/html": [
       "<div>\n",
       "<style scoped>\n",
       "    .dataframe tbody tr th:only-of-type {\n",
       "        vertical-align: middle;\n",
       "    }\n",
       "\n",
       "    .dataframe tbody tr th {\n",
       "        vertical-align: top;\n",
       "    }\n",
       "\n",
       "    .dataframe thead th {\n",
       "        text-align: right;\n",
       "    }\n",
       "</style>\n",
       "<table border=\"1\" class=\"dataframe\">\n",
       "  <thead>\n",
       "    <tr style=\"text-align: right;\">\n",
       "      <th></th>\n",
       "      <th>lasso</th>\n",
       "    </tr>\n",
       "  </thead>\n",
       "  <tbody>\n",
       "    <tr>\n",
       "      <th>0</th>\n",
       "      <td>[21797.48561202396,7201.898855075407,15107.949...</td>\n",
       "    </tr>\n",
       "  </tbody>\n",
       "</table>\n",
       "</div>"
      ],
      "text/plain": [
       "                                               lasso\n",
       "0  [21797.48561202396,7201.898855075407,15107.949..."
      ]
     },
     "execution_count": 22,
     "metadata": {},
     "output_type": "execute_result"
    }
   ],
   "source": [
    "# 训练\n",
    "ols = sql_instance.sql(f\"\"\"SELECT\n",
    "                                stochasticLinearRegression(0.001, 0.1, 15, 'Lasso')(Y, X1, X2, X3) as lasso\n",
    "                           FROM\n",
    "                                test_data_small\"\"\")\n",
    "ols"
   ]
  },
  {
   "cell_type": "code",
   "execution_count": 27,
   "id": "be5ece38-679e-4a9b-ab55-3ca9cdc44718",
   "metadata": {},
   "outputs": [
    {
     "name": "stdout",
     "output_type": "stream",
     "text": [
      "                y_pred\n",
      "0  -26154.813319312925\n",
      "1  -26154.813319312925\n",
      "2  -26154.813319312925\n",
      "3  -26154.813319312925\n",
      "4  -26154.813319312925\n",
      "5  -26154.813319312925\n",
      "6  -26154.813319312925\n",
      "7  -26154.813319312925\n",
      "8  -26154.813319312925\n",
      "9  -26154.813319312925\n"
     ]
    }
   ],
   "source": [
    "# 预测\n",
    "ols = sql_instance.sql(f\"\"\"WITH (\n",
    "                            SELECT\n",
    "                                  stochasticLinearRegressionState(0.001, 0.1, 15, 'Lasso')(Y, X1, X2, X3) AS model\n",
    "                            FROM\n",
    "                                  test_data_small\n",
    "                            ) AS model\n",
    "                            SELECT\n",
    "                                   evalMLMethod(model,X1,X2,X3) AS y_pred\n",
    "                            FROM\n",
    "                                   test_data_small\n",
    "                            limit 10\"\"\")\n",
    "print(ols)"
   ]
  },
  {
   "cell_type": "markdown",
   "id": "9b8263e3",
   "metadata": {},
   "source": [
    "### IV"
   ]
  },
  {
   "cell_type": "markdown",
   "id": "ad1739d4",
   "metadata": {},
   "source": [
    "这里的IV方程如下：  \n",
    "$$Y = X3_{est} + X1 + X2$$\n",
    "$$X3 = treatment+X1 + X2$$\n"
   ]
  },
  {
   "cell_type": "code",
   "execution_count": null,
   "id": "f34f6eab",
   "metadata": {},
   "outputs": [],
   "source": [
    "# iv \n",
    "import time\n",
    "t1=time.time()\n",
    "iv = sql_instance.sql(\"\"\"\n",
    "                        SELECT\n",
    "                              ivregression(Y~(X3~treatment)+X1+X2)\n",
    "                        FROM\n",
    "                              test_data_small\"\"\")\n",
    "t2=time.time()\n",
    "print(iv,\"用时：\",t2-t1)"
   ]
  },
  {
   "cell_type": "markdown",
   "id": "0255c331",
   "metadata": {},
   "source": [
    "### matching"
   ]
  },
  {
   "cell_type": "code",
   "execution_count": null,
   "id": "190fa903",
   "metadata": {
    "tags": []
   },
   "outputs": [],
   "source": [
    "# propensitysocre 匹配\n",
    "data = sql_instance.sql(\"\"\"SELECT\n",
    "                                 treatment,weight,caliperMatching(if(treatment=1,-1,1),weight,0.2) AS matchingIndex\n",
    "                           FROM\n",
    "                                 test_data_small\n",
    "                           limit 50\"\"\")\n",
    "data"
   ]
  },
  {
   "cell_type": "code",
   "execution_count": null,
   "id": "cbf4990b-d425-4e13-9f7e-f57301439055",
   "metadata": {},
   "outputs": [],
   "source": [
    "# 精确匹配\n",
    "data = sql_instance.sql(\"\"\"SELECT\n",
    "                                 treatment,x2,exactMatching(if(treatment=1,-1,1),x2) as matchingIndex\n",
    "                           FROM\n",
    "                                 test_data_small\n",
    "                           limit 20\"\"\")\n",
    "data"
   ]
  },
  {
   "cell_type": "markdown",
   "id": "f89a3202",
   "metadata": {
    "tags": []
   },
   "source": [
    "### Uplift模型"
   ]
  },
  {
   "cell_type": "markdown",
   "id": "42bd5e52-ec47-41db-a472-e66b6a5c3b25",
   "metadata": {},
   "source": [
    "#### causal tree"
   ]
  },
  {
   "cell_type": "code",
   "execution_count": null,
   "id": "70d89711-3e79-487b-8a8f-b431a303bdf3",
   "metadata": {},
   "outputs": [],
   "source": [
    "from fast_causal_inference.lib.causaltree import CausalTree\n",
    "Y='y'\n",
    "T='treatment'\n",
    "table = 'test_data_small'\n",
    "X = 'x1+x2+x3_string+x7_needcut+x8_needcut'\n",
    "needcut_X = 'x7_needcut+x8_needcut'\n",
    "\n",
    "hte = CausalTree(depth = 2)\n",
    "hte.fit(Y,T,X,needcut_X,table)\n",
    "\n",
    "# 输出树结构的图（可下载）\n",
    "treeplot = hte.treeplot()\n",
    "treeplot.render('digraph.gv', view=False) # 可以在digraph.gv.pdf文件里查看tree的完整图片并下载\n",
    "\n",
    "# 输出训练集上的uplift curve\n",
    "hte.hte_plot() \n",
    "# 输出变量重要性\n",
    "hte.feature_importance \n",
    "clickhouse_drop_view(clickhouse_view_name=\"test_table_small_causaltree_dep2\") \n",
    "hte.effect_2_clickhouse(table_output='test_table_small_causaltree_dep2') # 指定一张带预测的表，预测该表的HTE"
   ]
  },
  {
   "cell_type": "code",
   "execution_count": null,
   "id": "297683fd-001a-4fb1-a178-d30259e6d9ba",
   "metadata": {},
   "outputs": [],
   "source": [
    "hte.feature_importance "
   ]
  },
  {
   "cell_type": "code",
   "execution_count": null,
   "id": "3c3e5736-48a9-4591-857a-eed206f070ef",
   "metadata": {},
   "outputs": [],
   "source": [
    "treeplot"
   ]
  },
  {
   "cell_type": "markdown",
   "id": "46de1d08-cdbd-4999-94f4-112ba2c0eece",
   "metadata": {},
   "source": [
    "### DML"
   ]
  },
  {
   "cell_type": "markdown",
   "id": "cbec589c-1ff0-412b-8a88-b519129a69fd",
   "metadata": {},
   "source": [
    "#### LinearDML  "
   ]
  },
  {
   "cell_type": "code",
   "execution_count": null,
   "id": "c9aa634d-1966-4310-9867-a2c8851af88c",
   "metadata": {},
   "outputs": [],
   "source": [
    "from fast_causal_inference.lib.linear_dml import *\n",
    "\n",
    "\n",
    "Y='y'\n",
    "T='treatment'\n",
    "table = 'test_data_small'\n",
    "features = ['x1', 'x2']\n",
    "X_fordml = '+'.join(features)\n",
    "W='x7_needcut'\n",
    "model = LinearDML(Y=Y,T=T,X=X_fordml,W=W, model_y=\"ols\", model_t=\"stochasticLogisticRegression(1.0, 1.0, 10, 'SGD')\", cv=2, table=table)\n",
    "\n",
    "\n",
    "print(model.summary())\n",
    "print(model.ate('x1+x2',0,1))\n",
    "print(model.ate_interval('x1+x2',0,1,alpha=0.05))\n",
    "print(model.effect('x1+x2',0,1))\n",
    "clickhouse_drop_view(clickhouse_view_name=\"test_table_output1\") \n",
    "model.effect('x1+x2',0,1,table_output='test_table_output1') # effect预测结果存到表里\n",
    "print(model.effect_interval('x2+x3',0,1,0.05))\n",
    "clickhouse_drop_view(clickhouse_view_name=\"test_table_output2\") \n",
    "model.effect_interval('x1+x2',0,1,0.05,table_output='test_table_output2') # effect预测结果存到表里"
   ]
  },
  {
   "cell_type": "markdown",
   "id": "21d64dcc-f832-4ce4-8601-9e833f067c3a",
   "metadata": {},
   "source": [
    "#### LinearDML (T进行treatment_featurizer)"
   ]
  },
  {
   "cell_type": "code",
   "execution_count": null,
   "id": "bd917c97-0eba-4c38-aab7-cc32332c532c",
   "metadata": {},
   "outputs": [],
   "source": [
    "Y='y'\n",
    "T='treatment'\n",
    "table = 'test_data_small'\n",
    "features = ['x1', 'x2']\n",
    "X_fordml = '+'.join(features)\n",
    "W='x7_needcut'\n",
    "model = LinearDML(Y=Y,T=T,X=X_fordml,W=W, model_y=\"ols\", model_t=\"ols\", cv=2, table=table, treatment_featurizer=PolynomialFeatures('rand()', 3))\n",
    "print('\\n----summary----')\n",
    "print(model.summary())\n",
    "print(model.effect(T0=0.1, T1=0.2))\n",
    "print(model.const_marginal_effect())\n",
    "print(model.marginal_effect())\n",
    "print(model.marginal_ate())"
   ]
  },
  {
   "cell_type": "markdown",
   "id": "4fa7b74b-cb58-4562-a98e-cbed9b540687",
   "metadata": {},
   "source": [
    "#### NonparamDML"
   ]
  },
  {
   "cell_type": "code",
   "execution_count": null,
   "id": "0e35771f-1aec-4c56-8d7b-53f4ba1d5159",
   "metadata": {},
   "outputs": [],
   "source": [
    "\n",
    "from fast_causal_inference.lib.linear_dml import NonParamDML\n",
    "\n",
    "Y='y'\n",
    "T='treatment'\n",
    "table = 'test_data_small'\n",
    "features = ['x1', 'x2']\n",
    "X_fordml = '+'.join(features)\n",
    "W='x7_needcut'\n",
    "\n",
    "model = NonParamDML(table=table, Y=Y,T=T,X=X_fordml, model_y='Ols', model_t='Ols', cv=2)\n",
    "print('\\n----summary----')\n",
    "print(model.summary())"
   ]
  },
  {
   "cell_type": "markdown",
   "id": "7f690bc1-8726-4554-9d8a-1d2ef208fc80",
   "metadata": {},
   "source": [
    "### Uplift模型评估"
   ]
  },
  {
   "cell_type": "markdown",
   "id": "1db6cac3-3741-4009-9630-9fda254b45f4",
   "metadata": {},
   "source": [
    "这里是对比了用causaltree 不同深度的模型，在预测集上的uplift curve"
   ]
  },
  {
   "cell_type": "code",
   "execution_count": null,
   "id": "0ff7cf0d",
   "metadata": {},
   "outputs": [],
   "source": [
    "from fast_causal_inference.lib.metrics import *\n",
    "tmp1 = get_lift_gain(\"effect\", \"y\", \"treatment\", \"test_table_small_causaltree_dep3\",discrete_treatment=False, K=100)\n",
    "tmp1.summary()\n",
    "tmp2 = get_lift_gain(\"effect\", \"y\", \"treatment\", \"test_table_small_causaltree_dep2\",discrete_treatment=False, K=100)\n",
    "tmp2.summary()\n",
    "hte_plot([tmp1, tmp2])"
   ]
  }
 ],
 "metadata": {
  "kernelspec": {
   "display_name": "Python 3 (ipykernel)",
   "language": "python",
   "name": "python3"
  },
  "language_info": {
   "codemirror_mode": {
    "name": "ipython",
    "version": 3
   },
   "file_extension": ".py",
   "mimetype": "text/x-python",
   "name": "python",
   "nbconvert_exporter": "python",
   "pygments_lexer": "ipython3",
   "version": "3.11.5"
  }
 },
 "nbformat": 4,
 "nbformat_minor": 5
}
