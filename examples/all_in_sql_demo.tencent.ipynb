{
 "cells": [
  {
   "cell_type": "markdown",
   "id": "1a303640-afd2-46c4-ad50-9d9036d6c57e",
   "metadata": {
    "tags": []
   },
   "source": [
    "# 安装pakcage"
   ]
  },
  {
   "cell_type": "markdown",
   "id": "0755a64a-bc8e-4818-b427-2cca6196f921",
   "metadata": {},
   "source": [
    "安装"
   ]
  },
  {
   "cell_type": "code",
   "execution_count": 1,
   "id": "a1341fbb-63f8-457a-ad11-31960cd63aab",
   "metadata": {
    "collapsed": true,
    "jupyter": {
     "outputs_hidden": true
    },
    "tags": []
   },
   "outputs": [
    {
     "name": "stdout",
     "output_type": "stream",
     "text": [
      "Defaulting to user installation because normal site-packages is not writeable\n",
      "Looking in indexes: https://mirrors.tencent.com/pypi/simple\n",
      "Requirement already satisfied: fast-causal-inference in /mnt/cephfs/c525fc97-eaeb-424d-8d67-704f8a877b8b/group/jupyter/broccozhang/.local/lib/python3.7/site-packages (1.7.27)\n",
      "Requirement already satisfied: pandas in /usr/local/lib/python3.7/site-packages (from fast-causal-inference) (1.3.5)\n",
      "Requirement already satisfied: matplotlib in /usr/local/lib/python3.7/site-packages (from fast-causal-inference) (3.5.2)\n",
      "Requirement already satisfied: clickhouse_driver in /mnt/cephfs/c525fc97-eaeb-424d-8d67-704f8a877b8b/group/jupyter/broccozhang/.local/lib/python3.7/site-packages (from fast-causal-inference) (0.2.6)\n",
      "Requirement already satisfied: pyDes in /mnt/cephfs/c525fc97-eaeb-424d-8d67-704f8a877b8b/group/jupyter/broccozhang/.local/lib/python3.7/site-packages (from fast-causal-inference) (2.0.1)\n",
      "Requirement already satisfied: murmurhash3 in /mnt/cephfs/c525fc97-eaeb-424d-8d67-704f8a877b8b/group/jupyter/broccozhang/.local/lib/python3.7/site-packages (from fast-causal-inference) (2.3.5)\n",
      "Requirement already satisfied: seaborn in /usr/local/lib/python3.7/site-packages (from fast-causal-inference) (0.11.0)\n",
      "Requirement already satisfied: requests in /usr/local/lib/python3.7/site-packages (from fast-causal-inference) (2.31.0)\n",
      "Requirement already satisfied: graphviz in /usr/local/lib/python3.7/site-packages (from fast-causal-inference) (0.20.1)\n",
      "Requirement already satisfied: statsmodels in /usr/local/lib/python3.7/site-packages (from fast-causal-inference) (0.12.1)\n",
      "Requirement already satisfied: pyyaml in /usr/local/lib/python3.7/site-packages (from fast-causal-inference) (6.0)\n",
      "Requirement already satisfied: rainbow-sdk in /mnt/cephfs/c525fc97-eaeb-424d-8d67-704f8a877b8b/group/jupyter/broccozhang/.local/lib/python3.7/site-packages (from fast-causal-inference) (1.1.8.6)\n",
      "Requirement already satisfied: py4j in /mnt/cephfs/c525fc97-eaeb-424d-8d67-704f8a877b8b/group/jupyter/broccozhang/.local/lib/python3.7/site-packages (from fast-causal-inference) (0.10.9)\n",
      "Requirement already satisfied: pyspark==3.1.2 in /mnt/cephfs/c525fc97-eaeb-424d-8d67-704f8a877b8b/group/jupyter/broccozhang/.local/lib/python3.7/site-packages (from fast-causal-inference) (3.1.2)\n",
      "Requirement already satisfied: pytz in /usr/local/lib/python3.7/site-packages (from clickhouse_driver->fast-causal-inference) (2023.3)\n",
      "Requirement already satisfied: tzlocal in /mnt/cephfs/c525fc97-eaeb-424d-8d67-704f8a877b8b/group/jupyter/broccozhang/.local/lib/python3.7/site-packages (from clickhouse_driver->fast-causal-inference) (5.0.1)\n",
      "Requirement already satisfied: fonttools>=4.22.0 in /usr/local/lib/python3.7/site-packages (from matplotlib->fast-causal-inference) (4.38.0)\n",
      "Requirement already satisfied: kiwisolver>=1.0.1 in /usr/local/lib/python3.7/site-packages (from matplotlib->fast-causal-inference) (1.4.4)\n",
      "Requirement already satisfied: cycler>=0.10 in /usr/local/lib/python3.7/site-packages (from matplotlib->fast-causal-inference) (0.11.0)\n",
      "Requirement already satisfied: python-dateutil>=2.7 in /usr/local/lib/python3.7/site-packages (from matplotlib->fast-causal-inference) (2.8.2)\n",
      "Requirement already satisfied: pyparsing>=2.2.1 in /usr/local/lib/python3.7/site-packages (from matplotlib->fast-causal-inference) (3.1.0)\n",
      "Requirement already satisfied: packaging>=20.0 in /usr/local/lib/python3.7/site-packages (from matplotlib->fast-causal-inference) (23.1)\n",
      "Requirement already satisfied: pillow>=6.2.0 in /usr/local/lib/python3.7/site-packages (from matplotlib->fast-causal-inference) (9.5.0)\n",
      "Requirement already satisfied: numpy>=1.17 in /usr/local/lib/python3.7/site-packages (from matplotlib->fast-causal-inference) (1.21.6)\n",
      "Requirement already satisfied: setuptools in /usr/local/lib/python3.7/site-packages (from rainbow-sdk->fast-causal-inference) (68.0.0)\n",
      "Requirement already satisfied: charset-normalizer<4,>=2 in /usr/local/lib/python3.7/site-packages (from requests->fast-causal-inference) (3.2.0)\n",
      "Requirement already satisfied: urllib3<3,>=1.21.1 in /usr/local/lib/python3.7/site-packages (from requests->fast-causal-inference) (2.0.3)\n",
      "Requirement already satisfied: certifi>=2017.4.17 in /usr/local/lib/python3.7/site-packages (from requests->fast-causal-inference) (2023.5.7)\n",
      "Requirement already satisfied: idna<4,>=2.5 in /usr/local/lib/python3.7/site-packages (from requests->fast-causal-inference) (3.4)\n",
      "Requirement already satisfied: scipy>=1.0 in /usr/local/lib/python3.7/site-packages (from seaborn->fast-causal-inference) (1.7.3)\n",
      "Requirement already satisfied: patsy>=0.5 in /usr/local/lib/python3.7/site-packages (from statsmodels->fast-causal-inference) (0.5.3)\n",
      "Requirement already satisfied: typing-extensions in /usr/local/lib/python3.7/site-packages (from kiwisolver>=1.0.1->matplotlib->fast-causal-inference) (4.7.1)\n",
      "Requirement already satisfied: six in /usr/local/lib/python3.7/site-packages (from patsy>=0.5->statsmodels->fast-causal-inference) (1.16.0)\n",
      "Requirement already satisfied: backports.zoneinfo in /mnt/cephfs/c525fc97-eaeb-424d-8d67-704f8a877b8b/group/jupyter/broccozhang/.local/lib/python3.7/site-packages (from tzlocal->clickhouse_driver->fast-causal-inference) (0.2.1)\n",
      "\n",
      "\u001B[1m[\u001B[0m\u001B[34;49mnotice\u001B[0m\u001B[1;39;49m]\u001B[0m\u001B[39;49m A new release of pip available: \u001B[0m\u001B[31;49m22.3.1\u001B[0m\u001B[39;49m -> \u001B[0m\u001B[32;49m23.2.1\u001B[0m\n",
      "\u001B[1m[\u001B[0m\u001B[34;49mnotice\u001B[0m\u001B[1;39;49m]\u001B[0m\u001B[39;49m To update, run: \u001B[0m\u001B[32;49mpip3 install --upgrade pip\u001B[0m\n"
     ]
    }
   ],
   "source": [
    "!pip install -i https://mirrors.tencent.com/pypi/simple -U fast-causal-inference"
   ]
  },
  {
   "cell_type": "markdown",
   "id": "72afd153-0ca5-46e9-b182-35fa507eb924",
   "metadata": {},
   "source": [
    "更新"
   ]
  },
  {
   "cell_type": "code",
   "execution_count": null,
   "id": "f7030d96-0f74-4eac-ab9d-a1f3d91c1468",
   "metadata": {},
   "outputs": [],
   "source": [
    "!pip3 install --upgrade pip -i https://mirrors.tencent.com/pypi/simple -U fast-causal-inference"
   ]
  },
  {
   "cell_type": "markdown",
   "id": "c9c47daa",
   "metadata": {},
   "source": [
    "# 环境设置"
   ]
  },
  {
   "cell_type": "markdown",
   "id": "a25bf911",
   "metadata": {},
   "source": [
    "#### 配置clickhouse环境"
   ]
  },
  {
   "cell_type": "markdown",
   "id": "92864bb7",
   "metadata": {},
   "source": [
    "外部用户可以使用如下的clickhouse代理账号，可以连接测试数据库：test，就可以用该数据库下的测试数据集 test_data_small 做分析  "
   ]
  },
  {
   "cell_type": "code",
   "execution_count": 2,
   "id": "9dbfd4f4-5e94-4b4c-8322-69e7772c959e",
   "metadata": {},
   "outputs": [],
   "source": [
    "import numpy as np\n",
    "import pandas as pd"
   ]
  },
  {
   "cell_type": "code",
   "execution_count": 3,
   "id": "6279fa4d",
   "metadata": {
    "tags": []
   },
   "outputs": [],
   "source": [
    "\n",
    "import fast_causal_inference \n",
    "import time\n",
    "import fast_causal_inference.all_in_sql as ais\n",
    "from fast_causal_inference.all_in_sql import create_sql_instance, clickhouse_create_view,clickhouse_drop_view\n",
    "\n",
    "\n",
    "# 支持多租户安全隔离，请首先初始化租户信息才可进行后续使用,  可联系bearlyhuang/fhbai/broccozhang获取业务对应的租户信息\n",
    "# 体验账号\n",
    "fast_causal_inference.set_tenant(tenant_id='734c699c-f33d-47f7-86be-91a2b2d43362$9f97a6896eac4f059a6240ba3d707dc8', \n",
    "secret_key='48c58453351696abab8e47efe42a4cb21f46')\n",
    "sql_instance = ais.create()\n"
   ]
  },
  {
   "cell_type": "markdown",
   "id": "bec208d7-9cbb-42ea-b467-3b6cc67e45b8",
   "metadata": {
    "jp-MarkdownHeadingCollapsed": true,
    "tags": []
   },
   "source": [
    "#### 通过spark将tdw数据导到clickhouse里\n",
    "如果只是想试用，不需要导入自己的数据做分析，可以跳过这一步"
   ]
  },
  {
   "cell_type": "markdown",
   "source": [
    "GROUP_ID = \"xxxx\" # todo\n",
    "GAIA_ID = \"xxxx\" # todo\n",
    "ARCHIVES = \"hdfs://qy-ieg-4-v2/data/SPARK/cachefile/pythonenv/python3.6.tar.gz#pythonenv\"\n",
    "PYTHON = \"./pythonenv/python3.6/bin/python3\"\n",
    "import os\n",
    "import taiji_ide\n",
    "os.environ[\"PYSPARK_PYTHON\"] = PYTHON\n",
    "os.environ['PYSPARK_SUBMIT_ARGS'] = '--jars hdfs://qy-ieg-4-v2/data/SPARK/cachefile/all_in_sql/clickhouse-client-0.3.2.jar,hdfs://qy-ieg-4-v2/data/SPARK/cachefile/all_in_sql/clickhouse-http-client-0.3.2.jar,hdfs://qy-ieg-4-v2/data/SPARK/cachefile/all_in_sql/clickhouse-jdbc-0.3.2.jar pyspark-shell'\n",
    "taiji_ide.set_spark(version=\"3.1.2\", gaia_id=GAIA_ID)\n",
    "from pyspark.sql import SparkSession\n",
    "spark = (\n",
    "    SparkSession.builder.enableHiveSupport()\n",
    "        .config(\"spark.yarn.queue\", \"{}-offline\".format(GROUP_ID))\n",
    "        .config(\"spark.yarn.dist.archives\", ARCHIVES)\n",
    "        .config(\"spark.driver.memory\", \"16g\")\n",
    "        .config(\"spark.driver.maxResultSize\", \"0\")\n",
    "        .config(\"spark.blacklist.enabled\", \"true\")\n",
    "        .config(\"spark.executor.cores\", 4)\n",
    "        .config(\"spark.executor.instances\", 1000)\n",
    "        .config(\"spark.executor.memory\", \"10g\")\n",
    "        .config(\"spark.speculation\", \"false\")\n",
    "        .config(\"spark.network.timeout\",\"300s\")\n",
    "        .getOrCreate()\n",
    ")\n",
    "sc = spark.sparkContext.getOrCreate()\n",
    "print (sc.uiWebUrl)"
   ],
   "metadata": {
    "collapsed": false
   }
  },
  {
   "cell_type": "raw",
   "source": [
    "from pytoolkit import TDWSQLProvider\n",
    "\n",
    "tdw = TDWSQLProvider(\n",
    "    spark, user=\"xxxx\", passwd=\"xxxx\", db=\"xxxx\"\n",
    ") # todo\n",
    "\n",
    "df_new = tdw.table(tblName=\"allinsql_test_data_small\")\n",
    "clickhouse_drop_view(clickhouse_view_name=\"test_data_small\") \n",
    "fast_causal_inference.dataframe_2_clickhouse(dataframe=df_new,clickhouse_table_name='test_data_small',\n",
    "                                             bucket_column=\"Y\",is_auto_create=True)\n"
   ],
   "metadata": {
    "collapsed": false
   }
  },
  {
   "cell_type": "markdown",
   "id": "0df98826",
   "metadata": {},
   "source": [
    "# 模型使用示例"
   ]
  },
  {
   "cell_type": "markdown",
   "id": "450e2966-4955-4532-abe1-16e4592c3f5a",
   "metadata": {},
   "source": [
    "### 测试数据集：test_data_small"
   ]
  },
  {
   "cell_type": "markdown",
   "id": "674190c1",
   "metadata": {},
   "source": [
    "测试数据表: test_data_small 是793200行的fake data"
   ]
  },
  {
   "cell_type": "code",
   "execution_count": 5,
   "id": "b4b744c1-6716-4886-94b4-5b27396e88c2",
   "metadata": {},
   "outputs": [
    {
     "data": {
      "text/plain": [
       "[('id', 'UUID', '', '', '', '', ''),\n",
       " ('treatment', 'Int64', '', '', '', '', ''),\n",
       " ('numerator', 'Float64', '', '', '', '', ''),\n",
       " ('denominator', 'Int32', '', '', '', '', ''),\n",
       " ('numerator_pre', 'Int64', '', '', '', '', ''),\n",
       " ('denominator_pre', 'Int64', '', '', '', '', ''),\n",
       " ('y', 'Float64', '', '', '', '', ''),\n",
       " ('x1', 'Int64', '', '', '', '', ''),\n",
       " ('x2', 'Int64', '', '', '', '', ''),\n",
       " ('x3', 'Int32', '', '', '', '', ''),\n",
       " ('x3_string', 'String', '', '', '', '', ''),\n",
       " ('x7_needcut', 'Int64', '', '', '', '', ''),\n",
       " ('x8_needcut', 'Int32', '', '', '', '', ''),\n",
       " ('weight', 'Float64', '', '', '', '', ''),\n",
       " ('distance', 'Float64', '', '', '', '', ''),\n",
       " ('day_', 'Date', '', '', '', '', '')]"
      ]
     },
     "execution_count": 5,
     "metadata": {},
     "output_type": "execute_result"
    }
   ],
   "source": [
    "sql_instance.sql(\"desc test_data_small;\")"
   ]
  },
  {
   "cell_type": "code",
   "execution_count": 6,
   "id": "7204b7eb",
   "metadata": {},
   "outputs": [
    {
     "name": "stdout",
     "output_type": "stream",
     "text": [
      "数据表总样本量： [(793200,)]\n"
     ]
    },
    {
     "data": {
      "text/html": [
       "<div>\n",
       "<style scoped>\n",
       "    .dataframe tbody tr th:only-of-type {\n",
       "        vertical-align: middle;\n",
       "    }\n",
       "\n",
       "    .dataframe tbody tr th {\n",
       "        vertical-align: top;\n",
       "    }\n",
       "\n",
       "    .dataframe thead th {\n",
       "        text-align: right;\n",
       "    }\n",
       "</style>\n",
       "<table border=\"1\" class=\"dataframe\">\n",
       "  <thead>\n",
       "    <tr style=\"text-align: right;\">\n",
       "      <th></th>\n",
       "      <th>id</th>\n",
       "      <th>treatment</th>\n",
       "      <th>numerator</th>\n",
       "      <th>denominator</th>\n",
       "      <th>numerator_pre</th>\n",
       "      <th>denominator_pre</th>\n",
       "      <th>y</th>\n",
       "      <th>x1</th>\n",
       "      <th>x2</th>\n",
       "      <th>x3</th>\n",
       "      <th>x3_string</th>\n",
       "      <th>x7_needcut</th>\n",
       "      <th>x8_needcut</th>\n",
       "      <th>weight</th>\n",
       "      <th>distance</th>\n",
       "      <th>day_</th>\n",
       "    </tr>\n",
       "  </thead>\n",
       "  <tbody>\n",
       "    <tr>\n",
       "      <th>0</th>\n",
       "      <td>78680536-c4bf-41be-8003-8ee72f0ad9af</td>\n",
       "      <td>1</td>\n",
       "      <td>14.4</td>\n",
       "      <td>1</td>\n",
       "      <td>7</td>\n",
       "      <td>1</td>\n",
       "      <td>7.2</td>\n",
       "      <td>4</td>\n",
       "      <td>1</td>\n",
       "      <td>0</td>\n",
       "      <td>0</td>\n",
       "      <td>0</td>\n",
       "      <td>1</td>\n",
       "      <td>0.930912</td>\n",
       "      <td>3.323649</td>\n",
       "      <td>2023-07-26</td>\n",
       "    </tr>\n",
       "    <tr>\n",
       "      <th>1</th>\n",
       "      <td>8d1eb88d-49b6-4005-8005-186110b8fe31</td>\n",
       "      <td>1</td>\n",
       "      <td>360.8</td>\n",
       "      <td>1</td>\n",
       "      <td>11</td>\n",
       "      <td>1</td>\n",
       "      <td>187.4</td>\n",
       "      <td>8</td>\n",
       "      <td>1</td>\n",
       "      <td>0</td>\n",
       "      <td>0</td>\n",
       "      <td>21</td>\n",
       "      <td>716</td>\n",
       "      <td>0.700381</td>\n",
       "      <td>4.803048</td>\n",
       "      <td>2023-07-26</td>\n",
       "    </tr>\n",
       "    <tr>\n",
       "      <th>2</th>\n",
       "      <td>b8332177-9563-4158-8005-92ee4276a7d4</td>\n",
       "      <td>1</td>\n",
       "      <td>45.0</td>\n",
       "      <td>1</td>\n",
       "      <td>13</td>\n",
       "      <td>1</td>\n",
       "      <td>22.5</td>\n",
       "      <td>5</td>\n",
       "      <td>2</td>\n",
       "      <td>0</td>\n",
       "      <td>0</td>\n",
       "      <td>1</td>\n",
       "      <td>639</td>\n",
       "      <td>1.410135</td>\n",
       "      <td>6.550677</td>\n",
       "      <td>2023-07-26</td>\n",
       "    </tr>\n",
       "    <tr>\n",
       "      <th>3</th>\n",
       "      <td>04c242ac-c6d9-48fc-800b-770ddc99e043</td>\n",
       "      <td>1</td>\n",
       "      <td>14.4</td>\n",
       "      <td>1</td>\n",
       "      <td>7</td>\n",
       "      <td>1</td>\n",
       "      <td>7.2</td>\n",
       "      <td>4</td>\n",
       "      <td>1</td>\n",
       "      <td>0</td>\n",
       "      <td>0</td>\n",
       "      <td>0</td>\n",
       "      <td>17</td>\n",
       "      <td>0.740172</td>\n",
       "      <td>2.560689</td>\n",
       "      <td>2023-07-26</td>\n",
       "    </tr>\n",
       "    <tr>\n",
       "      <th>4</th>\n",
       "      <td>4db47836-b1ce-4974-800c-d28e706da32c</td>\n",
       "      <td>1</td>\n",
       "      <td>14.4</td>\n",
       "      <td>1</td>\n",
       "      <td>7</td>\n",
       "      <td>1</td>\n",
       "      <td>7.2</td>\n",
       "      <td>4</td>\n",
       "      <td>1</td>\n",
       "      <td>0</td>\n",
       "      <td>0</td>\n",
       "      <td>0</td>\n",
       "      <td>5</td>\n",
       "      <td>0.898669</td>\n",
       "      <td>3.194677</td>\n",
       "      <td>2023-07-26</td>\n",
       "    </tr>\n",
       "  </tbody>\n",
       "</table>\n",
       "</div>"
      ],
      "text/plain": [
       "                                     id  treatment  numerator  denominator  \\\n",
       "0  78680536-c4bf-41be-8003-8ee72f0ad9af          1       14.4            1   \n",
       "1  8d1eb88d-49b6-4005-8005-186110b8fe31          1      360.8            1   \n",
       "2  b8332177-9563-4158-8005-92ee4276a7d4          1       45.0            1   \n",
       "3  04c242ac-c6d9-48fc-800b-770ddc99e043          1       14.4            1   \n",
       "4  4db47836-b1ce-4974-800c-d28e706da32c          1       14.4            1   \n",
       "\n",
       "   numerator_pre  denominator_pre      y  x1  x2  x3  x3_string  x7_needcut  \\\n",
       "0              7                1    7.2   4   1   0          0           0   \n",
       "1             11                1  187.4   8   1   0          0          21   \n",
       "2             13                1   22.5   5   2   0          0           1   \n",
       "3              7                1    7.2   4   1   0          0           0   \n",
       "4              7                1    7.2   4   1   0          0           0   \n",
       "\n",
       "   x8_needcut    weight  distance        day_  \n",
       "0           1  0.930912  3.323649  2023-07-26  \n",
       "1         716  0.700381  4.803048  2023-07-26  \n",
       "2         639  1.410135  6.550677  2023-07-26  \n",
       "3          17  0.740172  2.560689  2023-07-26  \n",
       "4           5  0.898669  3.194677  2023-07-26  "
      ]
     },
     "execution_count": 6,
     "metadata": {},
     "output_type": "execute_result"
    }
   ],
   "source": [
    "columns = np.array(sql_instance.sql(\"desc test_data_small;\"))[:,0]\n",
    "data = sql_instance.sql(\"select * from test_data_small limit 5;\")\n",
    "n = sql_instance.sql(\"select count(*) from test_data_small limit 1;\")\n",
    "print(\"数据表总样本量：\",n)\n",
    "pd.DataFrame(data,columns=columns)"
   ]
  },
  {
   "cell_type": "markdown",
   "id": "5faeb9b5-62cb-4ae2-9bf9-dbe267f73572",
   "metadata": {},
   "source": [
    "### ttest"
   ]
  },
  {
   "cell_type": "markdown",
   "id": "24cbbddc-e000-44a8-b30c-a8bcee610bff",
   "metadata": {},
   "source": [
    "#### ttest"
   ]
  },
  {
   "cell_type": "markdown",
   "id": "08387988-cc69-4671-90eb-f9ea3b5d3ba5",
   "metadata": {},
   "source": [
    "做双样本t检验，关心的指标是 numerator/denominator，例如点击率指标，numerator代表点击，denominator代表曝光"
   ]
  },
  {
   "cell_type": "code",
   "execution_count": 4,
   "id": "765a6082-aeb2-4388-9673-75881538d1e7",
   "metadata": {},
   "outputs": [
    {
     "name": "stdout",
     "output_type": "stream",
     "text": [
      "estimate\tstderr\t\tt-statistic\tp-value\t\tlower\t\tupper\n",
      "-179.838780\t83.295326\t-2.159050\t0.030846\t-343.095133\t-16.582426\n"
     ]
    }
   ],
   "source": [
    "ttest = sql_instance.sql(\"\"\"select \n",
    "                                ttest_2samp(avg(numerator)/avg(denominator),treatment,'two-sided')\n",
    "                            from \n",
    "                                test_data_small\"\"\")\n",
    "print(ttest)\n"
   ]
  },
  {
   "cell_type": "markdown",
   "id": "ddf923e7-b211-4482-bbb2-6cb6c15c1445",
   "metadata": {},
   "source": [
    "#### ttest with CUPED"
   ]
  },
  {
   "cell_type": "code",
   "execution_count": 5,
   "id": "6ca0923f",
   "metadata": {},
   "outputs": [
    {
     "name": "stdout",
     "output_type": "stream",
     "text": [
      "estimate\tstderr\t\tt-statistic\tp-value\t\tlower\t\tupper\n",
      "-180.136134\t83.292259\t-2.162700\t0.030564\t-343.386478\t-16.885791\n"
     ]
    }
   ],
   "source": [
    "ttest = sql_instance.sql(\"\"\"select \n",
    "                                ttest_2samp(avg(numerator)/avg(denominator),treatment,'two-sided',\n",
    "                                    avg(numerator_pre)/avg(denominator_pre)) as ttest_result \n",
    "                            from \n",
    "                                test_data_small\"\"\")\n",
    "print(ttest)\n"
   ]
  },
  {
   "cell_type": "markdown",
   "id": "df42e8d3",
   "metadata": {},
   "source": [
    "#### 维度下钻的ttest"
   ]
  },
  {
   "cell_type": "code",
   "execution_count": 29,
   "id": "b518e91e",
   "metadata": {
    "tags": []
   },
   "outputs": [
    {
     "name": "stdout",
     "output_type": "stream",
     "text": [
      "[(0, '-508.936880 474.509664  -1.072553   0.283472    -1.439e+03  421.423537'), (1, '39.678734   81.621745   0.486129    0.626875    -120.298005 199.655474'), (2, '-377.804153 142.899413  -2.643847   0.008197    -657.883574 -97.724731')]\n"
     ]
    }
   ],
   "source": [
    "ttest = sql_instance.sql(\"\"\"select \n",
    "                                x2,ttest_2samp(avg(numerator)/avg(denominator),treatment,'two-sided',\n",
    "                                    avg(numerator_pre)/avg(denominator_pre)) as ttest_result \n",
    "                                \n",
    "                            from \n",
    "                                test_data_small\n",
    "                            group by \n",
    "                                x2\"\"\")\n",
    "print(ttest)"
   ]
  },
  {
   "cell_type": "markdown",
   "id": "4b11f712-c43f-484b-87c6-82d378f7bcf4",
   "metadata": {},
   "source": [
    "### SRM"
   ]
  },
  {
   "cell_type": "code",
   "execution_count": 9,
   "id": "3e114ce8-88ec-42e5-99ec-9defa0339d5b",
   "metadata": {},
   "outputs": [
    {
     "name": "stdout",
     "output_type": "stream",
     "text": [
      "[('groupname   f_obs       ratio       chisquare   p-value',), ('0           2.061e+06   1.000000    4989.109656 0.000000',), ('1           2.206e+06   1.000000',)]\n"
     ]
    }
   ],
   "source": [
    "result = sql_instance.sql(\"\"\"SELECT  \n",
    "\n",
    "                                   SRM(x1, treatment, [1,1])\n",
    "                            FROM  \n",
    "\n",
    "                                   test_data_small\"\"\")\n",
    "print(result)"
   ]
  },
  {
   "cell_type": "markdown",
   "id": "d73444a0",
   "metadata": {},
   "source": [
    "### OLS"
   ]
  },
  {
   "cell_type": "code",
   "execution_count": 3,
   "id": "abc64c70-8d8d-4859-a16e-45a60e528d5c",
   "metadata": {},
   "outputs": [
    {
     "name": "stdout",
     "output_type": "stream",
     "text": [
      "Call:\n",
      "lm(formula = y ~ + x1 + x2)\n",
      "\n",
      "Coefficients:\n",
      "\t\tEstimate    Std. Error\tt value\t    Pr(>|t|)\n",
      "(Intercept)\t524.042837  79.991519   6.55123     0.0         \n",
      "x1\t\t-1.989127   9.323788    -0.213339   0.831063    \n",
      "x2\t\t-50.465742  39.735154   -1.270053   0.204066    \n",
      "\n",
      "Residual standard error: 18276.17839 on 793197 degrees of freedom\n",
      "Multiple R-squared: 2e-06, Adjusted R-squared: -0.0\n",
      "F-statistic: 0.834831 on 2 and 793197 DF,  p-value: 0.433948\n"
     ]
    }
   ],
   "source": [
    "# ols\n",
    "result = sql_instance.sql(f\"\"\"SELECT\n",
    "\n",
    "         ols(y~x1+x2)   AS result\n",
    "\n",
    "FROM\n",
    "\n",
    "         test_data_small \"\"\")\n",
    "print(result)"
   ]
  },
  {
   "cell_type": "code",
   "execution_count": 10,
   "id": "93e555cf-129f-4a89-8ec1-2c4738812100",
   "metadata": {},
   "outputs": [
    {
     "name": "stdout",
     "output_type": "stream",
     "text": [
      "[(465.62058580913526,), (457.66407583454975,), (413.1657166888466,), (465.62058580913526,), (465.62058580913526,), (465.62058580913526,), (520.0645824230703,), (461.6423308218425,), (413.1657166888466,), (413.1657166888466,)]\n"
     ]
    }
   ],
   "source": [
    "# predict\n",
    "#写法1：只适用于在相同数据上做训练和预测\n",
    "result = sql_instance.sql(f\"\"\"SELECT  \n",
    "            predict(ols(y~x1+x2),x1,x2)  AS result\n",
    " FROM\n",
    "            test_data_small\n",
    " limit 10\"\"\")\n",
    "print(result)"
   ]
  },
  {
   "cell_type": "code",
   "execution_count": 11,
   "id": "f9e1d808-c7b5-4b78-89da-949da8cd0967",
   "metadata": {},
   "outputs": [
    {
     "name": "stdout",
     "output_type": "stream",
     "text": [
      "[(465.6205858091332,), (457.66407583454793,), (413.16571668884603,), (465.6205858091332,), (465.6205858091332,), (465.6205858091332,), (520.0645824230668,), (461.6423308218406,), (413.16571668884603,), (413.16571668884603,)]\n"
     ]
    }
   ],
   "source": [
    "#写法2:适用于在相同或者不同数据集分别做训练和预测\n",
    "result = sql_instance.sql(f\"\"\"WITH (\n",
    "\n",
    "          SELECT  \n",
    "\n",
    "                       ols(y~x1+x2)  AS model\n",
    "\n",
    "          FROM\n",
    "\n",
    "                    test_data_small\n",
    "\n",
    "         ) AS model\n",
    "\n",
    "SELECT\n",
    "            evalMLMethod (model,x1,x2) AS y_pre\n",
    "\n",
    "FROM\n",
    "\n",
    "          test_data_small\n",
    "limit 10\"\"\")\n",
    "print(result)"
   ]
  },
  {
   "cell_type": "markdown",
   "id": "a378c702-4c08-4739-b829-4fd28483bca2",
   "metadata": {},
   "source": [
    "### WLS"
   ]
  },
  {
   "cell_type": "code",
   "execution_count": 4,
   "id": "400a226c-f68a-41aa-b8d4-b9806eeb7633",
   "metadata": {},
   "outputs": [
    {
     "name": "stdout",
     "output_type": "stream",
     "text": [
      "Call:\n",
      "lm(formula = y ~ + x1 + x2)\n",
      "\n",
      "Coefficients:\n",
      "\t\tEstimate    Std. Error\tt value\t    Pr(>|t|)\n",
      "(Intercept)\t564.991679  79.923956   7.069116    0.0         \n",
      "x1\t\t-8.834124   8.307573    -1.063382   0.287609    \n",
      "x2\t\t-74.071379  38.080495   -1.945126   0.05176     \n",
      "\n",
      "Residual standard error: 14985.332834 on 793197 degrees of freedom\n",
      "Multiple R-squared: 2.4e-05, Adjusted R-squared: 2.1e-05\n",
      "F-statistic: 9.456233 on 2 and 793197 DF,  p-value: 7.8e-05\n"
     ]
    }
   ],
   "source": [
    "result = sql_instance.sql(f\"\"\"SELECT\n",
    "\n",
    "         WLS(y~x1+x2,weight) as result\n",
    "from test_data_small \"\"\")\n",
    "print(result)"
   ]
  },
  {
   "cell_type": "markdown",
   "id": "241fe745-0c4d-4a5e-bcee-e8ac354f3b55",
   "metadata": {},
   "source": [
    "### Lasso"
   ]
  },
  {
   "cell_type": "code",
   "execution_count": 12,
   "id": "0404a432-164b-48d8-81c8-3e7548a69e4a",
   "metadata": {},
   "outputs": [
    {
     "name": "stdout",
     "output_type": "stream",
     "text": [
      "[('[-6.791635533967209,46.67405344838126,1390.877711270237,50.14757670803557]',)]\n"
     ]
    }
   ],
   "source": [
    "# 训练\n",
    "ols = sql_instance.sql(f\"\"\"SELECT \n",
    "\n",
    "stochasticLinearRegression(0.001, 0.1, 15, 'Lasso')(y, x1, x2, x3)\n",
    "\n",
    "FROM\n",
    "\n",
    "test_data_small \"\"\")\n",
    "print(ols)"
   ]
  },
  {
   "cell_type": "code",
   "execution_count": 13,
   "id": "be5ece38-679e-4a9b-ab55-3ca9cdc44718",
   "metadata": {},
   "outputs": [
    {
     "name": "stdout",
     "output_type": "stream",
     "text": [
      "[(265.3983202385086,), (115.53266944864083,), (-96.88367487010237,), (-59.417262172635446,), (15.515563222298411,), (265.3983202385086,), (-59.417262172635446,), (52.98197591976536,), (5565.858709788669,), (-96.88367487010237,)]\n"
     ]
    }
   ],
   "source": [
    "# 预测\n",
    "ols = sql_instance.sql(f\"\"\"WITH (\n",
    "\n",
    "          SELECT  \n",
    "\n",
    "                       stochasticLinearRegressionState(0.001, 0.1, 15, 'Lasso')(y, x1, x2, x3) AS model\n",
    "\n",
    "          FROM\n",
    "\n",
    "                    test_data_small\n",
    "\n",
    "         ) AS model\n",
    "\n",
    "SELECT\n",
    "            evalMLMethod(model,x1,x2,x3) AS y_pred\n",
    "\n",
    "FROM\n",
    "\n",
    "          test_data_small\n",
    "limit 10\"\"\")\n",
    "print(ols)"
   ]
  },
  {
   "cell_type": "markdown",
   "id": "9b8263e3",
   "metadata": {},
   "source": [
    "### IV"
   ]
  },
  {
   "cell_type": "markdown",
   "id": "ad1739d4",
   "metadata": {},
   "source": [
    "这里的IV方程如下：  \n",
    "$$Y = X3_{est} + X1 + X2$$\n",
    "$$X3 = treatment+X1 + X2$$\n"
   ]
  },
  {
   "cell_type": "code",
   "execution_count": 14,
   "id": "f34f6eab",
   "metadata": {},
   "outputs": [
    {
     "name": "stdout",
     "output_type": "stream",
     "text": [
      "Call:\n",
      "lm(formula = y ~ + x1 + x2 + x3)\n",
      "\n",
      "Coefficients:\n",
      "\t\tEstimate    Std. Error\tt value\t    Pr(>|t|)\n",
      "(Intercept)\t-398.910124 83.055245   -4.802949   2e-06       \n",
      "x1\t\t13360.0     496.325301  26.909273   0.0         \n",
      "x2\t\t-145.711057 6426.435852 -0.022674   0.981911    \n",
      "x3\t\t67.0098     64.688061   1.035891    0.300253    \n",
      "\n",
      "Residual standard error: 18276.134648 on 793196 degrees of freedom\n",
      "Multiple R-squared: 8e-06, Adjusted R-squared: 4e-06\n",
      "F-statistic: 2.155517 on 3 and 793196 DF,  p-value: 0.090992 用时： 0.5162167549133301\n"
     ]
    }
   ],
   "source": [
    "# iv \n",
    "t1=time.time()\n",
    "iv = sql_instance.sql(\"\"\"\n",
    "    SELECT\n",
    "\n",
    "         ivregression(y~(x3~treatment)+x1+x2)\n",
    "    FROM\n",
    "             test_data_small\"\"\")\n",
    "t2=time.time()\n",
    "print(iv,\"用时：\",t2-t1)"
   ]
  },
  {
   "cell_type": "markdown",
   "id": "0255c331",
   "metadata": {},
   "source": [
    "### matching"
   ]
  },
  {
   "cell_type": "code",
   "execution_count": 15,
   "id": "190fa903",
   "metadata": {
    "tags": []
   },
   "outputs": [
    {
     "data": {
      "text/plain": [
       "[(0, 0.1, 0),\n",
       " (0, 0.11911208942046206, 0),\n",
       " (0, 0.20228926737380432, 0),\n",
       " (0, 0.21725924702297414, 0),\n",
       " (0, 0.35965238764408336, 0),\n",
       " (0, 0.49265998927705457, 0),\n",
       " (0, 0.4194904442223465, 0),\n",
       " (1, 0.6190614633073708, -2.0),\n",
       " (1, 0.6916770402322703, 0),\n",
       " (1, 0.6901164206653173, 0),\n",
       " (1, 0.7695630149146455, 0),\n",
       " (1, 0.7296567077817527, 0),\n",
       " (1, 0.682981597535075, 0),\n",
       " (0, 0.784950404959952, 2),\n",
       " (1, 0.9895964300934217, -3.0),\n",
       " (1, 0.8784802403250895, 0),\n",
       " (1, 0.8036436280942624, 0),\n",
       " (1, 0.9265932332320589, 0),\n",
       " (1, 0.9921811389485795, 0),\n",
       " (1, 0.9918454970446987, 0),\n",
       " (1, 0.8048158351575992, 0),\n",
       " (0, 0.9822592703817085, 3),\n",
       " (1, 1.0391224877767085, -1.0),\n",
       " (1, 1.1849022928357364, 0),\n",
       " (1, 1.0768818975372432, 0),\n",
       " (0, 1.0016238522952479, 1),\n",
       " (1, 1.3360388960773217, 0),\n",
       " (1, 1.2523023813851883, 0),\n",
       " (1, 1.2274193569848826, 0),\n",
       " (1, 1.3992599195100508, 0),\n",
       " (1, 1.3594367925216064, 0),\n",
       " (1, 1.2086202471304268, 0),\n",
       " (1, 1.3654435111362124, 0),\n",
       " (1, 1.2007851723350549, 0),\n",
       " (1, 1.3994199328356005, 0),\n",
       " (1, 1.209746342783269, 0),\n",
       " (1, 1.4561086234068752, 0),\n",
       " (1, 1.5526679533190721, 0),\n",
       " (1, 1.565428623712023, 0),\n",
       " (1, 1.6081035074563939, 0),\n",
       " (1, 1.6440682139117428, 0),\n",
       " (1, 1.6615034260697439, 0),\n",
       " (1, 1.6995083990505684, 0),\n",
       " (1, 1.8315815896102186, 0),\n",
       " (1, 1.93444048274179, 0),\n",
       " (1, 1.9340808529951798, 0),\n",
       " (1, 1.8731282705844214, 0),\n",
       " (1, 1.9147535677567948, 0),\n",
       " (1, 1.9451362652343551, 0),\n",
       " (1, 1.8216332530886012, 0)]"
      ]
     },
     "execution_count": 15,
     "metadata": {},
     "output_type": "execute_result"
    }
   ],
   "source": [
    "# propensitysocre 匹配\n",
    "data = sql_instance.sql(\"\"\"SELECT   treatment,weight,caliperMatching(if(treatment=1,-1,1),weight,0.2) AS matchingIndex\n",
    "FROM\n",
    "         test_data_small\n",
    "limit 50\n",
    "    \"\"\")\n",
    "data"
   ]
  },
  {
   "cell_type": "code",
   "execution_count": 16,
   "id": "cbf4990b-d425-4e13-9f7e-f57301439055",
   "metadata": {},
   "outputs": [
    {
     "data": {
      "text/plain": [
       "[(1, 0, 0),\n",
       " (1, 1, -3.0),\n",
       " (1, 1, 0),\n",
       " (1, 1, 0),\n",
       " (1, 1, 0),\n",
       " (1, 1, 0),\n",
       " (1, 1, 0),\n",
       " (1, 1, 0),\n",
       " (1, 1, 0),\n",
       " (1, 1, 0),\n",
       " (1, 1, 0),\n",
       " (1, 1, 0),\n",
       " (1, 1, 0),\n",
       " (1, 2, -1.0),\n",
       " (1, 2, -2.0),\n",
       " (1, 2, 0),\n",
       " (1, 2, 0),\n",
       " (0, 1, 3),\n",
       " (0, 2, 1),\n",
       " (0, 2, 2)]"
      ]
     },
     "execution_count": 16,
     "metadata": {},
     "output_type": "execute_result"
    }
   ],
   "source": [
    "# 精确匹配\n",
    "data = sql_instance.sql(\"\"\"SELECT  \n",
    "treatment,x2,exactMatching(if(treatment=1,-1,1),x2) as matchingIndex\n",
    "FROM  \n",
    "         test_data_small\n",
    "limit 20\n",
    "    \"\"\")\n",
    "data"
   ]
  },
  {
   "cell_type": "markdown",
   "id": "f89a3202",
   "metadata": {
    "tags": []
   },
   "source": [
    "### Uplift模型"
   ]
  },
  {
   "cell_type": "markdown",
   "id": "42bd5e52-ec47-41db-a472-e66b6a5c3b25",
   "metadata": {},
   "source": [
    "#### causal tree"
   ]
  },
  {
   "cell_type": "code",
   "execution_count": 18,
   "id": "70d89711-3e79-487b-8a8f-b431a303bdf3",
   "metadata": {},
   "outputs": [
    {
     "name": "stdout",
     "output_type": "stream",
     "text": [
      "test_data_small_1690351803_new\n",
      "running, please wait\n",
      "donetime cost: 0.683094896376133 Seconds\n",
      "running, please wait\n",
      "donetime cost: 0.4497803980484605 Seconds\n"
     ]
    },
    {
     "data": {
      "image/png": "[encoded data removed]",
      "text/plain": [
       "<Figure size 864x345.6 with 2 Axes>"
      ]
     },
     "metadata": {
      "needs_background": "light"
     },
     "output_type": "display_data"
    },
    {
     "name": "stdout",
     "output_type": "stream",
     "text": [
      "running, please wait\n",
      "donetime cost: 0.4195002857595682 Seconds\n",
      "running, please wait\n",
      "donetime cost: 0.7150361174717546 Seconds\n",
      "running, please wait\n",
      "donetime cost: 0.9062180174514651 Seconds\n",
      "running, please wait\n",
      "donetime cost: 0.26501098927110434 Seconds\n"
     ]
    }
   ],
   "source": [
    "from fast_causal_inference.lib.causaltree import CausalTree\n",
    "Y='y'\n",
    "T='treatment'\n",
    "table = 'test_data_small'\n",
    "X = 'x1+x2+x3_string+x7_needcut+x8_needcut'\n",
    "needcut_X = 'x7_needcut+x8_needcut'\n",
    "\n",
    "hte = CausalTree(depth = 2)\n",
    "hte.fit(Y,T,X,needcut_X,table)\n",
    "\n",
    "# 输出树结构的图（可下载）\n",
    "treeplot = hte.treeplot()\n",
    "treeplot.render('digraph.gv', view=False) # 可以在digraph.gv.pdf文件里查看tree的完整图片并下载\n",
    "\n",
    "# 输出训练集上的uplift curve\n",
    "hte.hte_plot() \n",
    "# 输出变量重要性\n",
    "hte.feature_importance \n",
    "clickhouse_drop_view(clickhouse_view_name=\"test_table_small_causaltree_dep2\") \n",
    "hte.effect_2_clickhouse(table_output='test_table_small_causaltree_dep2') # 指定一张带预测的表，预测该表的HTE"
   ]
  },
  {
   "cell_type": "code",
   "execution_count": 19,
   "id": "297683fd-001a-4fb1-a178-d30259e6d9ba",
   "metadata": {},
   "outputs": [
    {
     "data": {
      "text/html": [
       "<div>\n",
       "<style scoped>\n",
       "    .dataframe tbody tr th:only-of-type {\n",
       "        vertical-align: middle;\n",
       "    }\n",
       "\n",
       "    .dataframe tbody tr th {\n",
       "        vertical-align: top;\n",
       "    }\n",
       "\n",
       "    .dataframe thead th {\n",
       "        text-align: right;\n",
       "    }\n",
       "</style>\n",
       "<table border=\"1\" class=\"dataframe\">\n",
       "  <thead>\n",
       "    <tr style=\"text-align: right;\">\n",
       "      <th></th>\n",
       "      <th>featName</th>\n",
       "      <th>importance</th>\n",
       "    </tr>\n",
       "  </thead>\n",
       "  <tbody>\n",
       "    <tr>\n",
       "      <th>4</th>\n",
       "      <td>x8_needcut_buckets</td>\n",
       "      <td>5.196783e+11</td>\n",
       "    </tr>\n",
       "    <tr>\n",
       "      <th>3</th>\n",
       "      <td>x7_needcut_buckets</td>\n",
       "      <td>1.311237e+11</td>\n",
       "    </tr>\n",
       "    <tr>\n",
       "      <th>2</th>\n",
       "      <td>x3_string</td>\n",
       "      <td>8.117318e+10</td>\n",
       "    </tr>\n",
       "    <tr>\n",
       "      <th>0</th>\n",
       "      <td>x1</td>\n",
       "      <td>3.146347e+10</td>\n",
       "    </tr>\n",
       "    <tr>\n",
       "      <th>1</th>\n",
       "      <td>x2</td>\n",
       "      <td>5.023893e+09</td>\n",
       "    </tr>\n",
       "  </tbody>\n",
       "</table>\n",
       "</div>"
      ],
      "text/plain": [
       "             featName    importance\n",
       "4  x8_needcut_buckets  5.196783e+11\n",
       "3  x7_needcut_buckets  1.311237e+11\n",
       "2           x3_string  8.117318e+10\n",
       "0                  x1  3.146347e+10\n",
       "1                  x2  5.023893e+09"
      ]
     },
     "execution_count": 19,
     "metadata": {},
     "output_type": "execute_result"
    }
   ],
   "source": [
    "hte.feature_importance "
   ]
  },
  {
   "cell_type": "code",
   "execution_count": 20,
   "id": "3c3e5736-48a9-4591-857a-eed206f070ef",
   "metadata": {},
   "outputs": [
    {
     "data": {
      "image/svg+xml": [
       "<?xml version=\"1.0\" encoding=\"UTF-8\" standalone=\"no\"?>\n",
       "<!DOCTYPE svg PUBLIC \"-//W3C//DTD SVG 1.1//EN\"\n",
       " \"http://www.w3.org/Graphics/SVG/1.1/DTD/svg11.dtd\">\n",
       "<!-- Generated by graphviz version 2.40.1 (0)\n",
       " -->\n",
       "<!-- Title: %3 Pages: 1 -->\n",
       "<svg width=\"728pt\" height=\"397pt\"\n",
       " viewBox=\"0.00 0.00 728.50 396.78\" xmlns=\"http://www.w3.org/2000/svg\" xmlns:xlink=\"http://www.w3.org/1999/xlink\">\n",
       "<g id=\"graph0\" class=\"graph\" transform=\"scale(1 1) rotate(0) translate(4 392.7838)\">\n",
       "<title>%3</title>\n",
       "<polygon fill=\"#ffffff\" stroke=\"transparent\" points=\"-4,4 -4,-392.7838 724.4996,-392.7838 724.4996,4 -4,4\"/>\n",
       "<!-- 1.0 -->\n",
       "<g id=\"node1\" class=\"node\">\n",
       "<title>1.0</title>\n",
       "<ellipse fill=\"none\" stroke=\"#000000\" cx=\"272.3503\" cy=\"-347.7716\" rx=\"130.2154\" ry=\"41.0244\"/>\n",
       "<text text-anchor=\"middle\" x=\"272.3503\" y=\"-365.5716\" font-family=\"Times,serif\" font-size=\"9.00\" fill=\"#000000\">Node : 1</text>\n",
       "<text text-anchor=\"middle\" x=\"272.3503\" y=\"-355.5716\" font-family=\"Times,serif\" font-size=\"9.00\" fill=\"#000000\">sample_ratio:100.0%</text>\n",
       "<text text-anchor=\"middle\" x=\"272.3503\" y=\"-345.5716\" font-family=\"Times,serif\" font-size=\"9.00\" fill=\"#000000\">CATE : &#45;78.786 &#160;(p_value:0.17)</text>\n",
       "<text text-anchor=\"middle\" x=\"272.3503\" y=\"-335.5716\" font-family=\"Times,serif\" font-size=\"9.00\" fill=\"#000000\">sample size: control 191216; &#160;treatment 204763</text>\n",
       "<text text-anchor=\"middle\" x=\"272.3503\" y=\"-325.5716\" font-family=\"Times,serif\" font-size=\"9.00\" fill=\"#000000\">mean: control 498.5401; &#160;treatment 419.7541</text>\n",
       "</g>\n",
       "<!-- 2.0 -->\n",
       "<g id=\"node2\" class=\"node\">\n",
       "<title>2.0</title>\n",
       "<ellipse fill=\"none\" stroke=\"#000000\" cx=\"134.3503\" cy=\"-215.6051\" rx=\"134.2007\" ry=\"55.3091\"/>\n",
       "<text text-anchor=\"middle\" x=\"134.3503\" y=\"-243.4051\" font-family=\"Times,serif\" font-size=\"9.00\" fill=\"#000000\">Node : 2</text>\n",
       "<text text-anchor=\"middle\" x=\"134.3503\" y=\"-233.4051\" font-family=\"Times,serif\" font-size=\"9.00\" fill=\"#000000\">split_criterion: &#160;&#160;x1 in [1.0, 2.0, 3.0, 5.0, 7.0, 9.0,</text>\n",
       "<text text-anchor=\"middle\" x=\"134.3503\" y=\"-223.4051\" font-family=\"Times,serif\" font-size=\"9.00\" fill=\"#000000\">10.0, 11.0]</text>\n",
       "<text text-anchor=\"middle\" x=\"134.3503\" y=\"-213.4051\" font-family=\"Times,serif\" font-size=\"9.00\" fill=\"#000000\">sample_ratio:61.52%</text>\n",
       "<text text-anchor=\"middle\" x=\"134.3503\" y=\"-203.4051\" font-family=\"Times,serif\" font-size=\"9.00\" fill=\"#000000\">CATE : &#45;8.8915 &#160;(p_value:0.85)</text>\n",
       "<text text-anchor=\"middle\" x=\"134.3503\" y=\"-193.4051\" font-family=\"Times,serif\" font-size=\"9.00\" fill=\"#000000\">sample size: control 117599; &#160;treatment 125989</text>\n",
       "<text text-anchor=\"middle\" x=\"134.3503\" y=\"-183.4051\" font-family=\"Times,serif\" font-size=\"9.00\" fill=\"#000000\">mean: control 365.0431; &#160;treatment 356.1515</text>\n",
       "</g>\n",
       "<!-- 1.0&#45;&gt;2.0 -->\n",
       "<g id=\"edge1\" class=\"edge\">\n",
       "<title>1.0&#45;&gt;2.0</title>\n",
       "<path fill=\"none\" stroke=\"#000000\" d=\"M231.3194,-308.4752C219.8295,-297.471 207.094,-285.2739 194.7334,-273.4357\"/>\n",
       "<polygon fill=\"#000000\" stroke=\"#000000\" points=\"197.1541,-270.9079 187.5111,-266.5188 192.3124,-275.9633 197.1541,-270.9079\"/>\n",
       "</g>\n",
       "<!-- 3.0 -->\n",
       "<g id=\"node3\" class=\"node\">\n",
       "<title>3.0</title>\n",
       "<ellipse fill=\"none\" stroke=\"#000000\" cx=\"411.3503\" cy=\"-215.6051\" rx=\"124.4016\" ry=\"48.1667\"/>\n",
       "<text text-anchor=\"middle\" x=\"411.3503\" y=\"-238.4051\" font-family=\"Times,serif\" font-size=\"9.00\" fill=\"#000000\">Node : 3</text>\n",
       "<text text-anchor=\"middle\" x=\"411.3503\" y=\"-228.4051\" font-family=\"Times,serif\" font-size=\"9.00\" fill=\"#000000\">split_criterion: &#160;&#160;x1 in [&#45;1.0, 4.0, 6.0, 8.0]</text>\n",
       "<text text-anchor=\"middle\" x=\"411.3503\" y=\"-218.4051\" font-family=\"Times,serif\" font-size=\"9.00\" fill=\"#000000\">sample_ratio:38.48%</text>\n",
       "<text text-anchor=\"middle\" x=\"411.3503\" y=\"-208.4051\" font-family=\"Times,serif\" font-size=\"9.00\" fill=\"#000000\">CATE : &#45;190.3157 &#160;(p_value:0.13)</text>\n",
       "<text text-anchor=\"middle\" x=\"411.3503\" y=\"-198.4051\" font-family=\"Times,serif\" font-size=\"9.00\" fill=\"#000000\">sample size: control 73617; &#160;treatment 78774</text>\n",
       "<text text-anchor=\"middle\" x=\"411.3503\" y=\"-188.4051\" font-family=\"Times,serif\" font-size=\"9.00\" fill=\"#000000\">mean: control 711.7941; &#160;treatment 521.4784</text>\n",
       "</g>\n",
       "<!-- 1.0&#45;&gt;3.0 -->\n",
       "<g id=\"edge2\" class=\"edge\">\n",
       "<title>1.0&#45;&gt;3.0</title>\n",
       "<path fill=\"none\" stroke=\"#000000\" d=\"M313.3031,-308.8322C326.9419,-295.8639 342.356,-281.2075 356.8552,-267.4211\"/>\n",
       "<polygon fill=\"#000000\" stroke=\"#000000\" points=\"359.5045,-269.7318 364.3397,-260.3046 354.681,-264.6589 359.5045,-269.7318\"/>\n",
       "</g>\n",
       "<!-- 6.0 -->\n",
       "<g id=\"node4\" class=\"node\">\n",
       "<title>6.0</title>\n",
       "<ellipse fill=\"none\" stroke=\"#000000\" cx=\"255.3503\" cy=\"-62.2254\" rx=\"139.1004\" ry=\"62.4516\"/>\n",
       "<text text-anchor=\"middle\" x=\"255.3503\" y=\"-95.0254\" font-family=\"Times,serif\" font-size=\"9.00\" fill=\"#000000\">Node : 6</text>\n",
       "<text text-anchor=\"middle\" x=\"255.3503\" y=\"-85.0254\" font-family=\"Times,serif\" font-size=\"9.00\" fill=\"#000000\">split_criterion: &#160;&#160;x8_needcut_buckets in [&#39;[0.0,1.0)&#39;,</text>\n",
       "<text text-anchor=\"middle\" x=\"255.3503\" y=\"-75.0254\" font-family=\"Times,serif\" font-size=\"9.00\" fill=\"#000000\">&#39;[1.0,25.0)&#39;, &#39;[1723.45,54927.89)&#39;, &#39;[25.0,412.0)&#39;,</text>\n",
       "<text text-anchor=\"middle\" x=\"255.3503\" y=\"-65.0254\" font-family=\"Times,serif\" font-size=\"9.00\" fill=\"#000000\">&#39;[412.0,1723.45)&#39;]</text>\n",
       "<text text-anchor=\"middle\" x=\"255.3503\" y=\"-55.0254\" font-family=\"Times,serif\" font-size=\"9.00\" fill=\"#000000\">sample_ratio:38.08%</text>\n",
       "<text text-anchor=\"middle\" x=\"255.3503\" y=\"-45.0254\" font-family=\"Times,serif\" font-size=\"9.00\" fill=\"#000000\">CATE : 2.1043 &#160;(p_value:0.86)</text>\n",
       "<text text-anchor=\"middle\" x=\"255.3503\" y=\"-35.0254\" font-family=\"Times,serif\" font-size=\"9.00\" fill=\"#000000\">sample size: control 72842; &#160;treatment 77951</text>\n",
       "<text text-anchor=\"middle\" x=\"255.3503\" y=\"-25.0254\" font-family=\"Times,serif\" font-size=\"9.00\" fill=\"#000000\">mean: control 93.9957; &#160;treatment 96.1</text>\n",
       "</g>\n",
       "<!-- 3.0&#45;&gt;6.0 -->\n",
       "<g id=\"edge3\" class=\"edge\">\n",
       "<title>3.0&#45;&gt;6.0</title>\n",
       "<path fill=\"none\" stroke=\"#000000\" d=\"M365.8093,-170.829C351.6659,-156.9233 335.7897,-141.3137 320.5794,-126.3589\"/>\n",
       "<polygon fill=\"#000000\" stroke=\"#000000\" points=\"322.7611,-123.5956 313.1766,-119.0804 317.8535,-128.5871 322.7611,-123.5956\"/>\n",
       "</g>\n",
       "<!-- 7.0 -->\n",
       "<g id=\"node5\" class=\"node\">\n",
       "<title>7.0</title>\n",
       "<ellipse fill=\"none\" stroke=\"#000000\" cx=\"566.3503\" cy=\"-62.2254\" rx=\"154.2987\" ry=\"48.1667\"/>\n",
       "<text text-anchor=\"middle\" x=\"566.3503\" y=\"-85.0254\" font-family=\"Times,serif\" font-size=\"9.00\" fill=\"#000000\">Node : 7</text>\n",
       "<text text-anchor=\"middle\" x=\"566.3503\" y=\"-75.0254\" font-family=\"Times,serif\" font-size=\"9.00\" fill=\"#000000\">split_criterion: &#160;&#160;x8_needcut_buckets in [&#39;[54927.89,inf)&#39;]</text>\n",
       "<text text-anchor=\"middle\" x=\"566.3503\" y=\"-65.0254\" font-family=\"Times,serif\" font-size=\"9.00\" fill=\"#000000\">sample_ratio:0.4%</text>\n",
       "<text text-anchor=\"middle\" x=\"566.3503\" y=\"-55.0254\" font-family=\"Times,serif\" font-size=\"9.00\" fill=\"#000000\">CATE : &#45;17966.9872 &#160;(p_value:0.13)</text>\n",
       "<text text-anchor=\"middle\" x=\"566.3503\" y=\"-45.0254\" font-family=\"Times,serif\" font-size=\"9.00\" fill=\"#000000\">sample size: control 775; &#160;treatment 823</text>\n",
       "<text text-anchor=\"middle\" x=\"566.3503\" y=\"-35.0254\" font-family=\"Times,serif\" font-size=\"9.00\" fill=\"#000000\">mean: control 58778.4632; &#160;treatment 40811.476</text>\n",
       "</g>\n",
       "<!-- 3.0&#45;&gt;7.0 -->\n",
       "<g id=\"edge4\" class=\"edge\">\n",
       "<title>3.0&#45;&gt;7.0</title>\n",
       "<path fill=\"none\" stroke=\"#000000\" d=\"M457.0171,-170.4157C474.5183,-153.0974 494.6409,-133.1851 512.8138,-115.2022\"/>\n",
       "<polygon fill=\"#000000\" stroke=\"#000000\" points=\"515.2908,-117.6751 519.9371,-108.1534 510.3671,-112.6994 515.2908,-117.6751\"/>\n",
       "</g>\n",
       "</g>\n",
       "</svg>\n"
      ],
      "text/plain": [
       "<graphviz.graphs.Digraph at 0x7f20aa470588>"
      ]
     },
     "execution_count": 20,
     "metadata": {},
     "output_type": "execute_result"
    }
   ],
   "source": [
    "treeplot"
   ]
  },
  {
   "cell_type": "markdown",
   "id": "46de1d08-cdbd-4999-94f4-112ba2c0eece",
   "metadata": {},
   "source": [
    "### DML"
   ]
  },
  {
   "cell_type": "markdown",
   "id": "cbec589c-1ff0-412b-8a88-b519129a69fd",
   "metadata": {},
   "source": [
    "#### LinearDML  "
   ]
  },
  {
   "cell_type": "code",
   "execution_count": 21,
   "id": "c9aa634d-1966-4310-9867-a2c8851af88c",
   "metadata": {},
   "outputs": [
    {
     "name": "stdout",
     "output_type": "stream",
     "text": [
      "select linearDML(y,treatment,x1+x2,x7_needcut,model_y=Ols,model_t=stochasticLogisticRegression(1.0, 1.0, 10, 'SGD'),cv=2 ) from test_data_small\n",
      "\t\tCoefficient Results\n",
      "\t\tEstimate    Std. Error\tt value\t    Pr(>|t|)\n",
      "x0\t\t-16.527335  12.923965   -1.278813   0.200963    \n",
      "x1\t\t-93.961365  55.079687   -1.705917   0.088024    \n",
      "\n",
      "\t\tCATE Intercept Results\n",
      "\t\tEstimate    Std. Error\tt value\t    Pr(>|t|)\n",
      "cate_intercept\t198.872537  111.059332  1.790687    0.073344    \n",
      "\n",
      "[(-74.13067596989015,)]\n",
      "mean_point\tci_mean_lower\tci_mean_upper\t\n",
      "-11.5109622004\t-68.9142594444\t45.8923350435\t\n",
      "[(-5.025340926114438,), (-112.0039323788634,), (-40.3502194986562,), (-5.025340926114438,), (65.62441621896909,), (-181.6497337888233,), (-41.35417523377981,), (-76.67905380632158,), (-41.35417523377981,), (206.9239305091362,), (-41.35417523377981,), (-5.025340926114438,), (30.299537646427325,), (-110.99997664373979,), (29.295581911303742,), (-41.35417523377981,), (-182.65368952394692,), (-182.65368952394692,), (100.94929479151088,), (-76.67905380632158,), (-6.02929666123805,), (-76.67905380632158,), (29.295581911303742,), (-76.67905380632158,), (-112.0039323788634,), (65.62441621896909,), (-41.35417523377981,), (64.62046048384553,), (-5.025340926114438,), (-6.02929666123805,), (30.299537646427325,), (-41.35417523377981,), (-76.67905380632158,), (-76.67905380632158,), (-147.32881095140516,), (-76.67905380632158,), (-40.3502194986562,), (29.295581911303742,), (-5.025340926114438,), (-5.025340926114438,), (29.295581911303742,), (-181.6497337888233,), (29.295581911303742,), (-181.6497337888233,), (29.295581911303742,), (-76.67905380632158,), (-6.02929666123805,), (-216.97461236136513,), (-76.67905380632158,), (-6.02929666123805,), (-6.02929666123805,), (-41.35417523377981,), (-112.0039323788634,), (-110.99997664373979,), (-5.025340926114438,), (-41.35417523377981,), (-112.0039323788634,), (-6.02929666123805,), (-5.025340926114438,), (-5.025340926114438,), (29.295581911303742,), (-5.025340926114438,), (-5.025340926114438,), (-41.35417523377981,), (-112.0039323788634,), (-40.3502194986562,), (-76.67905380632158,), (-112.0039323788634,), (-41.35417523377981,), (-40.3502194986562,), (-112.0039323788634,), (65.62441621896909,), (29.295581911303742,), (-5.025340926114438,), (-6.02929666123805,), (-6.02929666123805,), (206.9239305091362,), (-41.35417523377981,), (29.295581911303742,), (65.62441621896909,), (-217.9785680964887,), (-41.35417523377981,), (-41.35417523377981,), (65.62441621896909,), (-41.35417523377981,), (-40.3502194986562,), (-41.35417523377981,), (-112.0039323788634,), (-41.35417523377981,), (-41.35417523377981,), (-41.35417523377981,), (-112.0039323788634,), (-110.99997664373979,), (-6.02929666123805,), (-40.3502194986562,), (-75.67509807119802,), (-76.67905380632158,), (-5.025340926114438,), (-6.02929666123805,), (-40.3502194986562,)]\n",
      "running, please wait\n",
      "donetime cost: 0.34777986351400614 Seconds\n",
      "running, please wait\n",
      "donetime cost: 0.5955683151260018 Seconds\n",
      "[('[182.12822663330684,-9.933077473795834,374.1895307404095]',), ('[182.12822663330684,-9.933077473795834,374.1895307404095]',), ('[182.12822663330684,-9.933077473795834,374.1895307404095]',), ('[182.12822663330684,-9.933077473795834,374.1895307404095]',), ('[182.12822663330684,-9.933077473795834,374.1895307404095]',), ('[182.12822663330684,-9.933077473795834,374.1895307404095]',), ('[182.12822663330684,-9.933077473795834,374.1895307404095]',), ('[199.74787428992883,-4.701137010632891,404.1968855904905]',), ('[182.12822663330684,-9.933077473795834,374.1895307404095]',), ('[182.12822663330684,-9.933077473795834,374.1895307404095]',), ('[199.74787428992883,-4.701137010632891,404.1968855904905]',), ('[199.74787428992883,-4.701137010632891,404.1968855904905]',), ('[182.12822663330684,-9.933077473795834,374.1895307404095]',), ('[199.74787428992883,-4.701137010632891,404.1968855904905]',), ('[199.74787428992883,-4.701137010632891,404.1968855904905]',), ('[182.12822663330684,-9.933077473795834,374.1895307404095]',), ('[199.74787428992883,-4.701137010632891,404.1968855904905]',), ('[199.74787428992883,-4.701137010632891,404.1968855904905]',), ('[182.12822663330684,-9.933077473795834,374.1895307404095]',), ('[182.12822663330684,-9.933077473795834,374.1895307404095]',), ('[182.12822663330684,-9.933077473795834,374.1895307404095]',), ('[199.74787428992883,-4.701137010632891,404.1968855904905]',), ('[182.12822663330684,-9.933077473795834,374.1895307404095]',), ('[182.12822663330684,-9.933077473795834,374.1895307404095]',), ('[199.74787428992883,-4.701137010632891,404.1968855904905]',), ('[-121.07482474002899,-314.6672031958972,72.51755371583917]',), ('[182.12822663330684,-9.933077473795834,374.1895307404095]',), ('[199.74787428992883,-4.701137010632891,404.1968855904905]',), ('[199.74787428992883,-4.701137010632891,404.1968855904905]',), ('[182.12822663330684,-9.933077473795834,374.1895307404095]',), ('[182.12822663330684,-9.933077473795834,374.1895307404095]',), ('[182.12822663330684,-9.933077473795834,374.1895307404095]',), ('[199.74787428992883,-4.701137010632891,404.1968855904905]',), ('[182.12822663330684,-9.933077473795834,374.1895307404095]',), ('[182.12822663330684,-9.933077473795834,374.1895307404095]',), ('[182.12822663330684,-9.933077473795834,374.1895307404095]',), ('[182.12822663330684,-9.933077473795834,374.1895307404095]',), ('[199.74787428992883,-4.701137010632891,404.1968855904905]',), ('[182.12822663330684,-9.933077473795834,374.1895307404095]',), ('[182.12822663330684,-9.933077473795834,374.1895307404095]',), ('[182.12822663330684,-9.933077473795834,374.1895307404095]',), ('[199.74787428992883,-4.701137010632891,404.1968855904905]',), ('[199.74787428992883,-4.701137010632891,404.1968855904905]',), ('[182.12822663330684,-9.933077473795834,374.1895307404095]',), ('[199.74787428992883,-4.701137010632891,404.1968855904905]',), ('[182.12822663330684,-9.933077473795834,374.1895307404095]',), ('[182.12822663330684,-9.933077473795834,374.1895307404095]',), ('[199.74787428992883,-4.701137010632891,404.1968855904905]',), ('[182.12822663330684,-9.933077473795834,374.1895307404095]',), ('[182.12822663330684,-9.933077473795834,374.1895307404095]',), ('[182.12822663330684,-9.933077473795834,374.1895307404095]',), ('[182.12822663330684,-9.933077473795834,374.1895307404095]',), ('[182.12822663330684,-9.933077473795834,374.1895307404095]',), ('[182.12822663330684,-9.933077473795834,374.1895307404095]',), ('[182.12822663330684,-9.933077473795834,374.1895307404095]',), ('[182.12822663330684,-9.933077473795834,374.1895307404095]',), ('[199.74787428992883,-4.701137010632891,404.1968855904905]',), ('[199.74787428992883,-4.701137010632891,404.1968855904905]',), ('[182.12822663330684,-9.933077473795834,374.1895307404095]',), ('[182.12822663330684,-9.933077473795834,374.1895307404095]',), ('[182.12822663330684,-9.933077473795834,374.1895307404095]',), ('[182.12822663330684,-9.933077473795834,374.1895307404095]',), ('[182.12822663330684,-9.933077473795834,374.1895307404095]',), ('[182.12822663330684,-9.933077473795834,374.1895307404095]',), ('[182.12822663330684,-9.933077473795834,374.1895307404095]',), ('[182.12822663330684,-9.933077473795834,374.1895307404095]',), ('[182.12822663330684,-9.933077473795834,374.1895307404095]',), ('[199.74787428992883,-4.701137010632891,404.1968855904905]',), ('[199.74787428992883,-4.701137010632891,404.1968855904905]',), ('[199.74787428992883,-4.701137010632891,404.1968855904905]',), ('[199.74787428992883,-4.701137010632891,404.1968855904905]',), ('[182.12822663330684,-9.933077473795834,374.1895307404095]',), ('[182.12822663330684,-9.933077473795834,374.1895307404095]',), ('[182.12822663330684,-9.933077473795834,374.1895307404095]',), ('[182.12822663330684,-9.933077473795834,374.1895307404095]',), ('[182.12822663330684,-9.933077473795834,374.1895307404095]',), ('[182.12822663330684,-9.933077473795834,374.1895307404095]',), ('[182.12822663330684,-9.933077473795834,374.1895307404095]',), ('[182.12822663330684,-9.933077473795834,374.1895307404095]',), ('[199.74787428992883,-4.701137010632891,404.1968855904905]',), ('[182.12822663330684,-9.933077473795834,374.1895307404095]',), ('[199.74787428992883,-4.701137010632891,404.1968855904905]',), ('[199.74787428992883,-4.701137010632891,404.1968855904905]',), ('[199.74787428992883,-4.701137010632891,404.1968855904905]',), ('[182.12822663330684,-9.933077473795834,374.1895307404095]',), ('[182.12822663330684,-9.933077473795834,374.1895307404095]',), ('[182.12822663330684,-9.933077473795834,374.1895307404095]',), ('[182.12822663330684,-9.933077473795834,374.1895307404095]',), ('[182.12822663330684,-9.933077473795834,374.1895307404095]',), ('[182.12822663330684,-9.933077473795834,374.1895307404095]',), ('[199.74787428992883,-4.701137010632891,404.1968855904905]',), ('[182.12822663330684,-9.933077473795834,374.1895307404095]',), ('[199.74787428992883,-4.701137010632891,404.1968855904905]',), ('[182.12822663330684,-9.933077473795834,374.1895307404095]',), ('[182.12822663330684,-9.933077473795834,374.1895307404095]',), ('[182.12822663330684,-9.933077473795834,374.1895307404095]',), ('[182.12822663330684,-9.933077473795834,374.1895307404095]',), ('[182.12822663330684,-9.933077473795834,374.1895307404095]',), ('[199.74787428992883,-4.701137010632891,404.1968855904905]',), ('[182.12822663330684,-9.933077473795834,374.1895307404095]',)]\n",
      "running, please wait\n",
      "donetime cost: 0.3296669712290168 Seconds\n",
      "running, please wait\n",
      "donetime cost: 1.0796162402257323 Seconds\n"
     ]
    }
   ],
   "source": [
    "from fast_causal_inference.lib.linear_dml import *\n",
    "\n",
    "\n",
    "Y='y'\n",
    "T='treatment'\n",
    "table = 'test_data_small'\n",
    "features = ['x1', 'x2']\n",
    "X_fordml = '+'.join(features)\n",
    "W='x7_needcut'\n",
    "model = LinearDML(Y=Y,T=T,X=X_fordml,W=W, model_y=\"ols\", model_t=\"stochasticLogisticRegression(1.0, 1.0, 10, 'SGD')\", cv=2, table=table)\n",
    "\n",
    "\n",
    "print(model.summary())\n",
    "print(model.ate('x1+x2',0,1))\n",
    "print(model.ate_interval('x1+x2',0,1,alpha=0.05))\n",
    "print(model.effect('x1+x2',0,1))\n",
    "clickhouse_drop_view(clickhouse_view_name=\"test_table_output1\") \n",
    "model.effect('x1+x2',0,1,table_output='test_table_output1') # effect预测结果存到表里\n",
    "print(model.effect_interval('x2+x3',0,1,0.05))\n",
    "clickhouse_drop_view(clickhouse_view_name=\"test_table_output2\") \n",
    "model.effect_interval('x1+x2',0,1,0.05,table_output='test_table_output2') # effect预测结果存到表里"
   ]
  },
  {
   "cell_type": "markdown",
   "id": "21d64dcc-f832-4ce4-8601-9e833f067c3a",
   "metadata": {},
   "source": [
    "#### LinearDML (T进行treatment_featurizer)"
   ]
  },
  {
   "cell_type": "code",
   "execution_count": 22,
   "id": "bd917c97-0eba-4c38-aab7-cc32332c532c",
   "metadata": {},
   "outputs": [
    {
     "name": "stdout",
     "output_type": "stream",
     "text": [
      "select linearDML(y,treatment,x1+x2,x7_needcut,model_y=Ols,model_t=Ols,cv=2,treatment_featurizer=pow(rand(),1)+pow(rand(),2)+pow(rand(),3) ) from test_data_small\n",
      "\n",
      "----summary----\n",
      "\t\tCoefficient Results\n",
      "\t\tEstimate    Std. Error\tt value\t    Pr(>|t|)\n",
      "x0\t\t0.0         0.0         0.167104    0.867288    \n",
      "x1\t\t-0.0        0.0         -0.029003   0.976862    \n",
      "x2\t\t-0.0        0.0         -0.06871    0.94522     \n",
      "x3\t\t0.0         0.0         1.698255    0.08946     \n",
      "x4\t\t-0.0        0.0         -1.636151   0.101808    \n",
      "x5\t\t0.0         0.0         1.501046    0.133344    \n",
      "x6\t\t-0.0        0.0         -1.492199   0.135647    \n",
      "x7\t\t0.0         0.0         1.417361    0.156378    \n",
      "\n",
      "\t\tCATE Intercept Results\n",
      "\t\tEstimate    Std. Error\tt value\t    Pr(>|t|)\n",
      "cate_intercept\t-0.0        0.0         -1.286949   0.198112    \n",
      "\n",
      "[('-5.480888269968935e-9',), ('-6.372931544420077e-9',), ('-8.14129668199954e-9',), ('-5.480888269968935e-9',), ('-1.6007144590772722e-10',), ('-1.878293033012194e-8',), ('-1.0521147203588687e-9',), ('-3.71252313238947e-9',), ('-1.0521147203588687e-9',), ('1.0481562202214687e-8',), ('-1.0521147203588687e-9',), ('-5.480888269968935e-9',), ('-2.82047985793833e-9',), ('-1.3462113506060737e-8',), ('4.268702103702336e-9',), ('-1.0521147203588687e-9',), ('-1.1693748368481282e-8',), ('-1.1693748368481282e-8',), ('2.5003369661228767e-9',), ('-3.71252313238947e-9',), ('1.608293691671732e-9',), ('-3.71252313238947e-9',), ('4.268702103702336e-9',), ('-3.71252313238947e-9',), ('-6.372931544420077e-9',), ('-1.6007144590772722e-10',), ('-1.0521147203588687e-9',), ('6.929110515732939e-9',), ('-5.480888269968935e-9',), ('1.608293691671732e-9',), ('-2.82047985793833e-9',), ('-1.0521147203588687e-9',), ('-3.71252313238947e-9',), ('-3.71252313238947e-9',), ('-9.033339956450681e-9',), ('-3.71252313238947e-9',), ('-8.14129668199954e-9',), ('4.268702103702336e-9',), ('-5.480888269968935e-9',), ('-5.480888269968935e-9',), ('4.268702103702336e-9',), ('-1.878293033012194e-8',), ('4.268702103702336e-9',), ('-1.878293033012194e-8',), ('4.268702103702336e-9',), ('-3.71252313238947e-9',), ('1.608293691671732e-9',), ('-2.1443338742152544e-8',), ('-3.71252313238947e-9',), ('1.608293691671732e-9',), ('1.608293691671732e-9',), ('-1.0521147203588687e-9',), ('-6.372931544420077e-9',), ('-1.3462113506060737e-8',), ('-5.480888269968935e-9',), ('-1.0521147203588687e-9',), ('-6.372931544420077e-9',), ('1.608293691671732e-9',), ('-5.480888269968935e-9',), ('-5.480888269968935e-9',), ('4.268702103702336e-9',), ('-5.480888269968935e-9',), ('-5.480888269968935e-9',), ('-1.0521147203588687e-9',), ('-6.372931544420077e-9',), ('-8.14129668199954e-9',), ('-3.71252313238947e-9',), ('-6.372931544420077e-9',), ('-1.0521147203588687e-9',), ('-8.14129668199954e-9',), ('-6.372931544420077e-9',), ('-1.6007144590772722e-10',), ('4.268702103702336e-9',), ('-5.480888269968935e-9',), ('1.608293691671732e-9',), ('1.608293691671732e-9',), ('1.0481562202214687e-8',), ('-1.0521147203588687e-9',), ('4.268702103702336e-9',), ('-1.6007144590772722e-10',), ('-1.4354156780511882e-8',), ('-1.0521147203588687e-9',), ('-1.0521147203588687e-9',), ('-1.6007144590772722e-10',), ('-1.0521147203588687e-9',), ('-8.14129668199954e-9',), ('-1.0521147203588687e-9',), ('-6.372931544420077e-9',), ('-1.0521147203588687e-9',), ('-1.0521147203588687e-9',), ('-1.0521147203588687e-9',), ('-6.372931544420077e-9',), ('-1.3462113506060737e-8',), ('1.608293691671732e-9',), ('-8.14129668199954e-9',), ('-1.0801705094030137e-8',), ('-3.71252313238947e-9',), ('-5.480888269968935e-9',), ('1.608293691671732e-9',), ('-8.14129668199954e-9',)]\n",
      "[('-8.190285753165749e-8', '7.077317173693089e-17', '-1.33167375212047e-26'), ('2.171956066230793e-8', '8.172441697842299e-19', '-3.517814529238904e-27'), ('8.597231112055771e-8', '-5.500222354248787e-17', '6.793278989864595e-27'), ('6.006670657206636e-8', '-3.7513241650701207e-17', '4.343548241873146e-27'), ('8.255497475083647e-9', '-2.535277867127878e-18', '-5.559132541097519e-28'), ('-8.190285753165749e-8', '7.077317173693089e-17', '-1.33167375212047e-26'), ('6.006670657206636e-8', '-3.7513241650701207e-17', '4.343548241873146e-27'), ('-1.7650107073407707e-8', '1.4953704024658786e-17', '-3.0056440021012008e-27'), ('-5.7019774809123344e-8', '2.909016387953334e-17', '-2.4934734749634973e-27'), ('8.597231112055771e-8', '-5.500222354248787e-17', '6.793278989864595e-27'), ('-4.1860438861834245e-9', '1.8306226061570894e-17', '-5.967545277230353e-27'), ('-8.190285753165749e-8', '7.077317173693089e-17', '-1.33167375212047e-26'), ('-6.946131617039042e-8', '4.9931667808232115e-17', '-7.905105498084099e-27'), ('-3.009164843467478e-8', '3.579520795335756e-17', '-8.417276025221802e-27'), ('-8.190285753165749e-8', '7.077317173693089e-17', '-1.33167375212047e-26'), ('-1.7650107073407707e-8', '1.4953704024658786e-17', '-3.0056440021012008e-27'), ('2.171956066230793e-8', '8.172441697842299e-19', '-3.517814529238904e-27'), ('7.353076975929064e-8', '-3.41607196137891e-17', '1.3816469667439935e-27'), ('6.006670657206636e-8', '-3.7513241650701207e-17', '4.343548241873146e-27'), ('1.2534197885627335e-7', '-6.913868339736243e-17', '6.281108462726891e-27'), ('-3.009164843467478e-8', '3.579520795335756e-17', '-8.417276025221802e-27'), ('7.353076975929064e-8', '-3.41607196137891e-17', '1.3816469667439935e-27'), ('3.4161102023575e-8', '-2.0024259758914543e-17', '1.893817493881697e-27'), ('7.353076975929064e-8', '-3.41607196137891e-17', '1.3816469667439935e-27'), ('-1.7650107073407707e-8', '1.4953704024658786e-17', '-3.0056440021012008e-27'), ('-1.7650107073407707e-8', '1.4953704024658786e-17', '-3.0056440021012008e-27'), ('6.006670657206636e-8', '-3.7513241650701207e-17', '4.343548241873146e-27'), ('-8.190285753165749e-8', '7.077317173693089e-17', '-1.33167375212047e-26'), ('-5.599725298316613e-8', '5.328418984514422e-17', '-1.0867006773213251e-26'), ('-3.009164843467478e-8', '3.579520795335756e-17', '-8.417276025221802e-27'), ('-6.946131617039042e-8', '4.9931667808232115e-17', '-7.905105498084099e-27'), ('-8.190285753165749e-8', '7.077317173693089e-17', '-1.33167375212047e-26'), ('-8.190285753165749e-8', '7.077317173693089e-17', '-1.33167375212047e-26'), ('7.353076975929064e-8', '-3.41607196137891e-17', '1.3816469667439935e-27'), ('-3.009164843467478e-8', '3.579520795335756e-17', '-8.417276025221802e-27'), ('2.171956066230793e-8', '8.172441697842299e-19', '-3.517814529238904e-27'), ('-8.190285753165749e-8', '7.077317173693089e-17', '-1.33167375212047e-26'), ('-3.009164843467478e-8', '3.579520795335756e-17', '-8.417276025221802e-27'), ('6.006670657206636e-8', '-3.7513241650701207e-17', '4.343548241873146e-27'), ('6.006670657206636e-8', '-3.7513241650701207e-17', '4.343548241873146e-27'), ('6.006670657206636e-8', '-3.7513241650701207e-17', '4.343548241873146e-27'), ('4.7625165210799284e-8', '-1.6671737722002434e-17', '-1.0680837812474554e-27'), ('-5.599725298316613e-8', '5.328418984514422e-17', '-1.0867006773213251e-26'), ('-3.009164843467478e-8', '3.579520795335756e-17', '-8.417276025221802e-27'), ('-3.009164843467478e-8', '3.579520795335756e-17', '-8.417276025221802e-27'), ('6.006670657206636e-8', '-3.7513241650701207e-17', '4.343548241873146e-27'), ('2.171956066230793e-8', '8.172441697842299e-19', '-3.517814529238904e-27'), ('-3.009164843467478e-8', '3.579520795335756e-17', '-8.417276025221802e-27'), ('2.171956066230793e-8', '8.172441697842299e-19', '-3.517814529238904e-27'), ('-1.7650107073407707e-8', '1.4953704024658786e-17', '-3.0056440021012008e-27'), ('-3.009164843467478e-8', '3.579520795335756e-17', '-8.417276025221802e-27'), ('2.171956066230793e-8', '8.172441697842299e-19', '-3.517814529238904e-27'), ('4.7625165210799284e-8', '-1.6671737722002434e-17', '-1.0680837812474554e-27'), ('1.2534197885627335e-7', '-6.913868339736243e-17', '6.281108462726891e-27'), ('-1.7650107073407707e-8', '1.4953704024658786e-17', '-3.0056440021012008e-27'), ('-3.009164843467478e-8', '3.579520795335756e-17', '-8.417276025221802e-27'), ('-5.599725298316613e-8', '5.328418984514422e-17', '-1.0867006773213251e-26'), ('7.353076975929064e-8', '-3.41607196137891e-17', '1.3816469667439935e-27'), ('2.171956066230793e-8', '8.172441697842299e-19', '-3.517814529238904e-27'), ('2.171956066230793e-8', '8.172441697842299e-19', '-3.517814529238904e-27'), ('2.171956066230793e-8', '8.172441697842299e-19', '-3.517814529238904e-27'), ('-8.190285753165749e-8', '7.077317173693089e-17', '-1.33167375212047e-26'), ('6.006670657206636e-8', '-3.7513241650701207e-17', '4.343548241873146e-27'), ('1.2534197885627335e-7', '-6.913868339736243e-17', '6.281108462726891e-27'), ('-3.009164843467478e-8', '3.579520795335756e-17', '-8.417276025221802e-27'), ('6.006670657206636e-8', '-3.7513241650701207e-17', '4.343548241873146e-27'), ('6.006670657206636e-8', '-3.7513241650701207e-17', '4.343548241873146e-27'), ('-3.009164843467478e-8', '3.579520795335756e-17', '-8.417276025221802e-27'), ('8.255497475083647e-9', '-2.535277867127878e-18', '-5.559132541097519e-28'), ('6.006670657206636e-8', '-3.7513241650701207e-17', '4.343548241873146e-27'), ('2.171956066230793e-8', '8.172441697842299e-19', '-3.517814529238904e-27'), ('7.353076975929064e-8', '-3.41607196137891e-17', '1.3816469667439935e-27'), ('2.171956066230793e-8', '8.172441697842299e-19', '-3.517814529238904e-27'), ('2.171956066230793e-8', '8.172441697842299e-19', '-3.517814529238904e-27'), ('8.597231112055771e-8', '-5.500222354248787e-17', '6.793278989864595e-27'), ('6.006670657206636e-8', '-3.7513241650701207e-17', '4.343548241873146e-27'), ('-4.355571162189906e-8', '3.244268591644545e-17', '-5.45537475009265e-27'), ('-3.009164843467478e-8', '3.579520795335756e-17', '-8.417276025221802e-27'), ('6.006670657206636e-8', '-3.7513241650701207e-17', '4.343548241873146e-27'), ('-3.009164843467478e-8', '3.579520795335756e-17', '-8.417276025221802e-27'), ('2.171956066230793e-8', '8.172441697842299e-19', '-3.517814529238904e-27'), ('2.171956066230793e-8', '8.172441697842299e-19', '-3.517814529238904e-27'), ('-6.946131617039042e-8', '4.9931667808232115e-17', '-7.905105498084099e-27'), ('8.255497475083647e-9', '-2.535277867127878e-18', '-5.559132541097519e-28'), ('-6.946131617039042e-8', '4.9931667808232115e-17', '-7.905105498084099e-27'), ('-3.009164843467478e-8', '3.579520795335756e-17', '-8.417276025221802e-27'), ('-8.190285753165749e-8', '7.077317173693089e-17', '-1.33167375212047e-26'), ('-3.009164843467478e-8', '3.579520795335756e-17', '-8.417276025221802e-27'), ('-8.190285753165749e-8', '7.077317173693089e-17', '-1.33167375212047e-26'), ('6.006670657206636e-8', '-3.7513241650701207e-17', '4.343548241873146e-27'), ('8.255497475083647e-9', '-2.535277867127878e-18', '-5.559132541097519e-28'), ('2.171956066230793e-8', '8.172441697842299e-19', '-3.517814529238904e-27'), ('6.006670657206636e-8', '-3.7513241650701207e-17', '4.343548241873146e-27'), ('6.006670657206636e-8', '-3.7513241650701207e-17', '4.343548241873146e-27'), ('-5.599725298316613e-8', '5.328418984514422e-17', '-1.0867006773213251e-26'), ('2.171956066230793e-8', '8.172441697842299e-19', '-3.517814529238904e-27'), ('6.006670657206636e-8', '-3.7513241650701207e-17', '4.343548241873146e-27'), ('6.006670657206636e-8', '-3.7513241650701207e-17', '4.343548241873146e-27'), ('-6.946131617039042e-8', '4.9931667808232115e-17', '-7.905105498084099e-27'), ('-3.009164843467478e-8', '3.579520795335756e-17', '-8.417276025221802e-27')]\n",
      "[('-1.6609236959620388e-7',), ('-2.3147512605636756e-8',), ('-1.6609236959620388e-7',), ('-1.6609236959620388e-7',), ('-1.6609236959620388e-7',), ('-1.6609236959620388e-7',), ('-1.6609236959620388e-7',), ('1.4919781119025298e-7',), ('-1.6609236959620388e-7',), ('-1.6609236959620388e-7',), ('-1.6609236959620388e-7',), ('-9.461994110092032e-8',), ('1.8493402543789477e-7',), ('-1.6609236959620388e-7',), ('-2.3147512605636756e-8',), ('-1.6609236959620388e-7',), ('-1.6609236959620388e-7',), ('1.4919781119025298e-7',), ('2.921426681808201e-7',), ('1.8493402543789477e-7',), ('-2.3147512605636756e-8',), ('-1.6609236959620388e-7',), ('-1.6609236959620388e-7',), ('-5.8883726853278536e-8',), ('-1.6609236959620388e-7',), ('-1.6609236959620388e-7',), ('-1.6609236959620388e-7',), ('1.1346159694261121e-7',), ('-1.303561553485621e-7',), ('-1.6609236959620388e-7',), ('-1.6609236959620388e-7',), ('-2.3147512605636756e-8',), ('-1.6609236959620388e-7',), ('8.406113013728858e-8',), ('-1.6609236959620388e-7',), ('3.278788824284619e-7',), ('2.564064539331783e-7',), ('2.2067023968553656e-7',), ('-2.3147512605636756e-8',), ('3.9935131092374547e-7',), ('-1.6609236959620388e-7',), ('-2.3147512605636756e-8',), ('-1.6609236959620388e-7',), ('1.1346159694261121e-7',), ('1.8493402543789477e-7',), ('-5.8883726853278536e-8',), ('4.8324915889646805e-8',), ('-1.6609236959620388e-7',), ('8.406113013728858e-8',), ('-1.6609236959620388e-7',), ('-1.6609236959620388e-7',), ('-1.6609236959620388e-7',), ('2.564064539331783e-7',), ('-1.6609236959620388e-7',), ('2.2067023968553656e-7',), ('-1.6609236959620388e-7',), ('-1.6609236959620388e-7',), ('1.2588701642005024e-8',), ('-1.6609236959620388e-7',), ('-1.6609236959620388e-7',), ('1.1979734438493037e-7',), ('3.278788824284619e-7',), ('8.406113013728858e-8',), ('3.636150966761037e-7',), ('-1.6609236959620388e-7',), ('2.921426681808201e-7',), ('-1.6609236959620388e-7',), ('1.2588701642005024e-8',), ('2.2067023968553656e-7',), ('-1.6609236959620388e-7',), ('-2.3147512605636756e-8',), ('-1.6609236959620388e-7',), ('-1.6609236959620388e-7',), ('-1.6609236959620388e-7',), ('-2.3147512605636756e-8',), ('-1.6609236959620388e-7',), ('1.2588701642005024e-8',), ('1.8493402543789477e-7',), ('3.636150966761037e-7',), ('-2.3147512605636756e-8',), ('-1.6609236959620388e-7',), ('2.564064539331783e-7',), ('-5.8883726853278536e-8',), ('-1.6609236959620388e-7',), ('2.564064539331783e-7',), ('1.4919781119025298e-7',), ('-1.6609236959620388e-7',), ('-1.303561553485621e-7',), ('-1.6609236959620388e-7',), ('-1.6609236959620388e-7',), ('-1.6609236959620388e-7',), ('-2.3147512605636756e-8',), ('-1.6609236959620388e-7',), ('-1.6609236959620388e-7',), ('-2.6696526489681004e-7',), ('-1.6609236959620388e-7',), ('-1.6609236959620388e-7',), ('-1.6609236959620388e-7',), ('2.564064539331783e-7',), ('-9.461994110092032e-8',)]\n",
      "[('4.6544839416812846e-8',)]\n"
     ]
    }
   ],
   "source": [
    "Y='y'\n",
    "T='treatment'\n",
    "table = 'test_data_small'\n",
    "features = ['x1', 'x2']\n",
    "X_fordml = '+'.join(features)\n",
    "W='x7_needcut'\n",
    "model = LinearDML(Y=Y,T=T,X=X_fordml,W=W, model_y=\"ols\", model_t=\"ols\", cv=2, table=table, treatment_featurizer=PolynomialFeatures('rand()', 3))\n",
    "print('\\n----summary----')\n",
    "print(model.summary())\n",
    "print(model.effect(T0=0.1, T1=0.2))\n",
    "print(model.const_marginal_effect())\n",
    "print(model.marginal_effect())\n",
    "print(model.marginal_ate())"
   ]
  },
  {
   "cell_type": "markdown",
   "id": "4fa7b74b-cb58-4562-a98e-cbed9b540687",
   "metadata": {},
   "source": [
    "#### NonparamDML"
   ]
  },
  {
   "cell_type": "code",
   "execution_count": 23,
   "id": "0e35771f-1aec-4c56-8d7b-53f4ba1d5159",
   "metadata": {},
   "outputs": [
    {
     "name": "stdout",
     "output_type": "stream",
     "text": [
      "\n",
      "----summary----\n",
      "\t\tCoefficient Results\n",
      "\t\tEstimate    Std. Error\tt value\t    Pr(>|t|)\n",
      "x0\t\t-30.48435   18.713887   -1.628969   0.10332     \n",
      "x1\t\t-182.901006 79.747432   -2.293503   0.021819    \n",
      "\n",
      "\t\tCATE Intercept Results\n",
      "\t\tEstimate    Std. Error\tt value\t    Pr(>|t|)\n",
      "cate_intercept\t345.938966  160.553836  2.15466     0.031189    \n",
      "\n"
     ]
    }
   ],
   "source": [
    "\n",
    "from fast_causal_inference.lib.linear_dml import NonParamDML\n",
    "\n",
    "Y='y'\n",
    "T='treatment'\n",
    "table = 'test_data_small'\n",
    "features = ['x1', 'x2']\n",
    "X_fordml = '+'.join(features)\n",
    "W='x7_needcut'\n",
    "\n",
    "model = NonParamDML(table=table, Y=Y,T=T,X=X_fordml, model_y='Ols', model_t='Ols', cv=2)\n",
    "print('\\n----summary----')\n",
    "print(model.summary())"
   ]
  },
  {
   "cell_type": "markdown",
   "id": "7f690bc1-8726-4554-9d8a-1d2ef208fc80",
   "metadata": {},
   "source": [
    "### Uplift模型评估"
   ]
  },
  {
   "cell_type": "markdown",
   "id": "1db6cac3-3741-4009-9630-9fda254b45f4",
   "metadata": {},
   "source": [
    "这里是对比了用causaltree 不同深度的模型，在预测集上的uplift curve"
   ]
  },
  {
   "cell_type": "code",
   "execution_count": 24,
   "id": "0ff7cf0d",
   "metadata": {},
   "outputs": [
    {
     "name": "stdout",
     "output_type": "stream",
     "text": [
      "    ratio          lift        gain        ate  ramdom_gain\n",
      "0    0.01 -13298.019217 -132.980192 -89.937528    -0.899375\n",
      "1    0.02  -9545.674994 -190.913500 -89.937528    -1.798751\n",
      "2    0.03  -1113.252833  -33.397585 -89.937528    -2.698126\n",
      "3    0.04    -84.997220   -3.399889 -89.937528    -3.597501\n",
      "4    0.05    220.251901   11.012595 -89.937528    -4.496876\n",
      "..    ...           ...         ...        ...          ...\n",
      "95   0.96     -6.824571   -6.551589 -89.937528   -86.340027\n",
      "96   0.97     -3.347612   -3.247183 -89.937528   -87.239403\n",
      "97   0.98     -2.181735   -2.138100 -89.937528   -88.138778\n",
      "98   0.99     -5.886501   -5.827636 -89.937528   -89.038153\n",
      "99   1.00    -89.937528  -89.937528 -89.937528   -89.937528\n",
      "\n",
      "[100 rows x 5 columns]\n",
      "    ratio         lift       gain        ate  ramdom_gain\n",
      "0    0.01 -1511.789203 -15.117892 -89.937528    -0.899375\n",
      "1    0.02   -74.741240  -1.494825 -89.937528    -1.798751\n",
      "2    0.03    69.608643   2.088259 -89.937528    -2.698126\n",
      "3    0.04   122.027516   4.881101 -89.937528    -3.597501\n",
      "4    0.05   137.600214   6.880011 -89.937528    -4.496876\n",
      "..    ...          ...        ...        ...          ...\n",
      "95   0.96     4.589257   4.405687 -89.937528   -86.340027\n",
      "96   0.97     9.683380   9.392879 -89.937528   -87.239403\n",
      "97   0.98    14.004214  13.724130 -89.937528   -88.138778\n",
      "98   0.99    14.521856  14.376638 -89.937528   -89.038153\n",
      "99   1.00   -89.937528 -89.937528 -89.937528   -89.937528\n",
      "\n",
      "[100 rows x 5 columns]\n"
     ]
    },
    {
     "data": {
      "image/png": "[encoded data removed]",
      "text/plain": [
       "<Figure size 864x345.6 with 2 Axes>"
      ]
     },
     "metadata": {
      "needs_background": "light"
     },
     "output_type": "display_data"
    }
   ],
   "source": [
    "from fast_causal_inference.lib.metrics import *\n",
    "tmp1 = get_lift_gain(\"effect\", \"y\", \"treatment\", \"test_table_small_causaltree_dep3\",discrete_treatment=False, K=100)\n",
    "tmp1.summary()\n",
    "tmp2 = get_lift_gain(\"effect\", \"y\", \"treatment\", \"test_table_small_causaltree_dep2\",discrete_treatment=False, K=100)\n",
    "tmp2.summary()\n",
    "hte_plot([tmp1, tmp2])"
   ]
  },
  {
   "cell_type": "markdown",
   "source": [],
   "metadata": {
    "collapsed": false
   }
  }
 ],
 "metadata": {
  "kernelspec": {
   "display_name": "Python 3.6",
   "language": "python",
   "name": "python3.6"
  },
  "language_info": {
   "codemirror_mode": {
    "name": "ipython",
    "version": 3
   },
   "file_extension": ".py",
   "mimetype": "text/x-python",
   "name": "python",
   "nbconvert_exporter": "python",
   "pygments_lexer": "ipython3",
   "version": "3.6.8"
  }
 },
 "nbformat": 4,
 "nbformat_minor": 5
}
