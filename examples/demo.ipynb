{
 "cells": [
  {
   "cell_type": "markdown",
   "id": "b4c049a0-885f-41f3-9cba-a42917635da0",
   "metadata": {},
   "source": [
    "\n",
    "\n",
    "# Fast Causal inference\n",
    "\n",
    "Fast Causal Inference is Tencent's first open-source causal inference project. It is an OLAP-based high-performance causal inference (statistical model) computing library, which solves the performance bottleneck of existing statistical model libraries (R/Python) under big data, and provides causal inference capabilities for massive data execution in seconds and sub-seconds. At the same time, the threshold for using statistical models is lowered through the SQL language, making it easy to use in production environments. At present, it has supported the causal analysis of WeChat-Search, WeChat-Video-Account and other businesses, greatly improving the work efficiency of data scientists.\n",
    "![Example Image](https://github.com/Tencent/fast-causal-inference/raw/main/docs/images/fast-causal-inference3.png)\n"
   ]
  },
  {
   "cell_type": "markdown",
   "id": "1a303640-afd2-46c4-ad50-9d9036d6c57e",
   "metadata": {
    "tags": []
   },
   "source": [
    "# Get started"
   ]
  },
  {
   "cell_type": "code",
   "execution_count": 1,
   "id": "73fb08a2-9751-43d0-84cb-ff82e87b0dab",
   "metadata": {},
   "outputs": [],
   "source": [
    "import time\n",
    "import pandas as pd"
   ]
  },
  {
   "cell_type": "code",
   "execution_count": 2,
   "id": "6279fa4d",
   "metadata": {
    "tags": []
   },
   "outputs": [],
   "source": [
    "import fast_causal_inference\n",
    "ais = fast_causal_inference.FCIProvider('all_in_sql')\n",
    "df = ais.readClickHouse('test_data_small')"
   ]
  },
  {
   "cell_type": "code",
   "execution_count": 3,
   "id": "43c829be-2ee3-4d0a-a0cc-e20c0595109d",
   "metadata": {},
   "outputs": [
    {
     "name": "stdout",
     "output_type": "stream",
     "text": [
      "                                       id           x1            x2           x3          x4           x5 x_long_tail1 x_long_tail2 x_cat1  \\\n",
      "0    12c39867-38a1-4c77-9827-94b7adf1dbc8   .943108987  -5.162511593  1.006670604  .500232002  3.853385719   .236077207   .188170373      B   \n",
      "1    12c39867-38a1-4c77-9827-94b7adf1dbc8   .943108987  -5.162511593  1.006670604  .500232002  3.853385719   .236077207   .188170373      B   \n",
      "2    12c39867-38a1-4c77-9827-94b7adf1dbc8   .943108987  -5.162511593  1.006670604  .500232002  3.853385719   .236077207   .188170373      B   \n",
      "3    12c39867-38a1-4c77-9827-94b7adf1dbc8   .943108987  -5.162511593  1.006670604  .500232002  3.853385719   .236077207   .188170373      B   \n",
      "4    12c39867-38a1-4c77-9827-94b7adf1dbc8   .943108987  -5.162511593  1.006670604  .500232002  3.853385719   .236077207   .188170373      B   \n",
      "..                                    ...          ...           ...          ...         ...          ...          ...          ...    ...   \n",
      "195  40be5d63-b35e-44bf-9a42-dc2901515ef4  -.585337234  -4.239812741  1.015075672  .946810202  4.572546744  1.621324005   .164255327      C   \n",
      "196  40be5d63-b35e-44bf-9a42-dc2901515ef4  -.585337234  -4.239812741  1.015075672  .946810202  4.572546744  1.621324005   .164255327      C   \n",
      "197  40be5d63-b35e-44bf-9a42-dc2901515ef4  -.585337234  -4.239812741  1.015075672  .946810202  4.572546744  1.621324005   .164255327      C   \n",
      "198  40be5d63-b35e-44bf-9a42-dc2901515ef4  -.585337234  -4.239812741  1.015075672  .946810202  4.572546744  1.621324005   .164255327      C   \n",
      "199  40be5d63-b35e-44bf-9a42-dc2901515ef4  -.585337234  -4.239812741  1.015075672  .946810202  4.572546744  1.621324005   .164255327      C   \n",
      "\n",
      "    treatment t_ob              y         y_ob numerator_pre      numerator denominator_pre denominator      weight        day_  \n",
      "0           0    1  -13.296273502  2.958009477  -7.070275004  -13.296273502               9          10  .933403739  2023-11-03  \n",
      "1           0    1  -13.296273502  2.958009477  -7.070275004  -13.296273502               9          10  .933403739  2023-11-03  \n",
      "2           0    1  -13.296273502  2.958009477  -7.070275004  -13.296273502               9          10  .933403739  2023-11-03  \n",
      "3           0    1  -13.296273502  2.958009477  -7.070275004  -13.296273502               9          10  .933403739  2023-11-03  \n",
      "4           0    1  -13.296273502  2.958009477  -7.070275004  -13.296273502               9          10  .933403739  2023-11-03  \n",
      "..        ...  ...            ...          ...           ...            ...             ...         ...         ...         ...  \n",
      "195         0    0     -8.2355638  2.449858352  -6.123673332     -8.2355638              10           9  .942109488  2023-11-03  \n",
      "196         0    0     -8.2355638  2.449858352  -6.123673332     -8.2355638              10           9  .942109488  2023-11-03  \n",
      "197         0    0     -8.2355638  2.449858352  -6.123673332     -8.2355638              10           9  .942109488  2023-11-03  \n",
      "198         0    0     -8.2355638  2.449858352  -6.123673332     -8.2355638              10           9  .942109488  2023-11-03  \n",
      "199         0    0     -8.2355638  2.449858352  -6.123673332     -8.2355638              10           9  .942109488  2023-11-03  \n",
      "\n",
      "[200 rows x 19 columns]\n"
     ]
    }
   ],
   "source": [
    "df.show()"
   ]
  },
  {
   "cell_type": "markdown",
   "id": "c5f77e99-6844-42df-ab0c-c89fa83d6e0c",
   "metadata": {},
   "source": [
    "# know your data"
   ]
  },
  {
   "cell_type": "markdown",
   "id": "eee2dc3b-7ed2-431d-9878-22968ad72149",
   "metadata": {},
   "source": [
    "### test data generation"
   ]
  },
  {
   "cell_type": "code",
   "execution_count": null,
   "id": "0aad3a91-3874-4025-a1d0-8ca45586f6b6",
   "metadata": {
    "tags": []
   },
   "outputs": [],
   "source": [
    "import numpy as np\n",
    "import pandas as pd\n",
    "import random\n",
    "# Set random seed for reproducibility\n",
    "np.random.seed(0)\n",
    "n = 10000\n",
    "\n",
    "################################## generate covariables #############################################\n",
    "# Generate x1-x5, they come from different distributions and have different variances\n",
    "x1 = np.random.normal(0, 1, n) # Normal distribution, variance is 1\n",
    "x2 = np.random.normal(0, 2, n)  # Normal distribution, variance is 4\n",
    "x3 = np.random.exponential(1, n)  # Exponential distribution, variance is 1\n",
    "x4 = np.random.exponential(2, n)  # Exponential distribution, variance is 4\n",
    "x5 = np.random.uniform(0, 5, n)  # Uniform distribution, variance is approximately 1.33\n",
    "weight = np.random.uniform(0, 1, n) # use for sample reweighing\n",
    "\n",
    "# Generate x6-x7, they are long-tail distributed data\n",
    "x_long_tail1 = np.random.pareto(3, n)  # Pareto distribution\n",
    "x_long_tail2 = np.random.pareto(2, n)  # Pareto distribution\n",
    "\n",
    "# Generate x_cat1, it is a discrete variable of string type\n",
    "x_cat1 = np.random.choice(['A', 'B', 'C', 'D', 'E'], n)\n",
    "###################################################################################################### \n",
    "\n",
    "\n",
    "\n",
    "################################## generate exprimental data ######################################### \n",
    "# Generate treatment, it is a binary random variable\n",
    "treatment = np.random.choice([0, 1], n)\n",
    "\n",
    "\n",
    "# Generate y \n",
    "# y is highly correlated with x1, x2, x3,x_long_tail2 and treatment\n",
    "# and there is heterogeneity on x_cat1 and x1,x2,x4\n",
    "y_pre = x1 + 2*x2 + 3*x3 + 3*np.log(x_long_tail2+1) + np.random.normal(0, 1, n)\n",
    "y = y_pre + 5*treatment + treatment*(x1+x2**2+np.log(x4+1)+(x_long_tail1>1))*2 + np.random.normal(0, 2, n)\n",
    "y[x_cat1 == 'A'] += 3\n",
    "y[x_cat1 == 'B'] -= 2\n",
    "\n",
    "# Generate ratio metric: numerator/denominator, for example click/show\n",
    "numerator_pre = y_pre \n",
    "numerator = y \n",
    "denominator_pre = x1 + 2*x5 + 3*np.log(x_long_tail1+1) + np.random.normal(0, 1, n)\n",
    "denominator = denominator_pre + 2*treatment + treatment*(x1)*2 + np.random.normal(0, 2, n)\n",
    "###################################################################################################### \n",
    "\n",
    "\n",
    "################################## generate observational data ####################################### \n",
    "# use x1,x2,x3 before\n",
    "# Generate linear combination for t_ob\n",
    "linear_combination_t = 1*x1 + 0.2*x2 + 0.5 * x3 + 0.1 * np.random.normal(0, 1, n)\n",
    "\n",
    "# Convert the linear combination into a probability using the logistic function\n",
    "prob_t = 1 / (1 + np.exp(-linear_combination_t))\n",
    "\n",
    "# Generate binary variable t based on the probability\n",
    "t_ob = np.random.binomial(1, prob_t)\n",
    "\n",
    "# Generate linear combination for y\n",
    "linear_combination_y = 0.5 * x1 - 0.25 * x2 + 0.1 * x3 + 0.5 * t_ob + 0.1 * np.random.normal(0, 1, n)\n",
    "\n",
    "# Generate target variable y\n",
    "y_ob = linear_combination_y + np.random.normal(0, 1, n)\n",
    "###################################################################################################### \n",
    "\n",
    "\n",
    "\n",
    "# get DataFrame\n",
    "df = pd.DataFrame({\n",
    "    'x1': x1,\n",
    "    'x2': x2,\n",
    "    'x3': x3,\n",
    "    'x4': x4,\n",
    "    'x5': x5,\n",
    "    'x_long_tail1': x_long_tail1,\n",
    "    'x_long_tail2': x_long_tail2,\n",
    "    'x_cat1': x_cat1,\n",
    "    'treatment': treatment,\n",
    "    't_ob':t_ob,\n",
    "    'y': y,\n",
    "    'y_ob': y_ob,\n",
    "    'numerator_pre':numerator_pre,\n",
    "    'numerator':numerator,\n",
    "    'denominator_pre':denominator_pre,\n",
    "    'denominator':denominator,\n",
    "    'weight' : weight\n",
    "})\n",
    "\n",
    "\n",
    "# show data \n",
    "print(df.head())"
   ]
  },
  {
   "cell_type": "markdown",
   "id": "ca6f3e29-ad4e-4318-a054-cb1c8fc3e716",
   "metadata": {},
   "source": [
    "Covariables\n",
    "\n",
    "- `x1`: This variable follows a normal distribution with a mean of 0 and a variance of 1.\n",
    "- `x2`: This variable also follows a normal distribution, but with a mean of 0 and a larger variance of 4.\n",
    "- `x3`: This variable is generated from an exponential distribution with a rate parameter of 1, resulting in a variance of 1.\n",
    "- `x4`: Similar to `x3`, this variable is generated from an exponential distribution, but with a larger rate parameter of 2, resulting in a variance of 4.\n",
    "- `x5`: This variable is generated from a uniform distribution between 0 and 5, with an approximate variance of 1.33.\n",
    "- `weight`: This variable is generated from a uniform distribution between 0 and 1 and can be used for sample reweighing.\n",
    "- `x_long_tail1`: This variable follows a Pareto distribution with a shape parameter of 3, representing a long-tailed distribution.\n",
    "- `x_long_tail2`: Similarly, this variable follows a Pareto distribution with a shape parameter of 2.\n",
    "- `x_cat1`: This variable is a discrete variable of string type, randomly chosen from the categories 'A', 'B', 'C', 'D', and 'E'.\n",
    "\n",
    "Experimental data\n",
    "- `treatment`: This variable represents the treatment assignment and is a binary random variable.\n",
    "\n",
    "- `y`: The target variable `y` is highly correlated with `x1`, `x2`, `x3`, `x_long_tail2`, and `treatment`. There is also heterogeneity in the relationship with `x_cat1` and `x1`, `x2`, `x4`. It is generated by adding `y_pre` with treatment effects, interaction terms, and random noise.\n",
    "\n",
    "- `numerator_pre`: This variable is a precursor to the numerator of a ratio metric and is highly correlated with `y_pre`.\n",
    "\n",
    "- `numerator`: The numerator of the ratio metric is derived from `numerator_pre` and is highly correlated with `y`.\n",
    "\n",
    "- `denominator_pre`: This variable is a precursor to the denominator of a ratio metric and is generated based on `x1`, `x5`, and `x_long_tail1`.\n",
    "\n",
    "- `denominator`: The denominator of the ratio metric is derived from `denominator_pre` and is influenced by treatment effects, interaction terms with `x1`, and random noise.\n",
    "\n",
    "Observational data \n",
    "- `t_ob`: This binary variable is generated based on a linear combination of `x1`, `x2`, and `x3`. The linear combination is converted into a probability using the logistic function, and `t_ob` is generated by sampling from a binomial distribution with the probability.\n",
    "\n",
    "- `y_ob`: The target variable `y_ob` is generated based on a linear combination of `x1`, `x2`, `x3`, and `t_ob`, along with random noise. It represents the outcome variable in the observational data.\n"
   ]
  },
  {
   "cell_type": "markdown",
   "id": "2bb5bda7-d6b8-44cb-a3e8-27cadcc3c43c",
   "metadata": {},
   "source": [
    "### data description"
   ]
  },
  {
   "cell_type": "code",
   "execution_count": null,
   "id": "e20e8a39-69d2-4a5c-8c6f-b66e075d5fcc",
   "metadata": {},
   "outputs": [],
   "source": [
    "df = ais.readClickHouse('test_data_small')\n",
    "df.dtypes"
   ]
  },
  {
   "cell_type": "code",
   "execution_count": null,
   "id": "50e0a121-a978-45b8-bd0a-dca42ee1cb76",
   "metadata": {},
   "outputs": [],
   "source": [
    "df.head(2)"
   ]
  },
  {
   "cell_type": "code",
   "execution_count": null,
   "id": "66739f01-aea3-4a63-9778-f8017c4785f6",
   "metadata": {},
   "outputs": [],
   "source": [
    "# data descirption\n",
    "df.describe('*')"
   ]
  },
  {
   "cell_type": "markdown",
   "id": "67aecdae-ef4d-4842-bb7f-45a0a320ff48",
   "metadata": {},
   "source": [
    "#### histplot"
   ]
  },
  {
   "cell_type": "code",
   "execution_count": null,
   "id": "f1a3a444-cf80-40eb-a671-e29681fb89dd",
   "metadata": {},
   "outputs": [],
   "source": [
    "# histplot\n",
    "\n",
    "from fast_causal_inference.lib.tools import *\n",
    "col = 'x1'\n",
    "histplot('test_data_small',col,bin_num=50)\n",
    "\n",
    "col = 'x_cat1'\n",
    "histplot('test_data_small',col,bin_num=50)"
   ]
  },
  {
   "cell_type": "markdown",
   "id": "ab5aae90-e327-44d4-ad2b-8873dbaf45c9",
   "metadata": {},
   "source": [
    "#### boxplot"
   ]
  },
  {
   "cell_type": "code",
   "execution_count": null,
   "id": "774f495c-10a2-46e8-91e6-ee06647c5017",
   "metadata": {},
   "outputs": [],
   "source": [
    "# boxplot\n",
    "\n",
    "from fast_causal_inference.lib.tools import *\n",
    "\n",
    "col = 'x_long_tail1'\n",
    "boxplot('test_data_small',col)"
   ]
  },
  {
   "cell_type": "markdown",
   "id": "e01fd229-ffed-4b93-a6a9-0c17ac54835e",
   "metadata": {},
   "source": [
    "# AB experiment Analysis"
   ]
  },
  {
   "cell_type": "markdown",
   "id": "8058363b-5e71-48dc-ab22-cd51d85e8c8c",
   "metadata": {},
   "source": [
    "### ttest"
   ]
  },
  {
   "cell_type": "markdown",
   "id": "af779c9a-822b-44f2-be2f-bf242eb5e792",
   "metadata": {},
   "source": [
    "- In A/B test analysis, **t-test** is widely used to test whether the average of treatment variant is statistically significantly different from the average of the control variant. However, the mean and variance formula only applied to i.i.d (independent and identically distributed) random variables, and in real business cases our metrics are more complex. Mostly, business metrics are defined as ratios, for example, Clickthrough rate or CTR which is defined as Clicks/Views. Here, we will *utilize the delta method to approximate the variance of the metrics ratio*.\n",
    "$$t=\\frac{\\bar X_B-\\bar X_A}{\\sqrt{Var(\\bar X_A)+Var(\\bar X_B)}}$$\n",
    "\n",
    "$$Var(\\bar X)=\\frac{1}{n}\\frac{1}{n-1}\\sum_{i=1}^n (X_i-\\bar X)^2 $$\n",
    "- **Delta method** extends the normal approximations of the central limit theorem. Delta method approximates asymptotically normal random variables by applying the Taylor series on the function of random variables. We can estimate the variance of x/y as follows:\n",
    "$$v=(1/y,-x/y^2)|_{x=\\bar x, y=\\bar y )}$$\n",
    "\n",
    "$$\\mathop{{M}}\\nolimits_{{2 \\times 2}}=\\frac{1}{n}{ \\left[ {\\begin{array}{*{20}{c}}\n",
    "{var(x)}&{cov(x,y)}\\\\\n",
    "{cov(x,y)}&{var(y)}\\\\\n",
    "\\end{array}} \\right] }={ \\left[ {\\mathop{{m}}\\nolimits_{{ij}}} \\right] }  $$\n",
    "\n",
    "$$var(x/y)=v*\\mathop{{M}}\\nolimits_{{2 \\times 2}}*v$$"
   ]
  },
  {
   "cell_type": "markdown",
   "id": "af99a160-627e-4f2e-959d-dc1d5f2931c8",
   "metadata": {},
   "source": [
    "- <font size=\"4\">case1: use deltamethod to do t-test</font>"
   ]
  },
  {
   "cell_type": "code",
   "execution_count": null,
   "id": "a2d066d0-9dd5-4bc3-a62d-21d504e941e8",
   "metadata": {},
   "outputs": [],
   "source": [
    "df.ttest_2samp('avg(numerator)/avg(denominator)','treatment','two-sided')"
   ]
  },
  {
   "cell_type": "markdown",
   "id": "782e1391-90e8-4272-9fd7-efb0e10e68e8",
   "metadata": {},
   "source": [
    "- <font size=\"4\">case2: use deltamethod to do t-test and **CUPED** to reduce variance</font>  \n",
    "\n",
    "\n",
    "    - We offer a feature in ttest_2samp that utilizes [CUPED (Controlled-experiment Using Pre-Experiment Data)](https://ai.stanford.edu/~ronnyk/2013-02CUPEDImprovingSensitivityOfControlledExperiments.pdf) This technique adjusts metrics using pre-experiment data from both control and treatment groups, aiming to decrease metric variability.\n",
    "    - To further reduce variance, you can combine multiple metrics using the '+' operator.\n",
    "    - Additionally, ttest_2samp allows you to perform a t-test grouped by any dimensions of your choice."
   ]
  },
  {
   "cell_type": "code",
   "execution_count": null,
   "id": "196c6c8c-4d0c-4ee7-8fa3-88e51272b596",
   "metadata": {},
   "outputs": [],
   "source": [
    "df.ttest_2samp('avg(numerator)/avg(denominator)','treatment','two-sided',X='avg(numerator_pre)/avg(denominator_pre)+avg(x1)')"
   ]
  },
  {
   "cell_type": "code",
   "execution_count": null,
   "id": "1ee6c590-4286-43ce-ae35-d46ba1945498",
   "metadata": {},
   "outputs": [],
   "source": [
    "df.groupBy('x_cat1').ttest_2samp('avg(numerator)/avg(denominator)','treatment','two-sided',X='avg(numerator_pre)/avg(denominator_pre)')"
   ]
  },
  {
   "cell_type": "markdown",
   "id": "a372f881-39e5-4b31-a133-a4699f7081e6",
   "metadata": {},
   "source": [
    "- <font size=\"4\">case3: ttest_1samp </font>  \n",
    "    - ttest_1samp can be used in pair test.\n"
   ]
  },
  {
   "cell_type": "code",
   "execution_count": null,
   "id": "aca383d6-476a-4058-ae3e-1e18b599374a",
   "metadata": {},
   "outputs": [],
   "source": [
    "df.ttest_1samp('avg(numerator)/avg(denominator)','two-sided')"
   ]
  },
  {
   "cell_type": "markdown",
   "id": "4ec2c219-bb55-42c5-95c3-8ad0e2477236",
   "metadata": {},
   "source": [
    "### MWU test"
   ]
  },
  {
   "cell_type": "markdown",
   "id": "bc609f8a-24e5-4106-a5cd-81cd6440467e",
   "metadata": {},
   "source": [
    "The [Mann–Whitney U test](https://en.wikipedia.org/wiki/Mann%E2%80%93Whitney_U_test) is a nonparametric test of the null hypothesis that, for randomly selected values X and Y from two populations, the probability of X being greater than Y is equal to the probability of Y being greater than X."
   ]
  },
  {
   "cell_type": "code",
   "execution_count": null,
   "id": "f2560909-59f1-4244-a282-da8703b86bb5",
   "metadata": {},
   "outputs": [],
   "source": [
    "df.mann_whitney_utest('numerator', 'treatment')"
   ]
  },
  {
   "cell_type": "markdown",
   "id": "ab336479-8dca-4b22-b1fa-66a4d3c15130",
   "metadata": {
    "tags": []
   },
   "source": [
    "### SRM"
   ]
  },
  {
   "cell_type": "markdown",
   "id": "7cf25177-a5ed-4f54-8d0e-2ad1be3b02a3",
   "metadata": {},
   "source": [
    "**SRM (Sample ratio mismatch)** is an experimental flaw where the expected traffic allocation doesn’t fit with the observed visitor number for each testing variation. We do this using the chi-squared test of independence."
   ]
  },
  {
   "cell_type": "code",
   "execution_count": null,
   "id": "557bef2a-d380-4a5f-b7fc-c4523224b55d",
   "metadata": {},
   "outputs": [],
   "source": [
    "df.srm('numerator', 'treatment', [1,1])"
   ]
  },
  {
   "cell_type": "markdown",
   "id": "9c5a57cf-c74d-48b2-9390-ffbeaaa634e4",
   "metadata": {},
   "source": [
    "# Regression-based model"
   ]
  },
  {
   "cell_type": "markdown",
   "id": "d373bd1f-1926-439a-b57b-ff9ccea2aaab",
   "metadata": {},
   "source": [
    "### Linear regression"
   ]
  },
  {
   "cell_type": "markdown",
   "id": "6b36b6e3-fd2d-47b3-89cb-5b46c18dfac9",
   "metadata": {},
   "source": [
    "In statistics, [linear regression](https://en.wikipedia.org/wiki/Linear_regression) is a linear approach for modelling the relationship between a scalar response and one or more explanatory variables (also known as dependent and independent variables). The case of one explanatory variable is called simple linear regression. Written in matrix notation as:\n",
    "$$y=X\\beta+\\epsilon$$"
   ]
  },
  {
   "cell_type": "markdown",
   "id": "f603ba67-8f00-43a7-8296-c058ab8405eb",
   "metadata": {
    "tags": []
   },
   "source": [
    "#### OLS"
   ]
  },
  {
   "cell_type": "markdown",
   "id": "f31ceb56-9228-4044-8e24-6cb02387951b",
   "metadata": {},
   "source": [
    "In statistics, [ordinary least squares (OLS)](https://en.wikipedia.org/wiki/Ordinary_least_squares) is a type of linear least squares method for choosing the unknown parameters in a linear regression model (with fixed level-one effects of a linear function of a set of explanatory variables) by the principle of least squares: minimizing the sum of the squares of the differences between the observed dependent variable (values of the variable being observed) in the input dataset and the output of the (linear) function of the independent variable.\n",
    "$$S(\\boldsymbol{\\beta}) = \\sum_{i=1}^n \\left| y_i - \\sum_{j=1}^p X_{ij}\\beta_j\\right|^2 = \\left\\|\\mathbf y - \\mathbf{X} \\boldsymbol \\beta \\right\\|^2.$$\n",
    "We can leverage **matrix multiplication** to compute Ordinary Least Squares (OLS), which is highly efficient in the OLAP engine we are using.\n",
    "$$\\hat{\\boldsymbol{\\beta}} = \\left( \\mathbf{X}^{\\operatorname{T}} \\mathbf{X} \\right)^{-1} \\mathbf{X}^{\\operatorname{T}} \\mathbf y.$$\n"
   ]
  },
  {
   "cell_type": "code",
   "execution_count": null,
   "id": "59f50a78-6298-4bc3-8732-562392a402f3",
   "metadata": {},
   "outputs": [],
   "source": [
    "# ols\n",
    "df.ols('y~x1+x2+x3+weight', use_bias=True).show()"
   ]
  },
  {
   "cell_type": "code",
   "execution_count": null,
   "id": "385d8412-d83d-457f-99e5-c3d693da4164",
   "metadata": {},
   "outputs": [],
   "source": [
    "import fast_causal_inference.dataframe.regression as Regression\n",
    "table = 'test_data_small'\n",
    "df = fast_causal_inference.readClickHouse(table)\n",
    "model = Regression.Ols(True)\n",
    "model.fit('y~x1+x2+t_ob', df)\n",
    "model.summary()\n",
    "effect_df = model.effect('x1+x2+x3', df)\n",
    "effect_df.show()"
   ]
  },
  {
   "cell_type": "markdown",
   "id": "7fa4d3ac-bc9b-4f2f-b610-2a96f46fbaa6",
   "metadata": {},
   "source": [
    "#### WLS"
   ]
  },
  {
   "cell_type": "markdown",
   "id": "52063db6-fce9-4794-bfd0-2b7a4986ea45",
   "metadata": {},
   "source": [
    "[Weighted least squares (WLS)](https://en.wikipedia.org/wiki/Weighted_least_squares), also known as weighted linear regression,[1][2] is a generalization of ordinary least squares and linear regression in which knowledge of the unequal variance of observations (heteroscedasticity) is incorporated into the regression. WLS is also a specialization of generalized least squares, when all the off-diagonal entries of the covariance matrix of the errors, are null.\n",
    "$$  \\underset{\\boldsymbol\\beta}{\\operatorname{arg\\ min}}\\, \\sum_{i=1}^{n} w_i \\left|y_i - \\sum_{j=1}^{m} X_{ij}\\beta_j\\right|^2 =\n",
    "  \\underset{\\boldsymbol\\beta}{\\operatorname{arg\\ min}}\\, \\left\\|W^\\frac{1}{2}\\left(\\mathbf{y} - X\\boldsymbol\\beta\\right)\\right\\|^2.$$\n",
    "We can leverage **matrix multiplication** to compute Weighted least squares (WLS), which is highly efficient in the OLAP engine we are using.\n",
    "$$\\hat{\\boldsymbol{\\beta}} = (X^\\textsf{T} W X)^{-1} X^\\textsf{T} W \\mathbf{y}.$$"
   ]
  },
  {
   "cell_type": "code",
   "execution_count": 4,
   "id": "5f97250e-f0fc-4eb2-ac56-b24e2baff801",
   "metadata": {},
   "outputs": [
    {
     "name": "stdout",
     "output_type": "stream",
     "text": [
      "Call:\n",
      "  lm( formula = y ~ x1 + x2 + x3 )\n",
      "\n",
      "  Coefficients:\n",
      "  .               Estimate    Std. Error  t value     Pr(>|t|)    \n",
      "  (Intercept)     9.337661    0.054510    171.300707  0.000000    \n",
      "  x1              1.966956    0.038895    50.570848   0.000000    \n",
      "  x2              2.167861    0.019355    112.004735  0.000000    \n",
      "  x3              3.031182    0.038912    77.897919   0.000000    \n",
      "\n",
      "  Residual standard error: 11.522930 on 89996 degrees of freedom\n",
      "  Multiple R-squared: 0.185100, Adjusted R-squared: 0.185072\n",
      "  F-statistic: 6814.008475 on 3 and 89996 DF,  p-value: 0.000000\n",
      "\n",
      "                                       id            x1            x2           x3           x4           x5 x_long_tail1 x_long_tail2 x_cat1  \\\n",
      "0    12c39867-38a1-4c77-9827-94b7adf1dbc8    .943108987  -5.162511593  1.006670604   .500232002  3.853385719   .236077207   .188170373      B   \n",
      "1    aa5f7a7e-7f6a-4dc4-b663-49d900f2fde5   -.519604239  -4.997599399   .067967619   .243842659  4.729770859   .619158534   .392619294      B   \n",
      "2    b539f070-8331-4b56-ab97-2f5895d4c5b3    .630301705  -3.828011526    .29550192  2.031751449   .439750562   .003006825   .026921743      B   \n",
      "3    385c8d0d-9d06-46f5-8daf-eee2d5822edf  -2.351311158  -5.917286658   .348850715  1.104947306   .089320934  1.274858207   .119940743      C   \n",
      "4    16aa43c9-4bb3-41e3-a9c3-2c0bcc599f2f    .202705778  -4.017077946   .043760561   .513564936  4.149706747   .041373291    .33312824      D   \n",
      "..                                    ...           ...           ...          ...          ...          ...          ...          ...    ...   \n",
      "195  f32948ac-bd81-4373-9d41-048fb54f9ca2   -.479623015  -2.342180956   .048013374  1.185051074  1.976767412    .18419777   .153164023      D   \n",
      "196  7b6a7a86-9a00-479d-a7b0-ab2e02595365    -.76203896   -2.47888651   .587046352   .072474095  3.499157483   .291413269   .177798038      E   \n",
      "197  82d7814e-351a-499e-9331-8d94585deafb   -.216581095  -5.607707218  2.275687712   .075363712  2.014889993   .078377126  1.177585877      C   \n",
      "198  105f4a4e-d433-4e91-8924-ea391e77ad1d   -.976874641  -2.240015623   .577416843  1.056406856   .163303439   .157252475   .138444258      C   \n",
      "199  50b45cf4-3bb1-4fde-a97b-3a9a1b03643a   -.709521011  -5.425950896  2.597263494   .314736771  4.571539056   .450011208   .124576527      D   \n",
      "\n",
      "    treatment t_ob              y         y_ob  numerator_pre      numerator denominator_pre denominator      weight        day_        effect  \n",
      "0           0    1  -13.296273502  2.958009477   -7.070275004  -13.296273502               9          10  .933403739  2023-11-03   3.052509085  \n",
      "1           0    1  -12.793131692   .257352516   -9.019553735  -12.793131692              11          13  .605965829  2023-11-03  -2.312456669  \n",
      "2           0    0  -12.400682433  1.412997871   -8.586806447  -12.400682433               1           0  .579615457  2023-11-03   3.174559683  \n",
      "3           0    0  -12.302244909  1.787832695  -13.188434621  -12.302244909              -1           2  .731333406  2023-11-03  -7.057689867  \n",
      "4           0    0  -12.174380483   .473976998   -8.028925202  -12.174380483               8           6  .553498957  2023-11-03   1.160553615  \n",
      "..        ...  ...            ...          ...            ...            ...             ...         ...         ...         ...           ...  \n",
      "195         0    1   -4.943080043   .725555507   -5.260669661   -4.943080043               3           4  .104581255  2023-11-03   3.462277932  \n",
      "196         0    1   -4.939996429  -.277716623   -2.914868036   -4.939996429               7           6  .999044862  2023-11-03   4.244326812  \n",
      "197         0    0   -4.931194574   2.54910793   -1.723479849   -4.931194574               2           5  .981949167  2023-11-03   3.652949768  \n",
      "198         0    1   -4.918698797   .266236976   -4.467451535   -4.918698797               0          -3  .024076227  2023-11-03   4.310404581  \n",
      "199         0    0   -4.912772713  4.064600723   -3.659550323   -4.912772713              10           8  .581154649  2023-11-03   4.052135944  \n",
      "\n",
      "[200 rows x 20 columns]\n"
     ]
    }
   ],
   "source": [
    "import fast_causal_inference.dataframe.regression as Regression\n",
    "model = Regression.Wls(weight='1', use_bias=True)\n",
    "model.fit('y~x1+x2+x3', df)\n",
    "model.summary()\n",
    "effect_df = model.effect('x1+x2+x3', df)\n",
    "effect_df.show()"
   ]
  },
  {
   "cell_type": "markdown",
   "id": "9971b225-82cc-453a-8e94-703177cb184c",
   "metadata": {},
   "source": [
    "#### Lasso"
   ]
  },
  {
   "cell_type": "markdown",
   "id": "5ba654ab-cd84-44d8-a81d-797a3a5c4e05",
   "metadata": {},
   "source": [
    "**Lasso (Least Absolute Shrinkage and Selection Operator)** is a method used in regression analysis that performs both variable selection and regularization. This enhances the prediction accuracy and interpretability of the statistical model it produces. Lasso introduces a penalty term to the loss function of the least square method, which is the absolute value of the magnitude of the coefficients. This results in some coefficients being shrunk to zero, effectively selecting a simpler model that does not include those coefficients. To estimate Lasso, we use **gradient descent**, an optimization algorithm.\n"
   ]
  },
  {
   "cell_type": "code",
   "execution_count": null,
   "id": "462e95e5-23e3-460c-8dbb-dcb6ac7393b4",
   "metadata": {},
   "outputs": [],
   "source": [
    "import fast_causal_inference.dataframe.regression as Regression\n",
    "df.stochastic_logistic_regression('y~x1+x2+x3', learning_rate=0.00001, l1=0.1, batch_size=15, method='Lasso').show()\n",
    "df.agg(Regression.stochastic_logistic_regression('y~x1+x2+x3', learning_rate=0.00001, l1=0.1, batch_size=15, method='SGD')).show()\n"
   ]
  },
  {
   "cell_type": "markdown",
   "id": "8137b4a9-aa68-492d-8d74-0e3fc3f23074",
   "metadata": {},
   "source": [
    "### logistic model"
   ]
  },
  {
   "cell_type": "markdown",
   "id": "b9514809-d619-4d0d-83fb-4de98b75a258",
   "metadata": {},
   "source": [
    "In statistics, the [logistic model (or logit model)](https://en.wikipedia.org/w/index.php?title=Logistic_regression) is a statistical model that models the probability of an event taking place by having the log-odds for the event be a linear combination of one or more independent variables. In regression analysis, logistic regression (or logit regression) is estimating the parameters of a logistic model (the coefficients in the linear combination). To estimate logistic model, we use **gradient descent**, an optimization algorithm.\n",
    "\n",
    "$$p(x)=\\frac{1}{1+e^{-(\\beta_0+\\beta_1 x)}}$$"
   ]
  },
  {
   "cell_type": "code",
   "execution_count": null,
   "id": "762159d3-fae1-498e-9d21-ed481e40a689",
   "metadata": {},
   "outputs": [],
   "source": [
    "import fast_causal_inference\n",
    "from fast_causal_inference.dataframe.regression import Logistic\n",
    "table = 'test_data_small'\n",
    "df = fast_causal_inference.readClickHouse(table)\n",
    "X = ['x1', 'x2', 'x3', 'x4', 'x5', 'x_long_tail1', 'x_long_tail2']\n",
    "Y = 't_ob'\n",
    "logit = Logistic(tol=1e-6, iter=500)\n",
    "logit.fit(Y, X, df)\n",
    "logit.summary()"
   ]
  },
  {
   "cell_type": "markdown",
   "id": "c93584bd-5e34-4963-b390-2a01b0451bca",
   "metadata": {
    "tags": []
   },
   "source": [
    "### IV"
   ]
  },
  {
   "cell_type": "markdown",
   "id": "95b50503-7ef0-4e32-8ed2-ed4415902199",
   "metadata": {},
   "source": [
    "\n",
    "[instrumental variables (IV)](https://en.wikipedia.org/wiki/Instrumental_variables_estimation) is a method used in statistics, econometrics, epidemiology, and related disciplines to estimate causal relationships when controlled experiments are not feasible or when a treatment is not successfully delivered to every unit in a randomized experiment. \n",
    "\n",
    "The idea behind IV is to use a variable, known as an instrument, that is correlated with the endogenous explanatory variables (the variables that are correlated with the error term), but uncorrelated with the error term itself. This allows us to isolate the variation in the explanatory variable that is purely due to the instrument and thus uncorrelated with the error term, which can then be used to estimate the causal effect of the explanatory variable on the dependent variable.\n",
    "\n",
    "Here is an example:\n",
    "\n",
    "1. $t_1 = treatment + X_1 + X_2$\n",
    "2. $Y = \\hat t_1 + X_1 + X_2$\n",
    "\n",
    "- $X_1$ and $X_2$ are independent variables or predictors.\n",
    "- $t_1$ is the dependent variable that you are trying to explain or predict.  \n",
    "- $treatment$ is an independent variable representing some intervention or condition that you believe affects $t_1$. \n",
    "- $Y$ is the dependent variable that you are trying to explain or predict\n",
    "-  $\\hat t_1$ is the predicted value of $t_1 from the first equation\n",
    "\n",
    "\n",
    "We first regress $X_3$ on the treatment and the other exogenous variables $X_1$ and $X_2$ to get the predicted values $\\hat t_1$. Then, we replace $t_1$ with $\\hat t_1$ in the second equation and estimate the parameters. This gives us the causal effect of $t_1$ on $Y$, purged of the endogeneity problem."
   ]
  },
  {
   "cell_type": "code",
   "execution_count": 5,
   "id": "ce71fb7b-faa1-4f7e-a2ee-3403b1f47ee1",
   "metadata": {},
   "outputs": [
    {
     "name": "stdout",
     "output_type": "stream",
     "text": [
      "Call:\n",
      "  lm( formula = y ~ x1 + x2 + x3 )\n",
      "\n",
      "  Coefficients:\n",
      "  .               Estimate    Std. Error  t value     Pr(>|t|)    \n",
      "  (Intercept)     -2.742e+03  167.015628  -16.418933  0.000000    \n",
      "  x1              4578.692895 2516.044928 1.819798    0.068793    \n",
      "  x2              -838.434136 4182.114994 -0.200481   0.841105    \n",
      "  x3              -180.747094 767.564576  -0.235481   0.813836    \n",
      "\n",
      "  Residual standard error: 9.249590 on 89996 degrees of freedom\n",
      "  Multiple R-squared: 0.474922, Adjusted R-squared: 0.474905\n",
      "  F-statistic: 27133.178574 on 3 and 89996 DF,  p-value: 0.000000\n",
      "\n",
      "Call:\n",
      "  lm( formula = y ~ x1 + x2 + x3 )\n",
      "\n",
      "  Coefficients:\n",
      "  .               Estimate    Std. Error  t value     Pr(>|t|)    \n",
      "  (Intercept)     -2.742e+03  167.015629  -16.418933  0.000000    \n",
      "  x1              4578.692886 2516.044930 1.819798    0.068793    \n",
      "  x2              -838.434134 4182.114998 -0.200481   0.841105    \n",
      "  x3              -180.747094 767.564577  -0.235481   0.813836    \n",
      "\n",
      "  Residual standard error: 9.249590 on 89996 degrees of freedom\n",
      "  Multiple R-squared: 0.474922, Adjusted R-squared: 0.474905\n",
      "  F-statistic: 27133.178501 on 3 and 89996 DF,  p-value: 0.000000\n",
      "\n",
      "Call:\n",
      "  lm( formula = y ~ x1 + x2 + x3 )\n",
      "\n",
      "  Coefficients:\n",
      "  .               Estimate    Std. Error  t value     Pr(>|t|)    \n",
      "  (Intercept)     -2.742e+03  167.015629  -16.418933  0.000000    \n",
      "  x1              4578.692897 2516.044932 1.819798    0.068793    \n",
      "  x2              -838.434136 4182.115002 -0.200481   0.841105    \n",
      "  x3              -180.747094 767.564577  -0.235481   0.813836    \n",
      "\n",
      "  Residual standard error: 9.249590 on 89996 degrees of freedom\n",
      "  Multiple R-squared: 0.474922, Adjusted R-squared: 0.474905\n",
      "  F-statistic: 27133.178585 on 3 and 89996 DF,  p-value: 0.000000\n",
      "\n"
     ]
    }
   ],
   "source": [
    "import fast_causal_inference.dataframe.regression as Regression\n",
    "model = Regression.IV()\n",
    "model.fit(df,formula='y~(t_ob~treatment)+x1+x2')\n",
    "model.summary()\n",
    "\n",
    "df.iv_regression('y~(t_ob~treatment)+x1+x2').show()\n",
    "df.agg(Regression.iv_regression('y~(t_ob~treatment)+x1+x2')).show()"
   ]
  },
  {
   "cell_type": "markdown",
   "id": "e9a73f9c-2970-4344-955b-45c2579e89d4",
   "metadata": {},
   "source": [
    "# Obeservational Analysis"
   ]
  },
  {
   "cell_type": "markdown",
   "id": "4cdcb96a-a895-4d04-ac0b-4713ed0f1d6d",
   "metadata": {},
   "source": [
    "### Case1- PSM"
   ]
  },
  {
   "cell_type": "markdown",
   "id": "33358d29-b7ef-4f2c-85d0-1ece8c7d2c1b",
   "metadata": {},
   "source": [
    "[Propensity score matching (PSM)](https://en.wikipedia.org/wiki/Propensity_score_matching) is a quasi-experimental method in which the researcher uses statistical techniques to construct an artificial control group by matching each treated unit with a non-treated unit of similar characteristics. Using these matches, the researcher can estimate the impact of an intervention.\n",
    "![Example Image](https://builtin.com/sites/www.builtin.com/files/styles/ckeditor_optimize/public/inline-images/1_propensity-score-matching.jpeg)"
   ]
  },
  {
   "cell_type": "markdown",
   "id": "ec3bc2a6-48ee-431a-b02f-823200ae513b",
   "metadata": {},
   "source": [
    "#### predict propensity score"
   ]
  },
  {
   "cell_type": "markdown",
   "id": "db208aab-ca3e-4c2b-91c5-b3e99714f66c",
   "metadata": {},
   "source": [
    "Once we have collected the data, we can build the propensity model predicting the probability of receiving the treatment given the confounders. Typically, logistic regression is used for this classification model. Let’s build a propensity model:"
   ]
  },
  {
   "cell_type": "code",
   "execution_count": 6,
   "id": "13b5dec7-dcfa-4c56-8e85-104fba40b3b3",
   "metadata": {},
   "outputs": [],
   "source": [
    "import fast_causal_inference\n",
    "Y='y'\n",
    "T='t_ob'\n",
    "table = 'test_data_small'\n",
    "X = [ 'x1', 'x2', 'x3']"
   ]
  },
  {
   "cell_type": "code",
   "execution_count": 7,
   "id": "c6f687c2-bcef-487c-bc7a-e30324969238",
   "metadata": {},
   "outputs": [
    {
     "data": {
      "text/plain": [
       "                                       id           x1            x2           x3          x4           x5 x_long_tail1 x_long_tail2 x_cat1  \\\n",
       "0    12c39867-38a1-4c77-9827-94b7adf1dbc8   .943108987  -5.162511593  1.006670604  .500232002  3.853385719   .236077207   .188170373      B   \n",
       "1    12c39867-38a1-4c77-9827-94b7adf1dbc8   .943108987  -5.162511593  1.006670604  .500232002  3.853385719   .236077207   .188170373      B   \n",
       "2    12c39867-38a1-4c77-9827-94b7adf1dbc8   .943108987  -5.162511593  1.006670604  .500232002  3.853385719   .236077207   .188170373      B   \n",
       "3    12c39867-38a1-4c77-9827-94b7adf1dbc8   .943108987  -5.162511593  1.006670604  .500232002  3.853385719   .236077207   .188170373      B   \n",
       "4    12c39867-38a1-4c77-9827-94b7adf1dbc8   .943108987  -5.162511593  1.006670604  .500232002  3.853385719   .236077207   .188170373      B   \n",
       "..                                    ...          ...           ...          ...         ...          ...          ...          ...    ...   \n",
       "195  40be5d63-b35e-44bf-9a42-dc2901515ef4  -.585337234  -4.239812741  1.015075672  .946810202  4.572546744  1.621324005   .164255327      C   \n",
       "196  40be5d63-b35e-44bf-9a42-dc2901515ef4  -.585337234  -4.239812741  1.015075672  .946810202  4.572546744  1.621324005   .164255327      C   \n",
       "197  40be5d63-b35e-44bf-9a42-dc2901515ef4  -.585337234  -4.239812741  1.015075672  .946810202  4.572546744  1.621324005   .164255327      C   \n",
       "198  40be5d63-b35e-44bf-9a42-dc2901515ef4  -.585337234  -4.239812741  1.015075672  .946810202  4.572546744  1.621324005   .164255327      C   \n",
       "199  40be5d63-b35e-44bf-9a42-dc2901515ef4  -.585337234  -4.239812741  1.015075672  .946810202  4.572546744  1.621324005   .164255327      C   \n",
       "\n",
       "    treatment t_ob              y         y_ob numerator_pre      numerator denominator_pre denominator      weight        day_      effect  \n",
       "0           0    1  -13.296273502  2.958009477  -7.070275004  -13.296273502               9          10  .933403739  2023-11-03   .51849513  \n",
       "1           0    1  -13.296273502  2.958009477  -7.070275004  -13.296273502               9          10  .933403739  2023-11-03   .51849513  \n",
       "2           0    1  -13.296273502  2.958009477  -7.070275004  -13.296273502               9          10  .933403739  2023-11-03   .51849513  \n",
       "3           0    1  -13.296273502  2.958009477  -7.070275004  -13.296273502               9          10  .933403739  2023-11-03   .51849513  \n",
       "4           0    1  -13.296273502  2.958009477  -7.070275004  -13.296273502               9          10  .933403739  2023-11-03   .51849513  \n",
       "..        ...  ...            ...          ...           ...            ...             ...         ...         ...         ...         ...  \n",
       "195         0    0     -8.2355638  2.449858352  -6.123673332     -8.2355638              10           9  .942109488  2023-11-03  .518195641  \n",
       "196         0    0     -8.2355638  2.449858352  -6.123673332     -8.2355638              10           9  .942109488  2023-11-03  .518195641  \n",
       "197         0    0     -8.2355638  2.449858352  -6.123673332     -8.2355638              10           9  .942109488  2023-11-03  .518195641  \n",
       "198         0    0     -8.2355638  2.449858352  -6.123673332     -8.2355638              10           9  .942109488  2023-11-03  .518195641  \n",
       "199         0    0     -8.2355638  2.449858352  -6.123673332     -8.2355638              10           9  .942109488  2023-11-03  .518195641  \n",
       "\n",
       "[200 rows x 20 columns]"
      ]
     },
     "execution_count": 7,
     "metadata": {},
     "output_type": "execute_result"
    }
   ],
   "source": [
    "import fast_causal_inference.dataframe.regression as Regression\n",
    "model = Regression.StochasticLogisticRegression(learning_rate=0.00001, l1=0.1, batch_size=15, method='SGD')\n",
    "\n",
    "df = ais.readClickHouse('test_data_small')\n",
    "model.fit('y~x1+x2+x3', df)\n",
    "effect_df = model.effect('x1+x2+x3', df)\n",
    "effect_df"
   ]
  },
  {
   "cell_type": "markdown",
   "id": "9da9ae99-471e-496d-b3aa-ba26e1a2ad0c",
   "metadata": {},
   "source": [
    "#### Matching"
   ]
  },
  {
   "cell_type": "markdown",
   "id": "69d98b28-cc1d-47ee-ad4a-2f94ff9ff7d1",
   "metadata": {},
   "source": [
    "We will be performing one-to-one matching to find the most similar control records for each passenger in the treatment group. Matching based on the propensity score, which is a balancing score, allows us to ensure that the distribution of confounders between the matched records is likely to be similar."
   ]
  },
  {
   "cell_type": "code",
   "execution_count": 8,
   "id": "0270ae99-6d7e-4a90-b001-db16b3f4b575",
   "metadata": {},
   "outputs": [
    {
     "data": {
      "text/plain": [
       "                                       id            x1            x2          x3           x4           x5 x_long_tail1 x_long_tail2 x_cat1  \\\n",
       "0    c4eb4bbe-2c1f-4171-9565-0775575e0b85   -.584978179  -8.893264483  .049069901  1.574793526   3.67147211   .073461831   1.15783522      C   \n",
       "1    c4eb4bbe-2c1f-4171-9565-0775575e0b85   -.584978179  -8.893264483  .049069901  1.574793526   3.67147211   .073461831   1.15783522      C   \n",
       "2    c4eb4bbe-2c1f-4171-9565-0775575e0b85   -.584978179  -8.893264483  .049069901  1.574793526   3.67147211   .073461831   1.15783522      C   \n",
       "3    c4eb4bbe-2c1f-4171-9565-0775575e0b85   -.584978179  -8.893264483  .049069901  1.574793526   3.67147211   .073461831   1.15783522      C   \n",
       "4    c4eb4bbe-2c1f-4171-9565-0775575e0b85   -.584978179  -8.893264483  .049069901  1.574793526   3.67147211   .073461831   1.15783522      C   \n",
       "..                                    ...           ...           ...         ...          ...          ...          ...          ...    ...   \n",
       "195  d7905663-0d6c-4808-aa51-060c391f626d  -1.201119875   4.038795963  .440680143  1.361710008  2.919678959  1.034930457     .6852898      A   \n",
       "196  d7905663-0d6c-4808-aa51-060c391f626d  -1.201119875   4.038795963  .440680143  1.361710008  2.919678959  1.034930457     .6852898      A   \n",
       "197  d7905663-0d6c-4808-aa51-060c391f626d  -1.201119875   4.038795963  .440680143  1.361710008  2.919678959  1.034930457     .6852898      A   \n",
       "198  d7905663-0d6c-4808-aa51-060c391f626d  -1.201119875   4.038795963  .440680143  1.361710008  2.919678959  1.034930457     .6852898      A   \n",
       "199  d7905663-0d6c-4808-aa51-060c391f626d  -1.201119875   4.038795963  .440680143  1.361710008  2.919678959  1.034930457     .6852898      A   \n",
       "\n",
       "    treatment t_ob              y         y_ob  numerator_pre      numerator denominator_pre denominator      weight        day_      effect  \\\n",
       "0           1    0  148.732616819   .662381059  -14.775516922  148.732616819               6           9  .964635558  2023-11-03  .502186591   \n",
       "1           1    0  148.732616819   .662381059  -14.775516922  148.732616819               6           9  .964635558  2023-11-03  .502186591   \n",
       "2           1    0  148.732616819   .662381059  -14.775516922  148.732616819               6           9  .964635558  2023-11-03  .502186591   \n",
       "3           1    0  148.732616819   .662381059  -14.775516922  148.732616819               6           9  .964635558  2023-11-03  .502186591   \n",
       "4           1    0  148.732616819   .662381059  -14.775516922  148.732616819               6           9  .964635558  2023-11-03  .502186591   \n",
       "..        ...  ...            ...          ...            ...            ...             ...         ...         ...         ...         ...   \n",
       "195         1    0   50.498829182  -.175445641      9.4602009   50.498829182              10           8  .541960992  2023-11-03  .521234197   \n",
       "196         1    0   50.498829182  -.175445641      9.4602009   50.498829182              10           8  .541960992  2023-11-03  .521234197   \n",
       "197         1    0   50.498829182  -.175445641      9.4602009   50.498829182              10           8  .541960992  2023-11-03  .521234197   \n",
       "198         1    0   50.498829182  -.175445641      9.4602009   50.498829182              10           8  .541960992  2023-11-03  .521234197   \n",
       "199         1    0   50.498829182  -.175445641      9.4602009   50.498829182              10           8  .541960992  2023-11-03  .521234197   \n",
       "\n",
       "    m_caliper_t m_caliper_v m_caliper_cnt m_caliper_index_min m_caliper_matching_index m_caliper_g m_caliper_rn m_caliper_index matchingIndex  \n",
       "0            -1  .502186591             2               35757                      324          10        35757          -36081        -36081  \n",
       "1            -1  .502186591             2               35757                      324          10        35756          -36080        -36080  \n",
       "2            -1  .502186591             2               35757                      324          10        35755          -36079        -36079  \n",
       "3            -1  .502186591             2               35757                      324          10        35754          -36078        -36078  \n",
       "4            -1  .502186591             2               35757                      324          10        35753          -36077        -36077  \n",
       "..          ...         ...           ...                 ...                      ...         ...          ...             ...           ...  \n",
       "195          -1  .521234197             2               35757                      324          10        35562          -35886        -35886  \n",
       "196          -1  .521234197             2               35757                      324          10        35561          -35885        -35885  \n",
       "197          -1  .521234197             2               35757                      324          10        35560          -35884        -35884  \n",
       "198          -1  .521234197             2               35757                      324          10        35559          -35883        -35883  \n",
       "199          -1  .521234197             2               35757                      324          10        35558          -35882        -35882  \n",
       "\n",
       "[200 rows x 29 columns]"
      ]
     },
     "execution_count": 8,
     "metadata": {},
     "output_type": "execute_result"
    }
   ],
   "source": [
    "import time\n",
    "table_match = f\"{table}_{int(time.time())}_matched\"\n",
    "fast_causal_inference.clickhouse_create_view(clickhouse_view_name=table_match, sql_statement=f\"\"\"\n",
    "select *,caliperMatching(if({T}=1,1,-1),effect,0.05) AS matchingIndex \n",
    "from {effect_df.getTableName()} where matchingIndex!=0 \"\"\", primary_column=\"matchingIndex\",is_force_materialize=True, is_sql_complete=True, is_use_local=True)\n",
    "match_df = ais.readClickHouse(table_match)\n",
    "match_df"
   ]
  },
  {
   "cell_type": "markdown",
   "id": "e961fd1c-2576-4b3b-b2ad-19cb56b016cc",
   "metadata": {},
   "source": [
    "#### Balance check"
   ]
  },
  {
   "cell_type": "markdown",
   "id": "3a599413-140e-499b-b284-0f031d398397",
   "metadata": {},
   "source": [
    "It’s time to evaluate how good the matching was. Let’s inspect if the groups look more comparable in terms of the confounders:"
   ]
  },
  {
   "cell_type": "code",
   "execution_count": 9,
   "id": "c2e23384-0e7f-469d-a31a-8a1c28cb3145",
   "metadata": {},
   "outputs": [
    {
     "data": {
      "text/html": [
       "<div>\n",
       "<style scoped>\n",
       "    .dataframe tbody tr th:only-of-type {\n",
       "        vertical-align: middle;\n",
       "    }\n",
       "\n",
       "    .dataframe tbody tr th {\n",
       "        vertical-align: top;\n",
       "    }\n",
       "\n",
       "    .dataframe thead th {\n",
       "        text-align: right;\n",
       "    }\n",
       "</style>\n",
       "<table border=\"1\" class=\"dataframe\">\n",
       "  <thead>\n",
       "    <tr style=\"text-align: right;\">\n",
       "      <th></th>\n",
       "      <th>Control</th>\n",
       "      <th>Treatment</th>\n",
       "      <th>SMD</th>\n",
       "    </tr>\n",
       "  </thead>\n",
       "  <tbody>\n",
       "    <tr>\n",
       "      <th>x2</th>\n",
       "      <td>-0.364005</td>\n",
       "      <td>0.280263</td>\n",
       "      <td>0.329184</td>\n",
       "    </tr>\n",
       "    <tr>\n",
       "      <th>x3</th>\n",
       "      <td>0.778968</td>\n",
       "      <td>1.136712</td>\n",
       "      <td>0.380534</td>\n",
       "    </tr>\n",
       "    <tr>\n",
       "      <th>x1</th>\n",
       "      <td>-0.463434</td>\n",
       "      <td>0.279347</td>\n",
       "      <td>0.811799</td>\n",
       "    </tr>\n",
       "  </tbody>\n",
       "</table>\n",
       "</div>"
      ],
      "text/plain": [
       "     Control  Treatment       SMD\n",
       "x2 -0.364005   0.280263  0.329184\n",
       "x3  0.778968   1.136712  0.380534\n",
       "x1 -0.463434   0.279347  0.811799"
      ]
     },
     "execution_count": 9,
     "metadata": {},
     "output_type": "execute_result"
    }
   ],
   "source": [
    "# before matched\n",
    "from fast_causal_inference.lib.tools import *\n",
    "SMD(effect_df.getTableName(),T,X)"
   ]
  },
  {
   "cell_type": "code",
   "execution_count": 10,
   "id": "fad51e0c-2895-41fd-9819-e81d027c0e66",
   "metadata": {},
   "outputs": [
    {
     "name": "stdout",
     "output_type": "stream",
     "text": [
      "[WARNING] 2024-08-05 14:32:04 - font_manager.py:1333 - findfont: Generic family 'sans-serif' not found because none of the following families were found: SimHei\n",
      "[WARNING] 2024-08-05 14:32:04 - font_manager.py:1333 - findfont: Generic family 'sans-serif' not found because none of the following families were found: SimHei\n",
      "[WARNING] 2024-08-05 14:32:04 - font_manager.py:1333 - findfont: Generic family 'sans-serif' not found because none of the following families were found: SimHei\n",
      "[WARNING] 2024-08-05 14:32:04 - font_manager.py:1333 - findfont: Generic family 'sans-serif' not found because none of the following families were found: SimHei\n",
      "[WARNING] 2024-08-05 14:32:04 - font_manager.py:1333 - findfont: Generic family 'sans-serif' not found because none of the following families were found: SimHei\n",
      "[WARNING] 2024-08-05 14:32:04 - font_manager.py:1333 - findfont: Generic family 'sans-serif' not found because none of the following families were found: SimHei\n",
      "[WARNING] 2024-08-05 14:32:04 - font_manager.py:1333 - findfont: Generic family 'sans-serif' not found because none of the following families were found: SimHei\n",
      "[WARNING] 2024-08-05 14:32:04 - font_manager.py:1333 - findfont: Generic family 'sans-serif' not found because none of the following families were found: SimHei\n",
      "[WARNING] 2024-08-05 14:32:04 - font_manager.py:1333 - findfont: Generic family 'sans-serif' not found because none of the following families were found: SimHei\n",
      "[WARNING] 2024-08-05 14:32:04 - font_manager.py:1333 - findfont: Generic family 'sans-serif' not found because none of the following families were found: SimHei\n",
      "[WARNING] 2024-08-05 14:32:04 - font_manager.py:1333 - findfont: Generic family 'sans-serif' not found because none of the following families were found: SimHei\n",
      "[WARNING] 2024-08-05 14:32:04 - font_manager.py:1333 - findfont: Generic family 'sans-serif' not found because none of the following families were found: SimHei\n",
      "[WARNING] 2024-08-05 14:32:04 - font_manager.py:1333 - findfont: Generic family 'sans-serif' not found because none of the following families were found: SimHei\n",
      "[WARNING] 2024-08-05 14:32:04 - font_manager.py:1333 - findfont: Generic family 'sans-serif' not found because none of the following families were found: SimHei\n",
      "[WARNING] 2024-08-05 14:32:04 - font_manager.py:1333 - findfont: Generic family 'sans-serif' not found because none of the following families were found: SimHei\n",
      "[WARNING] 2024-08-05 14:32:04 - font_manager.py:1333 - findfont: Generic family 'sans-serif' not found because none of the following families were found: SimHei\n",
      "[WARNING] 2024-08-05 14:32:04 - font_manager.py:1333 - findfont: Generic family 'sans-serif' not found because none of the following families were found: SimHei\n",
      "[WARNING] 2024-08-05 14:32:04 - font_manager.py:1333 - findfont: Generic family 'sans-serif' not found because none of the following families were found: SimHei\n",
      "[WARNING] 2024-08-05 14:32:04 - font_manager.py:1333 - findfont: Generic family 'sans-serif' not found because none of the following families were found: SimHei\n",
      "[WARNING] 2024-08-05 14:32:04 - font_manager.py:1333 - findfont: Generic family 'sans-serif' not found because none of the following families were found: SimHei\n",
      "[WARNING] 2024-08-05 14:32:04 - font_manager.py:1333 - findfont: Generic family 'sans-serif' not found because none of the following families were found: SimHei\n",
      "[WARNING] 2024-08-05 14:32:04 - font_manager.py:1333 - findfont: Generic family 'sans-serif' not found because none of the following families were found: SimHei\n",
      "[WARNING] 2024-08-05 14:32:04 - font_manager.py:1333 - findfont: Generic family 'sans-serif' not found because none of the following families were found: SimHei\n",
      "[WARNING] 2024-08-05 14:32:04 - font_manager.py:1333 - findfont: Generic family 'sans-serif' not found because none of the following families were found: SimHei\n",
      "[WARNING] 2024-08-05 14:32:04 - font_manager.py:1333 - findfont: Generic family 'sans-serif' not found because none of the following families were found: SimHei\n",
      "[WARNING] 2024-08-05 14:32:04 - font_manager.py:1333 - findfont: Generic family 'sans-serif' not found because none of the following families were found: SimHei\n",
      "[WARNING] 2024-08-05 14:32:04 - font_manager.py:1333 - findfont: Generic family 'sans-serif' not found because none of the following families were found: SimHei\n",
      "[WARNING] 2024-08-05 14:32:04 - font_manager.py:1333 - findfont: Generic family 'sans-serif' not found because none of the following families were found: SimHei\n",
      "[WARNING] 2024-08-05 14:32:04 - font_manager.py:1333 - findfont: Generic family 'sans-serif' not found because none of the following families were found: SimHei\n",
      "[WARNING] 2024-08-05 14:32:04 - font_manager.py:1333 - findfont: Generic family 'sans-serif' not found because none of the following families were found: SimHei\n",
      "[WARNING] 2024-08-05 14:32:04 - font_manager.py:1333 - findfont: Generic family 'sans-serif' not found because none of the following families were found: SimHei\n",
      "[WARNING] 2024-08-05 14:32:04 - font_manager.py:1333 - findfont: Generic family 'sans-serif' not found because none of the following families were found: SimHei\n",
      "[WARNING] 2024-08-05 14:32:04 - font_manager.py:1333 - findfont: Generic family 'sans-serif' not found because none of the following families were found: SimHei\n",
      "[WARNING] 2024-08-05 14:32:04 - font_manager.py:1333 - findfont: Generic family 'sans-serif' not found because none of the following families were found: SimHei\n",
      "[WARNING] 2024-08-05 14:32:04 - font_manager.py:1333 - findfont: Generic family 'sans-serif' not found because none of the following families were found: SimHei\n",
      "[WARNING] 2024-08-05 14:32:04 - font_manager.py:1333 - findfont: Generic family 'sans-serif' not found because none of the following families were found: SimHei\n",
      "[WARNING] 2024-08-05 14:32:04 - font_manager.py:1333 - findfont: Generic family 'sans-serif' not found because none of the following families were found: SimHei\n",
      "[WARNING] 2024-08-05 14:32:04 - font_manager.py:1333 - findfont: Generic family 'sans-serif' not found because none of the following families were found: SimHei\n",
      "[WARNING] 2024-08-05 14:32:04 - font_manager.py:1333 - findfont: Generic family 'sans-serif' not found because none of the following families were found: SimHei\n",
      "[WARNING] 2024-08-05 14:32:04 - font_manager.py:1333 - findfont: Generic family 'sans-serif' not found because none of the following families were found: SimHei\n",
      "[WARNING] 2024-08-05 14:32:04 - font_manager.py:1333 - findfont: Generic family 'sans-serif' not found because none of the following families were found: SimHei\n",
      "[WARNING] 2024-08-05 14:32:04 - font_manager.py:1333 - findfont: Generic family 'sans-serif' not found because none of the following families were found: SimHei\n",
      "[WARNING] 2024-08-05 14:32:04 - font_manager.py:1333 - findfont: Generic family 'sans-serif' not found because none of the following families were found: SimHei\n",
      "[WARNING] 2024-08-05 14:32:04 - font_manager.py:1333 - findfont: Generic family 'sans-serif' not found because none of the following families were found: SimHei\n",
      "[WARNING] 2024-08-05 14:32:04 - font_manager.py:1333 - findfont: Generic family 'sans-serif' not found because none of the following families were found: SimHei\n",
      "[WARNING] 2024-08-05 14:32:04 - font_manager.py:1333 - findfont: Generic family 'sans-serif' not found because none of the following families were found: SimHei\n",
      "[WARNING] 2024-08-05 14:32:04 - font_manager.py:1333 - findfont: Generic family 'sans-serif' not found because none of the following families were found: SimHei\n",
      "[WARNING] 2024-08-05 14:32:04 - font_manager.py:1333 - findfont: Generic family 'sans-serif' not found because none of the following families were found: SimHei\n",
      "[WARNING] 2024-08-05 14:32:04 - font_manager.py:1333 - findfont: Generic family 'sans-serif' not found because none of the following families were found: SimHei\n",
      "[WARNING] 2024-08-05 14:32:04 - font_manager.py:1333 - findfont: Generic family 'sans-serif' not found because none of the following families were found: SimHei\n",
      "[WARNING] 2024-08-05 14:32:04 - font_manager.py:1333 - findfont: Generic family 'sans-serif' not found because none of the following families were found: SimHei\n",
      "[WARNING] 2024-08-05 14:32:04 - font_manager.py:1333 - findfont: Generic family 'sans-serif' not found because none of the following families were found: SimHei\n",
      "[WARNING] 2024-08-05 14:32:04 - font_manager.py:1333 - findfont: Generic family 'sans-serif' not found because none of the following families were found: SimHei\n",
      "[WARNING] 2024-08-05 14:32:04 - font_manager.py:1333 - findfont: Generic family 'sans-serif' not found because none of the following families were found: SimHei\n",
      "[WARNING] 2024-08-05 14:32:04 - font_manager.py:1333 - findfont: Generic family 'sans-serif' not found because none of the following families were found: SimHei\n",
      "[WARNING] 2024-08-05 14:32:04 - font_manager.py:1333 - findfont: Generic family 'sans-serif' not found because none of the following families were found: SimHei\n",
      "[WARNING] 2024-08-05 14:32:04 - font_manager.py:1333 - findfont: Generic family 'sans-serif' not found because none of the following families were found: SimHei\n",
      "[WARNING] 2024-08-05 14:32:04 - font_manager.py:1333 - findfont: Generic family 'sans-serif' not found because none of the following families were found: SimHei\n",
      "[WARNING] 2024-08-05 14:32:04 - font_manager.py:1333 - findfont: Generic family 'sans-serif' not found because none of the following families were found: SimHei\n",
      "[WARNING] 2024-08-05 14:32:04 - font_manager.py:1333 - findfont: Generic family 'sans-serif' not found because none of the following families were found: SimHei\n",
      "[WARNING] 2024-08-05 14:32:04 - font_manager.py:1333 - findfont: Generic family 'sans-serif' not found because none of the following families were found: SimHei\n",
      "[WARNING] 2024-08-05 14:32:04 - font_manager.py:1333 - findfont: Generic family 'sans-serif' not found because none of the following families were found: SimHei\n",
      "[WARNING] 2024-08-05 14:32:04 - font_manager.py:1333 - findfont: Generic family 'sans-serif' not found because none of the following families were found: SimHei\n",
      "[WARNING] 2024-08-05 14:32:04 - font_manager.py:1333 - findfont: Generic family 'sans-serif' not found because none of the following families were found: SimHei\n",
      "[WARNING] 2024-08-05 14:32:04 - font_manager.py:1333 - findfont: Generic family 'sans-serif' not found because none of the following families were found: SimHei\n",
      "[WARNING] 2024-08-05 14:32:04 - font_manager.py:1333 - findfont: Generic family 'sans-serif' not found because none of the following families were found: SimHei\n",
      "[WARNING] 2024-08-05 14:32:04 - font_manager.py:1333 - findfont: Generic family 'sans-serif' not found because none of the following families were found: SimHei\n",
      "[WARNING] 2024-08-05 14:32:04 - font_manager.py:1333 - findfont: Generic family 'sans-serif' not found because none of the following families were found: SimHei\n",
      "[WARNING] 2024-08-05 14:32:04 - font_manager.py:1333 - findfont: Generic family 'sans-serif' not found because none of the following families were found: SimHei\n",
      "[WARNING] 2024-08-05 14:32:04 - font_manager.py:1333 - findfont: Generic family 'sans-serif' not found because none of the following families were found: SimHei\n",
      "[WARNING] 2024-08-05 14:32:04 - font_manager.py:1333 - findfont: Generic family 'sans-serif' not found because none of the following families were found: SimHei\n",
      "[WARNING] 2024-08-05 14:32:04 - font_manager.py:1333 - findfont: Generic family 'sans-serif' not found because none of the following families were found: SimHei\n",
      "[WARNING] 2024-08-05 14:32:04 - font_manager.py:1333 - findfont: Generic family 'sans-serif' not found because none of the following families were found: SimHei\n",
      "[WARNING] 2024-08-05 14:32:04 - font_manager.py:1333 - findfont: Generic family 'sans-serif' not found because none of the following families were found: SimHei\n",
      "[WARNING] 2024-08-05 14:32:04 - font_manager.py:1333 - findfont: Generic family 'sans-serif' not found because none of the following families were found: SimHei\n",
      "[WARNING] 2024-08-05 14:32:04 - font_manager.py:1333 - findfont: Generic family 'sans-serif' not found because none of the following families were found: SimHei\n",
      "[WARNING] 2024-08-05 14:32:04 - font_manager.py:1333 - findfont: Generic family 'sans-serif' not found because none of the following families were found: SimHei\n",
      "[WARNING] 2024-08-05 14:32:04 - font_manager.py:1333 - findfont: Generic family 'sans-serif' not found because none of the following families were found: SimHei\n",
      "[WARNING] 2024-08-05 14:32:04 - font_manager.py:1333 - findfont: Generic family 'sans-serif' not found because none of the following families were found: SimHei\n",
      "[WARNING] 2024-08-05 14:32:04 - font_manager.py:1333 - findfont: Generic family 'sans-serif' not found because none of the following families were found: SimHei\n",
      "[WARNING] 2024-08-05 14:32:04 - font_manager.py:1333 - findfont: Generic family 'sans-serif' not found because none of the following families were found: SimHei\n",
      "[WARNING] 2024-08-05 14:32:04 - font_manager.py:1333 - findfont: Generic family 'sans-serif' not found because none of the following families were found: SimHei\n",
      "[WARNING] 2024-08-05 14:32:04 - font_manager.py:1333 - findfont: Generic family 'sans-serif' not found because none of the following families were found: SimHei\n",
      "[WARNING] 2024-08-05 14:32:04 - font_manager.py:1333 - findfont: Generic family 'sans-serif' not found because none of the following families were found: SimHei\n",
      "[WARNING] 2024-08-05 14:32:04 - font_manager.py:1333 - findfont: Generic family 'sans-serif' not found because none of the following families were found: SimHei\n",
      "[WARNING] 2024-08-05 14:32:04 - font_manager.py:1333 - findfont: Generic family 'sans-serif' not found because none of the following families were found: SimHei\n",
      "[WARNING] 2024-08-05 14:32:04 - font_manager.py:1333 - findfont: Generic family 'sans-serif' not found because none of the following families were found: SimHei\n",
      "[WARNING] 2024-08-05 14:32:04 - font_manager.py:1333 - findfont: Generic family 'sans-serif' not found because none of the following families were found: SimHei\n",
      "[WARNING] 2024-08-05 14:32:04 - font_manager.py:1333 - findfont: Generic family 'sans-serif' not found because none of the following families were found: SimHei\n",
      "[WARNING] 2024-08-05 14:32:04 - font_manager.py:1333 - findfont: Generic family 'sans-serif' not found because none of the following families were found: SimHei\n",
      "[WARNING] 2024-08-05 14:32:04 - font_manager.py:1333 - findfont: Generic family 'sans-serif' not found because none of the following families were found: SimHei\n",
      "[WARNING] 2024-08-05 14:32:04 - font_manager.py:1333 - findfont: Generic family 'sans-serif' not found because none of the following families were found: SimHei\n",
      "[WARNING] 2024-08-05 14:32:04 - font_manager.py:1333 - findfont: Generic family 'sans-serif' not found because none of the following families were found: SimHei\n",
      "[WARNING] 2024-08-05 14:32:04 - font_manager.py:1333 - findfont: Generic family 'sans-serif' not found because none of the following families were found: SimHei\n",
      "[WARNING] 2024-08-05 14:32:04 - font_manager.py:1333 - findfont: Generic family 'sans-serif' not found because none of the following families were found: SimHei\n",
      "[WARNING] 2024-08-05 14:32:04 - font_manager.py:1333 - findfont: Generic family 'sans-serif' not found because none of the following families were found: SimHei\n",
      "[WARNING] 2024-08-05 14:32:04 - font_manager.py:1333 - findfont: Generic family 'sans-serif' not found because none of the following families were found: SimHei\n",
      "[WARNING] 2024-08-05 14:32:04 - font_manager.py:1333 - findfont: Generic family 'sans-serif' not found because none of the following families were found: SimHei\n"
     ]
    },
    {
     "data": {
      "image/png": "[encoded data removed]",
      "text/plain": [
       "<Figure size 800x800 with 1 Axes>"
      ]
     },
     "metadata": {},
     "output_type": "display_data"
    }
   ],
   "source": [
    "from fast_causal_inference.lib.tools import *\n",
    "matching_plot(effect_df.getTableName(),T,'effect')"
   ]
  },
  {
   "cell_type": "code",
   "execution_count": 11,
   "id": "329ab6c3-763f-4408-925d-7e7ef7f8e2be",
   "metadata": {},
   "outputs": [
    {
     "data": {
      "text/html": [
       "<div>\n",
       "<style scoped>\n",
       "    .dataframe tbody tr th:only-of-type {\n",
       "        vertical-align: middle;\n",
       "    }\n",
       "\n",
       "    .dataframe tbody tr th {\n",
       "        vertical-align: top;\n",
       "    }\n",
       "\n",
       "    .dataframe thead th {\n",
       "        text-align: right;\n",
       "    }\n",
       "</style>\n",
       "<table border=\"1\" class=\"dataframe\">\n",
       "  <thead>\n",
       "    <tr style=\"text-align: right;\">\n",
       "      <th></th>\n",
       "      <th>Control</th>\n",
       "      <th>Treatment</th>\n",
       "      <th>SMD</th>\n",
       "    </tr>\n",
       "  </thead>\n",
       "  <tbody>\n",
       "    <tr>\n",
       "      <th>x3</th>\n",
       "      <td>0.778968</td>\n",
       "      <td>0.955124</td>\n",
       "      <td>0.219480</td>\n",
       "    </tr>\n",
       "    <tr>\n",
       "      <th>x2</th>\n",
       "      <td>-0.364005</td>\n",
       "      <td>0.088777</td>\n",
       "      <td>0.236343</td>\n",
       "    </tr>\n",
       "    <tr>\n",
       "      <th>x1</th>\n",
       "      <td>-0.463434</td>\n",
       "      <td>0.240608</td>\n",
       "      <td>0.768627</td>\n",
       "    </tr>\n",
       "  </tbody>\n",
       "</table>\n",
       "</div>"
      ],
      "text/plain": [
       "     Control  Treatment       SMD\n",
       "x3  0.778968   0.955124  0.219480\n",
       "x2 -0.364005   0.088777  0.236343\n",
       "x1 -0.463434   0.240608  0.768627"
      ]
     },
     "execution_count": 11,
     "metadata": {},
     "output_type": "execute_result"
    }
   ],
   "source": [
    "# After matched\n",
    "from fast_causal_inference.lib.tools import *\n",
    "SMD(match_df.getTableName(),T,X)"
   ]
  },
  {
   "cell_type": "code",
   "execution_count": 12,
   "id": "3ba6afb4-8fd1-4178-a92a-be5db96a9153",
   "metadata": {},
   "outputs": [
    {
     "name": "stdout",
     "output_type": "stream",
     "text": [
      "[WARNING] 2024-08-05 14:32:04 - font_manager.py:1333 - findfont: Generic family 'sans-serif' not found because none of the following families were found: SimHei\n",
      "[WARNING] 2024-08-05 14:32:04 - font_manager.py:1333 - findfont: Generic family 'sans-serif' not found because none of the following families were found: SimHei\n",
      "[WARNING] 2024-08-05 14:32:04 - font_manager.py:1333 - findfont: Generic family 'sans-serif' not found because none of the following families were found: SimHei\n",
      "[WARNING] 2024-08-05 14:32:04 - font_manager.py:1333 - findfont: Generic family 'sans-serif' not found because none of the following families were found: SimHei\n",
      "[WARNING] 2024-08-05 14:32:04 - font_manager.py:1333 - findfont: Generic family 'sans-serif' not found because none of the following families were found: SimHei\n",
      "[WARNING] 2024-08-05 14:32:04 - font_manager.py:1333 - findfont: Generic family 'sans-serif' not found because none of the following families were found: SimHei\n",
      "[WARNING] 2024-08-05 14:32:04 - font_manager.py:1333 - findfont: Generic family 'sans-serif' not found because none of the following families were found: SimHei\n",
      "[WARNING] 2024-08-05 14:32:04 - font_manager.py:1333 - findfont: Generic family 'sans-serif' not found because none of the following families were found: SimHei\n",
      "[WARNING] 2024-08-05 14:32:04 - font_manager.py:1333 - findfont: Generic family 'sans-serif' not found because none of the following families were found: SimHei\n",
      "[WARNING] 2024-08-05 14:32:04 - font_manager.py:1333 - findfont: Generic family 'sans-serif' not found because none of the following families were found: SimHei\n",
      "[WARNING] 2024-08-05 14:32:04 - font_manager.py:1333 - findfont: Generic family 'sans-serif' not found because none of the following families were found: SimHei\n",
      "[WARNING] 2024-08-05 14:32:04 - font_manager.py:1333 - findfont: Generic family 'sans-serif' not found because none of the following families were found: SimHei\n",
      "[WARNING] 2024-08-05 14:32:04 - font_manager.py:1333 - findfont: Generic family 'sans-serif' not found because none of the following families were found: SimHei\n",
      "[WARNING] 2024-08-05 14:32:04 - font_manager.py:1333 - findfont: Generic family 'sans-serif' not found because none of the following families were found: SimHei\n",
      "[WARNING] 2024-08-05 14:32:04 - font_manager.py:1333 - findfont: Generic family 'sans-serif' not found because none of the following families were found: SimHei\n",
      "[WARNING] 2024-08-05 14:32:04 - font_manager.py:1333 - findfont: Generic family 'sans-serif' not found because none of the following families were found: SimHei\n",
      "[WARNING] 2024-08-05 14:32:04 - font_manager.py:1333 - findfont: Generic family 'sans-serif' not found because none of the following families were found: SimHei\n",
      "[WARNING] 2024-08-05 14:32:04 - font_manager.py:1333 - findfont: Generic family 'sans-serif' not found because none of the following families were found: SimHei\n",
      "[WARNING] 2024-08-05 14:32:04 - font_manager.py:1333 - findfont: Generic family 'sans-serif' not found because none of the following families were found: SimHei\n",
      "[WARNING] 2024-08-05 14:32:04 - font_manager.py:1333 - findfont: Generic family 'sans-serif' not found because none of the following families were found: SimHei\n",
      "[WARNING] 2024-08-05 14:32:04 - font_manager.py:1333 - findfont: Generic family 'sans-serif' not found because none of the following families were found: SimHei\n",
      "[WARNING] 2024-08-05 14:32:04 - font_manager.py:1333 - findfont: Generic family 'sans-serif' not found because none of the following families were found: SimHei\n",
      "[WARNING] 2024-08-05 14:32:04 - font_manager.py:1333 - findfont: Generic family 'sans-serif' not found because none of the following families were found: SimHei\n",
      "[WARNING] 2024-08-05 14:32:04 - font_manager.py:1333 - findfont: Generic family 'sans-serif' not found because none of the following families were found: SimHei\n",
      "[WARNING] 2024-08-05 14:32:04 - font_manager.py:1333 - findfont: Generic family 'sans-serif' not found because none of the following families were found: SimHei\n",
      "[WARNING] 2024-08-05 14:32:04 - font_manager.py:1333 - findfont: Generic family 'sans-serif' not found because none of the following families were found: SimHei\n",
      "[WARNING] 2024-08-05 14:32:04 - font_manager.py:1333 - findfont: Generic family 'sans-serif' not found because none of the following families were found: SimHei\n",
      "[WARNING] 2024-08-05 14:32:04 - font_manager.py:1333 - findfont: Generic family 'sans-serif' not found because none of the following families were found: SimHei\n",
      "[WARNING] 2024-08-05 14:32:04 - font_manager.py:1333 - findfont: Generic family 'sans-serif' not found because none of the following families were found: SimHei\n",
      "[WARNING] 2024-08-05 14:32:04 - font_manager.py:1333 - findfont: Generic family 'sans-serif' not found because none of the following families were found: SimHei\n",
      "[WARNING] 2024-08-05 14:32:04 - font_manager.py:1333 - findfont: Generic family 'sans-serif' not found because none of the following families were found: SimHei\n",
      "[WARNING] 2024-08-05 14:32:04 - font_manager.py:1333 - findfont: Generic family 'sans-serif' not found because none of the following families were found: SimHei\n",
      "[WARNING] 2024-08-05 14:32:04 - font_manager.py:1333 - findfont: Generic family 'sans-serif' not found because none of the following families were found: SimHei\n",
      "[WARNING] 2024-08-05 14:32:04 - font_manager.py:1333 - findfont: Generic family 'sans-serif' not found because none of the following families were found: SimHei\n",
      "[WARNING] 2024-08-05 14:32:04 - font_manager.py:1333 - findfont: Generic family 'sans-serif' not found because none of the following families were found: SimHei\n",
      "[WARNING] 2024-08-05 14:32:05 - font_manager.py:1333 - findfont: Generic family 'sans-serif' not found because none of the following families were found: SimHei\n",
      "[WARNING] 2024-08-05 14:32:05 - font_manager.py:1333 - findfont: Generic family 'sans-serif' not found because none of the following families were found: SimHei\n",
      "[WARNING] 2024-08-05 14:32:05 - font_manager.py:1333 - findfont: Generic family 'sans-serif' not found because none of the following families were found: SimHei\n",
      "[WARNING] 2024-08-05 14:32:05 - font_manager.py:1333 - findfont: Generic family 'sans-serif' not found because none of the following families were found: SimHei\n",
      "[WARNING] 2024-08-05 14:32:05 - font_manager.py:1333 - findfont: Generic family 'sans-serif' not found because none of the following families were found: SimHei\n",
      "[WARNING] 2024-08-05 14:32:05 - font_manager.py:1333 - findfont: Generic family 'sans-serif' not found because none of the following families were found: SimHei\n",
      "[WARNING] 2024-08-05 14:32:05 - font_manager.py:1333 - findfont: Generic family 'sans-serif' not found because none of the following families were found: SimHei\n",
      "[WARNING] 2024-08-05 14:32:05 - font_manager.py:1333 - findfont: Generic family 'sans-serif' not found because none of the following families were found: SimHei\n",
      "[WARNING] 2024-08-05 14:32:05 - font_manager.py:1333 - findfont: Generic family 'sans-serif' not found because none of the following families were found: SimHei\n",
      "[WARNING] 2024-08-05 14:32:05 - font_manager.py:1333 - findfont: Generic family 'sans-serif' not found because none of the following families were found: SimHei\n",
      "[WARNING] 2024-08-05 14:32:05 - font_manager.py:1333 - findfont: Generic family 'sans-serif' not found because none of the following families were found: SimHei\n",
      "[WARNING] 2024-08-05 14:32:05 - font_manager.py:1333 - findfont: Generic family 'sans-serif' not found because none of the following families were found: SimHei\n",
      "[WARNING] 2024-08-05 14:32:05 - font_manager.py:1333 - findfont: Generic family 'sans-serif' not found because none of the following families were found: SimHei\n",
      "[WARNING] 2024-08-05 14:32:05 - font_manager.py:1333 - findfont: Generic family 'sans-serif' not found because none of the following families were found: SimHei\n",
      "[WARNING] 2024-08-05 14:32:05 - font_manager.py:1333 - findfont: Generic family 'sans-serif' not found because none of the following families were found: SimHei\n",
      "[WARNING] 2024-08-05 14:32:05 - font_manager.py:1333 - findfont: Generic family 'sans-serif' not found because none of the following families were found: SimHei\n",
      "[WARNING] 2024-08-05 14:32:05 - font_manager.py:1333 - findfont: Generic family 'sans-serif' not found because none of the following families were found: SimHei\n",
      "[WARNING] 2024-08-05 14:32:05 - font_manager.py:1333 - findfont: Generic family 'sans-serif' not found because none of the following families were found: SimHei\n",
      "[WARNING] 2024-08-05 14:32:05 - font_manager.py:1333 - findfont: Generic family 'sans-serif' not found because none of the following families were found: SimHei\n",
      "[WARNING] 2024-08-05 14:32:05 - font_manager.py:1333 - findfont: Generic family 'sans-serif' not found because none of the following families were found: SimHei\n",
      "[WARNING] 2024-08-05 14:32:05 - font_manager.py:1333 - findfont: Generic family 'sans-serif' not found because none of the following families were found: SimHei\n",
      "[WARNING] 2024-08-05 14:32:05 - font_manager.py:1333 - findfont: Generic family 'sans-serif' not found because none of the following families were found: SimHei\n",
      "[WARNING] 2024-08-05 14:32:05 - font_manager.py:1333 - findfont: Generic family 'sans-serif' not found because none of the following families were found: SimHei\n",
      "[WARNING] 2024-08-05 14:32:05 - font_manager.py:1333 - findfont: Generic family 'sans-serif' not found because none of the following families were found: SimHei\n",
      "[WARNING] 2024-08-05 14:32:05 - font_manager.py:1333 - findfont: Generic family 'sans-serif' not found because none of the following families were found: SimHei\n",
      "[WARNING] 2024-08-05 14:32:05 - font_manager.py:1333 - findfont: Generic family 'sans-serif' not found because none of the following families were found: SimHei\n",
      "[WARNING] 2024-08-05 14:32:05 - font_manager.py:1333 - findfont: Generic family 'sans-serif' not found because none of the following families were found: SimHei\n",
      "[WARNING] 2024-08-05 14:32:05 - font_manager.py:1333 - findfont: Generic family 'sans-serif' not found because none of the following families were found: SimHei\n",
      "[WARNING] 2024-08-05 14:32:05 - font_manager.py:1333 - findfont: Generic family 'sans-serif' not found because none of the following families were found: SimHei\n",
      "[WARNING] 2024-08-05 14:32:05 - font_manager.py:1333 - findfont: Generic family 'sans-serif' not found because none of the following families were found: SimHei\n",
      "[WARNING] 2024-08-05 14:32:05 - font_manager.py:1333 - findfont: Generic family 'sans-serif' not found because none of the following families were found: SimHei\n",
      "[WARNING] 2024-08-05 14:32:05 - font_manager.py:1333 - findfont: Generic family 'sans-serif' not found because none of the following families were found: SimHei\n",
      "[WARNING] 2024-08-05 14:32:05 - font_manager.py:1333 - findfont: Generic family 'sans-serif' not found because none of the following families were found: SimHei\n",
      "[WARNING] 2024-08-05 14:32:05 - font_manager.py:1333 - findfont: Generic family 'sans-serif' not found because none of the following families were found: SimHei\n",
      "[WARNING] 2024-08-05 14:32:05 - font_manager.py:1333 - findfont: Generic family 'sans-serif' not found because none of the following families were found: SimHei\n",
      "[WARNING] 2024-08-05 14:32:05 - font_manager.py:1333 - findfont: Generic family 'sans-serif' not found because none of the following families were found: SimHei\n",
      "[WARNING] 2024-08-05 14:32:05 - font_manager.py:1333 - findfont: Generic family 'sans-serif' not found because none of the following families were found: SimHei\n",
      "[WARNING] 2024-08-05 14:32:05 - font_manager.py:1333 - findfont: Generic family 'sans-serif' not found because none of the following families were found: SimHei\n",
      "[WARNING] 2024-08-05 14:32:05 - font_manager.py:1333 - findfont: Generic family 'sans-serif' not found because none of the following families were found: SimHei\n",
      "[WARNING] 2024-08-05 14:32:05 - font_manager.py:1333 - findfont: Generic family 'sans-serif' not found because none of the following families were found: SimHei\n",
      "[WARNING] 2024-08-05 14:32:05 - font_manager.py:1333 - findfont: Generic family 'sans-serif' not found because none of the following families were found: SimHei\n",
      "[WARNING] 2024-08-05 14:32:05 - font_manager.py:1333 - findfont: Generic family 'sans-serif' not found because none of the following families were found: SimHei\n",
      "[WARNING] 2024-08-05 14:32:05 - font_manager.py:1333 - findfont: Generic family 'sans-serif' not found because none of the following families were found: SimHei\n",
      "[WARNING] 2024-08-05 14:32:05 - font_manager.py:1333 - findfont: Generic family 'sans-serif' not found because none of the following families were found: SimHei\n",
      "[WARNING] 2024-08-05 14:32:05 - font_manager.py:1333 - findfont: Generic family 'sans-serif' not found because none of the following families were found: SimHei\n",
      "[WARNING] 2024-08-05 14:32:05 - font_manager.py:1333 - findfont: Generic family 'sans-serif' not found because none of the following families were found: SimHei\n",
      "[WARNING] 2024-08-05 14:32:05 - font_manager.py:1333 - findfont: Generic family 'sans-serif' not found because none of the following families were found: SimHei\n",
      "[WARNING] 2024-08-05 14:32:05 - font_manager.py:1333 - findfont: Generic family 'sans-serif' not found because none of the following families were found: SimHei\n",
      "[WARNING] 2024-08-05 14:32:05 - font_manager.py:1333 - findfont: Generic family 'sans-serif' not found because none of the following families were found: SimHei\n",
      "[WARNING] 2024-08-05 14:32:05 - font_manager.py:1333 - findfont: Generic family 'sans-serif' not found because none of the following families were found: SimHei\n",
      "[WARNING] 2024-08-05 14:32:05 - font_manager.py:1333 - findfont: Generic family 'sans-serif' not found because none of the following families were found: SimHei\n",
      "[WARNING] 2024-08-05 14:32:05 - font_manager.py:1333 - findfont: Generic family 'sans-serif' not found because none of the following families were found: SimHei\n",
      "[WARNING] 2024-08-05 14:32:05 - font_manager.py:1333 - findfont: Generic family 'sans-serif' not found because none of the following families were found: SimHei\n",
      "[WARNING] 2024-08-05 14:32:05 - font_manager.py:1333 - findfont: Generic family 'sans-serif' not found because none of the following families were found: SimHei\n",
      "[WARNING] 2024-08-05 14:32:05 - font_manager.py:1333 - findfont: Generic family 'sans-serif' not found because none of the following families were found: SimHei\n",
      "[WARNING] 2024-08-05 14:32:05 - font_manager.py:1333 - findfont: Generic family 'sans-serif' not found because none of the following families were found: SimHei\n",
      "[WARNING] 2024-08-05 14:32:05 - font_manager.py:1333 - findfont: Generic family 'sans-serif' not found because none of the following families were found: SimHei\n",
      "[WARNING] 2024-08-05 14:32:05 - font_manager.py:1333 - findfont: Generic family 'sans-serif' not found because none of the following families were found: SimHei\n",
      "[WARNING] 2024-08-05 14:32:05 - font_manager.py:1333 - findfont: Generic family 'sans-serif' not found because none of the following families were found: SimHei\n",
      "[WARNING] 2024-08-05 14:32:05 - font_manager.py:1333 - findfont: Generic family 'sans-serif' not found because none of the following families were found: SimHei\n",
      "[WARNING] 2024-08-05 14:32:05 - font_manager.py:1333 - findfont: Generic family 'sans-serif' not found because none of the following families were found: SimHei\n",
      "[WARNING] 2024-08-05 14:32:05 - font_manager.py:1333 - findfont: Generic family 'sans-serif' not found because none of the following families were found: SimHei\n",
      "[WARNING] 2024-08-05 14:32:05 - font_manager.py:1333 - findfont: Generic family 'sans-serif' not found because none of the following families were found: SimHei\n",
      "[WARNING] 2024-08-05 14:32:05 - font_manager.py:1333 - findfont: Generic family 'sans-serif' not found because none of the following families were found: SimHei\n",
      "[WARNING] 2024-08-05 14:32:05 - font_manager.py:1333 - findfont: Generic family 'sans-serif' not found because none of the following families were found: SimHei\n",
      "[WARNING] 2024-08-05 14:32:05 - font_manager.py:1333 - findfont: Generic family 'sans-serif' not found because none of the following families were found: SimHei\n",
      "[WARNING] 2024-08-05 14:32:05 - font_manager.py:1333 - findfont: Generic family 'sans-serif' not found because none of the following families were found: SimHei\n",
      "[WARNING] 2024-08-05 14:32:05 - font_manager.py:1333 - findfont: Generic family 'sans-serif' not found because none of the following families were found: SimHei\n",
      "[WARNING] 2024-08-05 14:32:05 - font_manager.py:1333 - findfont: Generic family 'sans-serif' not found because none of the following families were found: SimHei\n",
      "[WARNING] 2024-08-05 14:32:05 - font_manager.py:1333 - findfont: Generic family 'sans-serif' not found because none of the following families were found: SimHei\n",
      "[WARNING] 2024-08-05 14:32:05 - font_manager.py:1333 - findfont: Generic family 'sans-serif' not found because none of the following families were found: SimHei\n",
      "[WARNING] 2024-08-05 14:32:05 - font_manager.py:1333 - findfont: Generic family 'sans-serif' not found because none of the following families were found: SimHei\n",
      "[WARNING] 2024-08-05 14:32:05 - font_manager.py:1333 - findfont: Generic family 'sans-serif' not found because none of the following families were found: SimHei\n",
      "[WARNING] 2024-08-05 14:32:05 - font_manager.py:1333 - findfont: Generic family 'sans-serif' not found because none of the following families were found: SimHei\n",
      "[WARNING] 2024-08-05 14:32:05 - font_manager.py:1333 - findfont: Generic family 'sans-serif' not found because none of the following families were found: SimHei\n"
     ]
    },
    {
     "data": {
      "image/png": "[encoded data removed]",
      "text/plain": [
       "<Figure size 800x800 with 1 Axes>"
      ]
     },
     "metadata": {},
     "output_type": "display_data"
    }
   ],
   "source": [
    "from fast_causal_inference.lib.tools import *\n",
    "matching_plot(match_df.getTableName(),T,'effect')"
   ]
  },
  {
   "cell_type": "markdown",
   "id": "6f11fa07-a840-456a-ad40-980718b8028f",
   "metadata": {
    "tags": []
   },
   "source": [
    "#### Evaluate treatment effect on the outcome\n",
    "\n",
    "Now, it’s time to familiarize ourselves with a few terms related to the treatment effect, also known as the causal effect. Looking at a small example with a continuous outcome may be the easiest way to get familiarized with it.\n",
    "##### DIM estimator\n",
    "After the matching process, we can consider the experimental and control groups as homogeneous, free from bias. This allows us to directly estimate the Average Treatment Effect (ATE) and compute its variance using the bootstrap method. The `ATEestimator` function also returns the confidence interval for the DIM(Difference in Means) estimator. As per the formula below:\n",
    "\n",
    "- $\\hat \\tau_{ipw}$ represents the ATE estimator. \n",
    "\n",
    "For each sample $i=1,...,N$:\n",
    "\n",
    "- $Y_i$ is the outcome variable\n",
    "- $Z_i$ represents the treatment\n",
    "- $X_i$ is the covariate.\n",
    "\n",
    "$$\\hat \\tau_{ATE}=\\frac{\\sum_{i=1}^N Y_iZ_i}{\\sum_{i=1}^NZ_i}-\\frac{\\sum_{i=1}^N Y_i(1-Z_i))}{\\sum_{i=1}^N(1-Z_i)}$$"
   ]
  },
  {
   "cell_type": "code",
   "execution_count": 13,
   "id": "d37c47b1-e56d-4250-843f-c23b148143b2",
   "metadata": {},
   "outputs": [
    {
     "ename": "AttributeError",
     "evalue": "type object 'SqlGateWayConn' has no attribute 'create_sql_instance'",
     "output_type": "error",
     "traceback": [
      "\u001b[0;31m---------------------------------------------------------------------------\u001b[0m",
      "\u001b[0;31mAttributeError\u001b[0m                            Traceback (most recent call last)",
      "Cell \u001b[0;32mIn[13], line 2\u001b[0m\n\u001b[1;32m      1\u001b[0m \u001b[38;5;28;01mfrom\u001b[39;00m \u001b[38;5;21;01mfast_causal_inference\u001b[39;00m\u001b[38;5;21;01m.\u001b[39;00m\u001b[38;5;21;01mlib\u001b[39;00m\u001b[38;5;21;01m.\u001b[39;00m\u001b[38;5;21;01mestimators\u001b[39;00m \u001b[38;5;28;01mimport\u001b[39;00m \u001b[38;5;241m*\u001b[39m\n\u001b[0;32m----> 2\u001b[0m \u001b[43mATEestimator\u001b[49m\u001b[43m(\u001b[49m\u001b[43mmatch_df\u001b[49m\u001b[38;5;241;43m.\u001b[39;49m\u001b[43mgetTableName\u001b[49m\u001b[43m(\u001b[49m\u001b[43m)\u001b[49m\u001b[43m,\u001b[49m\u001b[43mY\u001b[49m\u001b[43m,\u001b[49m\u001b[43mT\u001b[49m\u001b[43m)\u001b[49m\n",
      "File \u001b[0;32m/opt/conda/lib/python3.11/site-packages/fast_causal_inference/lib/estimators.py:98\u001b[0m, in \u001b[0;36mATEestimator\u001b[0;34m(table, Y, T, B)\u001b[0m\n\u001b[1;32m     81\u001b[0m \u001b[38;5;250m\u001b[39m\u001b[38;5;124;03m\"\"\"\u001b[39;00m\n\u001b[1;32m     82\u001b[0m \u001b[38;5;124;03mEstimate the Average Treatment Effect (ATE) using a simple difference in means approach.\u001b[39;00m\n\u001b[1;32m     83\u001b[0m \n\u001b[0;32m   (...)\u001b[0m\n\u001b[1;32m     95\u001b[0m \u001b[38;5;124;03m    '95% confidence_interval': 95% confidence interval.\u001b[39;00m\n\u001b[1;32m     96\u001b[0m \u001b[38;5;124;03m\"\"\"\u001b[39;00m\n\u001b[1;32m     97\u001b[0m \u001b[38;5;66;03m# Create SQL instance\u001b[39;00m\n\u001b[0;32m---> 98\u001b[0m sql_instance \u001b[38;5;241m=\u001b[39m \u001b[43mSqlGateWayConn\u001b[49m\u001b[38;5;241;43m.\u001b[39;49m\u001b[43mcreate_sql_instance\u001b[49m()\n\u001b[1;32m    100\u001b[0m \u001b[38;5;66;03m# Get the number of rows in the table\u001b[39;00m\n\u001b[1;32m    101\u001b[0m n \u001b[38;5;241m=\u001b[39m \u001b[38;5;28mint\u001b[39m(sql_instance\u001b[38;5;241m.\u001b[39msql(\u001b[38;5;124mf\u001b[39m\u001b[38;5;124m\"\u001b[39m\u001b[38;5;124mselect count(*) as cnt from \u001b[39m\u001b[38;5;132;01m{\u001b[39;00mtable\u001b[38;5;132;01m}\u001b[39;00m\u001b[38;5;124m\"\u001b[39m)[\u001b[38;5;124m\"\u001b[39m\u001b[38;5;124mcnt\u001b[39m\u001b[38;5;124m\"\u001b[39m][\u001b[38;5;241m0\u001b[39m])\n",
      "\u001b[0;31mAttributeError\u001b[0m: type object 'SqlGateWayConn' has no attribute 'create_sql_instance'"
     ]
    }
   ],
   "source": [
    "from fast_causal_inference.lib.estimators import *\n",
    "ATEestimator(match_df.getTableName(),Y,T)"
   ]
  },
  {
   "cell_type": "markdown",
   "id": "2739cb56-8ae0-4af4-9817-a1ca5aa92d5e",
   "metadata": {},
   "source": [
    "##### IPW estimator\n",
    "Without resorting to matching, we can directly estimate the Average Treatment Effect (ATE) using all available samples. This process involves the use of the Inverse Probability Weighting (IPW) estimator for ATE estimation, with the variance calculated via the bootstrap method. The `IPWestimator` function also yields the confidence interval of the ATE. As illustrated in the formula below:\n",
    "\n",
    "- $\\hat \\tau_{ipw}$ is the IPW estimator. \n",
    "\n",
    "For each sample $i=1,...,N$:\n",
    "\n",
    "- $Y_i$ is the outcome variable\n",
    "- $Z_i$ is the treatment\n",
    "- $X_i$ is the covariate\n",
    "- $e(X_i)$ is the predicted propensity score.\n",
    "\n",
    "$$\\hat \\tau_{ipw}=\\frac{\\sum_{i=1}^N Y_iZ_i/e(X_i)}{\\sum_{i=1}^NZ_i/e(X_i)}-\\frac{\\sum_{i=1}^N Y_i(1-Z_i)/(1-e(X_i))}{\\sum_{i=1}^N(1-Z_i)/(1-e(X_i))}$$"
   ]
  },
  {
   "cell_type": "code",
   "execution_count": null,
   "id": "ef193e85-8152-40bc-8f50-8ce72733fdf6",
   "metadata": {},
   "outputs": [],
   "source": [
    "from fast_causal_inference.lib.estimators import *\n",
    "IPWestimator(table_output,Y,T,'score',n=100000,B=500)"
   ]
  },
  {
   "cell_type": "markdown",
   "id": "0820dbcf-b3b8-4f14-8c82-c5dcdfd74e79",
   "metadata": {},
   "source": [
    "### Case2- Uplift modeling"
   ]
  },
  {
   "cell_type": "markdown",
   "id": "949cfc2c-c397-43d3-a3f4-4ac4449108e6",
   "metadata": {},
   "source": [
    "Uplift modeling is a set of causal inference techniques that leverage machine learning models to estimate the causal impact of a treatment on an individual's behavior.\n",
    "\n",
    "In this context:\n",
    "\n",
    "- \"Persuadables\" are individuals who respond positively to the treatment.\n",
    "- \"Sleeping dogs\" are individuals who exhibit a strong negative response to the treatment.\n",
    "- \"Lost causes\" are individuals who do not reach the desired outcome even with the treatment.\n",
    "- \"Sure things\" are individuals who always achieve the desired outcome, regardless of the treatment.\n",
    "\n",
    "The objective is to identify the \"persuadables\" to focus efforts on, avoid wasting resources on \"sure things\" and \"lost causes,\" and prevent unnecessary intervention for \"sleeping dogs.\"\n",
    "\n",
    "![Example Image](https://encrypted-tbn0.gstatic.com/images?q=tbn:ANd9GcSsUVyoXY2SaSAdDVAIur1ssPPU8NZ0Qwlff252bgd8zVDOye08yErMf-aIZy_hNOMk_RY&usqp=CAU)"
   ]
  },
  {
   "cell_type": "markdown",
   "id": "9a591b75-ea7a-4f70-8540-38c3f464c8ef",
   "metadata": {},
   "source": [
    "#### data split"
   ]
  },
  {
   "cell_type": "code",
   "execution_count": 14,
   "id": "4c132d38-4cfe-4ebd-bc6b-f324eb60734b",
   "metadata": {},
   "outputs": [],
   "source": [
    "table = 'test_data_small'\n",
    "Y='y'\n",
    "T='treatment'\n",
    "X = 'x1+x2+x3+x4+x5+x_long_tail1+x_long_tail2'\n",
    "needcut_X = 'x1+x2+x3+x4+x5+x_long_tail1+x_long_tail2'\n",
    "\n",
    "from fast_causal_inference.lib.tools import *\n",
    "table_train,table_test = data_split(table)"
   ]
  },
  {
   "cell_type": "markdown",
   "id": "96c624f0-b4e4-4ad2-a801-cb27d9d5e9cd",
   "metadata": {},
   "source": [
    "#### causal tree"
   ]
  },
  {
   "cell_type": "markdown",
   "id": "fd8eb0e3-588c-4cd1-af36-18f65c5dcd17",
   "metadata": {},
   "source": [
    "The causal tree is a method used in [Recursive Partitioning for Heterogeneous Causal Effects](https://www.pnas.org/doi/10.1073/pnas.1510489113) to estimate the individual treatment effects within a population. It is a variant of traditional decision trees that aims to identify subgroups of individuals who respond differently to a treatment.\n",
    "\n",
    "The causal tree algorithm recursively partitions the data based on a set of covariates and their treatment assignment. It seeks to find the optimal splits that maximize the heterogeneity in treatment effects across the resulting subgroups. This allows for the identification of subpopulations that exhibit varying responses to the treatment.\n",
    "\n",
    "The causal tree approach is valuable in understanding and predicting individual treatment effects in situations where the treatment effect may vary across different subpopulations. It provides a useful tool for personalized decision-making and targeted interventions based on the identified subgroups with distinct treatment responses."
   ]
  },
  {
   "cell_type": "markdown",
   "id": "427cbb29-cd04-42a8-a914-4fb4da002c2a",
   "metadata": {},
   "source": [
    "##### train"
   ]
  },
  {
   "cell_type": "code",
   "execution_count": 15,
   "id": "38f93632-bf57-48bd-8695-df6a920ae34a",
   "metadata": {},
   "outputs": [
    {
     "name": "stdout",
     "output_type": "stream",
     "text": [
      "****STEP1.  Table check.\n",
      "debug\n",
      "****STEP2.  Bucket the continuous variables(cut_x_names).\n",
      "****STEP3.  Create new table for training causaltree:  test_data_small_1722868344_train_1722868345_new .\n",
      "\t train data samples: 22577,predict data samples: 22415\n",
      "****STEP4.  Build tree.\n",
      "================================== start buildTree -- maxDepth: 3, nodePosition: root==================================\n",
      "--------start leftNode - build -- depth: 0, nodePosition: LL--------\n",
      "--------start leftNode - build -- depth: 1, nodePosition: LLL--------\n",
      "--------start leftNode - build -- depth: 2, nodePosition: LLLL--------\n",
      "Reach the maxDepth, stop as a leaf node\n",
      "--------start rightNode - build -- depth: 2, nodePosition: LLLR--------\n",
      "Reach the maxDepth, stop as a leaf node\n",
      "--------start rightNode - build -- depth: 1, nodePosition: LLR--------\n",
      "--------start leftNode - build -- depth: 2, nodePosition: LLRL--------\n",
      "Reach the maxDepth, stop as a leaf node\n",
      "--------start rightNode - build -- depth: 2, nodePosition: LLRR--------\n",
      "Reach the maxDepth, stop as a leaf node\n",
      "--------start rightNode - build -- depth: 0, nodePosition: LR--------\n",
      "--------start leftNode - build -- depth: 1, nodePosition: LRL--------\n",
      "--------start leftNode - build -- depth: 2, nodePosition: LRLL--------\n",
      "Reach the maxDepth, stop as a leaf node\n",
      "--------start rightNode - build -- depth: 2, nodePosition: LRLR--------\n",
      "Reach the maxDepth, stop as a leaf node\n",
      "--------start rightNode - build -- depth: 1, nodePosition: LRR--------\n",
      "--------start leftNode - build -- depth: 2, nodePosition: LRRL--------\n",
      "Reach the maxDepth, stop as a leaf node\n",
      "--------start rightNode - build -- depth: 2, nodePosition: LRRR--------\n",
      "Reach the maxDepth, stop as a leaf node\n",
      "============================================== build Tree Sucessfully=====================================================\n",
      "****STEP5.  Estimate CATE.\n",
      "============================================== compute Tree Sucessfully=====================================================\n"
     ]
    }
   ],
   "source": [
    "from fast_causal_inference.lib.causaltree import CausalTree\n",
    "hte = CausalTree(depth = 3,min_sample_ratio_leaf=0.001)\n",
    "hte.fit(Y,T,X,needcut_X,table_train)"
   ]
  },
  {
   "cell_type": "markdown",
   "id": "f66061a2-59e9-41fb-857a-17a334170a45",
   "metadata": {},
   "source": [
    "##### tree visualization"
   ]
  },
  {
   "cell_type": "code",
   "execution_count": 16,
   "id": "e218a83a-88d7-4cb3-847c-b921c644e60b",
   "metadata": {
    "tags": []
   },
   "outputs": [
    {
     "data": {
      "image/svg+xml": [
       "<?xml version=\"1.0\" encoding=\"UTF-8\" standalone=\"no\"?>\n",
       "<!DOCTYPE svg PUBLIC \"-//W3C//DTD SVG 1.1//EN\"\n",
       " \"http://www.w3.org/Graphics/SVG/1.1/DTD/svg11.dtd\">\n",
       "<!-- Generated by graphviz version 2.43.0 (0)\n",
       " -->\n",
       "<!-- Title: %3 Pages: 1 -->\n",
       "<svg width=\"2418pt\" height=\"614pt\"\n",
       " viewBox=\"0.00 0.00 2417.79 613.80\" xmlns=\"http://www.w3.org/2000/svg\" xmlns:xlink=\"http://www.w3.org/1999/xlink\">\n",
       "<g id=\"graph0\" class=\"graph\" transform=\"scale(1 1) rotate(0) translate(4 609.8)\">\n",
       "<title>%3</title>\n",
       "<polygon fill=\"white\" stroke=\"transparent\" points=\"-4,4 -4,-609.8 2413.79,-609.8 2413.79,4 -4,4\"/>\n",
       "<!-- 1.0 -->\n",
       "<g id=\"node1\" class=\"node\">\n",
       "<title>1.0</title>\n",
       "<ellipse fill=\"none\" stroke=\"black\" cx=\"1185.79\" cy=\"-564.79\" rx=\"123.99\" ry=\"41.02\"/>\n",
       "<text text-anchor=\"middle\" x=\"1185.79\" y=\"-582.59\" font-family=\"Times,serif\" font-size=\"9.00\">Node : 1</text>\n",
       "<text text-anchor=\"middle\" x=\"1185.79\" y=\"-572.59\" font-family=\"Times,serif\" font-size=\"9.00\">sample_ratio:100.0%</text>\n",
       "<text text-anchor=\"middle\" x=\"1185.79\" y=\"-562.59\" font-family=\"Times,serif\" font-size=\"9.00\">CATE : 15.1449 &#160;(p_value:0.0)</text>\n",
       "<text text-anchor=\"middle\" x=\"1185.79\" y=\"-552.59\" font-family=\"Times,serif\" font-size=\"9.00\">sample size: control 11100; &#160;treatment 11315</text>\n",
       "<text text-anchor=\"middle\" x=\"1185.79\" y=\"-542.59\" font-family=\"Times,serif\" font-size=\"9.00\">mean: control 4.7103; &#160;treatment 19.8552</text>\n",
       "</g>\n",
       "<!-- 2.0 -->\n",
       "<g id=\"node2\" class=\"node\">\n",
       "<title>2.0</title>\n",
       "<ellipse fill=\"none\" stroke=\"black\" cx=\"902.79\" cy=\"-418.48\" rx=\"129.3\" ry=\"55.31\"/>\n",
       "<text text-anchor=\"middle\" x=\"902.79\" y=\"-446.28\" font-family=\"Times,serif\" font-size=\"9.00\">Node : 2</text>\n",
       "<text text-anchor=\"middle\" x=\"902.79\" y=\"-436.28\" font-family=\"Times,serif\" font-size=\"9.00\">split_criterion: &#160;&#160;x2_buckets in [&#39;[&#45;inf,&#45;2.5252)&#39;,</text>\n",
       "<text text-anchor=\"middle\" x=\"902.79\" y=\"-426.28\" font-family=\"Times,serif\" font-size=\"9.00\">&#39;[2.5616,inf)&#39;]</text>\n",
       "<text text-anchor=\"middle\" x=\"902.79\" y=\"-416.28\" font-family=\"Times,serif\" font-size=\"9.00\">sample_ratio:20.11%</text>\n",
       "<text text-anchor=\"middle\" x=\"902.79\" y=\"-406.28\" font-family=\"Times,serif\" font-size=\"9.00\">CATE : 32.8026 &#160;(p_value:0.0)</text>\n",
       "<text text-anchor=\"middle\" x=\"902.79\" y=\"-396.28\" font-family=\"Times,serif\" font-size=\"9.00\">sample size: control 2135; &#160;treatment 2372</text>\n",
       "<text text-anchor=\"middle\" x=\"902.79\" y=\"-386.28\" font-family=\"Times,serif\" font-size=\"9.00\">mean: control 4.7577; &#160;treatment 37.5603</text>\n",
       "</g>\n",
       "<!-- 1.0&#45;&gt;2.0 -->\n",
       "<g id=\"edge1\" class=\"edge\">\n",
       "<title>1.0&#45;&gt;2.0</title>\n",
       "<path fill=\"none\" stroke=\"black\" d=\"M1119.43,-529.96C1081.99,-510.87 1034.67,-486.73 993.8,-465.89\"/>\n",
       "<polygon fill=\"black\" stroke=\"black\" points=\"995.15,-462.65 984.65,-461.23 991.97,-468.89 995.15,-462.65\"/>\n",
       "</g>\n",
       "<!-- 3.0 -->\n",
       "<g id=\"node9\" class=\"node\">\n",
       "<title>3.0</title>\n",
       "<ellipse fill=\"none\" stroke=\"black\" cx=\"1489.79\" cy=\"-418.48\" rx=\"149.81\" ry=\"69.09\"/>\n",
       "<text text-anchor=\"middle\" x=\"1489.79\" y=\"-456.28\" font-family=\"Times,serif\" font-size=\"9.00\">Node : 3</text>\n",
       "<text text-anchor=\"middle\" x=\"1489.79\" y=\"-446.28\" font-family=\"Times,serif\" font-size=\"9.00\">split_criterion: &#160;&#160;x2_buckets in [&#39;[&#45;0.4687,0.0222)&#39;,</text>\n",
       "<text text-anchor=\"middle\" x=\"1489.79\" y=\"-436.28\" font-family=\"Times,serif\" font-size=\"9.00\">&#39;[&#45;0.9708,&#45;0.4687)&#39;, &#39;[&#45;1.5789,&#45;0.9708)&#39;,</text>\n",
       "<text text-anchor=\"middle\" x=\"1489.79\" y=\"-426.28\" font-family=\"Times,serif\" font-size=\"9.00\">&#39;[&#45;2.5252,&#45;1.5789)&#39;, &#39;[0.0222,0.5576)&#39;, &#39;[0.5576,1.076)&#39;,</text>\n",
       "<text text-anchor=\"middle\" x=\"1489.79\" y=\"-416.28\" font-family=\"Times,serif\" font-size=\"9.00\">&#39;[1.076,1.6863)&#39;, &#39;[1.6863,2.5616)&#39;]</text>\n",
       "<text text-anchor=\"middle\" x=\"1489.79\" y=\"-406.28\" font-family=\"Times,serif\" font-size=\"9.00\">sample_ratio:79.89%</text>\n",
       "<text text-anchor=\"middle\" x=\"1489.79\" y=\"-396.28\" font-family=\"Times,serif\" font-size=\"9.00\">CATE : 10.4602 &#160;(p_value:0.0)</text>\n",
       "<text text-anchor=\"middle\" x=\"1489.79\" y=\"-386.28\" font-family=\"Times,serif\" font-size=\"9.00\">sample size: control 8965; &#160;treatment 8943</text>\n",
       "<text text-anchor=\"middle\" x=\"1489.79\" y=\"-376.28\" font-family=\"Times,serif\" font-size=\"9.00\">mean: control 4.699; &#160;treatment 15.1592</text>\n",
       "</g>\n",
       "<!-- 1.0&#45;&gt;3.0 -->\n",
       "<g id=\"edge8\" class=\"edge\">\n",
       "<title>1.0&#45;&gt;3.0</title>\n",
       "<path fill=\"none\" stroke=\"black\" d=\"M1255.53,-530.68C1291.46,-513.63 1336.18,-492.4 1376.88,-473.08\"/>\n",
       "<polygon fill=\"black\" stroke=\"black\" points=\"1378.5,-476.18 1386.04,-468.73 1375.5,-469.86 1378.5,-476.18\"/>\n",
       "</g>\n",
       "<!-- 4.0 -->\n",
       "<g id=\"node3\" class=\"node\">\n",
       "<title>4.0</title>\n",
       "<ellipse fill=\"none\" stroke=\"black\" cx=\"465.79\" cy=\"-243.89\" rx=\"156.96\" ry=\"69.09\"/>\n",
       "<text text-anchor=\"middle\" x=\"465.79\" y=\"-281.69\" font-family=\"Times,serif\" font-size=\"9.00\">Node : 4</text>\n",
       "<text text-anchor=\"middle\" x=\"465.79\" y=\"-271.69\" font-family=\"Times,serif\" font-size=\"9.00\">split_criterion: &#160;&#160;x1_buckets in [&#39;[&#45;0.0219,0.2202)&#39;,</text>\n",
       "<text text-anchor=\"middle\" x=\"465.79\" y=\"-261.69\" font-family=\"Times,serif\" font-size=\"9.00\">&#39;[&#45;0.2546,&#45;0.0219)&#39;, &#39;[&#45;0.5162,&#45;0.2546)&#39;,</text>\n",
       "<text text-anchor=\"middle\" x=\"465.79\" y=\"-251.69\" font-family=\"Times,serif\" font-size=\"9.00\">&#39;[&#45;0.8426,&#45;0.5162)&#39;, &#39;[&#45;1.2903,&#45;0.8426)&#39;, &#39;[0.2202,0.4943)&#39;,</text>\n",
       "<text text-anchor=\"middle\" x=\"465.79\" y=\"-241.69\" font-family=\"Times,serif\" font-size=\"9.00\">&#39;[0.4943,0.8162)&#39;, &#39;[0.8162,1.2497)&#39;, &#39;[1.2497,inf)&#39;]</text>\n",
       "<text text-anchor=\"middle\" x=\"465.79\" y=\"-231.69\" font-family=\"Times,serif\" font-size=\"9.00\">sample_ratio:17.9%</text>\n",
       "<text text-anchor=\"middle\" x=\"465.79\" y=\"-221.69\" font-family=\"Times,serif\" font-size=\"9.00\">CATE : 33.6722 &#160;(p_value:0.0)</text>\n",
       "<text text-anchor=\"middle\" x=\"465.79\" y=\"-211.69\" font-family=\"Times,serif\" font-size=\"9.00\">sample size: control 1927; &#160;treatment 2085</text>\n",
       "<text text-anchor=\"middle\" x=\"465.79\" y=\"-201.69\" font-family=\"Times,serif\" font-size=\"9.00\">mean: control 4.7217; &#160;treatment 38.3939</text>\n",
       "</g>\n",
       "<!-- 2.0&#45;&gt;4.0 -->\n",
       "<g id=\"edge2\" class=\"edge\">\n",
       "<title>2.0&#45;&gt;4.0</title>\n",
       "<path fill=\"none\" stroke=\"black\" d=\"M809.04,-380.46C745.56,-355.39 660.97,-321.98 591.64,-294.6\"/>\n",
       "<polygon fill=\"black\" stroke=\"black\" points=\"592.55,-291.19 581.96,-290.77 589.98,-297.7 592.55,-291.19\"/>\n",
       "</g>\n",
       "<!-- 5.0 -->\n",
       "<g id=\"node6\" class=\"node\">\n",
       "<title>5.0</title>\n",
       "<ellipse fill=\"none\" stroke=\"black\" cx=\"902.79\" cy=\"-243.89\" rx=\"130.22\" ry=\"48.17\"/>\n",
       "<text text-anchor=\"middle\" x=\"902.79\" y=\"-266.69\" font-family=\"Times,serif\" font-size=\"9.00\">Node : 5</text>\n",
       "<text text-anchor=\"middle\" x=\"902.79\" y=\"-256.69\" font-family=\"Times,serif\" font-size=\"9.00\">split_criterion: &#160;&#160;x1_buckets in [&#39;[&#45;inf,&#45;1.2903)&#39;]</text>\n",
       "<text text-anchor=\"middle\" x=\"902.79\" y=\"-246.69\" font-family=\"Times,serif\" font-size=\"9.00\">sample_ratio:2.21%</text>\n",
       "<text text-anchor=\"middle\" x=\"902.79\" y=\"-236.69\" font-family=\"Times,serif\" font-size=\"9.00\">CATE : 26.4132 &#160;(p_value:0.0)</text>\n",
       "<text text-anchor=\"middle\" x=\"902.79\" y=\"-226.69\" font-family=\"Times,serif\" font-size=\"9.00\">sample size: control 208; &#160;treatment 287</text>\n",
       "<text text-anchor=\"middle\" x=\"902.79\" y=\"-216.69\" font-family=\"Times,serif\" font-size=\"9.00\">mean: control 5.091; &#160;treatment 31.5042</text>\n",
       "</g>\n",
       "<!-- 2.0&#45;&gt;5.0 -->\n",
       "<g id=\"edge5\" class=\"edge\">\n",
       "<title>2.0&#45;&gt;5.0</title>\n",
       "<path fill=\"none\" stroke=\"black\" d=\"M902.79,-362.87C902.79,-343.62 902.79,-321.92 902.79,-302.43\"/>\n",
       "<polygon fill=\"black\" stroke=\"black\" points=\"906.29,-302.17 902.79,-292.17 899.29,-302.17 906.29,-302.17\"/>\n",
       "</g>\n",
       "<!-- 8.0 -->\n",
       "<g id=\"node4\" class=\"node\">\n",
       "<title>8.0</title>\n",
       "<ellipse fill=\"none\" stroke=\"black\" cx=\"147.79\" cy=\"-69.3\" rx=\"147.57\" ry=\"62.45\"/>\n",
       "<text text-anchor=\"middle\" x=\"147.79\" y=\"-102.1\" font-family=\"Times,serif\" font-size=\"9.00\">Node : 8</text>\n",
       "<text text-anchor=\"middle\" x=\"147.79\" y=\"-92.1\" font-family=\"Times,serif\" font-size=\"9.00\">split_criterion: &#160;&#160;x_long_tail2_buckets in</text>\n",
       "<text text-anchor=\"middle\" x=\"147.79\" y=\"-82.1\" font-family=\"Times,serif\" font-size=\"9.00\">[&#39;[0.2868,0.4067)&#39;, &#39;[0.582,0.8272)&#39;, &#39;[0.8272,1.2116)&#39;,</text>\n",
       "<text text-anchor=\"middle\" x=\"147.79\" y=\"-72.1\" font-family=\"Times,serif\" font-size=\"9.00\">&#39;[1.2116,2.0216)&#39;, &#39;[2.0216,inf)&#39;]</text>\n",
       "<text text-anchor=\"middle\" x=\"147.79\" y=\"-62.1\" font-family=\"Times,serif\" font-size=\"9.00\">sample_ratio:9.29%</text>\n",
       "<text text-anchor=\"middle\" x=\"147.79\" y=\"-52.1\" font-family=\"Times,serif\" font-size=\"9.00\">CATE : 35.5698 &#160;(p_value:0.0)</text>\n",
       "<text text-anchor=\"middle\" x=\"147.79\" y=\"-42.1\" font-family=\"Times,serif\" font-size=\"9.00\">sample size: control 1012; &#160;treatment 1070</text>\n",
       "<text text-anchor=\"middle\" x=\"147.79\" y=\"-32.1\" font-family=\"Times,serif\" font-size=\"9.00\">mean: control 5.2985; &#160;treatment 40.8683</text>\n",
       "</g>\n",
       "<!-- 4.0&#45;&gt;8.0 -->\n",
       "<g id=\"edge3\" class=\"edge\">\n",
       "<title>4.0&#45;&gt;8.0</title>\n",
       "<path fill=\"none\" stroke=\"black\" d=\"M367.78,-189.7C329.26,-168.79 285.11,-144.83 246.52,-123.88\"/>\n",
       "<polygon fill=\"black\" stroke=\"black\" points=\"247.81,-120.6 237.35,-118.91 244.47,-126.75 247.81,-120.6\"/>\n",
       "</g>\n",
       "<!-- 9.0 -->\n",
       "<g id=\"node5\" class=\"node\">\n",
       "<title>9.0</title>\n",
       "<ellipse fill=\"none\" stroke=\"black\" cx=\"465.79\" cy=\"-69.3\" rx=\"152.06\" ry=\"62.45\"/>\n",
       "<text text-anchor=\"middle\" x=\"465.79\" y=\"-102.1\" font-family=\"Times,serif\" font-size=\"9.00\">Node : 9</text>\n",
       "<text text-anchor=\"middle\" x=\"465.79\" y=\"-92.1\" font-family=\"Times,serif\" font-size=\"9.00\">split_criterion: &#160;&#160;x_long_tail2_buckets in [&#39;[&#45;inf,0.0542)&#39;,</text>\n",
       "<text text-anchor=\"middle\" x=\"465.79\" y=\"-82.1\" font-family=\"Times,serif\" font-size=\"9.00\">&#39;[0.0542,0.114)&#39;, &#39;[0.114,0.192)&#39;, &#39;[0.192,0.2868)&#39;,</text>\n",
       "<text text-anchor=\"middle\" x=\"465.79\" y=\"-72.1\" font-family=\"Times,serif\" font-size=\"9.00\">&#39;[0.4067,0.582)&#39;]</text>\n",
       "<text text-anchor=\"middle\" x=\"465.79\" y=\"-62.1\" font-family=\"Times,serif\" font-size=\"9.00\">sample_ratio:8.61%</text>\n",
       "<text text-anchor=\"middle\" x=\"465.79\" y=\"-52.1\" font-family=\"Times,serif\" font-size=\"9.00\">CATE : 31.7018 &#160;(p_value:0.0)</text>\n",
       "<text text-anchor=\"middle\" x=\"465.79\" y=\"-42.1\" font-family=\"Times,serif\" font-size=\"9.00\">sample size: control 915; &#160;treatment 1015</text>\n",
       "<text text-anchor=\"middle\" x=\"465.79\" y=\"-32.1\" font-family=\"Times,serif\" font-size=\"9.00\">mean: control 4.0837; &#160;treatment 35.7855</text>\n",
       "</g>\n",
       "<!-- 4.0&#45;&gt;9.0 -->\n",
       "<g id=\"edge4\" class=\"edge\">\n",
       "<title>4.0&#45;&gt;9.0</title>\n",
       "<path fill=\"none\" stroke=\"black\" d=\"M465.79,-174.18C465.79,-163.57 465.79,-152.58 465.79,-141.9\"/>\n",
       "<polygon fill=\"black\" stroke=\"black\" points=\"469.29,-141.79 465.79,-131.79 462.29,-141.79 469.29,-141.79\"/>\n",
       "</g>\n",
       "<!-- 10.0 -->\n",
       "<g id=\"node7\" class=\"node\">\n",
       "<title>10.0</title>\n",
       "<ellipse fill=\"none\" stroke=\"black\" cx=\"761.79\" cy=\"-69.3\" rx=\"125.73\" ry=\"48.17\"/>\n",
       "<text text-anchor=\"middle\" x=\"761.79\" y=\"-92.1\" font-family=\"Times,serif\" font-size=\"9.00\">Node : 10</text>\n",
       "<text text-anchor=\"middle\" x=\"761.79\" y=\"-82.1\" font-family=\"Times,serif\" font-size=\"9.00\">split_criterion: &#160;&#160;x2_buckets in [&#39;[2.5616,inf)&#39;]</text>\n",
       "<text text-anchor=\"middle\" x=\"761.79\" y=\"-72.1\" font-family=\"Times,serif\" font-size=\"9.00\">sample_ratio:1.22%</text>\n",
       "<text text-anchor=\"middle\" x=\"761.79\" y=\"-62.1\" font-family=\"Times,serif\" font-size=\"9.00\">CATE : 29.7587 &#160;(p_value:0.0)</text>\n",
       "<text text-anchor=\"middle\" x=\"761.79\" y=\"-52.1\" font-family=\"Times,serif\" font-size=\"9.00\">sample size: control 131; &#160;treatment 143</text>\n",
       "<text text-anchor=\"middle\" x=\"761.79\" y=\"-42.1\" font-family=\"Times,serif\" font-size=\"9.00\">mean: control 9.6291; &#160;treatment 39.3878</text>\n",
       "</g>\n",
       "<!-- 5.0&#45;&gt;10.0 -->\n",
       "<g id=\"edge6\" class=\"edge\">\n",
       "<title>5.0&#45;&gt;10.0</title>\n",
       "<path fill=\"none\" stroke=\"black\" d=\"M865.74,-197.54C847.12,-174.75 824.45,-147 805.03,-123.23\"/>\n",
       "<polygon fill=\"black\" stroke=\"black\" points=\"807.62,-120.87 798.58,-115.34 802.2,-125.3 807.62,-120.87\"/>\n",
       "</g>\n",
       "<!-- 11.0 -->\n",
       "<g id=\"node8\" class=\"node\">\n",
       "<title>11.0</title>\n",
       "<ellipse fill=\"none\" stroke=\"black\" cx=\"1035.79\" cy=\"-69.3\" rx=\"130.22\" ry=\"48.17\"/>\n",
       "<text text-anchor=\"middle\" x=\"1035.79\" y=\"-92.1\" font-family=\"Times,serif\" font-size=\"9.00\">Node : 11</text>\n",
       "<text text-anchor=\"middle\" x=\"1035.79\" y=\"-82.1\" font-family=\"Times,serif\" font-size=\"9.00\">split_criterion: &#160;&#160;x2_buckets in [&#39;[&#45;inf,&#45;2.5252)&#39;]</text>\n",
       "<text text-anchor=\"middle\" x=\"1035.79\" y=\"-72.1\" font-family=\"Times,serif\" font-size=\"9.00\">sample_ratio:0.99%</text>\n",
       "<text text-anchor=\"middle\" x=\"1035.79\" y=\"-62.1\" font-family=\"Times,serif\" font-size=\"9.00\">CATE : 26.3051 &#160;(p_value:0.0)</text>\n",
       "<text text-anchor=\"middle\" x=\"1035.79\" y=\"-52.1\" font-family=\"Times,serif\" font-size=\"9.00\">sample size: control 77; &#160;treatment 144</text>\n",
       "<text text-anchor=\"middle\" x=\"1035.79\" y=\"-42.1\" font-family=\"Times,serif\" font-size=\"9.00\">mean: control &#45;2.6298; &#160;treatment 23.6753</text>\n",
       "</g>\n",
       "<!-- 5.0&#45;&gt;11.0 -->\n",
       "<g id=\"edge7\" class=\"edge\">\n",
       "<title>5.0&#45;&gt;11.0</title>\n",
       "<path fill=\"none\" stroke=\"black\" d=\"M937.73,-197.54C955.15,-174.94 976.33,-147.46 994.54,-123.82\"/>\n",
       "<polygon fill=\"black\" stroke=\"black\" points=\"997.51,-125.7 1000.84,-115.64 991.97,-121.42 997.51,-125.7\"/>\n",
       "</g>\n",
       "<!-- 6.0 -->\n",
       "<g id=\"node10\" class=\"node\">\n",
       "<title>6.0</title>\n",
       "<ellipse fill=\"none\" stroke=\"black\" cx=\"1489.79\" cy=\"-243.89\" rx=\"140.01\" ry=\"55.31\"/>\n",
       "<text text-anchor=\"middle\" x=\"1489.79\" y=\"-271.69\" font-family=\"Times,serif\" font-size=\"9.00\">Node : 6</text>\n",
       "<text text-anchor=\"middle\" x=\"1489.79\" y=\"-261.69\" font-family=\"Times,serif\" font-size=\"9.00\">split_criterion: &#160;&#160;x2_buckets in [&#39;[&#45;2.5252,&#45;1.5789)&#39;,</text>\n",
       "<text text-anchor=\"middle\" x=\"1489.79\" y=\"-251.69\" font-family=\"Times,serif\" font-size=\"9.00\">&#39;[1.6863,2.5616)&#39;]</text>\n",
       "<text text-anchor=\"middle\" x=\"1489.79\" y=\"-241.69\" font-family=\"Times,serif\" font-size=\"9.00\">sample_ratio:20.56%</text>\n",
       "<text text-anchor=\"middle\" x=\"1489.79\" y=\"-231.69\" font-family=\"Times,serif\" font-size=\"9.00\">CATE : 15.179 &#160;(p_value:0.0)</text>\n",
       "<text text-anchor=\"middle\" x=\"1489.79\" y=\"-221.69\" font-family=\"Times,serif\" font-size=\"9.00\">sample size: control 2372; &#160;treatment 2237</text>\n",
       "<text text-anchor=\"middle\" x=\"1489.79\" y=\"-211.69\" font-family=\"Times,serif\" font-size=\"9.00\">mean: control 4.7481; &#160;treatment 19.9271</text>\n",
       "</g>\n",
       "<!-- 3.0&#45;&gt;6.0 -->\n",
       "<g id=\"edge9\" class=\"edge\">\n",
       "<title>3.0&#45;&gt;6.0</title>\n",
       "<path fill=\"none\" stroke=\"black\" d=\"M1489.79,-348.77C1489.79,-335.79 1489.79,-322.26 1489.79,-309.41\"/>\n",
       "<polygon fill=\"black\" stroke=\"black\" points=\"1493.29,-309.28 1489.79,-299.28 1486.29,-309.28 1493.29,-309.28\"/>\n",
       "</g>\n",
       "<!-- 7.0 -->\n",
       "<g id=\"node13\" class=\"node\">\n",
       "<title>7.0</title>\n",
       "<ellipse fill=\"none\" stroke=\"black\" cx=\"1958.79\" cy=\"-243.89\" rx=\"156.96\" ry=\"62.45\"/>\n",
       "<text text-anchor=\"middle\" x=\"1958.79\" y=\"-276.69\" font-family=\"Times,serif\" font-size=\"9.00\">Node : 7</text>\n",
       "<text text-anchor=\"middle\" x=\"1958.79\" y=\"-266.69\" font-family=\"Times,serif\" font-size=\"9.00\">split_criterion: &#160;&#160;x2_buckets in [&#39;[&#45;0.4687,0.0222)&#39;,</text>\n",
       "<text text-anchor=\"middle\" x=\"1958.79\" y=\"-256.69\" font-family=\"Times,serif\" font-size=\"9.00\">&#39;[&#45;0.9708,&#45;0.4687)&#39;, &#39;[&#45;1.5789,&#45;0.9708)&#39;, &#39;[0.0222,0.5576)&#39;,</text>\n",
       "<text text-anchor=\"middle\" x=\"1958.79\" y=\"-246.69\" font-family=\"Times,serif\" font-size=\"9.00\">&#39;[0.5576,1.076)&#39;, &#39;[1.076,1.6863)&#39;]</text>\n",
       "<text text-anchor=\"middle\" x=\"1958.79\" y=\"-236.69\" font-family=\"Times,serif\" font-size=\"9.00\">sample_ratio:59.33%</text>\n",
       "<text text-anchor=\"middle\" x=\"1958.79\" y=\"-226.69\" font-family=\"Times,serif\" font-size=\"9.00\">CATE : 8.8874 &#160;(p_value:0.0)</text>\n",
       "<text text-anchor=\"middle\" x=\"1958.79\" y=\"-216.69\" font-family=\"Times,serif\" font-size=\"9.00\">sample size: control 6593; &#160;treatment 6706</text>\n",
       "<text text-anchor=\"middle\" x=\"1958.79\" y=\"-206.69\" font-family=\"Times,serif\" font-size=\"9.00\">mean: control 4.6814; &#160;treatment 13.5687</text>\n",
       "</g>\n",
       "<!-- 3.0&#45;&gt;7.0 -->\n",
       "<g id=\"edge12\" class=\"edge\">\n",
       "<title>3.0&#45;&gt;7.0</title>\n",
       "<path fill=\"none\" stroke=\"black\" d=\"M1606.02,-374.71C1675.73,-349.06 1764.32,-316.45 1835.29,-290.34\"/>\n",
       "<polygon fill=\"black\" stroke=\"black\" points=\"1836.56,-293.6 1844.73,-286.86 1834.14,-287.03 1836.56,-293.6\"/>\n",
       "</g>\n",
       "<!-- 12.0 -->\n",
       "<g id=\"node11\" class=\"node\">\n",
       "<title>12.0</title>\n",
       "<ellipse fill=\"none\" stroke=\"black\" cx=\"1336.79\" cy=\"-69.3\" rx=\"152.97\" ry=\"69.09\"/>\n",
       "<text text-anchor=\"middle\" x=\"1336.79\" y=\"-107.1\" font-family=\"Times,serif\" font-size=\"9.00\">Node : 12</text>\n",
       "<text text-anchor=\"middle\" x=\"1336.79\" y=\"-97.1\" font-family=\"Times,serif\" font-size=\"9.00\">split_criterion: &#160;&#160;x1_buckets in [&#39;[&#45;0.0219,0.2202)&#39;,</text>\n",
       "<text text-anchor=\"middle\" x=\"1336.79\" y=\"-87.1\" font-family=\"Times,serif\" font-size=\"9.00\">&#39;[&#45;0.2546,&#45;0.0219)&#39;, &#39;[&#45;0.5162,&#45;0.2546)&#39;,</text>\n",
       "<text text-anchor=\"middle\" x=\"1336.79\" y=\"-77.1\" font-family=\"Times,serif\" font-size=\"9.00\">&#39;[&#45;1.2903,&#45;0.8426)&#39;, &#39;[0.2202,0.4943)&#39;, &#39;[0.4943,0.8162)&#39;,</text>\n",
       "<text text-anchor=\"middle\" x=\"1336.79\" y=\"-67.1\" font-family=\"Times,serif\" font-size=\"9.00\">&#39;[0.8162,1.2497)&#39;, &#39;[1.2497,inf)&#39;]</text>\n",
       "<text text-anchor=\"middle\" x=\"1336.79\" y=\"-57.1\" font-family=\"Times,serif\" font-size=\"9.00\">sample_ratio:16.7%</text>\n",
       "<text text-anchor=\"middle\" x=\"1336.79\" y=\"-47.1\" font-family=\"Times,serif\" font-size=\"9.00\">CATE : 16.0875 &#160;(p_value:0.0)</text>\n",
       "<text text-anchor=\"middle\" x=\"1336.79\" y=\"-37.1\" font-family=\"Times,serif\" font-size=\"9.00\">sample size: control 1976; &#160;treatment 1768</text>\n",
       "<text text-anchor=\"middle\" x=\"1336.79\" y=\"-27.1\" font-family=\"Times,serif\" font-size=\"9.00\">mean: control 4.9927; &#160;treatment 21.0802</text>\n",
       "</g>\n",
       "<!-- 6.0&#45;&gt;12.0 -->\n",
       "<g id=\"edge10\" class=\"edge\">\n",
       "<title>6.0&#45;&gt;12.0</title>\n",
       "<path fill=\"none\" stroke=\"black\" d=\"M1444.29,-191.57C1430.39,-175.89 1414.84,-158.35 1399.99,-141.59\"/>\n",
       "<polygon fill=\"black\" stroke=\"black\" points=\"1402.47,-139.12 1393.22,-133.96 1397.23,-143.76 1402.47,-139.12\"/>\n",
       "</g>\n",
       "<!-- 13.0 -->\n",
       "<g id=\"node12\" class=\"node\">\n",
       "<title>13.0</title>\n",
       "<ellipse fill=\"none\" stroke=\"black\" cx=\"1647.79\" cy=\"-69.3\" rx=\"140.01\" ry=\"55.31\"/>\n",
       "<text text-anchor=\"middle\" x=\"1647.79\" y=\"-97.1\" font-family=\"Times,serif\" font-size=\"9.00\">Node : 13</text>\n",
       "<text text-anchor=\"middle\" x=\"1647.79\" y=\"-87.1\" font-family=\"Times,serif\" font-size=\"9.00\">split_criterion: &#160;&#160;x1_buckets in [&#39;[&#45;0.8426,&#45;0.5162)&#39;,</text>\n",
       "<text text-anchor=\"middle\" x=\"1647.79\" y=\"-77.1\" font-family=\"Times,serif\" font-size=\"9.00\">&#39;[&#45;inf,&#45;1.2903)&#39;]</text>\n",
       "<text text-anchor=\"middle\" x=\"1647.79\" y=\"-67.1\" font-family=\"Times,serif\" font-size=\"9.00\">sample_ratio:3.86%</text>\n",
       "<text text-anchor=\"middle\" x=\"1647.79\" y=\"-57.1\" font-family=\"Times,serif\" font-size=\"9.00\">CATE : 12.0524 &#160;(p_value:0.0)</text>\n",
       "<text text-anchor=\"middle\" x=\"1647.79\" y=\"-47.1\" font-family=\"Times,serif\" font-size=\"9.00\">sample size: control 396; &#160;treatment 469</text>\n",
       "<text text-anchor=\"middle\" x=\"1647.79\" y=\"-37.1\" font-family=\"Times,serif\" font-size=\"9.00\">mean: control 3.5277; &#160;treatment 15.5801</text>\n",
       "</g>\n",
       "<!-- 6.0&#45;&gt;13.0 -->\n",
       "<g id=\"edge11\" class=\"edge\">\n",
       "<title>6.0&#45;&gt;13.0</title>\n",
       "<path fill=\"none\" stroke=\"black\" d=\"M1536.76,-191.57C1554.83,-171.84 1575.59,-149.16 1594.23,-128.8\"/>\n",
       "<polygon fill=\"black\" stroke=\"black\" points=\"1596.82,-131.15 1600.99,-121.42 1591.65,-126.43 1596.82,-131.15\"/>\n",
       "</g>\n",
       "<!-- 14.0 -->\n",
       "<g id=\"node14\" class=\"node\">\n",
       "<title>14.0</title>\n",
       "<ellipse fill=\"none\" stroke=\"black\" cx=\"1958.79\" cy=\"-69.3\" rx=\"152.97\" ry=\"69.09\"/>\n",
       "<text text-anchor=\"middle\" x=\"1958.79\" y=\"-107.1\" font-family=\"Times,serif\" font-size=\"9.00\">Node : 14</text>\n",
       "<text text-anchor=\"middle\" x=\"1958.79\" y=\"-97.1\" font-family=\"Times,serif\" font-size=\"9.00\">split_criterion: &#160;&#160;x1_buckets in [&#39;[&#45;0.0219,0.2202)&#39;,</text>\n",
       "<text text-anchor=\"middle\" x=\"1958.79\" y=\"-87.1\" font-family=\"Times,serif\" font-size=\"9.00\">&#39;[&#45;0.2546,&#45;0.0219)&#39;, &#39;[&#45;0.5162,&#45;0.2546)&#39;,</text>\n",
       "<text text-anchor=\"middle\" x=\"1958.79\" y=\"-77.1\" font-family=\"Times,serif\" font-size=\"9.00\">&#39;[&#45;1.2903,&#45;0.8426)&#39;, &#39;[0.2202,0.4943)&#39;, &#39;[0.4943,0.8162)&#39;,</text>\n",
       "<text text-anchor=\"middle\" x=\"1958.79\" y=\"-67.1\" font-family=\"Times,serif\" font-size=\"9.00\">&#39;[0.8162,1.2497)&#39;, &#39;[1.2497,inf)&#39;]</text>\n",
       "<text text-anchor=\"middle\" x=\"1958.79\" y=\"-57.1\" font-family=\"Times,serif\" font-size=\"9.00\">sample_ratio:47.18%</text>\n",
       "<text text-anchor=\"middle\" x=\"1958.79\" y=\"-47.1\" font-family=\"Times,serif\" font-size=\"9.00\">CATE : 9.5582 &#160;(p_value:0.0)</text>\n",
       "<text text-anchor=\"middle\" x=\"1958.79\" y=\"-37.1\" font-family=\"Times,serif\" font-size=\"9.00\">sample size: control 5284; &#160;treatment 5291</text>\n",
       "<text text-anchor=\"middle\" x=\"1958.79\" y=\"-27.1\" font-family=\"Times,serif\" font-size=\"9.00\">mean: control 4.9844; &#160;treatment 14.5426</text>\n",
       "</g>\n",
       "<!-- 7.0&#45;&gt;14.0 -->\n",
       "<g id=\"edge13\" class=\"edge\">\n",
       "<title>7.0&#45;&gt;14.0</title>\n",
       "<path fill=\"none\" stroke=\"black\" d=\"M1958.79,-181.55C1958.79,-170.95 1958.79,-159.79 1958.79,-148.8\"/>\n",
       "<polygon fill=\"black\" stroke=\"black\" points=\"1962.29,-148.78 1958.79,-138.78 1955.29,-148.78 1962.29,-148.78\"/>\n",
       "</g>\n",
       "<!-- 15.0 -->\n",
       "<g id=\"node15\" class=\"node\">\n",
       "<title>15.0</title>\n",
       "<ellipse fill=\"none\" stroke=\"black\" cx=\"2269.79\" cy=\"-69.3\" rx=\"140.01\" ry=\"55.31\"/>\n",
       "<text text-anchor=\"middle\" x=\"2269.79\" y=\"-97.1\" font-family=\"Times,serif\" font-size=\"9.00\">Node : 15</text>\n",
       "<text text-anchor=\"middle\" x=\"2269.79\" y=\"-87.1\" font-family=\"Times,serif\" font-size=\"9.00\">split_criterion: &#160;&#160;x1_buckets in [&#39;[&#45;0.8426,&#45;0.5162)&#39;,</text>\n",
       "<text text-anchor=\"middle\" x=\"2269.79\" y=\"-77.1\" font-family=\"Times,serif\" font-size=\"9.00\">&#39;[&#45;inf,&#45;1.2903)&#39;]</text>\n",
       "<text text-anchor=\"middle\" x=\"2269.79\" y=\"-67.1\" font-family=\"Times,serif\" font-size=\"9.00\">sample_ratio:12.15%</text>\n",
       "<text text-anchor=\"middle\" x=\"2269.79\" y=\"-57.1\" font-family=\"Times,serif\" font-size=\"9.00\">CATE : 6.4692 &#160;(p_value:0.0)</text>\n",
       "<text text-anchor=\"middle\" x=\"2269.79\" y=\"-47.1\" font-family=\"Times,serif\" font-size=\"9.00\">sample size: control 1309; &#160;treatment 1415</text>\n",
       "<text text-anchor=\"middle\" x=\"2269.79\" y=\"-37.1\" font-family=\"Times,serif\" font-size=\"9.00\">mean: control 3.458; &#160;treatment 9.9272</text>\n",
       "</g>\n",
       "<!-- 7.0&#45;&gt;15.0 -->\n",
       "<g id=\"edge14\" class=\"edge\">\n",
       "<title>7.0&#45;&gt;15.0</title>\n",
       "<path fill=\"none\" stroke=\"black\" d=\"M2049.16,-192.74C2090.59,-169.74 2139.56,-142.57 2180.82,-119.67\"/>\n",
       "<polygon fill=\"black\" stroke=\"black\" points=\"2182.73,-122.61 2189.78,-114.7 2179.34,-116.49 2182.73,-122.61\"/>\n",
       "</g>\n",
       "</g>\n",
       "</svg>\n"
      ],
      "text/plain": [
       "<graphviz.graphs.Digraph at 0x7fe5404600d0>"
      ]
     },
     "execution_count": 16,
     "metadata": {},
     "output_type": "execute_result"
    }
   ],
   "source": [
    "treeplot = hte.treeplot()\n",
    "treeplot.render('digraph.gv', view=False) # save to file digraph.gv.pdf\n",
    "treeplot"
   ]
  },
  {
   "cell_type": "code",
   "execution_count": 17,
   "id": "bea48ad7-b00d-4b2c-9c71-5d9aeb9edc1d",
   "metadata": {},
   "outputs": [
    {
     "name": "stdout",
     "output_type": "stream",
     "text": [
      "[WARNING] 2024-08-05 14:32:27 - font_manager.py:1333 - findfont: Generic family 'sans-serif' not found because none of the following families were found: SimHei\n",
      "[WARNING] 2024-08-05 14:32:27 - font_manager.py:1333 - findfont: Generic family 'sans-serif' not found because none of the following families were found: SimHei\n",
      "[WARNING] 2024-08-05 14:32:27 - font_manager.py:1333 - findfont: Generic family 'sans-serif' not found because none of the following families were found: SimHei\n",
      "[WARNING] 2024-08-05 14:32:27 - font_manager.py:1333 - findfont: Generic family 'sans-serif' not found because none of the following families were found: SimHei\n",
      "[WARNING] 2024-08-05 14:32:27 - font_manager.py:1333 - findfont: Generic family 'sans-serif' not found because none of the following families were found: SimHei\n",
      "[WARNING] 2024-08-05 14:32:27 - font_manager.py:1333 - findfont: Generic family 'sans-serif' not found because none of the following families were found: SimHei\n",
      "[WARNING] 2024-08-05 14:32:27 - font_manager.py:1333 - findfont: Generic family 'sans-serif' not found because none of the following families were found: SimHei\n",
      "[WARNING] 2024-08-05 14:32:27 - font_manager.py:1333 - findfont: Generic family 'sans-serif' not found because none of the following families were found: SimHei\n",
      "[WARNING] 2024-08-05 14:32:27 - font_manager.py:1333 - findfont: Generic family 'sans-serif' not found because none of the following families were found: SimHei\n",
      "[WARNING] 2024-08-05 14:32:27 - font_manager.py:1333 - findfont: Generic family 'sans-serif' not found because none of the following families were found: SimHei\n",
      "[WARNING] 2024-08-05 14:32:27 - font_manager.py:1333 - findfont: Generic family 'sans-serif' not found because none of the following families were found: SimHei\n",
      "[WARNING] 2024-08-05 14:32:27 - font_manager.py:1333 - findfont: Generic family 'sans-serif' not found because none of the following families were found: SimHei\n",
      "[WARNING] 2024-08-05 14:32:27 - font_manager.py:1333 - findfont: Generic family 'sans-serif' not found because none of the following families were found: SimHei\n",
      "[WARNING] 2024-08-05 14:32:27 - font_manager.py:1333 - findfont: Generic family 'sans-serif' not found because none of the following families were found: SimHei\n",
      "[WARNING] 2024-08-05 14:32:27 - font_manager.py:1333 - findfont: Generic family 'sans-serif' not found because none of the following families were found: SimHei\n",
      "[WARNING] 2024-08-05 14:32:27 - font_manager.py:1333 - findfont: Generic family 'sans-serif' not found because none of the following families were found: SimHei\n",
      "[WARNING] 2024-08-05 14:32:27 - font_manager.py:1333 - findfont: Generic family 'sans-serif' not found because none of the following families were found: SimHei\n",
      "[WARNING] 2024-08-05 14:32:27 - font_manager.py:1333 - findfont: Generic family 'sans-serif' not found because none of the following families were found: SimHei\n",
      "[WARNING] 2024-08-05 14:32:27 - font_manager.py:1333 - findfont: Generic family 'sans-serif' not found because none of the following families were found: SimHei\n",
      "[WARNING] 2024-08-05 14:32:27 - font_manager.py:1333 - findfont: Generic family 'sans-serif' not found because none of the following families were found: SimHei\n",
      "[WARNING] 2024-08-05 14:32:27 - font_manager.py:1333 - findfont: Generic family 'sans-serif' not found because none of the following families were found: SimHei\n",
      "[WARNING] 2024-08-05 14:32:27 - font_manager.py:1333 - findfont: Generic family 'sans-serif' not found because none of the following families were found: SimHei\n",
      "[WARNING] 2024-08-05 14:32:27 - font_manager.py:1333 - findfont: Generic family 'sans-serif' not found because none of the following families were found: SimHei\n",
      "[WARNING] 2024-08-05 14:32:27 - font_manager.py:1333 - findfont: Generic family 'sans-serif' not found because none of the following families were found: SimHei\n",
      "[WARNING] 2024-08-05 14:32:27 - font_manager.py:1333 - findfont: Generic family 'sans-serif' not found because none of the following families were found: SimHei\n",
      "[WARNING] 2024-08-05 14:32:27 - font_manager.py:1333 - findfont: Generic family 'sans-serif' not found because none of the following families were found: SimHei\n",
      "[WARNING] 2024-08-05 14:32:27 - font_manager.py:1333 - findfont: Generic family 'sans-serif' not found because none of the following families were found: SimHei\n",
      "[WARNING] 2024-08-05 14:32:27 - font_manager.py:1333 - findfont: Generic family 'sans-serif' not found because none of the following families were found: SimHei\n",
      "[WARNING] 2024-08-05 14:32:27 - font_manager.py:1333 - findfont: Generic family 'sans-serif' not found because none of the following families were found: SimHei\n",
      "[WARNING] 2024-08-05 14:32:27 - font_manager.py:1333 - findfont: Generic family 'sans-serif' not found because none of the following families were found: SimHei\n",
      "[WARNING] 2024-08-05 14:32:27 - font_manager.py:1333 - findfont: Generic family 'sans-serif' not found because none of the following families were found: SimHei\n",
      "[WARNING] 2024-08-05 14:32:27 - font_manager.py:1333 - findfont: Generic family 'sans-serif' not found because none of the following families were found: SimHei\n",
      "[WARNING] 2024-08-05 14:32:27 - font_manager.py:1333 - findfont: Generic family 'sans-serif' not found because none of the following families were found: SimHei\n",
      "[WARNING] 2024-08-05 14:32:27 - font_manager.py:1333 - findfont: Generic family 'sans-serif' not found because none of the following families were found: SimHei\n",
      "[WARNING] 2024-08-05 14:32:27 - font_manager.py:1333 - findfont: Generic family 'sans-serif' not found because none of the following families were found: SimHei\n",
      "[WARNING] 2024-08-05 14:32:27 - font_manager.py:1333 - findfont: Generic family 'sans-serif' not found because none of the following families were found: SimHei\n",
      "[WARNING] 2024-08-05 14:32:27 - font_manager.py:1333 - findfont: Generic family 'sans-serif' not found because none of the following families were found: SimHei\n",
      "[WARNING] 2024-08-05 14:32:27 - font_manager.py:1333 - findfont: Generic family 'sans-serif' not found because none of the following families were found: SimHei\n",
      "[WARNING] 2024-08-05 14:32:27 - font_manager.py:1333 - findfont: Generic family 'sans-serif' not found because none of the following families were found: SimHei\n",
      "[WARNING] 2024-08-05 14:32:27 - font_manager.py:1333 - findfont: Generic family 'sans-serif' not found because none of the following families were found: SimHei\n",
      "[WARNING] 2024-08-05 14:32:27 - font_manager.py:1333 - findfont: Generic family 'sans-serif' not found because none of the following families were found: SimHei\n",
      "[WARNING] 2024-08-05 14:32:27 - font_manager.py:1333 - findfont: Generic family 'sans-serif' not found because none of the following families were found: SimHei\n",
      "[WARNING] 2024-08-05 14:32:27 - font_manager.py:1333 - findfont: Generic family 'sans-serif' not found because none of the following families were found: SimHei\n",
      "[WARNING] 2024-08-05 14:32:27 - font_manager.py:1333 - findfont: Generic family 'sans-serif' not found because none of the following families were found: SimHei\n",
      "[WARNING] 2024-08-05 14:32:27 - font_manager.py:1333 - findfont: Generic family 'sans-serif' not found because none of the following families were found: SimHei\n",
      "[WARNING] 2024-08-05 14:32:27 - font_manager.py:1333 - findfont: Generic family 'sans-serif' not found because none of the following families were found: SimHei\n",
      "[WARNING] 2024-08-05 14:32:27 - font_manager.py:1333 - findfont: Generic family 'sans-serif' not found because none of the following families were found: SimHei\n",
      "[WARNING] 2024-08-05 14:32:27 - font_manager.py:1333 - findfont: Generic family 'sans-serif' not found because none of the following families were found: SimHei\n",
      "[WARNING] 2024-08-05 14:32:27 - font_manager.py:1333 - findfont: Generic family 'sans-serif' not found because none of the following families were found: SimHei\n",
      "[WARNING] 2024-08-05 14:32:27 - font_manager.py:1333 - findfont: Generic family 'sans-serif' not found because none of the following families were found: SimHei\n",
      "[WARNING] 2024-08-05 14:32:27 - font_manager.py:1333 - findfont: Generic family 'sans-serif' not found because none of the following families were found: SimHei\n",
      "[WARNING] 2024-08-05 14:32:27 - font_manager.py:1333 - findfont: Generic family 'sans-serif' not found because none of the following families were found: SimHei\n",
      "[WARNING] 2024-08-05 14:32:27 - font_manager.py:1333 - findfont: Generic family 'sans-serif' not found because none of the following families were found: SimHei\n",
      "[WARNING] 2024-08-05 14:32:27 - font_manager.py:1333 - findfont: Generic family 'sans-serif' not found because none of the following families were found: SimHei\n",
      "[WARNING] 2024-08-05 14:32:27 - font_manager.py:1333 - findfont: Generic family 'sans-serif' not found because none of the following families were found: SimHei\n",
      "[WARNING] 2024-08-05 14:32:27 - font_manager.py:1333 - findfont: Generic family 'sans-serif' not found because none of the following families were found: SimHei\n",
      "[WARNING] 2024-08-05 14:32:27 - font_manager.py:1333 - findfont: Generic family 'sans-serif' not found because none of the following families were found: SimHei\n",
      "[WARNING] 2024-08-05 14:32:27 - font_manager.py:1333 - findfont: Generic family 'sans-serif' not found because none of the following families were found: SimHei\n",
      "[WARNING] 2024-08-05 14:32:27 - font_manager.py:1333 - findfont: Generic family 'sans-serif' not found because none of the following families were found: SimHei\n",
      "[WARNING] 2024-08-05 14:32:27 - font_manager.py:1333 - findfont: Generic family 'sans-serif' not found because none of the following families were found: SimHei\n",
      "[WARNING] 2024-08-05 14:32:27 - font_manager.py:1333 - findfont: Generic family 'sans-serif' not found because none of the following families were found: SimHei\n",
      "[WARNING] 2024-08-05 14:32:27 - font_manager.py:1333 - findfont: Generic family 'sans-serif' not found because none of the following families were found: SimHei\n",
      "[WARNING] 2024-08-05 14:32:27 - font_manager.py:1333 - findfont: Generic family 'sans-serif' not found because none of the following families were found: SimHei\n",
      "[WARNING] 2024-08-05 14:32:27 - font_manager.py:1333 - findfont: Generic family 'sans-serif' not found because none of the following families were found: SimHei\n",
      "[WARNING] 2024-08-05 14:32:27 - font_manager.py:1333 - findfont: Generic family 'sans-serif' not found because none of the following families were found: SimHei\n",
      "[WARNING] 2024-08-05 14:32:27 - font_manager.py:1333 - findfont: Generic family 'sans-serif' not found because none of the following families were found: SimHei\n",
      "[WARNING] 2024-08-05 14:32:27 - font_manager.py:1333 - findfont: Generic family 'sans-serif' not found because none of the following families were found: SimHei\n",
      "[WARNING] 2024-08-05 14:32:27 - font_manager.py:1333 - findfont: Generic family 'sans-serif' not found because none of the following families were found: SimHei\n",
      "[WARNING] 2024-08-05 14:32:27 - font_manager.py:1333 - findfont: Generic family 'sans-serif' not found because none of the following families were found: SimHei\n",
      "[WARNING] 2024-08-05 14:32:27 - font_manager.py:1333 - findfont: Generic family 'sans-serif' not found because none of the following families were found: SimHei\n",
      "[WARNING] 2024-08-05 14:32:27 - font_manager.py:1333 - findfont: Generic family 'sans-serif' not found because none of the following families were found: SimHei\n",
      "[WARNING] 2024-08-05 14:32:27 - font_manager.py:1333 - findfont: Generic family 'sans-serif' not found because none of the following families were found: SimHei\n",
      "[WARNING] 2024-08-05 14:32:27 - font_manager.py:1333 - findfont: Generic family 'sans-serif' not found because none of the following families were found: SimHei\n",
      "[WARNING] 2024-08-05 14:32:27 - font_manager.py:1333 - findfont: Generic family 'sans-serif' not found because none of the following families were found: SimHei\n",
      "[WARNING] 2024-08-05 14:32:27 - font_manager.py:1333 - findfont: Generic family 'sans-serif' not found because none of the following families were found: SimHei\n",
      "[WARNING] 2024-08-05 14:32:27 - font_manager.py:1333 - findfont: Generic family 'sans-serif' not found because none of the following families were found: SimHei\n",
      "[WARNING] 2024-08-05 14:32:27 - font_manager.py:1333 - findfont: Generic family 'sans-serif' not found because none of the following families were found: SimHei\n",
      "[WARNING] 2024-08-05 14:32:27 - font_manager.py:1333 - findfont: Generic family 'sans-serif' not found because none of the following families were found: SimHei\n",
      "[WARNING] 2024-08-05 14:32:27 - font_manager.py:1333 - findfont: Generic family 'sans-serif' not found because none of the following families were found: SimHei\n",
      "[WARNING] 2024-08-05 14:32:27 - font_manager.py:1333 - findfont: Generic family 'sans-serif' not found because none of the following families were found: SimHei\n",
      "[WARNING] 2024-08-05 14:32:27 - font_manager.py:1333 - findfont: Generic family 'sans-serif' not found because none of the following families were found: SimHei\n",
      "[WARNING] 2024-08-05 14:32:27 - font_manager.py:1333 - findfont: Generic family 'sans-serif' not found because none of the following families were found: SimHei\n",
      "[WARNING] 2024-08-05 14:32:27 - font_manager.py:1333 - findfont: Generic family 'sans-serif' not found because none of the following families were found: SimHei\n",
      "[WARNING] 2024-08-05 14:32:27 - font_manager.py:1333 - findfont: Generic family 'sans-serif' not found because none of the following families were found: SimHei\n",
      "[WARNING] 2024-08-05 14:32:27 - font_manager.py:1333 - findfont: Generic family 'sans-serif' not found because none of the following families were found: SimHei\n",
      "[WARNING] 2024-08-05 14:32:27 - font_manager.py:1333 - findfont: Generic family 'sans-serif' not found because none of the following families were found: SimHei\n",
      "[WARNING] 2024-08-05 14:32:27 - font_manager.py:1333 - findfont: Generic family 'sans-serif' not found because none of the following families were found: SimHei\n",
      "[WARNING] 2024-08-05 14:32:27 - font_manager.py:1333 - findfont: Generic family 'sans-serif' not found because none of the following families were found: SimHei\n",
      "[WARNING] 2024-08-05 14:32:27 - font_manager.py:1333 - findfont: Generic family 'sans-serif' not found because none of the following families were found: SimHei\n",
      "[WARNING] 2024-08-05 14:32:27 - font_manager.py:1333 - findfont: Generic family 'sans-serif' not found because none of the following families were found: SimHei\n",
      "[WARNING] 2024-08-05 14:32:27 - font_manager.py:1333 - findfont: Generic family 'sans-serif' not found because none of the following families were found: SimHei\n",
      "[WARNING] 2024-08-05 14:32:27 - font_manager.py:1333 - findfont: Generic family 'sans-serif' not found because none of the following families were found: SimHei\n",
      "[WARNING] 2024-08-05 14:32:27 - font_manager.py:1333 - findfont: Generic family 'sans-serif' not found because none of the following families were found: SimHei\n",
      "[WARNING] 2024-08-05 14:32:27 - font_manager.py:1333 - findfont: Generic family 'sans-serif' not found because none of the following families were found: SimHei\n",
      "[WARNING] 2024-08-05 14:32:27 - font_manager.py:1333 - findfont: Generic family 'sans-serif' not found because none of the following families were found: SimHei\n",
      "[WARNING] 2024-08-05 14:32:27 - font_manager.py:1333 - findfont: Generic family 'sans-serif' not found because none of the following families were found: SimHei\n",
      "[WARNING] 2024-08-05 14:32:27 - font_manager.py:1333 - findfont: Generic family 'sans-serif' not found because none of the following families were found: SimHei\n",
      "[WARNING] 2024-08-05 14:32:27 - font_manager.py:1333 - findfont: Generic family 'sans-serif' not found because none of the following families were found: SimHei\n",
      "[WARNING] 2024-08-05 14:32:27 - font_manager.py:1333 - findfont: Generic family 'sans-serif' not found because none of the following families were found: SimHei\n",
      "[WARNING] 2024-08-05 14:32:27 - font_manager.py:1333 - findfont: Generic family 'sans-serif' not found because none of the following families were found: SimHei\n",
      "[WARNING] 2024-08-05 14:32:27 - font_manager.py:1333 - findfont: Generic family 'sans-serif' not found because none of the following families were found: SimHei\n",
      "[WARNING] 2024-08-05 14:32:27 - font_manager.py:1333 - findfont: Generic family 'sans-serif' not found because none of the following families were found: SimHei\n",
      "[WARNING] 2024-08-05 14:32:27 - font_manager.py:1333 - findfont: Generic family 'sans-serif' not found because none of the following families were found: SimHei\n",
      "[WARNING] 2024-08-05 14:32:27 - font_manager.py:1333 - findfont: Generic family 'sans-serif' not found because none of the following families were found: SimHei\n",
      "[WARNING] 2024-08-05 14:32:27 - font_manager.py:1333 - findfont: Generic family 'sans-serif' not found because none of the following families were found: SimHei\n",
      "[WARNING] 2024-08-05 14:32:27 - font_manager.py:1333 - findfont: Generic family 'sans-serif' not found because none of the following families were found: SimHei\n",
      "[WARNING] 2024-08-05 14:32:27 - font_manager.py:1333 - findfont: Generic family 'sans-serif' not found because none of the following families were found: SimHei\n",
      "[WARNING] 2024-08-05 14:32:27 - font_manager.py:1333 - findfont: Generic family 'sans-serif' not found because none of the following families were found: SimHei\n",
      "[WARNING] 2024-08-05 14:32:27 - font_manager.py:1333 - findfont: Generic family 'sans-serif' not found because none of the following families were found: SimHei\n",
      "[WARNING] 2024-08-05 14:32:27 - font_manager.py:1333 - findfont: Generic family 'sans-serif' not found because none of the following families were found: SimHei\n",
      "[WARNING] 2024-08-05 14:32:27 - font_manager.py:1333 - findfont: Generic family 'sans-serif' not found because none of the following families were found: SimHei\n",
      "[WARNING] 2024-08-05 14:32:27 - font_manager.py:1333 - findfont: Generic family 'sans-serif' not found because none of the following families were found: SimHei\n",
      "[WARNING] 2024-08-05 14:32:27 - font_manager.py:1333 - findfont: Generic family 'sans-serif' not found because none of the following families were found: SimHei\n",
      "[WARNING] 2024-08-05 14:32:27 - font_manager.py:1333 - findfont: Generic family 'sans-serif' not found because none of the following families were found: SimHei\n",
      "[WARNING] 2024-08-05 14:32:27 - font_manager.py:1333 - findfont: Generic family 'sans-serif' not found because none of the following families were found: SimHei\n",
      "[WARNING] 2024-08-05 14:32:27 - font_manager.py:1333 - findfont: Generic family 'sans-serif' not found because none of the following families were found: SimHei\n",
      "[WARNING] 2024-08-05 14:32:27 - font_manager.py:1333 - findfont: Generic family 'sans-serif' not found because none of the following families were found: SimHei\n",
      "[WARNING] 2024-08-05 14:32:27 - font_manager.py:1333 - findfont: Generic family 'sans-serif' not found because none of the following families were found: SimHei\n",
      "[WARNING] 2024-08-05 14:32:27 - font_manager.py:1333 - findfont: Generic family 'sans-serif' not found because none of the following families were found: SimHei\n",
      "[WARNING] 2024-08-05 14:32:27 - font_manager.py:1333 - findfont: Generic family 'sans-serif' not found because none of the following families were found: SimHei\n",
      "[WARNING] 2024-08-05 14:32:27 - font_manager.py:1333 - findfont: Generic family 'sans-serif' not found because none of the following families were found: SimHei\n",
      "[WARNING] 2024-08-05 14:32:27 - font_manager.py:1333 - findfont: Generic family 'sans-serif' not found because none of the following families were found: SimHei\n",
      "[WARNING] 2024-08-05 14:32:27 - font_manager.py:1333 - findfont: Generic family 'sans-serif' not found because none of the following families were found: SimHei\n",
      "[WARNING] 2024-08-05 14:32:27 - font_manager.py:1333 - findfont: Generic family 'sans-serif' not found because none of the following families were found: SimHei\n",
      "[WARNING] 2024-08-05 14:32:27 - font_manager.py:1333 - findfont: Generic family 'sans-serif' not found because none of the following families were found: SimHei\n",
      "[WARNING] 2024-08-05 14:32:27 - font_manager.py:1333 - findfont: Generic family 'sans-serif' not found because none of the following families were found: SimHei\n",
      "[WARNING] 2024-08-05 14:32:27 - font_manager.py:1333 - findfont: Generic family 'sans-serif' not found because none of the following families were found: SimHei\n",
      "[WARNING] 2024-08-05 14:32:27 - font_manager.py:1333 - findfont: Generic family 'sans-serif' not found because none of the following families were found: SimHei\n",
      "[WARNING] 2024-08-05 14:32:27 - font_manager.py:1333 - findfont: Generic family 'sans-serif' not found because none of the following families were found: SimHei\n",
      "[WARNING] 2024-08-05 14:32:27 - font_manager.py:1333 - findfont: Generic family 'sans-serif' not found because none of the following families were found: SimHei\n",
      "[WARNING] 2024-08-05 14:32:27 - font_manager.py:1333 - findfont: Generic family 'sans-serif' not found because none of the following families were found: SimHei\n",
      "[WARNING] 2024-08-05 14:32:27 - font_manager.py:1333 - findfont: Generic family 'sans-serif' not found because none of the following families were found: SimHei\n",
      "[WARNING] 2024-08-05 14:32:27 - font_manager.py:1333 - findfont: Generic family 'sans-serif' not found because none of the following families were found: SimHei\n",
      "[WARNING] 2024-08-05 14:32:27 - font_manager.py:1333 - findfont: Generic family 'sans-serif' not found because none of the following families were found: SimHei\n",
      "[WARNING] 2024-08-05 14:32:27 - font_manager.py:1333 - findfont: Generic family 'sans-serif' not found because none of the following families were found: SimHei\n",
      "[WARNING] 2024-08-05 14:32:27 - font_manager.py:1333 - findfont: Generic family 'sans-serif' not found because none of the following families were found: SimHei\n",
      "[WARNING] 2024-08-05 14:32:27 - font_manager.py:1333 - findfont: Generic family 'sans-serif' not found because none of the following families were found: SimHei\n",
      "[WARNING] 2024-08-05 14:32:27 - font_manager.py:1333 - findfont: Generic family 'sans-serif' not found because none of the following families were found: SimHei\n",
      "[WARNING] 2024-08-05 14:32:27 - font_manager.py:1333 - findfont: Generic family 'sans-serif' not found because none of the following families were found: SimHei\n",
      "[WARNING] 2024-08-05 14:32:27 - font_manager.py:1333 - findfont: Generic family 'sans-serif' not found because none of the following families were found: SimHei\n",
      "[WARNING] 2024-08-05 14:32:27 - font_manager.py:1333 - findfont: Generic family 'sans-serif' not found because none of the following families were found: SimHei\n",
      "[WARNING] 2024-08-05 14:32:27 - font_manager.py:1333 - findfont: Generic family 'sans-serif' not found because none of the following families were found: SimHei\n",
      "[WARNING] 2024-08-05 14:32:27 - font_manager.py:1333 - findfont: Generic family 'sans-serif' not found because none of the following families were found: SimHei\n",
      "[WARNING] 2024-08-05 14:32:27 - font_manager.py:1333 - findfont: Generic family 'sans-serif' not found because none of the following families were found: SimHei\n",
      "[WARNING] 2024-08-05 14:32:27 - font_manager.py:1333 - findfont: Generic family 'sans-serif' not found because none of the following families were found: SimHei\n",
      "[WARNING] 2024-08-05 14:32:27 - font_manager.py:1333 - findfont: Generic family 'sans-serif' not found because none of the following families were found: SimHei\n",
      "[WARNING] 2024-08-05 14:32:27 - font_manager.py:1333 - findfont: Generic family 'sans-serif' not found because none of the following families were found: SimHei\n",
      "[WARNING] 2024-08-05 14:32:27 - font_manager.py:1333 - findfont: Generic family 'sans-serif' not found because none of the following families were found: SimHei\n"
     ]
    },
    {
     "data": {
      "image/png": "[encoded data removed]",
      "text/plain": [
       "<Figure size 1200x480 with 2 Axes>"
      ]
     },
     "metadata": {},
     "output_type": "display_data"
    }
   ],
   "source": [
    "# uplift curve in training data\n",
    "hte.hte_plot() "
   ]
  },
  {
   "cell_type": "markdown",
   "id": "8f337e87-79ed-42a2-a087-e5ee6ac24afa",
   "metadata": {},
   "source": [
    "#### Model Evaluation"
   ]
  },
  {
   "cell_type": "markdown",
   "id": "91a7ccca-2dd5-4aaf-b0bf-7a17b57519c6",
   "metadata": {},
   "source": [
    "Since actual uplift can't be observed for each individual, measure the uplift over a group of customers.\n",
    "\n",
    "Uplift Curve: plots the real cumulative uplift across the population\n",
    "- First, rank the test dataframe order by the predict uplift.\n",
    "- Next, calculate the cumulative percentage of visits in each group (treatment or control).\n",
    "- Finally, calculate the group's uplift at each percentage.\n"
   ]
  },
  {
   "cell_type": "code",
   "execution_count": 20,
   "id": "f5bedad2-5486-43e4-b176-8e219674e3aa",
   "metadata": {},
   "outputs": [
    {
     "name": "stdout",
     "output_type": "stream",
     "text": [
      "The table test_data_small_1722868344_test_pred already exists, so delete it\n",
      "auuc: 0.652886740156629\n",
      "       ratio      lift      gain  ate  ramdom_gain\n",
      "0   0.009998  2.178732  0.021783  1.0     0.009998\n",
      "1   0.019996  2.213069  0.044254  1.0     0.019996\n",
      "2   0.029995  2.232728  0.066970  1.0     0.029995\n",
      "3   0.039993  2.264938  0.090581  1.0     0.039993\n",
      "4   0.049991  2.671164  0.133534  1.0     0.049991\n",
      "..       ...       ...       ...  ...          ...\n",
      "95  0.959918  1.017073  0.976307  1.0     0.959918\n",
      "96  0.969939  1.005442  0.975217  1.0     0.969939\n",
      "97  0.979959  0.997883  0.977884  1.0     0.979959\n",
      "98  0.989980  0.994954  0.984984  1.0     0.989980\n",
      "99  1.000000  1.000000  1.000000  1.0     1.000000\n",
      "\n",
      "[100 rows x 5 columns]\n",
      "[WARNING] 2024-08-05 14:33:14 - font_manager.py:1333 - findfont: Generic family 'sans-serif' not found because none of the following families were found: SimHei\n",
      "[WARNING] 2024-08-05 14:33:14 - font_manager.py:1333 - findfont: Generic family 'sans-serif' not found because none of the following families were found: SimHei\n",
      "[WARNING] 2024-08-05 14:33:14 - font_manager.py:1333 - findfont: Generic family 'sans-serif' not found because none of the following families were found: SimHei\n",
      "[WARNING] 2024-08-05 14:33:14 - font_manager.py:1333 - findfont: Generic family 'sans-serif' not found because none of the following families were found: SimHei\n",
      "[WARNING] 2024-08-05 14:33:14 - font_manager.py:1333 - findfont: Generic family 'sans-serif' not found because none of the following families were found: SimHei\n",
      "[WARNING] 2024-08-05 14:33:14 - font_manager.py:1333 - findfont: Generic family 'sans-serif' not found because none of the following families were found: SimHei\n",
      "[WARNING] 2024-08-05 14:33:14 - font_manager.py:1333 - findfont: Generic family 'sans-serif' not found because none of the following families were found: SimHei\n",
      "[WARNING] 2024-08-05 14:33:14 - font_manager.py:1333 - findfont: Generic family 'sans-serif' not found because none of the following families were found: SimHei\n",
      "[WARNING] 2024-08-05 14:33:14 - font_manager.py:1333 - findfont: Generic family 'sans-serif' not found because none of the following families were found: SimHei\n",
      "[WARNING] 2024-08-05 14:33:14 - font_manager.py:1333 - findfont: Generic family 'sans-serif' not found because none of the following families were found: SimHei\n",
      "[WARNING] 2024-08-05 14:33:14 - font_manager.py:1333 - findfont: Generic family 'sans-serif' not found because none of the following families were found: SimHei\n",
      "[WARNING] 2024-08-05 14:33:14 - font_manager.py:1333 - findfont: Generic family 'sans-serif' not found because none of the following families were found: SimHei\n",
      "[WARNING] 2024-08-05 14:33:14 - font_manager.py:1333 - findfont: Generic family 'sans-serif' not found because none of the following families were found: SimHei\n",
      "[WARNING] 2024-08-05 14:33:14 - font_manager.py:1333 - findfont: Generic family 'sans-serif' not found because none of the following families were found: SimHei\n",
      "[WARNING] 2024-08-05 14:33:14 - font_manager.py:1333 - findfont: Generic family 'sans-serif' not found because none of the following families were found: SimHei\n",
      "[WARNING] 2024-08-05 14:33:14 - font_manager.py:1333 - findfont: Generic family 'sans-serif' not found because none of the following families were found: SimHei\n",
      "[WARNING] 2024-08-05 14:33:14 - font_manager.py:1333 - findfont: Generic family 'sans-serif' not found because none of the following families were found: SimHei\n",
      "[WARNING] 2024-08-05 14:33:14 - font_manager.py:1333 - findfont: Generic family 'sans-serif' not found because none of the following families were found: SimHei\n",
      "[WARNING] 2024-08-05 14:33:14 - font_manager.py:1333 - findfont: Generic family 'sans-serif' not found because none of the following families were found: SimHei\n",
      "[WARNING] 2024-08-05 14:33:14 - font_manager.py:1333 - findfont: Generic family 'sans-serif' not found because none of the following families were found: SimHei\n",
      "[WARNING] 2024-08-05 14:33:14 - font_manager.py:1333 - findfont: Generic family 'sans-serif' not found because none of the following families were found: SimHei\n",
      "[WARNING] 2024-08-05 14:33:14 - font_manager.py:1333 - findfont: Generic family 'sans-serif' not found because none of the following families were found: SimHei\n",
      "[WARNING] 2024-08-05 14:33:14 - font_manager.py:1333 - findfont: Generic family 'sans-serif' not found because none of the following families were found: SimHei\n",
      "[WARNING] 2024-08-05 14:33:14 - font_manager.py:1333 - findfont: Generic family 'sans-serif' not found because none of the following families were found: SimHei\n",
      "[WARNING] 2024-08-05 14:33:14 - font_manager.py:1333 - findfont: Generic family 'sans-serif' not found because none of the following families were found: SimHei\n",
      "[WARNING] 2024-08-05 14:33:14 - font_manager.py:1333 - findfont: Generic family 'sans-serif' not found because none of the following families were found: SimHei\n",
      "[WARNING] 2024-08-05 14:33:14 - font_manager.py:1333 - findfont: Generic family 'sans-serif' not found because none of the following families were found: SimHei\n",
      "[WARNING] 2024-08-05 14:33:14 - font_manager.py:1333 - findfont: Generic family 'sans-serif' not found because none of the following families were found: SimHei\n",
      "[WARNING] 2024-08-05 14:33:14 - font_manager.py:1333 - findfont: Generic family 'sans-serif' not found because none of the following families were found: SimHei\n",
      "[WARNING] 2024-08-05 14:33:14 - font_manager.py:1333 - findfont: Generic family 'sans-serif' not found because none of the following families were found: SimHei\n",
      "[WARNING] 2024-08-05 14:33:14 - font_manager.py:1333 - findfont: Generic family 'sans-serif' not found because none of the following families were found: SimHei\n",
      "[WARNING] 2024-08-05 14:33:14 - font_manager.py:1333 - findfont: Generic family 'sans-serif' not found because none of the following families were found: SimHei\n",
      "[WARNING] 2024-08-05 14:33:14 - font_manager.py:1333 - findfont: Generic family 'sans-serif' not found because none of the following families were found: SimHei\n",
      "[WARNING] 2024-08-05 14:33:14 - font_manager.py:1333 - findfont: Generic family 'sans-serif' not found because none of the following families were found: SimHei\n",
      "[WARNING] 2024-08-05 14:33:14 - font_manager.py:1333 - findfont: Generic family 'sans-serif' not found because none of the following families were found: SimHei\n",
      "[WARNING] 2024-08-05 14:33:14 - font_manager.py:1333 - findfont: Generic family 'sans-serif' not found because none of the following families were found: SimHei\n",
      "[WARNING] 2024-08-05 14:33:14 - font_manager.py:1333 - findfont: Generic family 'sans-serif' not found because none of the following families were found: SimHei\n",
      "[WARNING] 2024-08-05 14:33:14 - font_manager.py:1333 - findfont: Generic family 'sans-serif' not found because none of the following families were found: SimHei\n",
      "[WARNING] 2024-08-05 14:33:14 - font_manager.py:1333 - findfont: Generic family 'sans-serif' not found because none of the following families were found: SimHei\n",
      "[WARNING] 2024-08-05 14:33:14 - font_manager.py:1333 - findfont: Generic family 'sans-serif' not found because none of the following families were found: SimHei\n",
      "[WARNING] 2024-08-05 14:33:14 - font_manager.py:1333 - findfont: Generic family 'sans-serif' not found because none of the following families were found: SimHei\n",
      "[WARNING] 2024-08-05 14:33:14 - font_manager.py:1333 - findfont: Generic family 'sans-serif' not found because none of the following families were found: SimHei\n",
      "[WARNING] 2024-08-05 14:33:14 - font_manager.py:1333 - findfont: Generic family 'sans-serif' not found because none of the following families were found: SimHei\n",
      "[WARNING] 2024-08-05 14:33:14 - font_manager.py:1333 - findfont: Generic family 'sans-serif' not found because none of the following families were found: SimHei\n",
      "[WARNING] 2024-08-05 14:33:14 - font_manager.py:1333 - findfont: Generic family 'sans-serif' not found because none of the following families were found: SimHei\n",
      "[WARNING] 2024-08-05 14:33:14 - font_manager.py:1333 - findfont: Generic family 'sans-serif' not found because none of the following families were found: SimHei\n",
      "[WARNING] 2024-08-05 14:33:14 - font_manager.py:1333 - findfont: Generic family 'sans-serif' not found because none of the following families were found: SimHei\n",
      "[WARNING] 2024-08-05 14:33:14 - font_manager.py:1333 - findfont: Generic family 'sans-serif' not found because none of the following families were found: SimHei\n",
      "[WARNING] 2024-08-05 14:33:14 - font_manager.py:1333 - findfont: Generic family 'sans-serif' not found because none of the following families were found: SimHei\n",
      "[WARNING] 2024-08-05 14:33:14 - font_manager.py:1333 - findfont: Generic family 'sans-serif' not found because none of the following families were found: SimHei\n",
      "[WARNING] 2024-08-05 14:33:14 - font_manager.py:1333 - findfont: Generic family 'sans-serif' not found because none of the following families were found: SimHei\n",
      "[WARNING] 2024-08-05 14:33:14 - font_manager.py:1333 - findfont: Generic family 'sans-serif' not found because none of the following families were found: SimHei\n",
      "[WARNING] 2024-08-05 14:33:14 - font_manager.py:1333 - findfont: Generic family 'sans-serif' not found because none of the following families were found: SimHei\n",
      "[WARNING] 2024-08-05 14:33:14 - font_manager.py:1333 - findfont: Generic family 'sans-serif' not found because none of the following families were found: SimHei\n",
      "[WARNING] 2024-08-05 14:33:14 - font_manager.py:1333 - findfont: Generic family 'sans-serif' not found because none of the following families were found: SimHei\n",
      "[WARNING] 2024-08-05 14:33:14 - font_manager.py:1333 - findfont: Generic family 'sans-serif' not found because none of the following families were found: SimHei\n",
      "[WARNING] 2024-08-05 14:33:14 - font_manager.py:1333 - findfont: Generic family 'sans-serif' not found because none of the following families were found: SimHei\n",
      "[WARNING] 2024-08-05 14:33:14 - font_manager.py:1333 - findfont: Generic family 'sans-serif' not found because none of the following families were found: SimHei\n",
      "[WARNING] 2024-08-05 14:33:14 - font_manager.py:1333 - findfont: Generic family 'sans-serif' not found because none of the following families were found: SimHei\n",
      "[WARNING] 2024-08-05 14:33:14 - font_manager.py:1333 - findfont: Generic family 'sans-serif' not found because none of the following families were found: SimHei\n",
      "[WARNING] 2024-08-05 14:33:14 - font_manager.py:1333 - findfont: Generic family 'sans-serif' not found because none of the following families were found: SimHei\n",
      "[WARNING] 2024-08-05 14:33:14 - font_manager.py:1333 - findfont: Generic family 'sans-serif' not found because none of the following families were found: SimHei\n",
      "[WARNING] 2024-08-05 14:33:14 - font_manager.py:1333 - findfont: Generic family 'sans-serif' not found because none of the following families were found: SimHei\n",
      "[WARNING] 2024-08-05 14:33:14 - font_manager.py:1333 - findfont: Generic family 'sans-serif' not found because none of the following families were found: SimHei\n",
      "[WARNING] 2024-08-05 14:33:14 - font_manager.py:1333 - findfont: Generic family 'sans-serif' not found because none of the following families were found: SimHei\n",
      "[WARNING] 2024-08-05 14:33:14 - font_manager.py:1333 - findfont: Generic family 'sans-serif' not found because none of the following families were found: SimHei\n",
      "[WARNING] 2024-08-05 14:33:14 - font_manager.py:1333 - findfont: Generic family 'sans-serif' not found because none of the following families were found: SimHei\n",
      "[WARNING] 2024-08-05 14:33:14 - font_manager.py:1333 - findfont: Generic family 'sans-serif' not found because none of the following families were found: SimHei\n",
      "[WARNING] 2024-08-05 14:33:14 - font_manager.py:1333 - findfont: Generic family 'sans-serif' not found because none of the following families were found: SimHei\n",
      "[WARNING] 2024-08-05 14:33:14 - font_manager.py:1333 - findfont: Generic family 'sans-serif' not found because none of the following families were found: SimHei\n",
      "[WARNING] 2024-08-05 14:33:14 - font_manager.py:1333 - findfont: Generic family 'sans-serif' not found because none of the following families were found: SimHei\n",
      "[WARNING] 2024-08-05 14:33:14 - font_manager.py:1333 - findfont: Generic family 'sans-serif' not found because none of the following families were found: SimHei\n",
      "[WARNING] 2024-08-05 14:33:14 - font_manager.py:1333 - findfont: Generic family 'sans-serif' not found because none of the following families were found: SimHei\n",
      "[WARNING] 2024-08-05 14:33:14 - font_manager.py:1333 - findfont: Generic family 'sans-serif' not found because none of the following families were found: SimHei\n",
      "[WARNING] 2024-08-05 14:33:14 - font_manager.py:1333 - findfont: Generic family 'sans-serif' not found because none of the following families were found: SimHei\n",
      "[WARNING] 2024-08-05 14:33:14 - font_manager.py:1333 - findfont: Generic family 'sans-serif' not found because none of the following families were found: SimHei\n",
      "[WARNING] 2024-08-05 14:33:14 - font_manager.py:1333 - findfont: Generic family 'sans-serif' not found because none of the following families were found: SimHei\n",
      "[WARNING] 2024-08-05 14:33:14 - font_manager.py:1333 - findfont: Generic family 'sans-serif' not found because none of the following families were found: SimHei\n",
      "[WARNING] 2024-08-05 14:33:14 - font_manager.py:1333 - findfont: Generic family 'sans-serif' not found because none of the following families were found: SimHei\n",
      "[WARNING] 2024-08-05 14:33:14 - font_manager.py:1333 - findfont: Generic family 'sans-serif' not found because none of the following families were found: SimHei\n",
      "[WARNING] 2024-08-05 14:33:14 - font_manager.py:1333 - findfont: Generic family 'sans-serif' not found because none of the following families were found: SimHei\n",
      "[WARNING] 2024-08-05 14:33:14 - font_manager.py:1333 - findfont: Generic family 'sans-serif' not found because none of the following families were found: SimHei\n",
      "[WARNING] 2024-08-05 14:33:14 - font_manager.py:1333 - findfont: Generic family 'sans-serif' not found because none of the following families were found: SimHei\n",
      "[WARNING] 2024-08-05 14:33:14 - font_manager.py:1333 - findfont: Generic family 'sans-serif' not found because none of the following families were found: SimHei\n",
      "[WARNING] 2024-08-05 14:33:14 - font_manager.py:1333 - findfont: Generic family 'sans-serif' not found because none of the following families were found: SimHei\n",
      "[WARNING] 2024-08-05 14:33:14 - font_manager.py:1333 - findfont: Generic family 'sans-serif' not found because none of the following families were found: SimHei\n",
      "[WARNING] 2024-08-05 14:33:14 - font_manager.py:1333 - findfont: Generic family 'sans-serif' not found because none of the following families were found: SimHei\n",
      "[WARNING] 2024-08-05 14:33:14 - font_manager.py:1333 - findfont: Generic family 'sans-serif' not found because none of the following families were found: SimHei\n",
      "[WARNING] 2024-08-05 14:33:14 - font_manager.py:1333 - findfont: Generic family 'sans-serif' not found because none of the following families were found: SimHei\n",
      "[WARNING] 2024-08-05 14:33:14 - font_manager.py:1333 - findfont: Generic family 'sans-serif' not found because none of the following families were found: SimHei\n",
      "[WARNING] 2024-08-05 14:33:14 - font_manager.py:1333 - findfont: Generic family 'sans-serif' not found because none of the following families were found: SimHei\n",
      "[WARNING] 2024-08-05 14:33:14 - font_manager.py:1333 - findfont: Generic family 'sans-serif' not found because none of the following families were found: SimHei\n",
      "[WARNING] 2024-08-05 14:33:14 - font_manager.py:1333 - findfont: Generic family 'sans-serif' not found because none of the following families were found: SimHei\n",
      "[WARNING] 2024-08-05 14:33:14 - font_manager.py:1333 - findfont: Generic family 'sans-serif' not found because none of the following families were found: SimHei\n",
      "[WARNING] 2024-08-05 14:33:14 - font_manager.py:1333 - findfont: Generic family 'sans-serif' not found because none of the following families were found: SimHei\n",
      "[WARNING] 2024-08-05 14:33:14 - font_manager.py:1333 - findfont: Generic family 'sans-serif' not found because none of the following families were found: SimHei\n",
      "[WARNING] 2024-08-05 14:33:14 - font_manager.py:1333 - findfont: Generic family 'sans-serif' not found because none of the following families were found: SimHei\n",
      "[WARNING] 2024-08-05 14:33:14 - font_manager.py:1333 - findfont: Generic family 'sans-serif' not found because none of the following families were found: SimHei\n",
      "[WARNING] 2024-08-05 14:33:14 - font_manager.py:1333 - findfont: Generic family 'sans-serif' not found because none of the following families were found: SimHei\n"
     ]
    },
    {
     "data": {
      "image/png": "[encoded data removed]",
      "text/plain": [
       "<Figure size 1200x480 with 2 Axes>"
      ]
     },
     "metadata": {},
     "output_type": "display_data"
    }
   ],
   "source": [
    "\n",
    "from fast_causal_inference.lib.causaltree import CausalTree\n",
    "from fast_causal_inference.lib.metrics import *\n",
    "\n",
    "table_test_predict = f'{table_test}_pred'\n",
    "# clickhouse_drop_view(clickhouse_view_name=table_test_predict) # drop table\n",
    "hte.effect_2_clickhouse(table_test_predict,\n",
    "                        table_input=table_test,\n",
    "                        keep_col='*')\n",
    "tmp1 = get_lift_gain(\"effect\", Y, T, table_test_predict,discrete_treatment=True, K=100)\n",
    "print(tmp1)\n",
    "hte_plot([tmp1])"
   ]
  }
 ],
 "metadata": {
  "kernelspec": {
   "display_name": "Python 3 (ipykernel)",
   "language": "python",
   "name": "python3"
  },
  "language_info": {
   "codemirror_mode": {
    "name": "ipython",
    "version": 3
   },
   "file_extension": ".py",
   "mimetype": "text/x-python",
   "name": "python",
   "nbconvert_exporter": "python",
   "pygments_lexer": "ipython3",
   "version": "3.11.5"
  },
  "toc-autonumbering": true
 },
 "nbformat": 4,
 "nbformat_minor": 5
}
