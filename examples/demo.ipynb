{
 "cells": [
  {
   "cell_type": "markdown",
   "id": "b4c049a0-885f-41f3-9cba-a42917635da0",
   "metadata": {},
   "source": [
    "\n",
    "\n",
    "# Fast Causal inference\n",
    "\n",
    "Fast Causal Inference is Tencent's first open-source causal inference project. It is an OLAP-based high-performance causal inference (statistical model) computing library, which solves the performance bottleneck of existing statistical model libraries (R/Python) under big data, and provides causal inference capabilities for massive data execution in seconds and sub-seconds. At the same time, the threshold for using statistical models is lowered through the SQL language, making it easy to use in production environments. At present, it has supported the causal analysis of WeChat-Search, WeChat-Video-Account and other businesses, greatly improving the work efficiency of data scientists.\n",
    "![Example Image](https://github.com/Tencent/fast-causal-inference/raw/main/docs/images/fast-causal-inference3.png)\n"
   ]
  },
  {
   "cell_type": "markdown",
   "id": "1a303640-afd2-46c4-ad50-9d9036d6c57e",
   "metadata": {
    "tags": []
   },
   "source": [
    "# Get started"
   ]
  },
  {
   "cell_type": "code",
   "execution_count": 1,
   "id": "73fb08a2-9751-43d0-84cb-ff82e87b0dab",
   "metadata": {},
   "outputs": [],
   "source": [
    "import time\n",
    "import pandas as pd"
   ]
  },
  {
   "cell_type": "code",
   "execution_count": 2,
   "id": "6279fa4d",
   "metadata": {
    "tags": []
   },
   "outputs": [],
   "source": [
    "# opensource or in tencent\n",
    "import fast_causal_inference\n",
    "fast_causal_inference.set_config(\".jupyter/conf.yaml\")\n",
    "\n",
    "sql_instance = fast_causal_inference.create()"
   ]
  },
  {
   "cell_type": "markdown",
   "id": "c5f77e99-6844-42df-ab0c-c89fa83d6e0c",
   "metadata": {},
   "source": [
    "# know your data"
   ]
  },
  {
   "cell_type": "markdown",
   "id": "eee2dc3b-7ed2-431d-9878-22968ad72149",
   "metadata": {},
   "source": [
    "### test data generation"
   ]
  },
  {
   "cell_type": "code",
   "execution_count": null,
   "id": "0aad3a91-3874-4025-a1d0-8ca45586f6b6",
   "metadata": {
    "tags": []
   },
   "outputs": [],
   "source": [
    "import numpy as np\n",
    "import pandas as pd\n",
    "import random\n",
    "# Set random seed for reproducibility\n",
    "np.random.seed(0)\n",
    "n = 10000\n",
    "\n",
    "################################## generate covariables #############################################\n",
    "# Generate x1-x5, they come from different distributions and have different variances\n",
    "x1 = np.random.normal(0, 1, n) # Normal distribution, variance is 1\n",
    "x2 = np.random.normal(0, 2, n)  # Normal distribution, variance is 4\n",
    "x3 = np.random.exponential(1, n)  # Exponential distribution, variance is 1\n",
    "x4 = np.random.exponential(2, n)  # Exponential distribution, variance is 4\n",
    "x5 = np.random.uniform(0, 5, n)  # Uniform distribution, variance is approximately 1.33\n",
    "weight = np.random.uniform(0, 1, n) # use for sample reweighing\n",
    "\n",
    "# Generate x6-x7, they are long-tail distributed data\n",
    "x_long_tail1 = np.random.pareto(3, n)  # Pareto distribution\n",
    "x_long_tail2 = np.random.pareto(2, n)  # Pareto distribution\n",
    "\n",
    "# Generate x_cat1, it is a discrete variable of string type\n",
    "x_cat1 = np.random.choice(['A', 'B', 'C', 'D', 'E'], n)\n",
    "###################################################################################################### \n",
    "\n",
    "\n",
    "\n",
    "################################## generate exprimental data ######################################### \n",
    "# Generate treatment, it is a binary random variable\n",
    "treatment = np.random.choice([0, 1], n)\n",
    "\n",
    "\n",
    "# Generate y \n",
    "# y is highly correlated with x1, x2, x3,x_long_tail2 and treatment\n",
    "# and there is heterogeneity on x_cat1 and x1,x2,x4\n",
    "y_pre = x1 + 2*x2 + 3*x3 + 3*np.log(x_long_tail2+1) + np.random.normal(0, 1, n)\n",
    "y = y_pre + 5*treatment + treatment*(x1+x2**2+np.log(x4+1)+(x_long_tail1>1))*2 + np.random.normal(0, 2, n)\n",
    "y[x_cat1 == 'A'] += 3\n",
    "y[x_cat1 == 'B'] -= 2\n",
    "\n",
    "# Generate ratio metric: numerator/denominator, for example click/show\n",
    "numerator_pre = y_pre \n",
    "numerator = y \n",
    "denominator_pre = x1 + 2*x5 + 3*np.log(x_long_tail1+1) + np.random.normal(0, 1, n)\n",
    "denominator = denominator_pre + 2*treatment + treatment*(x1)*2 + np.random.normal(0, 2, n)\n",
    "###################################################################################################### \n",
    "\n",
    "\n",
    "################################## generate observational data ####################################### \n",
    "# use x1,x2,x3 before\n",
    "# Generate linear combination for t_ob\n",
    "linear_combination_t = 1*x1 + 0.2*x2 + 0.5 * x3 + 0.1 * np.random.normal(0, 1, n)\n",
    "\n",
    "# Convert the linear combination into a probability using the logistic function\n",
    "prob_t = 1 / (1 + np.exp(-linear_combination_t))\n",
    "\n",
    "# Generate binary variable t based on the probability\n",
    "t_ob = np.random.binomial(1, prob_t)\n",
    "\n",
    "# Generate linear combination for y\n",
    "linear_combination_y = 0.5 * x1 - 0.25 * x2 + 0.1 * x3 + 0.5 * t_ob + 0.1 * np.random.normal(0, 1, n)\n",
    "\n",
    "# Generate target variable y\n",
    "y_ob = linear_combination_y + np.random.normal(0, 1, n)\n",
    "###################################################################################################### \n",
    "\n",
    "\n",
    "\n",
    "# get DataFrame\n",
    "df = pd.DataFrame({\n",
    "    'x1': x1,\n",
    "    'x2': x2,\n",
    "    'x3': x3,\n",
    "    'x4': x4,\n",
    "    'x5': x5,\n",
    "    'x_long_tail1': x_long_tail1,\n",
    "    'x_long_tail2': x_long_tail2,\n",
    "    'x_cat1': x_cat1,\n",
    "    'treatment': treatment,\n",
    "    't_ob':t_ob,\n",
    "    'y': y,\n",
    "    'y_ob': y_ob,\n",
    "    'numerator_pre':numerator_pre,\n",
    "    'numerator':numerator,\n",
    "    'denominator_pre':denominator_pre,\n",
    "    'denominator':denominator,\n",
    "    'weight' : weight\n",
    "})\n",
    "\n",
    "\n",
    "# show data \n",
    "print(df.head())"
   ]
  },
  {
   "cell_type": "markdown",
   "id": "ca6f3e29-ad4e-4318-a054-cb1c8fc3e716",
   "metadata": {},
   "source": [
    "Covariables\n",
    "\n",
    "- `x1`: This variable follows a normal distribution with a mean of 0 and a variance of 1.\n",
    "- `x2`: This variable also follows a normal distribution, but with a mean of 0 and a larger variance of 4.\n",
    "- `x3`: This variable is generated from an exponential distribution with a rate parameter of 1, resulting in a variance of 1.\n",
    "- `x4`: Similar to `x3`, this variable is generated from an exponential distribution, but with a larger rate parameter of 2, resulting in a variance of 4.\n",
    "- `x5`: This variable is generated from a uniform distribution between 0 and 5, with an approximate variance of 1.33.\n",
    "- `weight`: This variable is generated from a uniform distribution between 0 and 1 and can be used for sample reweighing.\n",
    "- `x_long_tail1`: This variable follows a Pareto distribution with a shape parameter of 3, representing a long-tailed distribution.\n",
    "- `x_long_tail2`: Similarly, this variable follows a Pareto distribution with a shape parameter of 2.\n",
    "- `x_cat1`: This variable is a discrete variable of string type, randomly chosen from the categories 'A', 'B', 'C', 'D', and 'E'.\n",
    "\n",
    "Experimental data\n",
    "- `treatment`: This variable represents the treatment assignment and is a binary random variable.\n",
    "\n",
    "- `y`: The target variable `y` is highly correlated with `x1`, `x2`, `x3`, `x_long_tail2`, and `treatment`. There is also heterogeneity in the relationship with `x_cat1` and `x1`, `x2`, `x4`. It is generated by adding `y_pre` with treatment effects, interaction terms, and random noise.\n",
    "\n",
    "- `numerator_pre`: This variable is a precursor to the numerator of a ratio metric and is highly correlated with `y_pre`.\n",
    "\n",
    "- `numerator`: The numerator of the ratio metric is derived from `numerator_pre` and is highly correlated with `y`.\n",
    "\n",
    "- `denominator_pre`: This variable is a precursor to the denominator of a ratio metric and is generated based on `x1`, `x5`, and `x_long_tail1`.\n",
    "\n",
    "- `denominator`: The denominator of the ratio metric is derived from `denominator_pre` and is influenced by treatment effects, interaction terms with `x1`, and random noise.\n",
    "\n",
    "Observational data \n",
    "- `t_ob`: This binary variable is generated based on a linear combination of `x1`, `x2`, and `x3`. The linear combination is converted into a probability using the logistic function, and `t_ob` is generated by sampling from a binomial distribution with the probability.\n",
    "\n",
    "- `y_ob`: The target variable `y_ob` is generated based on a linear combination of `x1`, `x2`, `x3`, and `t_ob`, along with random noise. It represents the outcome variable in the observational data.\n"
   ]
  },
  {
   "cell_type": "markdown",
   "id": "2bb5bda7-d6b8-44cb-a3e8-27cadcc3c43c",
   "metadata": {},
   "source": [
    "### data description"
   ]
  },
  {
   "cell_type": "code",
   "execution_count": 19,
   "id": "e20e8a39-69d2-4a5c-8c6f-b66e075d5fcc",
   "metadata": {},
   "outputs": [
    {
     "data": {
      "text/html": [
       "<div>\n",
       "<style scoped>\n",
       "    .dataframe tbody tr th:only-of-type {\n",
       "        vertical-align: middle;\n",
       "    }\n",
       "\n",
       "    .dataframe tbody tr th {\n",
       "        vertical-align: top;\n",
       "    }\n",
       "\n",
       "    .dataframe thead th {\n",
       "        text-align: right;\n",
       "    }\n",
       "</style>\n",
       "<table border=\"1\" class=\"dataframe\">\n",
       "  <thead>\n",
       "    <tr style=\"text-align: right;\">\n",
       "      <th></th>\n",
       "      <th>id</th>\n",
       "      <th>x1</th>\n",
       "      <th>x2</th>\n",
       "      <th>x3</th>\n",
       "      <th>x4</th>\n",
       "      <th>x5</th>\n",
       "      <th>x_long_tail1</th>\n",
       "      <th>x_long_tail2</th>\n",
       "      <th>x_cat1</th>\n",
       "      <th>treatment</th>\n",
       "      <th>t_ob</th>\n",
       "      <th>y</th>\n",
       "      <th>y_ob</th>\n",
       "      <th>numerator_pre</th>\n",
       "      <th>numerator</th>\n",
       "      <th>denominator_pre</th>\n",
       "      <th>denominator</th>\n",
       "      <th>weight</th>\n",
       "      <th>day_</th>\n",
       "    </tr>\n",
       "  </thead>\n",
       "  <tbody>\n",
       "    <tr>\n",
       "      <th>0</th>\n",
       "      <td>b007dbf3-6fe2-4901-8000-16de17fad502</td>\n",
       "      <td>1.7505385834329148</td>\n",
       "      <td>0.39106792677974656</td>\n",
       "      <td>1.72425125498992</td>\n",
       "      <td>0.2888412152852525</td>\n",
       "      <td>0.7971701362972877</td>\n",
       "      <td>0.11649901928342854</td>\n",
       "      <td>0.11756334027631477</td>\n",
       "      <td>D</td>\n",
       "      <td>1</td>\n",
       "      <td>1</td>\n",
       "      <td>17.686170977579746</td>\n",
       "      <td>1.836945974012858</td>\n",
       "      <td>8.000044993752281</td>\n",
       "      <td>17.686170977579746</td>\n",
       "      <td>4.796570927220992</td>\n",
       "      <td>11.66781041572295</td>\n",
       "      <td>0.9850482308229433</td>\n",
       "      <td>2023-11-03</td>\n",
       "    </tr>\n",
       "    <tr>\n",
       "      <th>1</th>\n",
       "      <td>fedda0ed-e19d-42ca-8000-1bdf733ffd9c</td>\n",
       "      <td>-1.2817332289206058</td>\n",
       "      <td>0.5876971861761044</td>\n",
       "      <td>1.438891002640861</td>\n",
       "      <td>2.5250317640166244</td>\n",
       "      <td>0.014143904902794158</td>\n",
       "      <td>3.1337925579612884</td>\n",
       "      <td>0.015274302847965604</td>\n",
       "      <td>E</td>\n",
       "      <td>1</td>\n",
       "      <td>0</td>\n",
       "      <td>12.024427422475613</td>\n",
       "      <td>-0.3019925295255651</td>\n",
       "      <td>5.33552518400478</td>\n",
       "      <td>12.024427422475613</td>\n",
       "      <td>4.663767996485404</td>\n",
       "      <td>4.398090953517113</td>\n",
       "      <td>0.3034259187982715</td>\n",
       "      <td>2023-11-03</td>\n",
       "    </tr>\n",
       "    <tr>\n",
       "      <th>2</th>\n",
       "      <td>d126d228-1372-4774-8002-39f527ff6c4c</td>\n",
       "      <td>1.5450384410672113</td>\n",
       "      <td>0.004286824048081505</td>\n",
       "      <td>0.1029724620891589</td>\n",
       "      <td>2.54703100730822</td>\n",
       "      <td>0.19845747204751574</td>\n",
       "      <td>0.20832798616408854</td>\n",
       "      <td>0.2707802495985492</td>\n",
       "      <td>B</td>\n",
       "      <td>0</td>\n",
       "      <td>1</td>\n",
       "      <td>-1.525981422224525</td>\n",
       "      <td>0.5114373786530622</td>\n",
       "      <td>3.1924778734897656</td>\n",
       "      <td>-1.525981422224525</td>\n",
       "      <td>1.9299996938762858</td>\n",
       "      <td>5.938695571216891</td>\n",
       "      <td>0.8429913211299445</td>\n",
       "      <td>2023-11-03</td>\n",
       "    </tr>\n",
       "    <tr>\n",
       "      <th>3</th>\n",
       "      <td>c9f50c68-931d-418e-8003-6c9f18b08a0b</td>\n",
       "      <td>0.8439826878597811</td>\n",
       "      <td>-2.539776347083615</td>\n",
       "      <td>2.2333465531019865</td>\n",
       "      <td>1.9012159237867055</td>\n",
       "      <td>2.4196434792199115</td>\n",
       "      <td>0.07992082555816693</td>\n",
       "      <td>0.5343770114728588</td>\n",
       "      <td>C</td>\n",
       "      <td>1</td>\n",
       "      <td>1</td>\n",
       "      <td>27.10522922247133</td>\n",
       "      <td>1.1443261471891566</td>\n",
       "      <td>4.452601227539352</td>\n",
       "      <td>27.10522922247133</td>\n",
       "      <td>6.47445215322303</td>\n",
       "      <td>9.547153116086074</td>\n",
       "      <td>0.790054676298481</td>\n",
       "      <td>2023-11-03</td>\n",
       "    </tr>\n",
       "    <tr>\n",
       "      <th>4</th>\n",
       "      <td>6d857229-9b51-40d3-8004-607763bd1cb6</td>\n",
       "      <td>-0.044952193373201055</td>\n",
       "      <td>-2.11749115099508</td>\n",
       "      <td>1.253902331961399</td>\n",
       "      <td>9.294157462760747</td>\n",
       "      <td>2.9284128756152716</td>\n",
       "      <td>1.4688302939410547</td>\n",
       "      <td>0.4879176556075999</td>\n",
       "      <td>A</td>\n",
       "      <td>0</td>\n",
       "      <td>1</td>\n",
       "      <td>3.943177897485132</td>\n",
       "      <td>2.6782919269832592</td>\n",
       "      <td>-0.5366725357045548</td>\n",
       "      <td>3.943177897485132</td>\n",
       "      <td>7.193531174439597</td>\n",
       "      <td>7.130297093815557</td>\n",
       "      <td>0.2923574974092905</td>\n",
       "      <td>2023-11-03</td>\n",
       "    </tr>\n",
       "  </tbody>\n",
       "</table>\n",
       "</div>"
      ],
      "text/plain": [
       "                                     id                     x1  \\\n",
       "0  b007dbf3-6fe2-4901-8000-16de17fad502     1.7505385834329148   \n",
       "1  fedda0ed-e19d-42ca-8000-1bdf733ffd9c    -1.2817332289206058   \n",
       "2  d126d228-1372-4774-8002-39f527ff6c4c     1.5450384410672113   \n",
       "3  c9f50c68-931d-418e-8003-6c9f18b08a0b     0.8439826878597811   \n",
       "4  6d857229-9b51-40d3-8004-607763bd1cb6  -0.044952193373201055   \n",
       "\n",
       "                     x2                  x3                  x4  \\\n",
       "0   0.39106792677974656    1.72425125498992  0.2888412152852525   \n",
       "1    0.5876971861761044   1.438891002640861  2.5250317640166244   \n",
       "2  0.004286824048081505  0.1029724620891589    2.54703100730822   \n",
       "3    -2.539776347083615  2.2333465531019865  1.9012159237867055   \n",
       "4     -2.11749115099508   1.253902331961399   9.294157462760747   \n",
       "\n",
       "                     x5         x_long_tail1          x_long_tail2 x_cat1  \\\n",
       "0    0.7971701362972877  0.11649901928342854   0.11756334027631477      D   \n",
       "1  0.014143904902794158   3.1337925579612884  0.015274302847965604      E   \n",
       "2   0.19845747204751574  0.20832798616408854    0.2707802495985492      B   \n",
       "3    2.4196434792199115  0.07992082555816693    0.5343770114728588      C   \n",
       "4    2.9284128756152716   1.4688302939410547    0.4879176556075999      A   \n",
       "\n",
       "  treatment t_ob                   y                 y_ob  \\\n",
       "0         1    1  17.686170977579746    1.836945974012858   \n",
       "1         1    0  12.024427422475613  -0.3019925295255651   \n",
       "2         0    1  -1.525981422224525   0.5114373786530622   \n",
       "3         1    1   27.10522922247133   1.1443261471891566   \n",
       "4         0    1   3.943177897485132   2.6782919269832592   \n",
       "\n",
       "         numerator_pre           numerator     denominator_pre  \\\n",
       "0    8.000044993752281  17.686170977579746   4.796570927220992   \n",
       "1     5.33552518400478  12.024427422475613   4.663767996485404   \n",
       "2   3.1924778734897656  -1.525981422224525  1.9299996938762858   \n",
       "3    4.452601227539352   27.10522922247133    6.47445215322303   \n",
       "4  -0.5366725357045548   3.943177897485132   7.193531174439597   \n",
       "\n",
       "         denominator              weight        day_  \n",
       "0  11.66781041572295  0.9850482308229433  2023-11-03  \n",
       "1  4.398090953517113  0.3034259187982715  2023-11-03  \n",
       "2  5.938695571216891  0.8429913211299445  2023-11-03  \n",
       "3  9.547153116086074   0.790054676298481  2023-11-03  \n",
       "4  7.130297093815557  0.2923574974092905  2023-11-03  "
      ]
     },
     "execution_count": 19,
     "metadata": {},
     "output_type": "execute_result"
    }
   ],
   "source": [
    "table = 'test_data_small'\n",
    "sql_instance.sql(f\"select * from {table} limit 5;\")"
   ]
  },
  {
   "cell_type": "code",
   "execution_count": 20,
   "id": "66739f01-aea3-4a63-9778-f8017c4785f6",
   "metadata": {},
   "outputs": [
    {
     "name": "stdout",
     "output_type": "stream",
     "text": [
      "The type of id is not numeric\n",
      "The type of x_cat1 is not numeric\n",
      "The type of day_ is not numeric\n"
     ]
    },
    {
     "data": {
      "text/html": [
       "<div>\n",
       "<style scoped>\n",
       "    .dataframe tbody tr th:only-of-type {\n",
       "        vertical-align: middle;\n",
       "    }\n",
       "\n",
       "    .dataframe tbody tr th {\n",
       "        vertical-align: top;\n",
       "    }\n",
       "\n",
       "    .dataframe thead th {\n",
       "        text-align: right;\n",
       "    }\n",
       "</style>\n",
       "<table border=\"1\" class=\"dataframe\">\n",
       "  <thead>\n",
       "    <tr style=\"text-align: right;\">\n",
       "      <th></th>\n",
       "      <th>count</th>\n",
       "      <th>std</th>\n",
       "      <th>min</th>\n",
       "      <th>quantile_0.25</th>\n",
       "      <th>quantile_0.5</th>\n",
       "      <th>quantile_0.75</th>\n",
       "      <th>quantile_0.90</th>\n",
       "      <th>quantile_0.99</th>\n",
       "      <th>max</th>\n",
       "    </tr>\n",
       "  </thead>\n",
       "  <tbody>\n",
       "    <tr>\n",
       "      <th>x1</th>\n",
       "      <td>1000000.0</td>\n",
       "      <td>0.999922</td>\n",
       "      <td>-5.002299e+00</td>\n",
       "      <td>-0.679415</td>\n",
       "      <td>0.019157</td>\n",
       "      <td>0.684455</td>\n",
       "      <td>1.283479</td>\n",
       "      <td>2.303482</td>\n",
       "      <td>4.716662</td>\n",
       "    </tr>\n",
       "    <tr>\n",
       "      <th>x2</th>\n",
       "      <td>1000000.0</td>\n",
       "      <td>1.997773</td>\n",
       "      <td>-9.641880e+00</td>\n",
       "      <td>-1.318027</td>\n",
       "      <td>-0.005142</td>\n",
       "      <td>1.373938</td>\n",
       "      <td>2.617899</td>\n",
       "      <td>4.648914</td>\n",
       "      <td>9.592931</td>\n",
       "    </tr>\n",
       "    <tr>\n",
       "      <th>x3</th>\n",
       "      <td>1000000.0</td>\n",
       "      <td>1.000620</td>\n",
       "      <td>3.675154e-07</td>\n",
       "      <td>0.286188</td>\n",
       "      <td>0.687187</td>\n",
       "      <td>1.396347</td>\n",
       "      <td>2.305995</td>\n",
       "      <td>4.569158</td>\n",
       "      <td>14.140199</td>\n",
       "    </tr>\n",
       "    <tr>\n",
       "      <th>x4</th>\n",
       "      <td>1000000.0</td>\n",
       "      <td>2.000650</td>\n",
       "      <td>5.033568e-08</td>\n",
       "      <td>0.573155</td>\n",
       "      <td>1.395479</td>\n",
       "      <td>2.812585</td>\n",
       "      <td>4.609905</td>\n",
       "      <td>8.872086</td>\n",
       "      <td>28.353437</td>\n",
       "    </tr>\n",
       "    <tr>\n",
       "      <th>x5</th>\n",
       "      <td>1000000.0</td>\n",
       "      <td>1.442778</td>\n",
       "      <td>1.376244e-05</td>\n",
       "      <td>1.268528</td>\n",
       "      <td>2.474817</td>\n",
       "      <td>3.702746</td>\n",
       "      <td>4.474466</td>\n",
       "      <td>4.949631</td>\n",
       "      <td>4.999999</td>\n",
       "    </tr>\n",
       "    <tr>\n",
       "      <th>x_long_tail1</th>\n",
       "      <td>1000000.0</td>\n",
       "      <td>0.854935</td>\n",
       "      <td>1.282535e-07</td>\n",
       "      <td>0.099149</td>\n",
       "      <td>0.257353</td>\n",
       "      <td>0.582168</td>\n",
       "      <td>1.125456</td>\n",
       "      <td>3.439402</td>\n",
       "      <td>74.090720</td>\n",
       "    </tr>\n",
       "    <tr>\n",
       "      <th>x_long_tail2</th>\n",
       "      <td>1000000.0</td>\n",
       "      <td>4.201436</td>\n",
       "      <td>1.635832e-06</td>\n",
       "      <td>0.154003</td>\n",
       "      <td>0.407520</td>\n",
       "      <td>0.986300</td>\n",
       "      <td>2.179218</td>\n",
       "      <td>9.388923</td>\n",
       "      <td>2702.431606</td>\n",
       "    </tr>\n",
       "    <tr>\n",
       "      <th>treatment</th>\n",
       "      <td>1000000.0</td>\n",
       "      <td>0.500000</td>\n",
       "      <td>0.000000e+00</td>\n",
       "      <td>0.000000</td>\n",
       "      <td>1.000000</td>\n",
       "      <td>1.000000</td>\n",
       "      <td>1.000000</td>\n",
       "      <td>1.000000</td>\n",
       "      <td>1.000000</td>\n",
       "    </tr>\n",
       "    <tr>\n",
       "      <th>t_ob</th>\n",
       "      <td>1000000.0</td>\n",
       "      <td>0.490887</td>\n",
       "      <td>0.000000e+00</td>\n",
       "      <td>0.000000</td>\n",
       "      <td>1.000000</td>\n",
       "      <td>1.000000</td>\n",
       "      <td>1.000000</td>\n",
       "      <td>1.000000</td>\n",
       "      <td>1.000000</td>\n",
       "    </tr>\n",
       "    <tr>\n",
       "      <th>y</th>\n",
       "      <td>1000000.0</td>\n",
       "      <td>12.696355</td>\n",
       "      <td>-1.941695e+01</td>\n",
       "      <td>3.979017</td>\n",
       "      <td>9.869640</td>\n",
       "      <td>17.367961</td>\n",
       "      <td>27.518491</td>\n",
       "      <td>57.510296</td>\n",
       "      <td>215.601467</td>\n",
       "    </tr>\n",
       "    <tr>\n",
       "      <th>y_ob</th>\n",
       "      <td>1000000.0</td>\n",
       "      <td>1.282453</td>\n",
       "      <td>-5.659304e+00</td>\n",
       "      <td>-0.442275</td>\n",
       "      <td>0.410461</td>\n",
       "      <td>1.270892</td>\n",
       "      <td>2.053559</td>\n",
       "      <td>3.315146</td>\n",
       "      <td>6.500391</td>\n",
       "    </tr>\n",
       "    <tr>\n",
       "      <th>numerator_pre</th>\n",
       "      <td>1000000.0</td>\n",
       "      <td>5.405234</td>\n",
       "      <td>-1.903798e+01</td>\n",
       "      <td>0.837816</td>\n",
       "      <td>4.277951</td>\n",
       "      <td>7.875073</td>\n",
       "      <td>11.538413</td>\n",
       "      <td>19.063392</td>\n",
       "      <td>51.941076</td>\n",
       "    </tr>\n",
       "    <tr>\n",
       "      <th>numerator</th>\n",
       "      <td>1000000.0</td>\n",
       "      <td>12.696355</td>\n",
       "      <td>-1.941695e+01</td>\n",
       "      <td>4.229517</td>\n",
       "      <td>10.186283</td>\n",
       "      <td>17.278514</td>\n",
       "      <td>27.010666</td>\n",
       "      <td>57.716929</td>\n",
       "      <td>215.601467</td>\n",
       "    </tr>\n",
       "    <tr>\n",
       "      <th>denominator_pre</th>\n",
       "      <td>1000000.0</td>\n",
       "      <td>3.366755</td>\n",
       "      <td>-5.090748e+00</td>\n",
       "      <td>3.438227</td>\n",
       "      <td>6.124793</td>\n",
       "      <td>8.630050</td>\n",
       "      <td>10.510744</td>\n",
       "      <td>13.538675</td>\n",
       "      <td>22.643924</td>\n",
       "    </tr>\n",
       "    <tr>\n",
       "      <th>denominator</th>\n",
       "      <td>1000000.0</td>\n",
       "      <td>4.506935</td>\n",
       "      <td>-1.294339e+01</td>\n",
       "      <td>3.981840</td>\n",
       "      <td>6.977119</td>\n",
       "      <td>10.090140</td>\n",
       "      <td>12.951545</td>\n",
       "      <td>18.118654</td>\n",
       "      <td>31.211816</td>\n",
       "    </tr>\n",
       "    <tr>\n",
       "      <th>weight</th>\n",
       "      <td>1000000.0</td>\n",
       "      <td>0.288656</td>\n",
       "      <td>5.925081e-07</td>\n",
       "      <td>0.247342</td>\n",
       "      <td>0.489965</td>\n",
       "      <td>0.734680</td>\n",
       "      <td>0.896650</td>\n",
       "      <td>0.987849</td>\n",
       "      <td>1.000000</td>\n",
       "    </tr>\n",
       "  </tbody>\n",
       "</table>\n",
       "</div>"
      ],
      "text/plain": [
       "                     count        std           min  quantile_0.25  \\\n",
       "x1               1000000.0   0.999922 -5.002299e+00      -0.679415   \n",
       "x2               1000000.0   1.997773 -9.641880e+00      -1.318027   \n",
       "x3               1000000.0   1.000620  3.675154e-07       0.286188   \n",
       "x4               1000000.0   2.000650  5.033568e-08       0.573155   \n",
       "x5               1000000.0   1.442778  1.376244e-05       1.268528   \n",
       "x_long_tail1     1000000.0   0.854935  1.282535e-07       0.099149   \n",
       "x_long_tail2     1000000.0   4.201436  1.635832e-06       0.154003   \n",
       "treatment        1000000.0   0.500000  0.000000e+00       0.000000   \n",
       "t_ob             1000000.0   0.490887  0.000000e+00       0.000000   \n",
       "y                1000000.0  12.696355 -1.941695e+01       3.979017   \n",
       "y_ob             1000000.0   1.282453 -5.659304e+00      -0.442275   \n",
       "numerator_pre    1000000.0   5.405234 -1.903798e+01       0.837816   \n",
       "numerator        1000000.0  12.696355 -1.941695e+01       4.229517   \n",
       "denominator_pre  1000000.0   3.366755 -5.090748e+00       3.438227   \n",
       "denominator      1000000.0   4.506935 -1.294339e+01       3.981840   \n",
       "weight           1000000.0   0.288656  5.925081e-07       0.247342   \n",
       "\n",
       "                 quantile_0.5  quantile_0.75  quantile_0.90  quantile_0.99  \\\n",
       "x1                   0.019157       0.684455       1.283479       2.303482   \n",
       "x2                  -0.005142       1.373938       2.617899       4.648914   \n",
       "x3                   0.687187       1.396347       2.305995       4.569158   \n",
       "x4                   1.395479       2.812585       4.609905       8.872086   \n",
       "x5                   2.474817       3.702746       4.474466       4.949631   \n",
       "x_long_tail1         0.257353       0.582168       1.125456       3.439402   \n",
       "x_long_tail2         0.407520       0.986300       2.179218       9.388923   \n",
       "treatment            1.000000       1.000000       1.000000       1.000000   \n",
       "t_ob                 1.000000       1.000000       1.000000       1.000000   \n",
       "y                    9.869640      17.367961      27.518491      57.510296   \n",
       "y_ob                 0.410461       1.270892       2.053559       3.315146   \n",
       "numerator_pre        4.277951       7.875073      11.538413      19.063392   \n",
       "numerator           10.186283      17.278514      27.010666      57.716929   \n",
       "denominator_pre      6.124793       8.630050      10.510744      13.538675   \n",
       "denominator          6.977119      10.090140      12.951545      18.118654   \n",
       "weight               0.489965       0.734680       0.896650       0.987849   \n",
       "\n",
       "                         max  \n",
       "x1                  4.716662  \n",
       "x2                  9.592931  \n",
       "x3                 14.140199  \n",
       "x4                 28.353437  \n",
       "x5                  4.999999  \n",
       "x_long_tail1       74.090720  \n",
       "x_long_tail2     2702.431606  \n",
       "treatment           1.000000  \n",
       "t_ob                1.000000  \n",
       "y                 215.601467  \n",
       "y_ob                6.500391  \n",
       "numerator_pre      51.941076  \n",
       "numerator         215.601467  \n",
       "denominator_pre    22.643924  \n",
       "denominator        31.211816  \n",
       "weight              1.000000  "
      ]
     },
     "execution_count": 20,
     "metadata": {},
     "output_type": "execute_result"
    }
   ],
   "source": [
    "# data descirption\n",
    "from fast_causal_inference.lib.tools import *\n",
    "table = 'test_data_small'\n",
    "describe(table,'*')"
   ]
  },
  {
   "cell_type": "markdown",
   "id": "67aecdae-ef4d-4842-bb7f-45a0a320ff48",
   "metadata": {},
   "source": [
    "#### histplot"
   ]
  },
  {
   "cell_type": "code",
   "execution_count": 21,
   "id": "f1a3a444-cf80-40eb-a671-e29681fb89dd",
   "metadata": {},
   "outputs": [
    {
     "data": {
      "image/png": "[encoded data removed]",
      "text/plain": [
       "<Figure size 640x480 with 1 Axes>"
      ]
     },
     "metadata": {},
     "output_type": "display_data"
    },
    {
     "name": "stdout",
     "output_type": "stream",
     "text": [
      "The type of x_cat1 is not numeric\n"
     ]
    },
    {
     "data": {
      "image/png": "[encoded data removed]",
      "text/plain": [
       "<Figure size 640x480 with 1 Axes>"
      ]
     },
     "metadata": {},
     "output_type": "display_data"
    }
   ],
   "source": [
    "# histplot\n",
    "\n",
    "from fast_causal_inference.lib.tools import *\n",
    "table = 'test_data_small'\n",
    "col = 'x1'\n",
    "histplot(table,col,bin_num=50)\n",
    "\n",
    "table = 'test_data_small'\n",
    "col = 'x_cat1'\n",
    "histplot(table,col,bin_num=50)"
   ]
  },
  {
   "cell_type": "markdown",
   "id": "ab5aae90-e327-44d4-ad2b-8873dbaf45c9",
   "metadata": {},
   "source": [
    "#### boxplot"
   ]
  },
  {
   "cell_type": "code",
   "execution_count": 22,
   "id": "774f495c-10a2-46e8-91e6-ee06647c5017",
   "metadata": {},
   "outputs": [
    {
     "name": "stdout",
     "output_type": "stream",
     "text": [
      "min: 1.2825348871814413e-07\n",
      "25_quantile: 0.09646150862134684\n",
      "50_quantile: 0.2535869458656722\n",
      "75_quantile: 0.5855107918153533\n",
      "max: 74.09071953982661\n"
     ]
    },
    {
     "data": {
      "image/png": "[encoded data removed]",
      "text/plain": [
       "<Figure size 640x480 with 1 Axes>"
      ]
     },
     "metadata": {},
     "output_type": "display_data"
    }
   ],
   "source": [
    "# boxplot\n",
    "\n",
    "from fast_causal_inference.lib.tools import *\n",
    "\n",
    "table = 'test_data_small'\n",
    "col = 'x_long_tail1'\n",
    "boxplot(table,col)"
   ]
  },
  {
   "cell_type": "markdown",
   "id": "e01fd229-ffed-4b93-a6a9-0c17ac54835e",
   "metadata": {},
   "source": [
    "# AB experiment Analysis"
   ]
  },
  {
   "cell_type": "markdown",
   "id": "8058363b-5e71-48dc-ab22-cd51d85e8c8c",
   "metadata": {},
   "source": [
    "### ttest"
   ]
  },
  {
   "cell_type": "markdown",
   "id": "af779c9a-822b-44f2-be2f-bf242eb5e792",
   "metadata": {},
   "source": [
    "- In A/B test analysis, **t-test** is widely used to test whether the average of treatment variant is statistically significantly different from the average of the control variant. However, the mean and variance formula only applied to i.i.d (independent and identically distributed) random variables, and in real business cases our metrics are more complex. Mostly, business metrics are defined as ratios, for example, Clickthrough rate or CTR which is defined as Clicks/Views. Here, we will *utilize the delta method to approximate the variance of the metrics ratio*.\n",
    "$$t=\\frac{\\bar X_B-\\bar X_A}{\\sqrt{Var(\\bar X_A)+Var(\\bar X_B)}}$$\n",
    "\n",
    "$$Var(\\bar X)=\\frac{1}{n}\\frac{1}{n-1}\\sum_{i=1}^n (X_i-\\bar X)^2 $$\n",
    "- **Delta method** extends the normal approximations of the central limit theorem. Delta method approximates asymptotically normal random variables by applying the Taylor series on the function of random variables. We can estimate the variance of x/y as follows:\n",
    "$$v=(1/y,-x/y^2)|_{x=\\bar x, y=\\bar y )}$$\n",
    "\n",
    "$$\\mathop{{M}}\\nolimits_{{2 \\times 2}}=\\frac{1}{n}{ \\left[ {\\begin{array}{*{20}{c}}\n",
    "{var(x)}&{cov(x,y)}\\\\\n",
    "{cov(x,y)}&{var(y)}\\\\\n",
    "\\end{array}} \\right] }={ \\left[ {\\mathop{{m}}\\nolimits_{{ij}}} \\right] }  $$\n",
    "\n",
    "$$var(x/y)=v*\\mathop{{M}}\\nolimits_{{2 \\times 2}}*v$$"
   ]
  },
  {
   "cell_type": "markdown",
   "id": "af99a160-627e-4f2e-959d-dc1d5f2931c8",
   "metadata": {},
   "source": [
    "- <font size=\"4\">case1: use deltamethod to do t-test</font>"
   ]
  },
  {
   "cell_type": "code",
   "execution_count": 23,
   "id": "a2d066d0-9dd5-4bc3-a62d-21d504e941e8",
   "metadata": {},
   "outputs": [
    {
     "data": {
      "text/html": [
       "<div>\n",
       "<style scoped>\n",
       "    .dataframe tbody tr th:only-of-type {\n",
       "        vertical-align: middle;\n",
       "    }\n",
       "\n",
       "    .dataframe tbody tr th {\n",
       "        vertical-align: top;\n",
       "    }\n",
       "\n",
       "    .dataframe thead th {\n",
       "        text-align: right;\n",
       "    }\n",
       "</style>\n",
       "<table border=\"1\" class=\"dataframe\">\n",
       "  <thead>\n",
       "    <tr style=\"text-align: right;\">\n",
       "      <th></th>\n",
       "      <th>mean0</th>\n",
       "      <th>mean1</th>\n",
       "      <th>estimate</th>\n",
       "      <th>stderr</th>\n",
       "      <th>t-statistic</th>\n",
       "      <th>p-value</th>\n",
       "      <th>lower</th>\n",
       "      <th>upper</th>\n",
       "    </tr>\n",
       "  </thead>\n",
       "  <tbody>\n",
       "    <tr>\n",
       "      <th>0</th>\n",
       "      <td>0.780409</td>\n",
       "      <td>2.472226</td>\n",
       "      <td>1.691817</td>\n",
       "      <td>0.003286</td>\n",
       "      <td>514.839199</td>\n",
       "      <td>0.000000</td>\n",
       "      <td>1.685376</td>\n",
       "      <td>1.698257</td>\n",
       "    </tr>\n",
       "  </tbody>\n",
       "</table>\n",
       "</div>"
      ],
      "text/plain": [
       "      mean0     mean1  estimate    stderr t-statistic   p-value     lower  \\\n",
       "0  0.780409  2.472226  1.691817  0.003286  514.839199  0.000000  1.685376   \n",
       "\n",
       "      upper  \n",
       "0  1.698257  "
      ]
     },
     "execution_count": 23,
     "metadata": {},
     "output_type": "execute_result"
    }
   ],
   "source": [
    "ttest = sql_instance.sql(\"\"\"select \n",
    "                                  ttest_2samp(avg(numerator)/avg(denominator),treatment,'two-sided') as ttest_result\n",
    "                            from \n",
    "                                  test_data_small\"\"\")\n",
    "fast_causal_inference.to_pandas(ttest['ttest_result'])"
   ]
  },
  {
   "cell_type": "markdown",
   "id": "782e1391-90e8-4272-9fd7-efb0e10e68e8",
   "metadata": {},
   "source": [
    "- <font size=\"4\">case2: use deltamethod to do t-test and **CUPED** to reduce variance</font>  \n",
    "\n",
    "\n",
    "    - We offer a feature in ttest_2samp that utilizes [CUPED (Controlled-experiment Using Pre-Experiment Data)](https://ai.stanford.edu/~ronnyk/2013-02CUPEDImprovingSensitivityOfControlledExperiments.pdf) This technique adjusts metrics using pre-experiment data from both control and treatment groups, aiming to decrease metric variability.\n",
    "    - To further reduce variance, you can combine multiple metrics using the '+' operator.\n",
    "    - Additionally, ttest_2samp allows you to perform a t-test grouped by any dimensions of your choice."
   ]
  },
  {
   "cell_type": "code",
   "execution_count": 24,
   "id": "196c6c8c-4d0c-4ee7-8fa3-88e51272b596",
   "metadata": {},
   "outputs": [
    {
     "data": {
      "text/html": [
       "<div>\n",
       "<style scoped>\n",
       "    .dataframe tbody tr th:only-of-type {\n",
       "        vertical-align: middle;\n",
       "    }\n",
       "\n",
       "    .dataframe tbody tr th {\n",
       "        vertical-align: top;\n",
       "    }\n",
       "\n",
       "    .dataframe thead th {\n",
       "        text-align: right;\n",
       "    }\n",
       "</style>\n",
       "<table border=\"1\" class=\"dataframe\">\n",
       "  <thead>\n",
       "    <tr style=\"text-align: right;\">\n",
       "      <th></th>\n",
       "      <th>mean0</th>\n",
       "      <th>mean1</th>\n",
       "      <th>estimate</th>\n",
       "      <th>stderr</th>\n",
       "      <th>t-statistic</th>\n",
       "      <th>p-value</th>\n",
       "      <th>lower</th>\n",
       "      <th>upper</th>\n",
       "    </tr>\n",
       "  </thead>\n",
       "  <tbody>\n",
       "    <tr>\n",
       "      <th>0</th>\n",
       "      <td>0.782153</td>\n",
       "      <td>2.470484</td>\n",
       "      <td>1.688330</td>\n",
       "      <td>0.002567</td>\n",
       "      <td>657.654079</td>\n",
       "      <td>0.000000</td>\n",
       "      <td>1.683299</td>\n",
       "      <td>1.693362</td>\n",
       "    </tr>\n",
       "  </tbody>\n",
       "</table>\n",
       "</div>"
      ],
      "text/plain": [
       "      mean0     mean1  estimate    stderr t-statistic   p-value     lower  \\\n",
       "0  0.782153  2.470484  1.688330  0.002567  657.654079  0.000000  1.683299   \n",
       "\n",
       "      upper  \n",
       "0  1.693362  "
      ]
     },
     "execution_count": 24,
     "metadata": {},
     "output_type": "execute_result"
    }
   ],
   "source": [
    "ttest = sql_instance.sql(\"\"\"select \n",
    "                                  ttest_2samp(avg(numerator)/avg(denominator),treatment,'two-sided',\n",
    "                                  avg(numerator_pre)/avg(denominator_pre)+avg(x1)) as ttest_result \n",
    "                            from \n",
    "                                  test_data_small\"\"\")\n",
    "fast_causal_inference.to_pandas(ttest['ttest_result'])"
   ]
  },
  {
   "cell_type": "code",
   "execution_count": 25,
   "id": "1ee6c590-4286-43ce-ae35-d46ba1945498",
   "metadata": {},
   "outputs": [
    {
     "data": {
      "text/html": [
       "<div>\n",
       "<style scoped>\n",
       "    .dataframe tbody tr th:only-of-type {\n",
       "        vertical-align: middle;\n",
       "    }\n",
       "\n",
       "    .dataframe tbody tr th {\n",
       "        vertical-align: top;\n",
       "    }\n",
       "\n",
       "    .dataframe thead th {\n",
       "        text-align: right;\n",
       "    }\n",
       "</style>\n",
       "<table border=\"1\" class=\"dataframe\">\n",
       "  <thead>\n",
       "    <tr style=\"text-align: right;\">\n",
       "      <th></th>\n",
       "      <th>mean0</th>\n",
       "      <th>mean1</th>\n",
       "      <th>estimate</th>\n",
       "      <th>stderr</th>\n",
       "      <th>t-statistic</th>\n",
       "      <th>p-value</th>\n",
       "      <th>lower</th>\n",
       "      <th>upper</th>\n",
       "    </tr>\n",
       "  </thead>\n",
       "  <tbody>\n",
       "    <tr>\n",
       "      <th>0</th>\n",
       "      <td>0.418431</td>\n",
       "      <td>2.193052</td>\n",
       "      <td>1.774621</td>\n",
       "      <td>0.005475</td>\n",
       "      <td>324.157289</td>\n",
       "      <td>0.000000</td>\n",
       "      <td>1.763891</td>\n",
       "      <td>1.785351</td>\n",
       "    </tr>\n",
       "    <tr>\n",
       "      <th>1</th>\n",
       "      <td>0.744301</td>\n",
       "      <td>2.438846</td>\n",
       "      <td>1.694545</td>\n",
       "      <td>0.005731</td>\n",
       "      <td>295.694917</td>\n",
       "      <td>0.000000</td>\n",
       "      <td>1.683313</td>\n",
       "      <td>1.705777</td>\n",
       "    </tr>\n",
       "    <tr>\n",
       "      <th>2</th>\n",
       "      <td>0.747373</td>\n",
       "      <td>2.447231</td>\n",
       "      <td>1.699857</td>\n",
       "      <td>0.005769</td>\n",
       "      <td>294.665887</td>\n",
       "      <td>0.000000</td>\n",
       "      <td>1.688551</td>\n",
       "      <td>1.711164</td>\n",
       "    </tr>\n",
       "    <tr>\n",
       "      <th>3</th>\n",
       "      <td>0.753375</td>\n",
       "      <td>2.450852</td>\n",
       "      <td>1.697476</td>\n",
       "      <td>0.005794</td>\n",
       "      <td>292.976337</td>\n",
       "      <td>0.000000</td>\n",
       "      <td>1.686121</td>\n",
       "      <td>1.708832</td>\n",
       "    </tr>\n",
       "    <tr>\n",
       "      <th>4</th>\n",
       "      <td>1.247141</td>\n",
       "      <td>2.827787</td>\n",
       "      <td>1.580646</td>\n",
       "      <td>0.006380</td>\n",
       "      <td>247.752362</td>\n",
       "      <td>0.000000</td>\n",
       "      <td>1.568141</td>\n",
       "      <td>1.593150</td>\n",
       "    </tr>\n",
       "  </tbody>\n",
       "</table>\n",
       "</div>"
      ],
      "text/plain": [
       "      mean0     mean1  estimate    stderr t-statistic   p-value     lower  \\\n",
       "0  0.418431  2.193052  1.774621  0.005475  324.157289  0.000000  1.763891   \n",
       "1  0.744301  2.438846  1.694545  0.005731  295.694917  0.000000  1.683313   \n",
       "2  0.747373  2.447231  1.699857  0.005769  294.665887  0.000000  1.688551   \n",
       "3  0.753375  2.450852  1.697476  0.005794  292.976337  0.000000  1.686121   \n",
       "4  1.247141  2.827787  1.580646  0.006380  247.752362  0.000000  1.568141   \n",
       "\n",
       "      upper  \n",
       "0  1.785351  \n",
       "1  1.705777  \n",
       "2  1.711164  \n",
       "3  1.708832  \n",
       "4  1.593150  "
      ]
     },
     "execution_count": 25,
     "metadata": {},
     "output_type": "execute_result"
    }
   ],
   "source": [
    "ttest = sql_instance.sql(\"\"\"select \n",
    "                                  x_cat1,ttest_2samp(avg(numerator)/avg(denominator),treatment,'two-sided',\n",
    "                                  avg(numerator_pre)/avg(denominator_pre)) as ttest_result \n",
    "                            from \n",
    "                                  test_data_small\n",
    "                            group by \n",
    "                                  x_cat1\"\"\")\n",
    "fast_causal_inference.to_pandas(ttest['ttest_result'])"
   ]
  },
  {
   "cell_type": "markdown",
   "id": "a372f881-39e5-4b31-a133-a4699f7081e6",
   "metadata": {},
   "source": [
    "- <font size=\"4\">case3: ttest_1samp </font>  \n",
    "    - ttest_1samp can be used in pair test.\n"
   ]
  },
  {
   "cell_type": "code",
   "execution_count": 26,
   "id": "aca383d6-476a-4058-ae3e-1e18b599374a",
   "metadata": {},
   "outputs": [
    {
     "data": {
      "text/html": [
       "<div>\n",
       "<style scoped>\n",
       "    .dataframe tbody tr th:only-of-type {\n",
       "        vertical-align: middle;\n",
       "    }\n",
       "\n",
       "    .dataframe tbody tr th {\n",
       "        vertical-align: top;\n",
       "    }\n",
       "\n",
       "    .dataframe thead th {\n",
       "        text-align: right;\n",
       "    }\n",
       "</style>\n",
       "<table border=\"1\" class=\"dataframe\">\n",
       "  <thead>\n",
       "    <tr style=\"text-align: right;\">\n",
       "      <th></th>\n",
       "      <th>estimate</th>\n",
       "      <th>stderr</th>\n",
       "      <th>t-statistic</th>\n",
       "      <th>p-value</th>\n",
       "      <th>lower</th>\n",
       "      <th>upper</th>\n",
       "    </tr>\n",
       "  </thead>\n",
       "  <tbody>\n",
       "    <tr>\n",
       "      <th>0</th>\n",
       "      <td>1.747235</td>\n",
       "      <td>0.001908</td>\n",
       "      <td>915.730622</td>\n",
       "      <td>0.000000</td>\n",
       "      <td>1.743495</td>\n",
       "      <td>1.750975</td>\n",
       "    </tr>\n",
       "  </tbody>\n",
       "</table>\n",
       "</div>"
      ],
      "text/plain": [
       "   estimate    stderr t-statistic   p-value     lower     upper\n",
       "0  1.747235  0.001908  915.730622  0.000000  1.743495  1.750975"
      ]
     },
     "execution_count": 26,
     "metadata": {},
     "output_type": "execute_result"
    }
   ],
   "source": [
    "ttest = sql_instance.sql(\"\"\"select \n",
    "                                  ttest_1samp(avg(numerator)/avg(denominator),'two-sided') as ttest_result\n",
    "                            from \n",
    "                                  test_data_small\"\"\")\n",
    "fast_causal_inference.to_pandas(ttest['ttest_result'])"
   ]
  },
  {
   "cell_type": "markdown",
   "id": "4ec2c219-bb55-42c5-95c3-8ad0e2477236",
   "metadata": {},
   "source": [
    "### MWU test"
   ]
  },
  {
   "cell_type": "markdown",
   "id": "bc609f8a-24e5-4106-a5cd-81cd6440467e",
   "metadata": {},
   "source": [
    "The [Mann–Whitney U test](https://en.wikipedia.org/wiki/Mann%E2%80%93Whitney_U_test) is a nonparametric test of the null hypothesis that, for randomly selected values X and Y from two populations, the probability of X being greater than Y is equal to the probability of Y being greater than X."
   ]
  },
  {
   "cell_type": "code",
   "execution_count": 27,
   "id": "f2560909-59f1-4244-a282-da8703b86bb5",
   "metadata": {},
   "outputs": [
    {
     "data": {
      "text/html": [
       "<div>\n",
       "<style scoped>\n",
       "    .dataframe tbody tr th:only-of-type {\n",
       "        vertical-align: middle;\n",
       "    }\n",
       "\n",
       "    .dataframe tbody tr th {\n",
       "        vertical-align: top;\n",
       "    }\n",
       "\n",
       "    .dataframe thead th {\n",
       "        text-align: right;\n",
       "    }\n",
       "</style>\n",
       "<table border=\"1\" class=\"dataframe\">\n",
       "  <thead>\n",
       "    <tr style=\"text-align: right;\">\n",
       "      <th></th>\n",
       "      <th>mannWhitneyUTest('two-sided')(numerator, treatment)</th>\n",
       "    </tr>\n",
       "  </thead>\n",
       "  <tbody>\n",
       "    <tr>\n",
       "      <th>0</th>\n",
       "      <td>[2.3984680203E10, 0.0]</td>\n",
       "    </tr>\n",
       "  </tbody>\n",
       "</table>\n",
       "</div>"
      ],
      "text/plain": [
       "  mannWhitneyUTest('two-sided')(numerator, treatment)\n",
       "0                             [2.3984680203E10, 0.0] "
      ]
     },
     "execution_count": 27,
     "metadata": {},
     "output_type": "execute_result"
    }
   ],
   "source": [
    "sql_instance.sql(\"\"\"\n",
    "    select \n",
    "        mannWhitneyUTest('two-sided')(numerator, treatment) \n",
    "    from \n",
    "        test_data_small;\n",
    "\"\"\")"
   ]
  },
  {
   "cell_type": "markdown",
   "id": "ab336479-8dca-4b22-b1fa-66a4d3c15130",
   "metadata": {
    "tags": []
   },
   "source": [
    "### SRM"
   ]
  },
  {
   "cell_type": "markdown",
   "id": "7cf25177-a5ed-4f54-8d0e-2ad1be3b02a3",
   "metadata": {},
   "source": [
    "**SRM (Sample ratio mismatch)** is an experimental flaw where the expected traffic allocation doesn’t fit with the observed visitor number for each testing variation. We do this using the chi-squared test of independence."
   ]
  },
  {
   "cell_type": "code",
   "execution_count": 28,
   "id": "557bef2a-d380-4a5f-b7fc-c4523224b55d",
   "metadata": {},
   "outputs": [
    {
     "data": {
      "text/html": [
       "<div>\n",
       "<style scoped>\n",
       "    .dataframe tbody tr th:only-of-type {\n",
       "        vertical-align: middle;\n",
       "    }\n",
       "\n",
       "    .dataframe tbody tr th {\n",
       "        vertical-align: top;\n",
       "    }\n",
       "\n",
       "    .dataframe thead th {\n",
       "        text-align: right;\n",
       "    }\n",
       "</style>\n",
       "<table border=\"1\" class=\"dataframe\">\n",
       "  <thead>\n",
       "    <tr style=\"text-align: right;\">\n",
       "      <th></th>\n",
       "      <th>groupname</th>\n",
       "      <th>f_obs</th>\n",
       "      <th>ratio</th>\n",
       "      <th>chisquare</th>\n",
       "      <th>p-value</th>\n",
       "    </tr>\n",
       "  </thead>\n",
       "  <tbody>\n",
       "    <tr>\n",
       "      <th>0</th>\n",
       "      <td>0</td>\n",
       "      <td>4.9946e+05</td>\n",
       "      <td>1.000000</td>\n",
       "      <td>1.170724</td>\n",
       "      <td>0.279253</td>\n",
       "    </tr>\n",
       "    <tr>\n",
       "      <th>1</th>\n",
       "      <td>1</td>\n",
       "      <td>5.0054e+05</td>\n",
       "      <td>1.000000</td>\n",
       "      <td>None</td>\n",
       "      <td>None</td>\n",
       "    </tr>\n",
       "  </tbody>\n",
       "</table>\n",
       "</div>"
      ],
      "text/plain": [
       "  groupname       f_obs     ratio chisquare   p-value\n",
       "0         0  4.9946e+05  1.000000  1.170724  0.279253\n",
       "1         1  5.0054e+05  1.000000      None      None"
      ]
     },
     "execution_count": 28,
     "metadata": {},
     "output_type": "execute_result"
    }
   ],
   "source": [
    "result = sql_instance.sql(\"\"\"SELECT  \n",
    "                                   SRM(1, treatment, [1,1]) as srm\n",
    "                            FROM  \n",
    "                                   test_data_small\"\"\")\n",
    "fast_causal_inference.to_pandas(result['srm'])"
   ]
  },
  {
   "cell_type": "markdown",
   "id": "9c5a57cf-c74d-48b2-9390-ffbeaaa634e4",
   "metadata": {},
   "source": [
    "# Regression-based model"
   ]
  },
  {
   "cell_type": "markdown",
   "id": "d373bd1f-1926-439a-b57b-ff9ccea2aaab",
   "metadata": {},
   "source": [
    "### Linear regression"
   ]
  },
  {
   "cell_type": "markdown",
   "id": "6b36b6e3-fd2d-47b3-89cb-5b46c18dfac9",
   "metadata": {},
   "source": [
    "In statistics, [linear regression](https://en.wikipedia.org/wiki/Linear_regression) is a linear approach for modelling the relationship between a scalar response and one or more explanatory variables (also known as dependent and independent variables). The case of one explanatory variable is called simple linear regression. Written in matrix notation as:\n",
    "$$y=X\\beta+\\epsilon$$"
   ]
  },
  {
   "cell_type": "markdown",
   "id": "f603ba67-8f00-43a7-8296-c058ab8405eb",
   "metadata": {
    "tags": []
   },
   "source": [
    "#### OLS"
   ]
  },
  {
   "cell_type": "markdown",
   "id": "f31ceb56-9228-4044-8e24-6cb02387951b",
   "metadata": {},
   "source": [
    "In statistics, [ordinary least squares (OLS)](https://en.wikipedia.org/wiki/Ordinary_least_squares) is a type of linear least squares method for choosing the unknown parameters in a linear regression model (with fixed level-one effects of a linear function of a set of explanatory variables) by the principle of least squares: minimizing the sum of the squares of the differences between the observed dependent variable (values of the variable being observed) in the input dataset and the output of the (linear) function of the independent variable.\n",
    "$$S(\\boldsymbol{\\beta}) = \\sum_{i=1}^n \\left| y_i - \\sum_{j=1}^p X_{ij}\\beta_j\\right|^2 = \\left\\|\\mathbf y - \\mathbf{X} \\boldsymbol \\beta \\right\\|^2.$$\n",
    "We can leverage **matrix multiplication** to compute Ordinary Least Squares (OLS), which is highly efficient in the OLAP engine we are using.\n",
    "$$\\hat{\\boldsymbol{\\beta}} = \\left( \\mathbf{X}^{\\operatorname{T}} \\mathbf{X} \\right)^{-1} \\mathbf{X}^{\\operatorname{T}} \\mathbf y.$$\n"
   ]
  },
  {
   "cell_type": "code",
   "execution_count": 3,
   "id": "59f50a78-6298-4bc3-8732-562392a402f3",
   "metadata": {},
   "outputs": [
    {
     "name": "stdout",
     "output_type": "stream",
     "text": [
      "\n",
      "Call:\n",
      "  lm( formula = y ~ x1 + x2 )\n",
      "\n",
      "Coefficients:\n",
      ".               Estimate    Std. Error  t value     Pr(>|t|)    \n",
      "(Intercept)     12.240031   0.011883    1030.041644 0.000000    \n",
      "x1              1.965743    0.011884    165.411347  0.000000    \n",
      "x2              2.009595    0.005948    337.852522  0.000000    \n",
      "\n",
      "Residual standard error: 11.883031 on 999997 degrees of freedom\n",
      "Multiple R-squared: 0.124017, Adjusted R-squared: 0.124016\n",
      "F-statistic: 70787.441742 on 2 and 999997 DF,  p-value: 0.000000\n",
      "\n"
     ]
    }
   ],
   "source": [
    "# ols\n",
    "result = sql_instance.sql(f\"\"\"SELECT \n",
    "                                    ols(y~x1+x2) AS res\n",
    "                              FROM\n",
    "                                    test_data_small\"\"\")\n",
    "print(result['res'][0])\n"
   ]
  },
  {
   "cell_type": "code",
   "execution_count": 4,
   "id": "385d8412-d83d-457f-99e5-c3d693da4164",
   "metadata": {},
   "outputs": [
    {
     "data": {
      "text/html": [
       "<div>\n",
       "<style scoped>\n",
       "    .dataframe tbody tr th:only-of-type {\n",
       "        vertical-align: middle;\n",
       "    }\n",
       "\n",
       "    .dataframe tbody tr th {\n",
       "        vertical-align: top;\n",
       "    }\n",
       "\n",
       "    .dataframe thead th {\n",
       "        text-align: right;\n",
       "    }\n",
       "</style>\n",
       "<table border=\"1\" class=\"dataframe\">\n",
       "  <thead>\n",
       "    <tr style=\"text-align: right;\">\n",
       "      <th></th>\n",
       "      <th>res</th>\n",
       "    </tr>\n",
       "  </thead>\n",
       "  <tbody>\n",
       "    <tr>\n",
       "      <th>0</th>\n",
       "      <td>16.467028425343486</td>\n",
       "    </tr>\n",
       "    <tr>\n",
       "      <th>1</th>\n",
       "      <td>10.90150596913265</td>\n",
       "    </tr>\n",
       "    <tr>\n",
       "      <th>2</th>\n",
       "      <td>15.28579465708971</td>\n",
       "    </tr>\n",
       "    <tr>\n",
       "      <th>3</th>\n",
       "      <td>8.795163143643663</td>\n",
       "    </tr>\n",
       "    <tr>\n",
       "      <th>4</th>\n",
       "      <td>7.896367586936329</td>\n",
       "    </tr>\n",
       "    <tr>\n",
       "      <th>5</th>\n",
       "      <td>9.933836791930506</td>\n",
       "    </tr>\n",
       "    <tr>\n",
       "      <th>6</th>\n",
       "      <td>14.0388010978234</td>\n",
       "    </tr>\n",
       "    <tr>\n",
       "      <th>7</th>\n",
       "      <td>12.758258539132141</td>\n",
       "    </tr>\n",
       "    <tr>\n",
       "      <th>8</th>\n",
       "      <td>6.01535143833402</td>\n",
       "    </tr>\n",
       "    <tr>\n",
       "      <th>9</th>\n",
       "      <td>10.720462874727595</td>\n",
       "    </tr>\n",
       "  </tbody>\n",
       "</table>\n",
       "</div>"
      ],
      "text/plain": [
       "                  res\n",
       "0  16.467028425343486\n",
       "1   10.90150596913265\n",
       "2   15.28579465708971\n",
       "3   8.795163143643663\n",
       "4   7.896367586936329\n",
       "5   9.933836791930506\n",
       "6    14.0388010978234\n",
       "7  12.758258539132141\n",
       "8    6.01535143833402\n",
       "9  10.720462874727595"
      ]
     },
     "execution_count": 4,
     "metadata": {},
     "output_type": "execute_result"
    }
   ],
   "source": [
    "# predict\n",
    "sql_instance.sql(f\"\"\"SELECT\n",
    "                            predict(olsState(y+x1+x2),x1,x2) AS res\n",
    "                      FROM\n",
    "                            test_data_small\n",
    "                      limit 10\"\"\")"
   ]
  },
  {
   "cell_type": "markdown",
   "id": "7fa4d3ac-bc9b-4f2f-b610-2a96f46fbaa6",
   "metadata": {},
   "source": [
    "#### WLS"
   ]
  },
  {
   "cell_type": "markdown",
   "id": "52063db6-fce9-4794-bfd0-2b7a4986ea45",
   "metadata": {},
   "source": [
    "[Weighted least squares (WLS)](https://en.wikipedia.org/wiki/Weighted_least_squares), also known as weighted linear regression,[1][2] is a generalization of ordinary least squares and linear regression in which knowledge of the unequal variance of observations (heteroscedasticity) is incorporated into the regression. WLS is also a specialization of generalized least squares, when all the off-diagonal entries of the covariance matrix of the errors, are null.\n",
    "$$  \\underset{\\boldsymbol\\beta}{\\operatorname{arg\\ min}}\\, \\sum_{i=1}^{n} w_i \\left|y_i - \\sum_{j=1}^{m} X_{ij}\\beta_j\\right|^2 =\n",
    "  \\underset{\\boldsymbol\\beta}{\\operatorname{arg\\ min}}\\, \\left\\|W^\\frac{1}{2}\\left(\\mathbf{y} - X\\boldsymbol\\beta\\right)\\right\\|^2.$$\n",
    "We can leverage **matrix multiplication** to compute Weighted least squares (WLS), which is highly efficient in the OLAP engine we are using.\n",
    "$$\\hat{\\boldsymbol{\\beta}} = (X^\\textsf{T} W X)^{-1} X^\\textsf{T} W \\mathbf{y}.$$"
   ]
  },
  {
   "cell_type": "code",
   "execution_count": 5,
   "id": "5f97250e-f0fc-4eb2-ac56-b24e2baff801",
   "metadata": {},
   "outputs": [
    {
     "name": "stdout",
     "output_type": "stream",
     "text": [
      "\n",
      "Call:\n",
      "  lm( formula = y ~ x1 + x2 )\n",
      "\n",
      "Coefficients:\n",
      ".               Estimate    Std. Error  t value     Pr(>|t|)    \n",
      "(Intercept)     12.244710   0.011889    1029.887762 0.000000    \n",
      "x1              1.958339    0.011886    164.762589  0.000000    \n",
      "x2              1.996484    0.005950    335.525719  0.000000    \n",
      "\n",
      "Residual standard error: 8.406608 on 999997 degrees of freedom\n",
      "Multiple R-squared: 0.111087, Adjusted R-squared: 0.111086\n",
      "F-statistic: 62484.746748 on 2 and 999997 DF,  p-value: 0.000000\n",
      "\n"
     ]
    }
   ],
   "source": [
    "result = sql_instance.sql(f\"\"\"SELECT\n",
    "                                    wls(y~x1+x2,weight) as res\n",
    "                              from \n",
    "                                    test_data_small\"\"\")\n",
    "print(result['res'][0])"
   ]
  },
  {
   "cell_type": "markdown",
   "id": "9971b225-82cc-453a-8e94-703177cb184c",
   "metadata": {},
   "source": [
    "#### Lasso"
   ]
  },
  {
   "cell_type": "markdown",
   "id": "5ba654ab-cd84-44d8-a81d-797a3a5c4e05",
   "metadata": {},
   "source": [
    "**Lasso (Least Absolute Shrinkage and Selection Operator)** is a method used in regression analysis that performs both variable selection and regularization. This enhances the prediction accuracy and interpretability of the statistical model it produces. Lasso introduces a penalty term to the loss function of the least square method, which is the absolute value of the magnitude of the coefficients. This results in some coefficients being shrunk to zero, effectively selecting a simpler model that does not include those coefficients. To estimate Lasso, we use **gradient descent**, an optimization algorithm.\n"
   ]
  },
  {
   "cell_type": "code",
   "execution_count": 6,
   "id": "462e95e5-23e3-460c-8dbb-dcb6ac7393b4",
   "metadata": {},
   "outputs": [
    {
     "name": "stdout",
     "output_type": "stream",
     "text": [
      "[1.2558144538605551,2.0767084785308247,4.464278423215914,5.300328509526717]\n"
     ]
    }
   ],
   "source": [
    "# 训练\n",
    "result = sql_instance.sql(f\"\"\"SELECT\n",
    "                                stochasticLinearRegression(0.001, 0.1, 15, 'Lasso')(y, x1, x2, x3) as res\n",
    "                           FROM\n",
    "                                test_data_small\"\"\")\n",
    "print(result['res'][0])"
   ]
  },
  {
   "cell_type": "markdown",
   "id": "8137b4a9-aa68-492d-8d74-0e3fc3f23074",
   "metadata": {},
   "source": [
    "### logistic model"
   ]
  },
  {
   "cell_type": "markdown",
   "id": "b9514809-d619-4d0d-83fb-4de98b75a258",
   "metadata": {},
   "source": [
    "In statistics, the [logistic model (or logit model)](https://en.wikipedia.org/w/index.php?title=Logistic_regression) is a statistical model that models the probability of an event taking place by having the log-odds for the event be a linear combination of one or more independent variables. In regression analysis, logistic regression (or logit regression) is estimating the parameters of a logistic model (the coefficients in the linear combination). To estimate logistic model, we use **gradient descent**, an optimization algorithm.\n",
    "\n",
    "$$p(x)=\\frac{1}{1+e^{-(\\beta_0+\\beta_1 x)}}$$"
   ]
  },
  {
   "cell_type": "code",
   "execution_count": 7,
   "id": "762159d3-fae1-498e-9d21-ed481e40a689",
   "metadata": {},
   "outputs": [
    {
     "data": {
      "text/html": [
       "<div>\n",
       "<style scoped>\n",
       "    .dataframe tbody tr th:only-of-type {\n",
       "        vertical-align: middle;\n",
       "    }\n",
       "\n",
       "    .dataframe tbody tr th {\n",
       "        vertical-align: top;\n",
       "    }\n",
       "\n",
       "    .dataframe thead th {\n",
       "        text-align: right;\n",
       "    }\n",
       "</style>\n",
       "<table border=\"1\" class=\"dataframe\">\n",
       "  <thead>\n",
       "    <tr style=\"text-align: right;\">\n",
       "      <th></th>\n",
       "      <th>score</th>\n",
       "    </tr>\n",
       "  </thead>\n",
       "  <tbody>\n",
       "    <tr>\n",
       "      <th>0</th>\n",
       "      <td>0.7866036793280557</td>\n",
       "    </tr>\n",
       "    <tr>\n",
       "      <th>1</th>\n",
       "      <td>0.8055227995470602</td>\n",
       "    </tr>\n",
       "    <tr>\n",
       "      <th>2</th>\n",
       "      <td>0.7944019519557489</td>\n",
       "    </tr>\n",
       "    <tr>\n",
       "      <th>3</th>\n",
       "      <td>0.8350165824588831</td>\n",
       "    </tr>\n",
       "    <tr>\n",
       "      <th>4</th>\n",
       "      <td>0.9091967730873669</td>\n",
       "    </tr>\n",
       "    <tr>\n",
       "      <th>...</th>\n",
       "      <td>...</td>\n",
       "    </tr>\n",
       "    <tr>\n",
       "      <th>195</th>\n",
       "      <td>0.7567764322954337</td>\n",
       "    </tr>\n",
       "    <tr>\n",
       "      <th>196</th>\n",
       "      <td>0.8630619367387724</td>\n",
       "    </tr>\n",
       "    <tr>\n",
       "      <th>197</th>\n",
       "      <td>0.8004741396871344</td>\n",
       "    </tr>\n",
       "    <tr>\n",
       "      <th>198</th>\n",
       "      <td>0.8694932785057746</td>\n",
       "    </tr>\n",
       "    <tr>\n",
       "      <th>199</th>\n",
       "      <td>0.8329372041410248</td>\n",
       "    </tr>\n",
       "  </tbody>\n",
       "</table>\n",
       "<p>200 rows × 1 columns</p>\n",
       "</div>"
      ],
      "text/plain": [
       "                  score\n",
       "0    0.7866036793280557\n",
       "1    0.8055227995470602\n",
       "2    0.7944019519557489\n",
       "3    0.8350165824588831\n",
       "4    0.9091967730873669\n",
       "..                  ...\n",
       "195  0.7567764322954337\n",
       "196  0.8630619367387724\n",
       "197  0.8004741396871344\n",
       "198  0.8694932785057746\n",
       "199  0.8329372041410248\n",
       "\n",
       "[200 rows x 1 columns]"
      ]
     },
     "execution_count": 7,
     "metadata": {},
     "output_type": "execute_result"
    }
   ],
   "source": [
    "table = 'test_data_small'\n",
    "X = ['x1', 'x2', 'x3', 'x4', 'x5', 'x_long_tail1', 'x_long_tail2']\n",
    "T = 't_ob'\n",
    "sql_instance.sql(f\"\"\" WITH(\n",
    "\n",
    "          SELECT \n",
    "                    stochasticLogisticRegressionState(0.1, 1.0, 100, 'SGD')({T},{','.join(X)}) AS model\n",
    "          FROM\n",
    "                    {table}\n",
    "         )AS model\n",
    "         \n",
    "        SELECT            \n",
    "                evalMLMethod(model,{','.join(X)}) AS score\n",
    "            FROM\n",
    "                  {table}\n",
    "            limit 200\n",
    "          \"\"\")\n"
   ]
  },
  {
   "cell_type": "markdown",
   "id": "c93584bd-5e34-4963-b390-2a01b0451bca",
   "metadata": {
    "tags": []
   },
   "source": [
    "### IV"
   ]
  },
  {
   "cell_type": "markdown",
   "id": "95b50503-7ef0-4e32-8ed2-ed4415902199",
   "metadata": {},
   "source": [
    "\n",
    "[instrumental variables (IV)](https://en.wikipedia.org/wiki/Instrumental_variables_estimation) is a method used in statistics, econometrics, epidemiology, and related disciplines to estimate causal relationships when controlled experiments are not feasible or when a treatment is not successfully delivered to every unit in a randomized experiment. \n",
    "\n",
    "The idea behind IV is to use a variable, known as an instrument, that is correlated with the endogenous explanatory variables (the variables that are correlated with the error term), but uncorrelated with the error term itself. This allows us to isolate the variation in the explanatory variable that is purely due to the instrument and thus uncorrelated with the error term, which can then be used to estimate the causal effect of the explanatory variable on the dependent variable.\n",
    "\n",
    "Here is an example:\n",
    "\n",
    "1. $t_1 = treatment + X_1 + X_2$\n",
    "2. $Y = \\hat t_1 + X_1 + X_2$\n",
    "\n",
    "- $X_1$ and $X_2$ are independent variables or predictors.\n",
    "- $t_1$ is the dependent variable that you are trying to explain or predict.  \n",
    "- $treatment$ is an independent variable representing some intervention or condition that you believe affects $t_1$. \n",
    "- $Y$ is the dependent variable that you are trying to explain or predict\n",
    "-  $\\hat t_1$ is the predicted value of $t_1 from the first equation\n",
    "\n",
    "\n",
    "We first regress $X_3$ on the treatment and the other exogenous variables $X_1$ and $X_2$ to get the predicted values $\\hat t_1$. Then, we replace $t_1$ with $\\hat t_1$ in the second equation and estimate the parameters. This gives us the causal effect of $t_1$ on $Y$, purged of the endogeneity problem."
   ]
  },
  {
   "cell_type": "code",
   "execution_count": 8,
   "id": "ce71fb7b-faa1-4f7e-a2ee-3403b1f47ee1",
   "metadata": {},
   "outputs": [
    {
     "name": "stdout",
     "output_type": "stream",
     "text": [
      "\n",
      "Call:\n",
      "  lm( formula = y ~ x1 + x2 + x3 )\n",
      "\n",
      "Coefficients:\n",
      ".               Estimate    Std. Error  t value     Pr(>|t|)    \n",
      "(Intercept)     16270.999658 1687.124423 9.644220    0.000000    \n",
      "x1              -2.7339e+04 26305.557831 -1.039269   0.298680    \n",
      "x2              5184.591402 44231.869998 0.117214    0.906691    \n",
      "x3              1044.770569 8385.157644 0.124598    0.900842    \n",
      "\n",
      "Residual standard error: 9.182725 on 999996 degrees of freedom\n",
      "Multiple R-squared: 0.476901, Adjusted R-squared: 0.476900\n",
      "F-statistic: 303893.684536 on 3 and 999996 DF,  p-value: 0.000000\n",
      "\n"
     ]
    }
   ],
   "source": [
    "# iv \n",
    "iv = sql_instance.sql(\"\"\"\n",
    "                        SELECT\n",
    "                              ivregression(y~(t_ob~treatment)+x1+x2) as iv\n",
    "                        FROM\n",
    "                              test_data_small\"\"\")\n",
    "print(iv[\"iv\"][0])"
   ]
  },
  {
   "cell_type": "markdown",
   "id": "e9a73f9c-2970-4344-955b-45c2579e89d4",
   "metadata": {},
   "source": [
    "# Obeservational Analysis"
   ]
  },
  {
   "cell_type": "markdown",
   "id": "4cdcb96a-a895-4d04-ac0b-4713ed0f1d6d",
   "metadata": {},
   "source": [
    "### Case1- PSM"
   ]
  },
  {
   "cell_type": "markdown",
   "id": "33358d29-b7ef-4f2c-85d0-1ece8c7d2c1b",
   "metadata": {},
   "source": [
    "[Propensity score matching (PSM)](https://en.wikipedia.org/wiki/Propensity_score_matching) is a quasi-experimental method in which the researcher uses statistical techniques to construct an artificial control group by matching each treated unit with a non-treated unit of similar characteristics. Using these matches, the researcher can estimate the impact of an intervention.\n",
    "![Example Image](https://builtin.com/sites/www.builtin.com/files/styles/ckeditor_optimize/public/inline-images/1_propensity-score-matching.jpeg)"
   ]
  },
  {
   "cell_type": "markdown",
   "id": "ec3bc2a6-48ee-431a-b02f-823200ae513b",
   "metadata": {},
   "source": [
    "#### predict propensity score"
   ]
  },
  {
   "cell_type": "markdown",
   "id": "db208aab-ca3e-4c2b-91c5-b3e99714f66c",
   "metadata": {},
   "source": [
    "Once we have collected the data, we can build the propensity model predicting the probability of receiving the treatment given the confounders. Typically, logistic regression is used for this classification model. Let’s build a propensity model:"
   ]
  },
  {
   "cell_type": "code",
   "execution_count": 56,
   "id": "13b5dec7-dcfa-4c56-8e85-104fba40b3b3",
   "metadata": {},
   "outputs": [],
   "source": [
    "import fast_causal_inference\n",
    "Y='y'\n",
    "T='t_ob'\n",
    "table = 'test_data_small'\n",
    "X = [ 'x1', 'x2', 'x3']\n"
   ]
  },
  {
   "cell_type": "code",
   "execution_count": 63,
   "id": "c6f687c2-bcef-487c-bc7a-e30324969238",
   "metadata": {},
   "outputs": [
    {
     "name": "stdout",
     "output_type": "stream",
     "text": [
      "running, please wait\n",
      "donetime cost: 3.252125937025994 Seconds\n"
     ]
    }
   ],
   "source": [
    "import time\n",
    "table_output = f\"{table}_{int(time.time())}\"\n",
    "\n",
    "fast_causal_inference.clickhouse_create_view(clickhouse_view_name=table_output, sql_statement=f\"\"\" WITH(\n",
    "\n",
    "          SELECT \n",
    "                    stochasticLogisticRegressionState(1, 2, 50, 'SGD')({T},{','.join(X)}) AS model\n",
    "          FROM\n",
    "                    {table}\n",
    "         )AS model\n",
    "         \n",
    "SELECT            \n",
    "                evalMLMethod(model,{','.join(X)}) AS score, *\n",
    "            FROM\n",
    "                  {table}\n",
    "          \"\"\", primary_column=\"score\",is_force_materialize=True, is_sql_complete=True, is_use_local=False)\n",
    "\n"
   ]
  },
  {
   "cell_type": "markdown",
   "id": "9da9ae99-471e-496d-b3aa-ba26e1a2ad0c",
   "metadata": {},
   "source": [
    "#### Matching"
   ]
  },
  {
   "cell_type": "markdown",
   "id": "69d98b28-cc1d-47ee-ad4a-2f94ff9ff7d1",
   "metadata": {},
   "source": [
    "We will be performing one-to-one matching to find the most similar control records for each passenger in the treatment group. Matching based on the propensity score, which is a balancing score, allows us to ensure that the distribution of confounders between the matched records is likely to be similar."
   ]
  },
  {
   "cell_type": "code",
   "execution_count": 64,
   "id": "0270ae99-6d7e-4a90-b001-db16b3f4b575",
   "metadata": {},
   "outputs": [
    {
     "name": "stdout",
     "output_type": "stream",
     "text": [
      "running, please wait\n",
      "donetime cost: 1.114890501019545 Seconds\n",
      "table_match:  newwwwww_1699005215_matched\n",
      "sample size: ['6994']\n"
     ]
    }
   ],
   "source": [
    "table_match = f\"{table}_{int(time.time())}_matched\"\n",
    "fast_causal_inference.clickhouse_create_view(clickhouse_view_name=table_match, sql_statement=f\"\"\"\n",
    "select *,caliperMatching(if({T}=1,1,-1),score,0.05) AS matchingIndex \n",
    "from {table_output} where matchingIndex!=0 \"\"\", primary_column=\"matchingIndex\",is_force_materialize=True, is_sql_complete=True, is_use_local=False)\n",
    "print(\"table_match: \",table_match)\n",
    "print(\"sample size:\",sql_instance.sql(f\"select count(*) as cnt from {table_match}\").values[0])"
   ]
  },
  {
   "cell_type": "markdown",
   "id": "e961fd1c-2576-4b3b-b2ad-19cb56b016cc",
   "metadata": {},
   "source": [
    "#### Balance check"
   ]
  },
  {
   "cell_type": "markdown",
   "id": "3a599413-140e-499b-b284-0f031d398397",
   "metadata": {},
   "source": [
    "It’s time to evaluate how good the matching was. Let’s inspect if the groups look more comparable in terms of the confounders:"
   ]
  },
  {
   "cell_type": "code",
   "execution_count": 70,
   "id": "c2e23384-0e7f-469d-a31a-8a1c28cb3145",
   "metadata": {},
   "outputs": [
    {
     "data": {
      "text/html": [
       "<div>\n",
       "<style scoped>\n",
       "    .dataframe tbody tr th:only-of-type {\n",
       "        vertical-align: middle;\n",
       "    }\n",
       "\n",
       "    .dataframe tbody tr th {\n",
       "        vertical-align: top;\n",
       "    }\n",
       "\n",
       "    .dataframe thead th {\n",
       "        text-align: right;\n",
       "    }\n",
       "</style>\n",
       "<table border=\"1\" class=\"dataframe\">\n",
       "  <thead>\n",
       "    <tr style=\"text-align: right;\">\n",
       "      <th></th>\n",
       "      <th>Control</th>\n",
       "      <th>Treatment</th>\n",
       "      <th>SMD</th>\n",
       "    </tr>\n",
       "  </thead>\n",
       "  <tbody>\n",
       "    <tr>\n",
       "      <th>x2</th>\n",
       "      <td>-0.364005</td>\n",
       "      <td>0.280263</td>\n",
       "      <td>0.329153</td>\n",
       "    </tr>\n",
       "    <tr>\n",
       "      <th>x3</th>\n",
       "      <td>0.778968</td>\n",
       "      <td>1.136712</td>\n",
       "      <td>0.380501</td>\n",
       "    </tr>\n",
       "    <tr>\n",
       "      <th>x1</th>\n",
       "      <td>-0.463434</td>\n",
       "      <td>0.279347</td>\n",
       "      <td>0.811724</td>\n",
       "    </tr>\n",
       "  </tbody>\n",
       "</table>\n",
       "</div>"
      ],
      "text/plain": [
       "     Control  Treatment       SMD\n",
       "x2 -0.364005   0.280263  0.329153\n",
       "x3  0.778968   1.136712  0.380501\n",
       "x1 -0.463434   0.279347  0.811724"
      ]
     },
     "execution_count": 70,
     "metadata": {},
     "output_type": "execute_result"
    }
   ],
   "source": [
    "# before matched\n",
    "from fast_causal_inference.lib.tools import *\n",
    "SMD(table_output,T,X)"
   ]
  },
  {
   "cell_type": "code",
   "execution_count": 66,
   "id": "fad51e0c-2895-41fd-9819-e81d027c0e66",
   "metadata": {},
   "outputs": [
    {
     "data": {
      "image/png": "[encoded data removed]",
      "text/plain": [
       "<Figure size 800x800 with 1 Axes>"
      ]
     },
     "metadata": {},
     "output_type": "display_data"
    }
   ],
   "source": [
    "from fast_causal_inference.lib.tools import *\n",
    "matching_plot(table_output,T,'score')"
   ]
  },
  {
   "cell_type": "code",
   "execution_count": 67,
   "id": "329ab6c3-763f-4408-925d-7e7ef7f8e2be",
   "metadata": {},
   "outputs": [
    {
     "data": {
      "text/html": [
       "<div>\n",
       "<style scoped>\n",
       "    .dataframe tbody tr th:only-of-type {\n",
       "        vertical-align: middle;\n",
       "    }\n",
       "\n",
       "    .dataframe tbody tr th {\n",
       "        vertical-align: top;\n",
       "    }\n",
       "\n",
       "    .dataframe thead th {\n",
       "        text-align: right;\n",
       "    }\n",
       "</style>\n",
       "<table border=\"1\" class=\"dataframe\">\n",
       "  <thead>\n",
       "    <tr style=\"text-align: right;\">\n",
       "      <th></th>\n",
       "      <th>Control</th>\n",
       "      <th>Treatment</th>\n",
       "      <th>SMD</th>\n",
       "    </tr>\n",
       "  </thead>\n",
       "  <tbody>\n",
       "    <tr>\n",
       "      <th>x2</th>\n",
       "      <td>-0.055664</td>\n",
       "      <td>-0.333792</td>\n",
       "      <td>-0.149840</td>\n",
       "    </tr>\n",
       "    <tr>\n",
       "      <th>x3</th>\n",
       "      <td>0.830524</td>\n",
       "      <td>0.864335</td>\n",
       "      <td>0.041324</td>\n",
       "    </tr>\n",
       "    <tr>\n",
       "      <th>x1</th>\n",
       "      <td>-0.457145</td>\n",
       "      <td>0.253599</td>\n",
       "      <td>0.778623</td>\n",
       "    </tr>\n",
       "  </tbody>\n",
       "</table>\n",
       "</div>"
      ],
      "text/plain": [
       "     Control  Treatment       SMD\n",
       "x2 -0.055664  -0.333792 -0.149840\n",
       "x3  0.830524   0.864335  0.041324\n",
       "x1 -0.457145   0.253599  0.778623"
      ]
     },
     "execution_count": 67,
     "metadata": {},
     "output_type": "execute_result"
    }
   ],
   "source": [
    "# After matched\n",
    "from fast_causal_inference.lib.tools import *\n",
    "SMD(table_match,T,X)"
   ]
  },
  {
   "cell_type": "code",
   "execution_count": 68,
   "id": "3ba6afb4-8fd1-4178-a92a-be5db96a9153",
   "metadata": {},
   "outputs": [
    {
     "data": {
      "image/png": "[encoded data removed]",
      "text/plain": [
       "<Figure size 800x800 with 1 Axes>"
      ]
     },
     "metadata": {},
     "output_type": "display_data"
    }
   ],
   "source": [
    "from fast_causal_inference.lib.tools import *\n",
    "matching_plot(table_match,T,'score')"
   ]
  },
  {
   "cell_type": "markdown",
   "id": "6f11fa07-a840-456a-ad40-980718b8028f",
   "metadata": {
    "tags": []
   },
   "source": [
    "#### Evaluate treatment effect on the outcome\n",
    "\n",
    "Now, it’s time to familiarize ourselves with a few terms related to the treatment effect, also known as the causal effect. Looking at a small example with a continuous outcome may be the easiest way to get familiarized with it.\n",
    "##### DIM estimator\n",
    "After the matching process, we can consider the experimental and control groups as homogeneous, free from bias. This allows us to directly estimate the Average Treatment Effect (ATE) and compute its variance using the bootstrap method. The `ATEestimator` function also returns the confidence interval for the DIM(Difference in Means) estimator. As per the formula below:\n",
    "\n",
    "- $\\hat \\tau_{ipw}$ represents the ATE estimator. \n",
    "\n",
    "For each sample $i=1,...,N$:\n",
    "\n",
    "- $Y_i$ is the outcome variable\n",
    "- $Z_i$ represents the treatment\n",
    "- $X_i$ is the covariate.\n",
    "\n",
    "$$\\hat \\tau_{ATE}=\\frac{\\sum_{i=1}^N Y_iZ_i}{\\sum_{i=1}^NZ_i}-\\frac{\\sum_{i=1}^N Y_i(1-Z_i))}{\\sum_{i=1}^N(1-Z_i)}$$"
   ]
  },
  {
   "cell_type": "code",
   "execution_count": 69,
   "id": "d37c47b1-e56d-4250-843f-c23b148143b2",
   "metadata": {},
   "outputs": [
    {
     "data": {
      "text/plain": [
       "{'ATE': 0.6399800790127809,\n",
       " 'stddev': 0.04878855007483958,\n",
       " 'p_value': 0.0,\n",
       " 'confidence_interval': [0.5443545208660953, 0.7356056371594665]}"
      ]
     },
     "execution_count": 69,
     "metadata": {},
     "output_type": "execute_result"
    }
   ],
   "source": [
    "from fast_causal_inference.lib.estimators import *\n",
    "ATEestimator(table_match,Y,T,n=100000,B=500)"
   ]
  },
  {
   "cell_type": "markdown",
   "id": "2739cb56-8ae0-4af4-9817-a1ca5aa92d5e",
   "metadata": {},
   "source": [
    "##### IPW estimator\n",
    "Without resorting to matching, we can directly estimate the Average Treatment Effect (ATE) using all available samples. This process involves the use of the Inverse Probability Weighting (IPW) estimator for ATE estimation, with the variance calculated via the bootstrap method. The `IPWestimator` function also yields the confidence interval of the ATE. As illustrated in the formula below:\n",
    "\n",
    "- $\\hat \\tau_{ipw}$ is the IPW estimator. \n",
    "\n",
    "For each sample $i=1,...,N$:\n",
    "\n",
    "- $Y_i$ is the outcome variable\n",
    "- $Z_i$ is the treatment\n",
    "- $X_i$ is the covariate\n",
    "- $e(X_i)$ is the predicted propensity score.\n",
    "\n",
    "$$\\hat \\tau_{ipw}=\\frac{\\sum_{i=1}^N Y_iZ_i/e(X_i)}{\\sum_{i=1}^NZ_i/e(X_i)}-\\frac{\\sum_{i=1}^N Y_i(1-Z_i)/(1-e(X_i))}{\\sum_{i=1}^N(1-Z_i)/(1-e(X_i))}$$"
   ]
  },
  {
   "cell_type": "code",
   "execution_count": 36,
   "id": "ef193e85-8152-40bc-8f50-8ce72733fdf6",
   "metadata": {},
   "outputs": [
    {
     "data": {
      "text/plain": [
       "{'ATE': 23.97964420654125,\n",
       " 'stddev': 0.07947700221431409,\n",
       " 'p_value': 0.0,\n",
       " 'confidence_interval': [23.823869282201194, 24.135419130881303]}"
      ]
     },
     "execution_count": 36,
     "metadata": {},
     "output_type": "execute_result"
    }
   ],
   "source": [
    "from fast_causal_inference.lib.estimators import *\n",
    "IPWestimator(table_output,Y,T,'score',n=100000,B=500)"
   ]
  },
  {
   "cell_type": "markdown",
   "id": "0820dbcf-b3b8-4f14-8c82-c5dcdfd74e79",
   "metadata": {},
   "source": [
    "### Case2- Uplift modeling"
   ]
  },
  {
   "cell_type": "markdown",
   "id": "949cfc2c-c397-43d3-a3f4-4ac4449108e6",
   "metadata": {},
   "source": [
    "Uplift modeling is a set of causal inference techniques that leverage machine learning models to estimate the causal impact of a treatment on an individual's behavior.\n",
    "\n",
    "In this context:\n",
    "\n",
    "- \"Persuadables\" are individuals who respond positively to the treatment.\n",
    "- \"Sleeping dogs\" are individuals who exhibit a strong negative response to the treatment.\n",
    "- \"Lost causes\" are individuals who do not reach the desired outcome even with the treatment.\n",
    "- \"Sure things\" are individuals who always achieve the desired outcome, regardless of the treatment.\n",
    "\n",
    "The objective is to identify the \"persuadables\" to focus efforts on, avoid wasting resources on \"sure things\" and \"lost causes,\" and prevent unnecessary intervention for \"sleeping dogs.\"\n",
    "\n",
    "![Example Image](https://encrypted-tbn0.gstatic.com/images?q=tbn:ANd9GcSsUVyoXY2SaSAdDVAIur1ssPPU8NZ0Qwlff252bgd8zVDOye08yErMf-aIZy_hNOMk_RY&usqp=CAU)"
   ]
  },
  {
   "cell_type": "markdown",
   "id": "9a591b75-ea7a-4f70-8540-38c3f464c8ef",
   "metadata": {},
   "source": [
    "#### data split"
   ]
  },
  {
   "cell_type": "code",
   "execution_count": 13,
   "id": "4c132d38-4cfe-4ebd-bc6b-f324eb60734b",
   "metadata": {},
   "outputs": [
    {
     "name": "stdout",
     "output_type": "stream",
     "text": [
      "running, please wait\n",
      "donetime cost: 1.402657866012305 Seconds\n",
      "running, please wait\n",
      "donetime cost: 1.6639836939284578 Seconds\n",
      "running, please wait\n",
      "donetime cost: 2.0650294659426436 Seconds\n",
      "running, please wait\n",
      "donetime cost: 0.5651210519718006 Seconds\n",
      "table_train: test_data_small_1699004591_train\n",
      "table_test: test_data_small_1699004591_test\n"
     ]
    }
   ],
   "source": [
    "table = 'test_data_small'\n",
    "Y='y'\n",
    "T='treatment'\n",
    "X = 'x1+x2+x3+x4+x5+x_long_tail1+x_long_tail2'\n",
    "needcut_X = 'x1+x2+x3+x4+x5+x_long_tail1+x_long_tail2'\n",
    "\n",
    "from fast_causal_inference.lib.tools import *\n",
    "table_train,table_test = data_split(table)"
   ]
  },
  {
   "cell_type": "markdown",
   "id": "96c624f0-b4e4-4ad2-a801-cb27d9d5e9cd",
   "metadata": {},
   "source": [
    "#### causal tree"
   ]
  },
  {
   "cell_type": "markdown",
   "id": "fd8eb0e3-588c-4cd1-af36-18f65c5dcd17",
   "metadata": {},
   "source": [
    "The causal tree is a method used in [Recursive Partitioning for Heterogeneous Causal Effects](https://www.pnas.org/doi/10.1073/pnas.1510489113) to estimate the individual treatment effects within a population. It is a variant of traditional decision trees that aims to identify subgroups of individuals who respond differently to a treatment.\n",
    "\n",
    "The causal tree algorithm recursively partitions the data based on a set of covariates and their treatment assignment. It seeks to find the optimal splits that maximize the heterogeneity in treatment effects across the resulting subgroups. This allows for the identification of subpopulations that exhibit varying responses to the treatment.\n",
    "\n",
    "The causal tree approach is valuable in understanding and predicting individual treatment effects in situations where the treatment effect may vary across different subpopulations. It provides a useful tool for personalized decision-making and targeted interventions based on the identified subgroups with distinct treatment responses."
   ]
  },
  {
   "cell_type": "markdown",
   "id": "427cbb29-cd04-42a8-a914-4fb4da002c2a",
   "metadata": {},
   "source": [
    "##### train"
   ]
  },
  {
   "cell_type": "code",
   "execution_count": 14,
   "id": "38f93632-bf57-48bd-8695-df6a920ae34a",
   "metadata": {},
   "outputs": [
    {
     "name": "stdout",
     "output_type": "stream",
     "text": [
      "****STEP1.  Table check.\n",
      "debug\n",
      "****STEP2.  Bucket the continuous variables(cut_x_names).\n",
      "****STEP3.  Create new table for training causaltree:  test_data_small_1699004591_train_1699004664_new .\n",
      "running, please wait\n",
      "donetime cost: 5.368957243044861 Seconds\n",
      "\t train data samples: 2451,predict data samples: 2503\n",
      "****STEP4.  Build tree.\n",
      "================================== start buildTree -- maxDepth: 3, nodePosition: root==================================\n",
      "--------start leftNode - build -- depth: 0, nodePosition: LL--------\n",
      "--------start leftNode - build -- depth: 1, nodePosition: LLL--------\n",
      "--------start leftNode - build -- depth: 2, nodePosition: LLLL--------\n",
      "Reach the maxDepth, stop as a leaf node\n",
      "--------start rightNode - build -- depth: 2, nodePosition: LLLR--------\n",
      "Reach the maxDepth, stop as a leaf node\n",
      "--------start rightNode - build -- depth: 1, nodePosition: LLR--------\n",
      "--------start leftNode - build -- depth: 2, nodePosition: LLRL--------\n",
      "Reach the maxDepth, stop as a leaf node\n",
      "--------start rightNode - build -- depth: 2, nodePosition: LLRR--------\n",
      "Reach the maxDepth, stop as a leaf node\n",
      "--------start rightNode - build -- depth: 0, nodePosition: LR--------\n",
      "--------start leftNode - build -- depth: 1, nodePosition: LRL--------\n",
      "--------start leftNode - build -- depth: 2, nodePosition: LRLL--------\n",
      "Reach the maxDepth, stop as a leaf node\n",
      "--------start rightNode - build -- depth: 2, nodePosition: LRLR--------\n",
      "Reach the maxDepth, stop as a leaf node\n",
      "--------start rightNode - build -- depth: 1, nodePosition: LRR--------\n",
      "--------start leftNode - build -- depth: 2, nodePosition: LRRL--------\n",
      "Reach the maxDepth, stop as a leaf node\n",
      "--------start rightNode - build -- depth: 2, nodePosition: LRRR--------\n",
      "Reach the maxDepth, stop as a leaf node\n",
      "============================================== build Tree Sucessfully=====================================================\n",
      "****STEP5.  Estimate CATE.\n",
      "============================================== compute Tree Sucessfully=====================================================\n",
      "running, please wait\n",
      "donetime cost: 0.8167051760246977 Seconds\n"
     ]
    }
   ],
   "source": [
    "from fast_causal_inference.lib.causaltree import CausalTree\n",
    "hte = CausalTree(depth = 3,min_sample_ratio_leaf=0.001)\n",
    "hte.fit(Y,T,X,needcut_X,table_train)"
   ]
  },
  {
   "cell_type": "markdown",
   "id": "f66061a2-59e9-41fb-857a-17a334170a45",
   "metadata": {},
   "source": [
    "##### tree visualization"
   ]
  },
  {
   "cell_type": "code",
   "execution_count": 15,
   "id": "e218a83a-88d7-4cb3-847c-b921c644e60b",
   "metadata": {
    "tags": []
   },
   "outputs": [
    {
     "data": {
      "image/svg+xml": [
       "<?xml version=\"1.0\" encoding=\"UTF-8\" standalone=\"no\"?>\n",
       "<!DOCTYPE svg PUBLIC \"-//W3C//DTD SVG 1.1//EN\"\n",
       " \"http://www.w3.org/Graphics/SVG/1.1/DTD/svg11.dtd\">\n",
       "<!-- Generated by graphviz version 2.40.1 (0)\n",
       " -->\n",
       "<!-- Title: %3 Pages: 1 -->\n",
       "<svg width=\"2359pt\" height=\"543pt\"\n",
       " viewBox=\"0.00 0.00 2358.65 543.09\" xmlns=\"http://www.w3.org/2000/svg\" xmlns:xlink=\"http://www.w3.org/1999/xlink\">\n",
       "<g id=\"graph0\" class=\"graph\" transform=\"scale(1 1) rotate(0) translate(4 539.0925)\">\n",
       "<title>%3</title>\n",
       "<polygon fill=\"#ffffff\" stroke=\"transparent\" points=\"-4,4 -4,-539.0925 2354.6503,-539.0925 2354.6503,4 -4,4\"/>\n",
       "<!-- 1.0 -->\n",
       "<g id=\"node1\" class=\"node\">\n",
       "<title>1.0</title>\n",
       "<ellipse fill=\"none\" stroke=\"#000000\" cx=\"1185.5427\" cy=\"-494.0803\" rx=\"117.2596\" ry=\"41.0244\"/>\n",
       "<text text-anchor=\"middle\" x=\"1185.5427\" y=\"-511.8803\" font-family=\"Times,serif\" font-size=\"9.00\" fill=\"#000000\">Node : 1</text>\n",
       "<text text-anchor=\"middle\" x=\"1185.5427\" y=\"-501.8803\" font-family=\"Times,serif\" font-size=\"9.00\" fill=\"#000000\">sample_ratio:100.0%</text>\n",
       "<text text-anchor=\"middle\" x=\"1185.5427\" y=\"-491.8803\" font-family=\"Times,serif\" font-size=\"9.00\" fill=\"#000000\">CATE : 14.7572 &#160;(p_value:0.0)</text>\n",
       "<text text-anchor=\"middle\" x=\"1185.5427\" y=\"-481.8803\" font-family=\"Times,serif\" font-size=\"9.00\" fill=\"#000000\">sample size: control 1252; &#160;treatment 1251</text>\n",
       "<text text-anchor=\"middle\" x=\"1185.5427\" y=\"-471.8803\" font-family=\"Times,serif\" font-size=\"9.00\" fill=\"#000000\">mean: control 4.6854; &#160;treatment 19.4426</text>\n",
       "</g>\n",
       "<!-- 2.0 -->\n",
       "<g id=\"node2\" class=\"node\">\n",
       "<title>2.0</title>\n",
       "<ellipse fill=\"none\" stroke=\"#000000\" cx=\"891.5427\" cy=\"-361.9138\" rx=\"138.6859\" ry=\"55.3091\"/>\n",
       "<text text-anchor=\"middle\" x=\"891.5427\" y=\"-389.7138\" font-family=\"Times,serif\" font-size=\"9.00\" fill=\"#000000\">Node : 2</text>\n",
       "<text text-anchor=\"middle\" x=\"891.5427\" y=\"-379.7138\" font-family=\"Times,serif\" font-size=\"9.00\" fill=\"#000000\">split_criterion: &#160;&#160;x2_buckets in [&#39;[&#45;inf,&#45;1.2501)&#39;,</text>\n",
       "<text text-anchor=\"middle\" x=\"891.5427\" y=\"-369.7138\" font-family=\"Times,serif\" font-size=\"9.00\" fill=\"#000000\">&#39;[2.6011,3.3159)&#39;, &#39;[3.3159,4.7343)&#39;, &#39;[4.7343,inf)&#39;]</text>\n",
       "<text text-anchor=\"middle\" x=\"891.5427\" y=\"-359.7138\" font-family=\"Times,serif\" font-size=\"9.00\" fill=\"#000000\">sample_ratio:36.44%</text>\n",
       "<text text-anchor=\"middle\" x=\"891.5427\" y=\"-349.7138\" font-family=\"Times,serif\" font-size=\"9.00\" fill=\"#000000\">CATE : 24.0931 &#160;(p_value:0.0)</text>\n",
       "<text text-anchor=\"middle\" x=\"891.5427\" y=\"-339.7138\" font-family=\"Times,serif\" font-size=\"9.00\" fill=\"#000000\">sample size: control 461; &#160;treatment 451</text>\n",
       "<text text-anchor=\"middle\" x=\"891.5427\" y=\"-329.7138\" font-family=\"Times,serif\" font-size=\"9.00\" fill=\"#000000\">mean: control 3.2125; &#160;treatment 27.3057</text>\n",
       "</g>\n",
       "<!-- 1.0&#45;&gt;2.0 -->\n",
       "<g id=\"edge1\" class=\"edge\">\n",
       "<title>1.0&#45;&gt;2.0</title>\n",
       "<path fill=\"none\" stroke=\"#000000\" d=\"M1113.2456,-461.5795C1076.9668,-445.2705 1032.4202,-425.2447 992.7983,-407.4328\"/>\n",
       "<polygon fill=\"#000000\" stroke=\"#000000\" points=\"994.191,-404.2216 983.6352,-403.3136 991.3208,-410.6061 994.191,-404.2216\"/>\n",
       "</g>\n",
       "<!-- 3.0 -->\n",
       "<g id=\"node9\" class=\"node\">\n",
       "<title>3.0</title>\n",
       "<ellipse fill=\"none\" stroke=\"#000000\" cx=\"1479.5427\" cy=\"-361.9138\" rx=\"137.7717\" ry=\"55.3091\"/>\n",
       "<text text-anchor=\"middle\" x=\"1479.5427\" y=\"-389.7138\" font-family=\"Times,serif\" font-size=\"9.00\" fill=\"#000000\">Node : 3</text>\n",
       "<text text-anchor=\"middle\" x=\"1479.5427\" y=\"-379.7138\" font-family=\"Times,serif\" font-size=\"9.00\" fill=\"#000000\">split_criterion: &#160;&#160;x2_buckets in [&#39;[&#45;1.2501,0.0163)&#39;,</text>\n",
       "<text text-anchor=\"middle\" x=\"1479.5427\" y=\"-369.7138\" font-family=\"Times,serif\" font-size=\"9.00\" fill=\"#000000\">&#39;[0.0163,1.3913)&#39;, &#39;[1.3913,2.6011)&#39;]</text>\n",
       "<text text-anchor=\"middle\" x=\"1479.5427\" y=\"-359.7138\" font-family=\"Times,serif\" font-size=\"9.00\" fill=\"#000000\">sample_ratio:63.56%</text>\n",
       "<text text-anchor=\"middle\" x=\"1479.5427\" y=\"-349.7138\" font-family=\"Times,serif\" font-size=\"9.00\" fill=\"#000000\">CATE : 9.466 &#160;(p_value:0.0)</text>\n",
       "<text text-anchor=\"middle\" x=\"1479.5427\" y=\"-339.7138\" font-family=\"Times,serif\" font-size=\"9.00\" fill=\"#000000\">sample size: control 791; &#160;treatment 800</text>\n",
       "<text text-anchor=\"middle\" x=\"1479.5427\" y=\"-329.7138\" font-family=\"Times,serif\" font-size=\"9.00\" fill=\"#000000\">mean: control 5.5438; &#160;treatment 15.0099</text>\n",
       "</g>\n",
       "<!-- 1.0&#45;&gt;3.0 -->\n",
       "<g id=\"edge8\" class=\"edge\">\n",
       "<title>1.0&#45;&gt;3.0</title>\n",
       "<path fill=\"none\" stroke=\"#000000\" d=\"M1257.8397,-461.5795C1294.1974,-445.235 1338.8588,-425.1576 1378.5454,-407.3167\"/>\n",
       "<polygon fill=\"#000000\" stroke=\"#000000\" points=\"1380.037,-410.4836 1387.7227,-403.1911 1377.1668,-404.0991 1380.037,-410.4836\"/>\n",
       "</g>\n",
       "<!-- 4.0 -->\n",
       "<g id=\"node3\" class=\"node\">\n",
       "<title>4.0</title>\n",
       "<ellipse fill=\"none\" stroke=\"#000000\" cx=\"441.5427\" cy=\"-215.6051\" rx=\"135.5294\" ry=\"55.3091\"/>\n",
       "<text text-anchor=\"middle\" x=\"441.5427\" y=\"-243.4051\" font-family=\"Times,serif\" font-size=\"9.00\" fill=\"#000000\">Node : 4</text>\n",
       "<text text-anchor=\"middle\" x=\"441.5427\" y=\"-233.4051\" font-family=\"Times,serif\" font-size=\"9.00\" fill=\"#000000\">split_criterion: &#160;&#160;x2_buckets in [&#39;[2.6011,3.3159)&#39;,</text>\n",
       "<text text-anchor=\"middle\" x=\"441.5427\" y=\"-223.4051\" font-family=\"Times,serif\" font-size=\"9.00\" fill=\"#000000\">&#39;[3.3159,4.7343)&#39;, &#39;[4.7343,inf)&#39;]</text>\n",
       "<text text-anchor=\"middle\" x=\"441.5427\" y=\"-213.4051\" font-family=\"Times,serif\" font-size=\"9.00\" fill=\"#000000\">sample_ratio:10.47%</text>\n",
       "<text text-anchor=\"middle\" x=\"441.5427\" y=\"-203.4051\" font-family=\"Times,serif\" font-size=\"9.00\" fill=\"#000000\">CATE : 33.1894 &#160;(p_value:0.0)</text>\n",
       "<text text-anchor=\"middle\" x=\"441.5427\" y=\"-193.4051\" font-family=\"Times,serif\" font-size=\"9.00\" fill=\"#000000\">sample size: control 132; &#160;treatment 130</text>\n",
       "<text text-anchor=\"middle\" x=\"441.5427\" y=\"-183.4051\" font-family=\"Times,serif\" font-size=\"9.00\" fill=\"#000000\">mean: control 11.3137; &#160;treatment 44.5031</text>\n",
       "</g>\n",
       "<!-- 2.0&#45;&gt;4.0 -->\n",
       "<g id=\"edge2\" class=\"edge\">\n",
       "<title>2.0&#45;&gt;4.0</title>\n",
       "<path fill=\"none\" stroke=\"#000000\" d=\"M784.0424,-326.9622C715.757,-304.7605 627.4011,-276.0333 557.5356,-253.3179\"/>\n",
       "<polygon fill=\"#000000\" stroke=\"#000000\" points=\"558.3962,-249.9175 547.804,-250.1539 556.2318,-256.5744 558.3962,-249.9175\"/>\n",
       "</g>\n",
       "<!-- 5.0 -->\n",
       "<g id=\"node6\" class=\"node\">\n",
       "<title>5.0</title>\n",
       "<ellipse fill=\"none\" stroke=\"#000000\" cx=\"891.5427\" cy=\"-215.6051\" rx=\"130.2154\" ry=\"48.1667\"/>\n",
       "<text text-anchor=\"middle\" x=\"891.5427\" y=\"-238.4051\" font-family=\"Times,serif\" font-size=\"9.00\" fill=\"#000000\">Node : 5</text>\n",
       "<text text-anchor=\"middle\" x=\"891.5427\" y=\"-228.4051\" font-family=\"Times,serif\" font-size=\"9.00\" fill=\"#000000\">split_criterion: &#160;&#160;x2_buckets in [&#39;[&#45;inf,&#45;1.2501)&#39;]</text>\n",
       "<text text-anchor=\"middle\" x=\"891.5427\" y=\"-218.4051\" font-family=\"Times,serif\" font-size=\"9.00\" fill=\"#000000\">sample_ratio:25.97%</text>\n",
       "<text text-anchor=\"middle\" x=\"891.5427\" y=\"-208.4051\" font-family=\"Times,serif\" font-size=\"9.00\" fill=\"#000000\">CATE : 20.3788 &#160;(p_value:0.0)</text>\n",
       "<text text-anchor=\"middle\" x=\"891.5427\" y=\"-198.4051\" font-family=\"Times,serif\" font-size=\"9.00\" fill=\"#000000\">sample size: control 329; &#160;treatment 321</text>\n",
       "<text text-anchor=\"middle\" x=\"891.5427\" y=\"-188.4051\" font-family=\"Times,serif\" font-size=\"9.00\" fill=\"#000000\">mean: control &#45;0.0378; &#160;treatment 20.341</text>\n",
       "</g>\n",
       "<!-- 2.0&#45;&gt;5.0 -->\n",
       "<g id=\"edge5\" class=\"edge\">\n",
       "<title>2.0&#45;&gt;5.0</title>\n",
       "<path fill=\"none\" stroke=\"#000000\" d=\"M891.5427,-306.6008C891.5427,-295.9304 891.5427,-284.7208 891.5427,-273.9573\"/>\n",
       "<polygon fill=\"#000000\" stroke=\"#000000\" points=\"895.0428,-273.8065 891.5427,-263.8066 888.0428,-273.8066 895.0428,-273.8065\"/>\n",
       "</g>\n",
       "<!-- 8.0 -->\n",
       "<g id=\"node4\" class=\"node\">\n",
       "<title>8.0</title>\n",
       "<ellipse fill=\"none\" stroke=\"#000000\" cx=\"143.5427\" cy=\"-62.2254\" rx=\"143.5854\" ry=\"62.4516\"/>\n",
       "<text text-anchor=\"middle\" x=\"143.5427\" y=\"-95.0254\" font-family=\"Times,serif\" font-size=\"9.00\" fill=\"#000000\">Node : 8</text>\n",
       "<text text-anchor=\"middle\" x=\"143.5427\" y=\"-85.0254\" font-family=\"Times,serif\" font-size=\"9.00\" fill=\"#000000\">split_criterion: &#160;&#160;x1_buckets in [&#39;[&#45;0.011,0.6546)&#39;,</text>\n",
       "<text text-anchor=\"middle\" x=\"143.5427\" y=\"-75.0254\" font-family=\"Times,serif\" font-size=\"9.00\" fill=\"#000000\">&#39;[&#45;0.6639,&#45;0.011)&#39;, &#39;[&#45;inf,&#45;0.6639)&#39;, &#39;[0.6546,1.2478)&#39;,</text>\n",
       "<text text-anchor=\"middle\" x=\"143.5427\" y=\"-65.0254\" font-family=\"Times,serif\" font-size=\"9.00\" fill=\"#000000\">&#39;[1.6447,2.3798)&#39;, &#39;[2.3798,inf)&#39;]</text>\n",
       "<text text-anchor=\"middle\" x=\"143.5427\" y=\"-55.0254\" font-family=\"Times,serif\" font-size=\"9.00\" fill=\"#000000\">sample_ratio:9.91%</text>\n",
       "<text text-anchor=\"middle\" x=\"143.5427\" y=\"-45.0254\" font-family=\"Times,serif\" font-size=\"9.00\" fill=\"#000000\">CATE : 33.0406 &#160;(p_value:0.0)</text>\n",
       "<text text-anchor=\"middle\" x=\"143.5427\" y=\"-35.0254\" font-family=\"Times,serif\" font-size=\"9.00\" fill=\"#000000\">sample size: control 126; &#160;treatment 122</text>\n",
       "<text text-anchor=\"middle\" x=\"143.5427\" y=\"-25.0254\" font-family=\"Times,serif\" font-size=\"9.00\" fill=\"#000000\">mean: control 11.4053; &#160;treatment 44.4459</text>\n",
       "</g>\n",
       "<!-- 4.0&#45;&gt;8.0 -->\n",
       "<g id=\"edge3\" class=\"edge\">\n",
       "<title>4.0&#45;&gt;8.0</title>\n",
       "<path fill=\"none\" stroke=\"#000000\" d=\"M357.3427,-172.2677C322.5154,-154.3421 281.8218,-133.3973 245.3389,-114.6196\"/>\n",
       "<polygon fill=\"#000000\" stroke=\"#000000\" points=\"246.6536,-111.3599 236.1604,-109.8955 243.4501,-117.5839 246.6536,-111.3599\"/>\n",
       "</g>\n",
       "<!-- 9.0 -->\n",
       "<g id=\"node5\" class=\"node\">\n",
       "<title>9.0</title>\n",
       "<ellipse fill=\"none\" stroke=\"#000000\" cx=\"441.5427\" cy=\"-62.2254\" rx=\"136.4432\" ry=\"48.1667\"/>\n",
       "<text text-anchor=\"middle\" x=\"441.5427\" y=\"-85.0254\" font-family=\"Times,serif\" font-size=\"9.00\" fill=\"#000000\">Node : 9</text>\n",
       "<text text-anchor=\"middle\" x=\"441.5427\" y=\"-75.0254\" font-family=\"Times,serif\" font-size=\"9.00\" fill=\"#000000\">split_criterion: &#160;&#160;x1_buckets in [&#39;[1.2478,1.6447)&#39;]</text>\n",
       "<text text-anchor=\"middle\" x=\"441.5427\" y=\"-65.0254\" font-family=\"Times,serif\" font-size=\"9.00\" fill=\"#000000\">sample_ratio:0.56%</text>\n",
       "<text text-anchor=\"middle\" x=\"441.5427\" y=\"-55.0254\" font-family=\"Times,serif\" font-size=\"9.00\" fill=\"#000000\">CATE : 35.9851 &#160;(p_value:0.0)</text>\n",
       "<text text-anchor=\"middle\" x=\"441.5427\" y=\"-45.0254\" font-family=\"Times,serif\" font-size=\"9.00\" fill=\"#000000\">sample size: control 6; &#160;treatment 8</text>\n",
       "<text text-anchor=\"middle\" x=\"441.5427\" y=\"-35.0254\" font-family=\"Times,serif\" font-size=\"9.00\" fill=\"#000000\">mean: control 9.39; &#160;treatment 45.3751</text>\n",
       "</g>\n",
       "<!-- 4.0&#45;&gt;9.0 -->\n",
       "<g id=\"edge4\" class=\"edge\">\n",
       "<title>4.0&#45;&gt;9.0</title>\n",
       "<path fill=\"none\" stroke=\"#000000\" d=\"M441.5427,-160.2315C441.5427,-147.367 441.5427,-133.6332 441.5427,-120.6422\"/>\n",
       "<polygon fill=\"#000000\" stroke=\"#000000\" points=\"445.0428,-120.4137 441.5427,-110.4137 438.0428,-120.4137 445.0428,-120.4137\"/>\n",
       "</g>\n",
       "<!-- 10.0 -->\n",
       "<g id=\"node7\" class=\"node\">\n",
       "<title>10.0</title>\n",
       "<ellipse fill=\"none\" stroke=\"#000000\" cx=\"744.5427\" cy=\"-62.2254\" rx=\"148.4848\" ry=\"62.4516\"/>\n",
       "<text text-anchor=\"middle\" x=\"744.5427\" y=\"-95.0254\" font-family=\"Times,serif\" font-size=\"9.00\" fill=\"#000000\">Node : 10</text>\n",
       "<text text-anchor=\"middle\" x=\"744.5427\" y=\"-85.0254\" font-family=\"Times,serif\" font-size=\"9.00\" fill=\"#000000\">split_criterion: &#160;&#160;x3_buckets in [&#39;[0.688,1.3608)&#39;,</text>\n",
       "<text text-anchor=\"middle\" x=\"744.5427\" y=\"-75.0254\" font-family=\"Times,serif\" font-size=\"9.00\" fill=\"#000000\">&#39;[1.3608,2.2589)&#39;, &#39;[2.2589,2.9373)&#39;, &#39;[2.9373,4.3244)&#39;,</text>\n",
       "<text text-anchor=\"middle\" x=\"744.5427\" y=\"-65.0254\" font-family=\"Times,serif\" font-size=\"9.00\" fill=\"#000000\">&#39;[4.3244,inf)&#39;]</text>\n",
       "<text text-anchor=\"middle\" x=\"744.5427\" y=\"-55.0254\" font-family=\"Times,serif\" font-size=\"9.00\" fill=\"#000000\">sample_ratio:13.66%</text>\n",
       "<text text-anchor=\"middle\" x=\"744.5427\" y=\"-45.0254\" font-family=\"Times,serif\" font-size=\"9.00\" fill=\"#000000\">CATE : 20.9192 &#160;(p_value:0.0)</text>\n",
       "<text text-anchor=\"middle\" x=\"744.5427\" y=\"-35.0254\" font-family=\"Times,serif\" font-size=\"9.00\" fill=\"#000000\">sample size: control 169; &#160;treatment 173</text>\n",
       "<text text-anchor=\"middle\" x=\"744.5427\" y=\"-25.0254\" font-family=\"Times,serif\" font-size=\"9.00\" fill=\"#000000\">mean: control 1.7087; &#160;treatment 22.6278</text>\n",
       "</g>\n",
       "<!-- 5.0&#45;&gt;10.0 -->\n",
       "<g id=\"edge6\" class=\"edge\">\n",
       "<title>5.0&#45;&gt;10.0</title>\n",
       "<path fill=\"none\" stroke=\"#000000\" d=\"M847.8358,-170.0014C835.0795,-156.6915 820.882,-141.8778 807.1974,-127.5993\"/>\n",
       "<polygon fill=\"#000000\" stroke=\"#000000\" points=\"809.5445,-124.9899 800.0982,-120.1921 804.4907,-129.8335 809.5445,-124.9899\"/>\n",
       "</g>\n",
       "<!-- 11.0 -->\n",
       "<g id=\"node8\" class=\"node\">\n",
       "<title>11.0</title>\n",
       "<ellipse fill=\"none\" stroke=\"#000000\" cx=\"1038.5427\" cy=\"-62.2254\" rx=\"127.0588\" ry=\"55.3091\"/>\n",
       "<text text-anchor=\"middle\" x=\"1038.5427\" y=\"-90.0254\" font-family=\"Times,serif\" font-size=\"9.00\" fill=\"#000000\">Node : 11</text>\n",
       "<text text-anchor=\"middle\" x=\"1038.5427\" y=\"-80.0254\" font-family=\"Times,serif\" font-size=\"9.00\" fill=\"#000000\">split_criterion: &#160;&#160;x3_buckets in [&#39;[&#45;inf,0.2847)&#39;,</text>\n",
       "<text text-anchor=\"middle\" x=\"1038.5427\" y=\"-70.0254\" font-family=\"Times,serif\" font-size=\"9.00\" fill=\"#000000\">&#39;[0.2847,0.688)&#39;]</text>\n",
       "<text text-anchor=\"middle\" x=\"1038.5427\" y=\"-60.0254\" font-family=\"Times,serif\" font-size=\"9.00\" fill=\"#000000\">sample_ratio:12.31%</text>\n",
       "<text text-anchor=\"middle\" x=\"1038.5427\" y=\"-50.0254\" font-family=\"Times,serif\" font-size=\"9.00\" fill=\"#000000\">CATE : 19.5503 &#160;(p_value:0.0)</text>\n",
       "<text text-anchor=\"middle\" x=\"1038.5427\" y=\"-40.0254\" font-family=\"Times,serif\" font-size=\"9.00\" fill=\"#000000\">sample size: control 160; &#160;treatment 148</text>\n",
       "<text text-anchor=\"middle\" x=\"1038.5427\" y=\"-30.0254\" font-family=\"Times,serif\" font-size=\"9.00\" fill=\"#000000\">mean: control &#45;1.8826; &#160;treatment 17.6678</text>\n",
       "</g>\n",
       "<!-- 5.0&#45;&gt;11.0 -->\n",
       "<g id=\"edge7\" class=\"edge\">\n",
       "<title>5.0&#45;&gt;11.0</title>\n",
       "<path fill=\"none\" stroke=\"#000000\" d=\"M935.2495,-170.0014C950.0747,-154.5329 966.8464,-137.0332 982.4975,-120.7029\"/>\n",
       "<polygon fill=\"#000000\" stroke=\"#000000\" points=\"985.2061,-122.9351 989.5986,-113.2936 980.1524,-118.0915 985.2061,-122.9351\"/>\n",
       "</g>\n",
       "<!-- 6.0 -->\n",
       "<g id=\"node10\" class=\"node\">\n",
       "<title>6.0</title>\n",
       "<ellipse fill=\"none\" stroke=\"#000000\" cx=\"1479.5427\" cy=\"-215.6051\" rx=\"136.4432\" ry=\"48.1667\"/>\n",
       "<text text-anchor=\"middle\" x=\"1479.5427\" y=\"-238.4051\" font-family=\"Times,serif\" font-size=\"9.00\" fill=\"#000000\">Node : 6</text>\n",
       "<text text-anchor=\"middle\" x=\"1479.5427\" y=\"-228.4051\" font-family=\"Times,serif\" font-size=\"9.00\" fill=\"#000000\">split_criterion: &#160;&#160;x2_buckets in [&#39;[1.3913,2.6011)&#39;]</text>\n",
       "<text text-anchor=\"middle\" x=\"1479.5427\" y=\"-218.4051\" font-family=\"Times,serif\" font-size=\"9.00\" fill=\"#000000\">sample_ratio:13.74%</text>\n",
       "<text text-anchor=\"middle\" x=\"1479.5427\" y=\"-208.4051\" font-family=\"Times,serif\" font-size=\"9.00\" fill=\"#000000\">CATE : 14.1548 &#160;(p_value:0.0)</text>\n",
       "<text text-anchor=\"middle\" x=\"1479.5427\" y=\"-198.4051\" font-family=\"Times,serif\" font-size=\"9.00\" fill=\"#000000\">sample size: control 175; &#160;treatment 169</text>\n",
       "<text text-anchor=\"middle\" x=\"1479.5427\" y=\"-188.4051\" font-family=\"Times,serif\" font-size=\"9.00\" fill=\"#000000\">mean: control 8.5589; &#160;treatment 22.7137</text>\n",
       "</g>\n",
       "<!-- 3.0&#45;&gt;6.0 -->\n",
       "<g id=\"edge9\" class=\"edge\">\n",
       "<title>3.0&#45;&gt;6.0</title>\n",
       "<path fill=\"none\" stroke=\"#000000\" d=\"M1479.5427,-306.6008C1479.5427,-295.9304 1479.5427,-284.7208 1479.5427,-273.9573\"/>\n",
       "<polygon fill=\"#000000\" stroke=\"#000000\" points=\"1483.0428,-273.8065 1479.5427,-263.8066 1476.0428,-273.8066 1483.0428,-273.8065\"/>\n",
       "</g>\n",
       "<!-- 7.0 -->\n",
       "<g id=\"node13\" class=\"node\">\n",
       "<title>7.0</title>\n",
       "<ellipse fill=\"none\" stroke=\"#000000\" cx=\"1922.5427\" cy=\"-215.6051\" rx=\"137.7717\" ry=\"55.3091\"/>\n",
       "<text text-anchor=\"middle\" x=\"1922.5427\" y=\"-243.4051\" font-family=\"Times,serif\" font-size=\"9.00\" fill=\"#000000\">Node : 7</text>\n",
       "<text text-anchor=\"middle\" x=\"1922.5427\" y=\"-233.4051\" font-family=\"Times,serif\" font-size=\"9.00\" fill=\"#000000\">split_criterion: &#160;&#160;x2_buckets in [&#39;[&#45;1.2501,0.0163)&#39;,</text>\n",
       "<text text-anchor=\"middle\" x=\"1922.5427\" y=\"-223.4051\" font-family=\"Times,serif\" font-size=\"9.00\" fill=\"#000000\">&#39;[0.0163,1.3913)&#39;]</text>\n",
       "<text text-anchor=\"middle\" x=\"1922.5427\" y=\"-213.4051\" font-family=\"Times,serif\" font-size=\"9.00\" fill=\"#000000\">sample_ratio:49.82%</text>\n",
       "<text text-anchor=\"middle\" x=\"1922.5427\" y=\"-203.4051\" font-family=\"Times,serif\" font-size=\"9.00\" fill=\"#000000\">CATE : 8.2593 &#160;(p_value:0.0)</text>\n",
       "<text text-anchor=\"middle\" x=\"1922.5427\" y=\"-193.4051\" font-family=\"Times,serif\" font-size=\"9.00\" fill=\"#000000\">sample size: control 616; &#160;treatment 631</text>\n",
       "<text text-anchor=\"middle\" x=\"1922.5427\" y=\"-183.4051\" font-family=\"Times,serif\" font-size=\"9.00\" fill=\"#000000\">mean: control 4.6873; &#160;treatment 12.9466</text>\n",
       "</g>\n",
       "<!-- 3.0&#45;&gt;7.0 -->\n",
       "<g id=\"edge12\" class=\"edge\">\n",
       "<title>3.0&#45;&gt;7.0</title>\n",
       "<path fill=\"none\" stroke=\"#000000\" d=\"M1585.934,-326.7762C1652.4373,-304.8122 1738.1115,-276.5168 1806.3819,-253.9693\"/>\n",
       "<polygon fill=\"#000000\" stroke=\"#000000\" points=\"1807.498,-257.2867 1815.8958,-250.8271 1805.3027,-250.6398 1807.498,-257.2867\"/>\n",
       "</g>\n",
       "<!-- 12.0 -->\n",
       "<g id=\"node11\" class=\"node\">\n",
       "<title>12.0</title>\n",
       "<ellipse fill=\"none\" stroke=\"#000000\" cx=\"1332.5427\" cy=\"-62.2254\" rx=\"148.4848\" ry=\"62.4516\"/>\n",
       "<text text-anchor=\"middle\" x=\"1332.5427\" y=\"-95.0254\" font-family=\"Times,serif\" font-size=\"9.00\" fill=\"#000000\">Node : 12</text>\n",
       "<text text-anchor=\"middle\" x=\"1332.5427\" y=\"-85.0254\" font-family=\"Times,serif\" font-size=\"9.00\" fill=\"#000000\">split_criterion: &#160;&#160;x4_buckets in [&#39;[0.5603,1.3863)&#39;,</text>\n",
       "<text text-anchor=\"middle\" x=\"1332.5427\" y=\"-75.0254\" font-family=\"Times,serif\" font-size=\"9.00\" fill=\"#000000\">&#39;[1.3863,2.7853)&#39;, &#39;[2.7853,4.6679)&#39;, &#39;[4.6679,5.8857)&#39;,</text>\n",
       "<text text-anchor=\"middle\" x=\"1332.5427\" y=\"-65.0254\" font-family=\"Times,serif\" font-size=\"9.00\" fill=\"#000000\">&#39;[5.8857,9.1519)&#39;, &#39;[9.1519,inf)&#39;]</text>\n",
       "<text text-anchor=\"middle\" x=\"1332.5427\" y=\"-55.0254\" font-family=\"Times,serif\" font-size=\"9.00\" fill=\"#000000\">sample_ratio:10.75%</text>\n",
       "<text text-anchor=\"middle\" x=\"1332.5427\" y=\"-45.0254\" font-family=\"Times,serif\" font-size=\"9.00\" fill=\"#000000\">CATE : 14.4149 &#160;(p_value:0.0)</text>\n",
       "<text text-anchor=\"middle\" x=\"1332.5427\" y=\"-35.0254\" font-family=\"Times,serif\" font-size=\"9.00\" fill=\"#000000\">sample size: control 132; &#160;treatment 137</text>\n",
       "<text text-anchor=\"middle\" x=\"1332.5427\" y=\"-25.0254\" font-family=\"Times,serif\" font-size=\"9.00\" fill=\"#000000\">mean: control 8.4535; &#160;treatment 22.8684</text>\n",
       "</g>\n",
       "<!-- 6.0&#45;&gt;12.0 -->\n",
       "<g id=\"edge10\" class=\"edge\">\n",
       "<title>6.0&#45;&gt;12.0</title>\n",
       "<path fill=\"none\" stroke=\"#000000\" d=\"M1435.8358,-170.0014C1423.0795,-156.6915 1408.882,-141.8778 1395.1974,-127.5993\"/>\n",
       "<polygon fill=\"#000000\" stroke=\"#000000\" points=\"1397.5445,-124.9899 1388.0982,-120.1921 1392.4907,-129.8335 1397.5445,-124.9899\"/>\n",
       "</g>\n",
       "<!-- 13.0 -->\n",
       "<g id=\"node12\" class=\"node\">\n",
       "<title>13.0</title>\n",
       "<ellipse fill=\"none\" stroke=\"#000000\" cx=\"1626.5427\" cy=\"-62.2254\" rx=\"127.9727\" ry=\"48.1667\"/>\n",
       "<text text-anchor=\"middle\" x=\"1626.5427\" y=\"-85.0254\" font-family=\"Times,serif\" font-size=\"9.00\" fill=\"#000000\">Node : 13</text>\n",
       "<text text-anchor=\"middle\" x=\"1626.5427\" y=\"-75.0254\" font-family=\"Times,serif\" font-size=\"9.00\" fill=\"#000000\">split_criterion: &#160;&#160;x4_buckets in [&#39;[&#45;inf,0.5603)&#39;]</text>\n",
       "<text text-anchor=\"middle\" x=\"1626.5427\" y=\"-65.0254\" font-family=\"Times,serif\" font-size=\"9.00\" fill=\"#000000\">sample_ratio:3.0%</text>\n",
       "<text text-anchor=\"middle\" x=\"1626.5427\" y=\"-55.0254\" font-family=\"Times,serif\" font-size=\"9.00\" fill=\"#000000\">CATE : 13.1687 &#160;(p_value:0.0)</text>\n",
       "<text text-anchor=\"middle\" x=\"1626.5427\" y=\"-45.0254\" font-family=\"Times,serif\" font-size=\"9.00\" fill=\"#000000\">sample size: control 43; &#160;treatment 32</text>\n",
       "<text text-anchor=\"middle\" x=\"1626.5427\" y=\"-35.0254\" font-family=\"Times,serif\" font-size=\"9.00\" fill=\"#000000\">mean: control 8.8824; &#160;treatment 22.0511</text>\n",
       "</g>\n",
       "<!-- 6.0&#45;&gt;13.0 -->\n",
       "<g id=\"edge11\" class=\"edge\">\n",
       "<title>6.0&#45;&gt;13.0</title>\n",
       "<path fill=\"none\" stroke=\"#000000\" d=\"M1523.2495,-170.0014C1539.7633,-152.7709 1558.6925,-133.0202 1575.7975,-115.1728\"/>\n",
       "<polygon fill=\"#000000\" stroke=\"#000000\" points=\"1578.6118,-117.2948 1583.0042,-107.6534 1573.558,-112.4513 1578.6118,-117.2948\"/>\n",
       "</g>\n",
       "<!-- 14.0 -->\n",
       "<g id=\"node14\" class=\"node\">\n",
       "<title>14.0</title>\n",
       "<ellipse fill=\"none\" stroke=\"#000000\" cx=\"1922.5427\" cy=\"-62.2254\" rx=\"149.8133\" ry=\"62.4516\"/>\n",
       "<text text-anchor=\"middle\" x=\"1922.5427\" y=\"-95.0254\" font-family=\"Times,serif\" font-size=\"9.00\" fill=\"#000000\">Node : 14</text>\n",
       "<text text-anchor=\"middle\" x=\"1922.5427\" y=\"-85.0254\" font-family=\"Times,serif\" font-size=\"9.00\" fill=\"#000000\">split_criterion: &#160;&#160;x1_buckets in [&#39;[&#45;0.011,0.6546)&#39;,</text>\n",
       "<text text-anchor=\"middle\" x=\"1922.5427\" y=\"-75.0254\" font-family=\"Times,serif\" font-size=\"9.00\" fill=\"#000000\">&#39;[&#45;0.6639,&#45;0.011)&#39;, &#39;[0.6546,1.2478)&#39;, &#39;[1.2478,1.6447)&#39;,</text>\n",
       "<text text-anchor=\"middle\" x=\"1922.5427\" y=\"-65.0254\" font-family=\"Times,serif\" font-size=\"9.00\" fill=\"#000000\">&#39;[1.6447,2.3798)&#39;, &#39;[2.3798,inf)&#39;]</text>\n",
       "<text text-anchor=\"middle\" x=\"1922.5427\" y=\"-55.0254\" font-family=\"Times,serif\" font-size=\"9.00\" fill=\"#000000\">sample_ratio:37.79%</text>\n",
       "<text text-anchor=\"middle\" x=\"1922.5427\" y=\"-45.0254\" font-family=\"Times,serif\" font-size=\"9.00\" fill=\"#000000\">CATE : 9.1448 &#160;(p_value:0.0)</text>\n",
       "<text text-anchor=\"middle\" x=\"1922.5427\" y=\"-35.0254\" font-family=\"Times,serif\" font-size=\"9.00\" fill=\"#000000\">sample size: control 473; &#160;treatment 473</text>\n",
       "<text text-anchor=\"middle\" x=\"1922.5427\" y=\"-25.0254\" font-family=\"Times,serif\" font-size=\"9.00\" fill=\"#000000\">mean: control 5.1161; &#160;treatment 14.2609</text>\n",
       "</g>\n",
       "<!-- 7.0&#45;&gt;14.0 -->\n",
       "<g id=\"edge13\" class=\"edge\">\n",
       "<title>7.0&#45;&gt;14.0</title>\n",
       "<path fill=\"none\" stroke=\"#000000\" d=\"M1922.5427,-160.2315C1922.5427,-151.9054 1922.5427,-143.2152 1922.5427,-134.598\"/>\n",
       "<polygon fill=\"#000000\" stroke=\"#000000\" points=\"1926.0428,-134.5417 1922.5427,-124.5417 1919.0428,-134.5417 1926.0428,-134.5417\"/>\n",
       "</g>\n",
       "<!-- 15.0 -->\n",
       "<g id=\"node15\" class=\"node\">\n",
       "<title>15.0</title>\n",
       "<ellipse fill=\"none\" stroke=\"#000000\" cx=\"2220.5427\" cy=\"-62.2254\" rx=\"130.2154\" ry=\"48.1667\"/>\n",
       "<text text-anchor=\"middle\" x=\"2220.5427\" y=\"-85.0254\" font-family=\"Times,serif\" font-size=\"9.00\" fill=\"#000000\">Node : 15</text>\n",
       "<text text-anchor=\"middle\" x=\"2220.5427\" y=\"-75.0254\" font-family=\"Times,serif\" font-size=\"9.00\" fill=\"#000000\">split_criterion: &#160;&#160;x1_buckets in [&#39;[&#45;inf,&#45;0.6639)&#39;]</text>\n",
       "<text text-anchor=\"middle\" x=\"2220.5427\" y=\"-65.0254\" font-family=\"Times,serif\" font-size=\"9.00\" fill=\"#000000\">sample_ratio:12.03%</text>\n",
       "<text text-anchor=\"middle\" x=\"2220.5427\" y=\"-55.0254\" font-family=\"Times,serif\" font-size=\"9.00\" fill=\"#000000\">CATE : 5.7431 &#160;(p_value:0.0)</text>\n",
       "<text text-anchor=\"middle\" x=\"2220.5427\" y=\"-45.0254\" font-family=\"Times,serif\" font-size=\"9.00\" fill=\"#000000\">sample size: control 143; &#160;treatment 158</text>\n",
       "<text text-anchor=\"middle\" x=\"2220.5427\" y=\"-35.0254\" font-family=\"Times,serif\" font-size=\"9.00\" fill=\"#000000\">mean: control 3.2687; &#160;treatment 9.0118</text>\n",
       "</g>\n",
       "<!-- 7.0&#45;&gt;15.0 -->\n",
       "<g id=\"edge14\" class=\"edge\">\n",
       "<title>7.0&#45;&gt;15.0</title>\n",
       "<path fill=\"none\" stroke=\"#000000\" d=\"M2007.5387,-171.8579C2047.6828,-151.1959 2095.4799,-126.5949 2135.6152,-105.9373\"/>\n",
       "<polygon fill=\"#000000\" stroke=\"#000000\" points=\"2137.2938,-109.0098 2144.5834,-101.3214 2134.0903,-102.7858 2137.2938,-109.0098\"/>\n",
       "</g>\n",
       "</g>\n",
       "</svg>\n"
      ],
      "text/plain": [
       "<graphviz.graphs.Digraph at 0x7f550df9cc50>"
      ]
     },
     "execution_count": 15,
     "metadata": {},
     "output_type": "execute_result"
    }
   ],
   "source": [
    "treeplot = hte.treeplot()\n",
    "treeplot.render('digraph.gv', view=False) # save to file digraph.gv.pdf\n",
    "treeplot"
   ]
  },
  {
   "cell_type": "code",
   "execution_count": 16,
   "id": "bea48ad7-b00d-4b2c-9c71-5d9aeb9edc1d",
   "metadata": {},
   "outputs": [
    {
     "data": {
      "image/png": "[encoded data removed]",
      "text/plain": [
       "<Figure size 1200x480 with 2 Axes>"
      ]
     },
     "metadata": {},
     "output_type": "display_data"
    }
   ],
   "source": [
    "# uplift curve in training data\n",
    "hte.hte_plot() "
   ]
  },
  {
   "cell_type": "markdown",
   "id": "0543b34c-d7d9-4a32-a79d-cf4011fdb6c7",
   "metadata": {},
   "source": [
    "#### DML"
   ]
  },
  {
   "cell_type": "markdown",
   "id": "d109c468-22e6-47ce-8618-3fd89f61e646",
   "metadata": {},
   "source": [
    "Double Machine Learning is a method for estimating (heterogeneous) treatment effects when all potential confounders/controls (factors that simultaneously had a direct effect on the treatment decision in the collected data and the observed outcome) are observed, but are either too many (high-dimensional) for classical statistical approaches to be applicable or their effect on the treatment and outcome cannot be satisfactorily modeled by parametric functions (non-parametric). Both of these latter problems can be addressed via machine learning techniques (see e.g. [Chernozhukov2016](https://arxiv.org/abs/1608.00060)).\n",
    "\n",
    "The method reduces the problem to first estimating two predictive tasks:\n",
    "\n",
    "- predicting the outcome from the controls,\n",
    "\n",
    "- predicting the treatment from the controls;\n",
    "\n",
    "Then the method combines these two predictive models in a final stage estimation so as to create a model of the heterogeneous treatment efffect. The approach allows for arbitrary Machine Learning algorithms to be used for the two predictive tasks, while maintaining many favorable statistical properties related to the final model (e.g. small mean squared error, asymptotic normality, construction of confidence intervals)."
   ]
  },
  {
   "cell_type": "code",
   "execution_count": 17,
   "id": "9387f85d-43c7-4807-bbfe-72765dc9d2db",
   "metadata": {},
   "outputs": [
    {
     "name": "stdout",
     "output_type": "stream",
     "text": [
      "\n",
      "----summary----\n",
      "\t\tCoefficient Results\n",
      "\t\tEstimate    Std. Error\tt value\t    Pr(>|t|)\n",
      "x0\t\t1.892371    0.177398    10.667398   0.0         \n",
      "x1\t\t0.165999    0.088112    1.883959    0.0596      \n",
      "\n",
      "\t\tCATE Intercept Results\n",
      "\t\tEstimate    Std. Error\tt value\t    Pr(>|t|)\n",
      "cate_intercept\t14.922794   0.175118    85.215847   0.0         \n",
      "\n",
      "                predict\n",
      "0      2.63473118788891\n",
      "1    2.1480790927028437\n",
      "2    1.3141723892660662\n",
      "3    1.6124674024754606\n",
      "4   -0.4971570208151599\n",
      "..                  ...\n",
      "95   1.3626308499210575\n",
      "96    4.449547263101854\n",
      "97   1.3435940175775773\n",
      "98    2.087307758742835\n",
      "99   0.3916806442825673\n",
      "\n",
      "[100 rows x 1 columns]\n"
     ]
    }
   ],
   "source": [
    "from fast_causal_inference.lib.linear_dml import *\n",
    "Y='y'\n",
    "T='treatment'\n",
    "table = 'test_data_small'\n",
    "features = ['x1', 'x2']\n",
    "X_fordml = '+'.join(features)\n",
    "W='x3'\n",
    "model = LinearDML(Y=Y,T=T,X=X_fordml,W=W, model_y=\"ols\", model_t=\"ols\", cv=2, table=table)\n",
    "print('\\n----summary----')\n",
    "print(model.summary())\n",
    "print(model.effect(T0=0.1, T1=0.2))\n"
   ]
  },
  {
   "cell_type": "code",
   "execution_count": 18,
   "id": "ff480601-36ef-473a-a8d9-3bd4ad3c560b",
   "metadata": {
    "tags": []
   },
   "outputs": [
    {
     "name": "stdout",
     "output_type": "stream",
     "text": [
      "\n",
      "----summary----\n",
      "\t\tCoefficient Results\n",
      "\t\tEstimate    Std. Error\tt value\t    Pr(>|t|)\n",
      "x0\t\t1.918443    0.186487    10.28727    0.0         \n",
      "x1\t\t0.166828    0.092657    1.800496    0.071812    \n",
      "\n",
      "\t\tCATE Intercept Results\n",
      "\t\tEstimate    Std. Error\tt value\t    Pr(>|t|)\n",
      "cate_intercept\t15.03349    0.184124    81.648869   0.0         \n",
      "\n"
     ]
    }
   ],
   "source": [
    "\n",
    "from fast_causal_inference.lib.linear_dml import NonParamDML\n",
    "\n",
    "Y='y'\n",
    "T='treatment'\n",
    "table = 'test_data_small'\n",
    "features = ['x1', 'x2']\n",
    "X_fordml = '+'.join(features)\n",
    "W='x7_needcut'\n",
    "\n",
    "model = NonParamDML(table=table, Y=Y,T=T,X=X_fordml, model_y='Ols', model_t='Ols', cv=2)\n",
    "print('\\n----summary----')\n",
    "print(model.summary())"
   ]
  },
  {
   "cell_type": "markdown",
   "id": "8f337e87-79ed-42a2-a087-e5ee6ac24afa",
   "metadata": {},
   "source": [
    "#### Model Evaluation"
   ]
  },
  {
   "cell_type": "markdown",
   "id": "91a7ccca-2dd5-4aaf-b0bf-7a17b57519c6",
   "metadata": {},
   "source": [
    "Since actual uplift can't be observed for each individual, measure the uplift over a group of customers.\n",
    "\n",
    "Uplift Curve: plots the real cumulative uplift across the population\n",
    "- First, rank the test dataframe order by the predict uplift.\n",
    "- Next, calculate the cumulative percentage of visits in each group (treatment or control).\n",
    "- Finally, calculate the group's uplift at each percentage.\n"
   ]
  },
  {
   "cell_type": "code",
   "execution_count": 19,
   "id": "f5bedad2-5486-43e4-b176-8e219674e3aa",
   "metadata": {},
   "outputs": [
    {
     "name": "stdout",
     "output_type": "stream",
     "text": [
      "running, please wait\n",
      "donetime cost: 1.787272089975886 Seconds\n",
      "running, please wait\n",
      "donetime cost: 1.657722717965953 Seconds\n",
      "running, please wait\n",
      "donetime cost: 0.37403148401062936 Seconds\n",
      "select lift(effect,y,treatment,100,true) from test_data_small_1699004591_test_pred limit 100000\n",
      "                   ratio                lift                 gain  \\\n",
      "0   0.009908838684106223  33.518487128716934  0.33212928189374685   \n",
      "1   0.019817677368212445   33.46010017620829   0.6631014700001644   \n",
      "2   0.029726516052318668  33.669998144735125   1.0008917403310085   \n",
      "3    0.03963535473642489   35.67300531609918    1.413912220217962   \n",
      "4    0.04954419342053112   35.00687186046572   1.7343872305026617   \n",
      "..                   ...                 ...                  ...   \n",
      "95    0.9595719381688466   15.56469118895385   14.935440891184014   \n",
      "96    0.9696789536266349  15.493776456203692   15.023988941776588   \n",
      "97    0.9797859690844233  15.411626881509509   15.100095779267342   \n",
      "98    0.9898929845422116  15.331769593789856   15.176811161510173   \n",
      "99                   1.0  15.227689043776754   15.227689043776754   \n",
      "\n",
      "                   ate          ramdom_gain  \n",
      "0   15.227689043776756  0.15088871426651562  \n",
      "1   15.227689043776756  0.30177742853303124  \n",
      "2   15.227689043776756  0.45266614279954687  \n",
      "3   15.227689043776756   0.6035548570660625  \n",
      "4   15.227689043776756   0.7544435713325781  \n",
      "..                 ...                  ...  \n",
      "95  15.227689043776756   14.612063089569371  \n",
      "96  15.227689043776756   14.765969578121219  \n",
      "97  15.227689043776756   14.919876066673064  \n",
      "98  15.227689043776756   15.073782555224911  \n",
      "99  15.227689043776756   15.227689043776756  \n",
      "\n",
      "[100 rows x 5 columns]\n"
     ]
    },
    {
     "data": {
      "image/png": "[encoded data removed]",
      "text/plain": [
       "<Figure size 1200x480 with 2 Axes>"
      ]
     },
     "metadata": {},
     "output_type": "display_data"
    }
   ],
   "source": [
    "\n",
    "from fast_causal_inference.lib.causaltree import CausalTree\n",
    "from fast_causal_inference.lib.metrics import *\n",
    "\n",
    "table_test_predict = f'{table_test}_pred'\n",
    "# clickhouse_drop_view(clickhouse_view_name=table_test_predict) # drop table\n",
    "hte.effect_2_clickhouse(table_test_predict,\n",
    "                        table_input=table_test,\n",
    "                        keep_col='*')\n",
    "tmp1 = get_lift_gain(\"effect\", Y, T, table_test_predict,discrete_treatment=True, K=100)\n",
    "print(tmp1)\n",
    "hte_plot([tmp1])"
   ]
  },
  {
   "cell_type": "markdown",
   "id": "934eda3e-ba26-4bde-9b39-b64557c5c700",
   "metadata": {
    "tags": []
   },
   "source": [
    "# Other tools "
   ]
  },
  {
   "cell_type": "markdown",
   "id": "31e9093d-eb90-430a-a212-635595724548",
   "metadata": {},
   "source": [
    "### create/drop  table\n"
   ]
  },
  {
   "cell_type": "code",
   "execution_count": 24,
   "id": "2ad46dac-31e6-4f28-8fb4-7649060b1f94",
   "metadata": {},
   "outputs": [
    {
     "name": "stdout",
     "output_type": "stream",
     "text": [
      "running, please wait\n",
      "donetime cost: 0.9631054069614038 Seconds\n"
     ]
    }
   ],
   "source": [
    "fast_causal_inference.clickhouse_create_view(\n",
    "                            clickhouse_view_name=\"a20231017\", \n",
    "                            sql_statement=\"\"\"\n",
    "                            WITH (\n",
    "                                    SELECT\n",
    "                                            OlsState(y,x1,x2) AS model\n",
    "                                    FROM\n",
    "                                            test_data_small\n",
    "                                   ) AS model\n",
    "                              SELECT\n",
    "                                    evalMLMethod (model,x1,x2) AS y_pre\n",
    "                              FROM\n",
    "                                    test_data_small\n",
    "                              limit 10\"\"\",\n",
    "                          is_sql_complete=True, \n",
    "                          is_force_materialize=True,  \n",
    "                          is_use_local=False)\n"
   ]
  },
  {
   "cell_type": "code",
   "execution_count": 25,
   "id": "74797525-7c6c-4313-8545-5fbf71cceecd",
   "metadata": {},
   "outputs": [
    {
     "name": "stdout",
     "output_type": "stream",
     "text": [
      "running, please wait\n",
      "donetime cost: 0.5709692609962076 Seconds\n"
     ]
    }
   ],
   "source": [
    "fast_causal_inference.clickhouse_drop_view(clickhouse_view_name=\"a20231017\") \n"
   ]
  },
  {
   "cell_type": "code",
   "execution_count": null,
   "id": "88c36969-720e-45d3-95f7-373ad50d6b58",
   "metadata": {},
   "outputs": [],
   "source": []
  }
 ],
 "metadata": {
  "kernelspec": {
   "display_name": "Python 3.7",
   "language": "python",
   "name": "python3.7"
  },
  "language_info": {
   "codemirror_mode": {
    "name": "ipython",
    "version": 3
   },
   "file_extension": ".py",
   "mimetype": "text/x-python",
   "name": "python",
   "nbconvert_exporter": "python",
   "pygments_lexer": "ipython3",
   "version": "3.7.3"
  },
  "toc-autonumbering": true
 },
 "nbformat": 4,
 "nbformat_minor": 5
}
