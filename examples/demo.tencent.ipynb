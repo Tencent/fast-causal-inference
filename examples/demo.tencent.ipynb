{
 "cells": [
  {
   "cell_type": "markdown",
   "id": "c0b4b139-0484-47c7-a9ce-247968aedd48",
   "metadata": {},
   "source": [
    "## 安装package"
   ]
  },
  {
   "cell_type": "markdown",
   "id": "41ad7ea6-b625-4c88-9c7b-bf09d436e9ad",
   "metadata": {},
   "source": [
    "<font color=#FF000 >安装后需要在 jupyter 页面重启  kernel，才会生效</font>  \n",
    "<font color=#FF000 >必须！python3.7的kernel, 否则会遇到组件兼容性问题</font>"
   ]
  },
  {
   "cell_type": "code",
   "execution_count": null,
   "id": "84047222-8303-4091-99ad-986174a53fc5",
   "metadata": {},
   "outputs": [],
   "source": [
    "#（建议）安装最新版本\n",
    "!pip install --verbose -U fast-causal-inference"
   ]
  },
  {
   "cell_type": "markdown",
   "id": "1a303640-afd2-46c4-ad50-9d9036d6c57e",
   "metadata": {
    "tags": []
   },
   "source": [
    "## 初始化fast_causal_inference"
   ]
  },
  {
   "cell_type": "code",
   "execution_count": 2,
   "id": "6279fa4d",
   "metadata": {
    "tags": []
   },
   "outputs": [],
   "source": [
    "import fast_causal_inference\n",
    "#支持业务多租户安全隔离，请首先初始化租户信息才可进行后续使用\n",
    "fast_causal_inference.set_default(tenant_id='${guest_tenant_id}', tenant_secret_key='${guest_tenant_secret_key}')\n",
    "sql_instance = fast_causal_inference.create()"
   ]
  },
  {
   "cell_type": "markdown",
   "id": "31e9093d-eb90-430a-a212-635595724548",
   "metadata": {},
   "source": [
    "### 创建/删除  clickhouse表(视图)\n",
    "<font color=#FF000 >建议用户基于此function在clickhouse中创建/删除表 </font>  "
   ]
  },
  {
   "cell_type": "markdown",
   "id": "2903ddff-3ef9-4174-9496-00e3920b3c71",
   "metadata": {},
   "source": [
    "#### 创建表： 写完整查询SQL"
   ]
  },
  {
   "cell_type": "code",
   "execution_count": 3,
   "id": "2ad46dac-31e6-4f28-8fb4-7649060b1f94",
   "metadata": {},
   "outputs": [
    {
     "name": "stdout",
     "output_type": "stream",
     "text": [
      "running, please wait\n",
      "[2023-10-18 21:56:50] clickhouse.py line:532 INFO - 3\n",
      "donetime cost: 1.3996154814958572 Seconds\n"
     ]
    },
    {
     "data": {
      "text/plain": [
       "'\\n    创建实验指标明细视图:sql_statement, sql_table_name, sql_where, sql_group_by, sql_limit 会组成完整sql\\n参数：\\n    :param clickhouse_view_name: clikchouse视图/物理表名称\\n    :param sql_statement:  查询子语句 如果is_sql_complete为True, 则为创建表的完整查询\\n    :param is_sql_complete(默认False) sql_statement字段是否提供的是完整的sql声明,  如果为True，则不需要额外提供sql_table_name, sql_where, sql_group_by, sql_limit \\n'"
      ]
     },
     "execution_count": 3,
     "metadata": {},
     "output_type": "execute_result"
    }
   ],
   "source": [
    "fast_causal_inference.clickhouse_create_view(\n",
    "                            clickhouse_view_name=\"a20231018_bearlyhuang4\", \n",
    "                            sql_statement=\"\"\"\n",
    "                            WITH (\n",
    "                                    SELECT\n",
    "                                            OlsState(y,x1,x2) AS model\n",
    "                                    FROM\n",
    "                                            test_data_small\n",
    "                                   ) AS model\n",
    "                              SELECT\n",
    "                                    evalMLMethod (model,x1,x2) AS y_pre\n",
    "                              FROM\n",
    "                                    test_data_small\n",
    "                              limit 10\"\"\",\n",
    "                              is_sql_complete=True, is_use_local=False)\n",
    "\"\"\"\n",
    "    创建实验指标明细视图:sql_statement, sql_table_name, sql_where, sql_group_by, sql_limit 会组成完整sql\n",
    "参数：\n",
    "    :param clickhouse_view_name: clikchouse视图/物理表名称\n",
    "    :param sql_statement:  查询子语句 如果is_sql_complete为True, 则为创建表的完整查询\n",
    "    :param is_sql_complete(默认False) sql_statement字段是否提供的是完整的sql声明,  如果为True，则不需要额外提供sql_table_name, sql_where, sql_group_by, sql_limit \n",
    "\"\"\""
   ]
  },
  {
   "cell_type": "markdown",
   "id": "40c1d98f-c38a-4118-9959-20b024103997",
   "metadata": {},
   "source": [
    "#### 删除表"
   ]
  },
  {
   "cell_type": "code",
   "execution_count": 4,
   "id": "74797525-7c6c-4313-8545-5fbf71cceecd",
   "metadata": {},
   "outputs": [
    {
     "name": "stdout",
     "output_type": "stream",
     "text": [
      "running, please wait\n",
      "donetime cost: 0.4244374483823776 Seconds\n"
     ]
    },
    {
     "data": {
      "text/plain": [
       "'\\n    在集群删除视图/物理表, 删除操作需谨慎\\n    :param clickhouse_view_name:  视图或物理表名称\\n'"
      ]
     },
     "execution_count": 4,
     "metadata": {},
     "output_type": "execute_result"
    }
   ],
   "source": [
    "fast_causal_inference.clickhouse_drop_view(clickhouse_view_name=\"a20231018_bearlyhuang4\") \n",
    "\"\"\"\n",
    "    在集群删除视图/物理表, 删除操作需谨慎\n",
    "    :param clickhouse_view_name:  视图或物理表名称\n",
    "\"\"\""
   ]
  },
  {
   "cell_type": "markdown",
   "id": "806fcb37-f8a9-4b51-bb20-db19f0566de5",
   "metadata": {},
   "source": [
    "## 将外部数据导到clickhouse里\n",
    "如果只是想试用，不需要导入自己的数据做分析，可以跳过这一步"
   ]
  },
  {
   "cell_type": "markdown",
   "id": "adb0a802-c2b4-4c72-9f82-d89d2bae6249",
   "metadata": {},
   "source": [
    "#### tdw数据: thive表 >> clickhouse（通过spark）"
   ]
  },
  {
   "cell_type": "code",
   "execution_count": null,
   "id": "5991c2bf-9440-4190-9586-cadf6d463d2a",
   "metadata": {},
   "outputs": [],
   "source": [
    "# 申请sparkSession\n",
    "spark = fast_causal_inference.get_spark_session(group_id='', gaia_id='') # group_id,gaia_id 参考 notebook上默认文件！Spark 资源池.html\n",
    "# spark = fast_causal_inference.get_spark_session(group_id='', gaia_id='',driver_cores=4, driver_memory=\"8g\", executor_cores=2, executor_memory=\"10g\", spark_eventLog_compress=\"false\")"
   ]
  },
  {
   "cell_type": "code",
   "execution_count": null,
   "id": "ed3b2fa3-3aeb-448f-97ab-553b23da4c4e",
   "metadata": {},
   "outputs": [],
   "source": [
    "# thive dataframe\n",
    "from pytoolkit import TDWSQLProvider\n",
    "tdw= TDWSQLProvider(spark, \n",
    "                    user='tdw_rtx',# tdw账号：\"tdw_rtx\"\n",
    "                    passwd='', #查看tdw账号密码 ${tdw_password}\n",
    "                    db='') # 查询的数据库\n",
    "thive_df=tdw.table(tblName='', #表名\n",
    "                   priParts=['p_']) #如果是分区表需要加上所取分区： “p_分区名称” \n",
    "# 如果该表已经存在，需要用clickhouse_drop_view将其删除\n",
    "# fast_causal_inference.clickhouse_drop_view(clickhouse_view_name=\"test_data_small_20230920_thive\")\n",
    "fast_causal_inference.dataframe_2_clickhouse(dataframe=thive_df, \n",
    "                                             clickhouse_table_name=\"test_data_small_20231017_thive\")"
   ]
  },
  {
   "cell_type": "markdown",
   "id": "66e7108d-c9e0-44c6-91da-fefcaf84a46c",
   "metadata": {},
   "source": [
    "#### tdw数据: iceberge表 >> clickhouse（通过spark）"
   ]
  },
  {
   "cell_type": "code",
   "execution_count": null,
   "id": "a4e96c58-c8fa-4230-88b3-a6d6e3fd8972",
   "metadata": {},
   "outputs": [],
   "source": [
    "# 申请sparkSession 需要指定cmk, 下载 ${tdw_cmk} 到notebook\n",
    "# spark.stop()\n",
    "spark = fast_causal_inference.get_spark_session(group_id='', gaia_id='', cmk=\"/home/bearlyhuang/bearlyhuang.cmk\")"
   ]
  },
  {
   "cell_type": "code",
   "execution_count": null,
   "id": "b1d6ef1b-a5d2-4448-9432-a467afc9a9b7",
   "metadata": {},
   "outputs": [],
   "source": [
    "# iceberg dataframe\n",
    "iceberg_df = spark.read.format(\"iceberg\").load(\"\").limit(100) # 数据库.表名称\n",
    "# 如果该表已经存在，需要用clickhouse_drop_view将其删除\n",
    "# fast_causal_inference.clickhouse_drop_view(clickhouse_view_name=\"test_data_small_20231017_iceberg\")\n",
    "fast_causal_inference.dataframe_2_clickhouse(dataframe=iceberg_df, \n",
    "                                             clickhouse_table_name=\"test_data_small_20231017_iceberg\")"
   ]
  },
  {
   "cell_type": "markdown",
   "id": "ca6e772e-51a9-4e5b-88fe-099798ee7bcc",
   "metadata": {},
   "source": [
    "#### clickhouse >> spark "
   ]
  },
  {
   "cell_type": "code",
   "execution_count": null,
   "id": "70c53ff6-eea0-45a3-a700-a2c6eda2858f",
   "metadata": {},
   "outputs": [],
   "source": [
    "df = fast_causal_inference.clickhouse_2_dataframe(spark, clickhouse_table_name='test_data_small_20230920_thive')\n",
    "df.show()"
   ]
  },
  {
   "cell_type": "markdown",
   "id": "5631ada4-a315-4f2b-94bb-64a6425c3038",
   "metadata": {},
   "source": [
    "#### 本地数据表csv <<>> clickhouse"
   ]
  },
  {
   "cell_type": "code",
   "execution_count": 2,
   "id": "079189b5-5e2e-4ed4-b451-57b0575b239a",
   "metadata": {},
   "outputs": [
    {
     "name": "stdout",
     "output_type": "stream",
     "text": [
      "running, please wait\n",
      "donetime cost: 0.5833354592323303 Seconds\n"
     ]
    }
   ],
   "source": [
    "# csv >> clickhouse    csv文件请将第一行应表示为列名\n",
    "fast_causal_inference.csv_2_clickhouse(csv_file_abs_path=\"test_load.csv\", clickhouse_table_name=\"test_load3\")"
   ]
  },
  {
   "cell_type": "code",
   "execution_count": 3,
   "id": "6572ffad-2637-4d6b-8f08-6e815332a4e6",
   "metadata": {},
   "outputs": [
    {
     "name": "stdout",
     "output_type": "stream",
     "text": [
      "running, please wait\n",
      "donetime cost: 0.749113954603672 Seconds\n"
     ]
    }
   ],
   "source": [
    "# clickhouse >> csv\n",
    "fast_causal_inference.clickhouse_2_csv(csv_file_abs_path=\"test_load2.csv\", clickhouse_table_name=\"test_load3\")"
   ]
  },
  {
   "cell_type": "markdown",
   "id": "0df98826",
   "metadata": {},
   "source": [
    "# 模型使用示例"
   ]
  },
  {
   "cell_type": "markdown",
   "id": "450e2966-4955-4532-abe1-16e4592c3f5a",
   "metadata": {},
   "source": [
    "### 测试分布式数据集：test_data_small"
   ]
  },
  {
   "cell_type": "markdown",
   "id": "22158ca7",
   "metadata": {},
   "source": [
    "测试数据表: test_data_small 是fake data"
   ]
  },
  {
   "cell_type": "code",
   "execution_count": 2,
   "id": "b4b744c1-6716-4886-94b4-5b27396e88c2",
   "metadata": {},
   "outputs": [
    {
     "data": {
      "text/html": [
       "<div>\n",
       "<style scoped>\n",
       "    .dataframe tbody tr th:only-of-type {\n",
       "        vertical-align: middle;\n",
       "    }\n",
       "\n",
       "    .dataframe tbody tr th {\n",
       "        vertical-align: top;\n",
       "    }\n",
       "\n",
       "    .dataframe thead th {\n",
       "        text-align: right;\n",
       "    }\n",
       "</style>\n",
       "<table border=\"1\" class=\"dataframe\">\n",
       "  <thead>\n",
       "    <tr style=\"text-align: right;\">\n",
       "      <th></th>\n",
       "      <th>name</th>\n",
       "      <th>type</th>\n",
       "      <th>default_type</th>\n",
       "      <th>default_expression</th>\n",
       "      <th>comment</th>\n",
       "      <th>codec_expression</th>\n",
       "      <th>ttl_expression</th>\n",
       "    </tr>\n",
       "  </thead>\n",
       "  <tbody>\n",
       "    <tr>\n",
       "      <th>0</th>\n",
       "      <td>id</td>\n",
       "      <td>Int64</td>\n",
       "      <td></td>\n",
       "      <td></td>\n",
       "      <td></td>\n",
       "      <td></td>\n",
       "      <td></td>\n",
       "    </tr>\n",
       "    <tr>\n",
       "      <th>1</th>\n",
       "      <td>x1</td>\n",
       "      <td>Float64</td>\n",
       "      <td></td>\n",
       "      <td></td>\n",
       "      <td></td>\n",
       "      <td></td>\n",
       "      <td></td>\n",
       "    </tr>\n",
       "    <tr>\n",
       "      <th>2</th>\n",
       "      <td>x2</td>\n",
       "      <td>Float64</td>\n",
       "      <td></td>\n",
       "      <td></td>\n",
       "      <td></td>\n",
       "      <td></td>\n",
       "      <td></td>\n",
       "    </tr>\n",
       "    <tr>\n",
       "      <th>3</th>\n",
       "      <td>x3</td>\n",
       "      <td>Float64</td>\n",
       "      <td></td>\n",
       "      <td></td>\n",
       "      <td></td>\n",
       "      <td></td>\n",
       "      <td></td>\n",
       "    </tr>\n",
       "    <tr>\n",
       "      <th>4</th>\n",
       "      <td>x4</td>\n",
       "      <td>Float64</td>\n",
       "      <td></td>\n",
       "      <td></td>\n",
       "      <td></td>\n",
       "      <td></td>\n",
       "      <td></td>\n",
       "    </tr>\n",
       "    <tr>\n",
       "      <th>5</th>\n",
       "      <td>x5</td>\n",
       "      <td>Float64</td>\n",
       "      <td></td>\n",
       "      <td></td>\n",
       "      <td></td>\n",
       "      <td></td>\n",
       "      <td></td>\n",
       "    </tr>\n",
       "    <tr>\n",
       "      <th>6</th>\n",
       "      <td>x_long_tail1</td>\n",
       "      <td>Float64</td>\n",
       "      <td></td>\n",
       "      <td></td>\n",
       "      <td></td>\n",
       "      <td></td>\n",
       "      <td></td>\n",
       "    </tr>\n",
       "    <tr>\n",
       "      <th>7</th>\n",
       "      <td>x_long_tail2</td>\n",
       "      <td>Float64</td>\n",
       "      <td></td>\n",
       "      <td></td>\n",
       "      <td></td>\n",
       "      <td></td>\n",
       "      <td></td>\n",
       "    </tr>\n",
       "    <tr>\n",
       "      <th>8</th>\n",
       "      <td>x_cat1</td>\n",
       "      <td>String</td>\n",
       "      <td></td>\n",
       "      <td></td>\n",
       "      <td></td>\n",
       "      <td></td>\n",
       "      <td></td>\n",
       "    </tr>\n",
       "    <tr>\n",
       "      <th>9</th>\n",
       "      <td>treatment</td>\n",
       "      <td>Int64</td>\n",
       "      <td></td>\n",
       "      <td></td>\n",
       "      <td></td>\n",
       "      <td></td>\n",
       "      <td></td>\n",
       "    </tr>\n",
       "    <tr>\n",
       "      <th>10</th>\n",
       "      <td>t1</td>\n",
       "      <td>Int64</td>\n",
       "      <td></td>\n",
       "      <td></td>\n",
       "      <td></td>\n",
       "      <td></td>\n",
       "      <td></td>\n",
       "    </tr>\n",
       "    <tr>\n",
       "      <th>11</th>\n",
       "      <td>y</td>\n",
       "      <td>Float64</td>\n",
       "      <td></td>\n",
       "      <td></td>\n",
       "      <td></td>\n",
       "      <td></td>\n",
       "      <td></td>\n",
       "    </tr>\n",
       "    <tr>\n",
       "      <th>12</th>\n",
       "      <td>numerator_pre</td>\n",
       "      <td>Float64</td>\n",
       "      <td></td>\n",
       "      <td></td>\n",
       "      <td></td>\n",
       "      <td></td>\n",
       "      <td></td>\n",
       "    </tr>\n",
       "    <tr>\n",
       "      <th>13</th>\n",
       "      <td>weight</td>\n",
       "      <td>Float64</td>\n",
       "      <td></td>\n",
       "      <td></td>\n",
       "      <td></td>\n",
       "      <td></td>\n",
       "      <td></td>\n",
       "    </tr>\n",
       "    <tr>\n",
       "      <th>14</th>\n",
       "      <td>numerator</td>\n",
       "      <td>Float64</td>\n",
       "      <td></td>\n",
       "      <td></td>\n",
       "      <td></td>\n",
       "      <td></td>\n",
       "      <td></td>\n",
       "    </tr>\n",
       "    <tr>\n",
       "      <th>15</th>\n",
       "      <td>denominator</td>\n",
       "      <td>Int64</td>\n",
       "      <td></td>\n",
       "      <td></td>\n",
       "      <td></td>\n",
       "      <td></td>\n",
       "      <td></td>\n",
       "    </tr>\n",
       "    <tr>\n",
       "      <th>16</th>\n",
       "      <td>denominator_pre</td>\n",
       "      <td>Int64</td>\n",
       "      <td></td>\n",
       "      <td></td>\n",
       "      <td></td>\n",
       "      <td></td>\n",
       "      <td></td>\n",
       "    </tr>\n",
       "  </tbody>\n",
       "</table>\n",
       "</div>"
      ],
      "text/plain": [
       "               name     type default_type default_expression comment  \\\n",
       "0                id    Int64                                           \n",
       "1                x1  Float64                                           \n",
       "2                x2  Float64                                           \n",
       "3                x3  Float64                                           \n",
       "4                x4  Float64                                           \n",
       "5                x5  Float64                                           \n",
       "6      x_long_tail1  Float64                                           \n",
       "7      x_long_tail2  Float64                                           \n",
       "8            x_cat1   String                                           \n",
       "9         treatment    Int64                                           \n",
       "10               t1    Int64                                           \n",
       "11                y  Float64                                           \n",
       "12    numerator_pre  Float64                                           \n",
       "13           weight  Float64                                           \n",
       "14        numerator  Float64                                           \n",
       "15      denominator    Int64                                           \n",
       "16  denominator_pre    Int64                                           \n",
       "\n",
       "   codec_expression ttl_expression  \n",
       "0                                   \n",
       "1                                   \n",
       "2                                   \n",
       "3                                   \n",
       "4                                   \n",
       "5                                   \n",
       "6                                   \n",
       "7                                   \n",
       "8                                   \n",
       "9                                   \n",
       "10                                  \n",
       "11                                  \n",
       "12                                  \n",
       "13                                  \n",
       "14                                  \n",
       "15                                  \n",
       "16                                  "
      ]
     },
     "execution_count": 2,
     "metadata": {},
     "output_type": "execute_result"
    }
   ],
   "source": [
    "sql_instance.sql(\"desc test_data_small;\")"
   ]
  },
  {
   "cell_type": "code",
   "execution_count": 3,
   "id": "7204b7eb",
   "metadata": {},
   "outputs": [
    {
     "data": {
      "text/html": [
       "<div>\n",
       "<style scoped>\n",
       "    .dataframe tbody tr th:only-of-type {\n",
       "        vertical-align: middle;\n",
       "    }\n",
       "\n",
       "    .dataframe tbody tr th {\n",
       "        vertical-align: top;\n",
       "    }\n",
       "\n",
       "    .dataframe thead th {\n",
       "        text-align: right;\n",
       "    }\n",
       "</style>\n",
       "<table border=\"1\" class=\"dataframe\">\n",
       "  <thead>\n",
       "    <tr style=\"text-align: right;\">\n",
       "      <th></th>\n",
       "      <th>id</th>\n",
       "      <th>x1</th>\n",
       "      <th>x2</th>\n",
       "      <th>x3</th>\n",
       "      <th>x4</th>\n",
       "      <th>x5</th>\n",
       "      <th>x_long_tail1</th>\n",
       "      <th>x_long_tail2</th>\n",
       "      <th>x_cat1</th>\n",
       "      <th>treatment</th>\n",
       "      <th>t1</th>\n",
       "      <th>y</th>\n",
       "      <th>numerator_pre</th>\n",
       "      <th>weight</th>\n",
       "      <th>numerator</th>\n",
       "      <th>denominator</th>\n",
       "      <th>denominator_pre</th>\n",
       "    </tr>\n",
       "  </thead>\n",
       "  <tbody>\n",
       "    <tr>\n",
       "      <th>0</th>\n",
       "      <td>156</td>\n",
       "      <td>1.126635922106507</td>\n",
       "      <td>1.3384885094239838</td>\n",
       "      <td>1.8328551818189531</td>\n",
       "      <td>2.992001880776374</td>\n",
       "      <td>3.411340013139924</td>\n",
       "      <td>0.10608597596303615</td>\n",
       "      <td>0.13462216744754896</td>\n",
       "      <td>C</td>\n",
       "      <td>1</td>\n",
       "      <td>1</td>\n",
       "      <td>24.593723892408768</td>\n",
       "      <td>8.552960583941465</td>\n",
       "      <td>0.5539647706685233</td>\n",
       "      <td>24.593723892408768</td>\n",
       "      <td>1</td>\n",
       "      <td>1</td>\n",
       "    </tr>\n",
       "    <tr>\n",
       "      <th>1</th>\n",
       "      <td>189</td>\n",
       "      <td>1.5430145954067358</td>\n",
       "      <td>1.0595239303015498</td>\n",
       "      <td>1.250547439864795</td>\n",
       "      <td>3.465457069042979</td>\n",
       "      <td>4.827566453415302</td>\n",
       "      <td>1.710014847954909</td>\n",
       "      <td>0.0402026370799724</td>\n",
       "      <td>B</td>\n",
       "      <td>1</td>\n",
       "      <td>1</td>\n",
       "      <td>13.454691949926122</td>\n",
       "      <td>6.846247286692203</td>\n",
       "      <td>0.16421181697594345</td>\n",
       "      <td>13.454691949926122</td>\n",
       "      <td>1</td>\n",
       "      <td>1</td>\n",
       "    </tr>\n",
       "    <tr>\n",
       "      <th>2</th>\n",
       "      <td>258</td>\n",
       "      <td>1.582938397335082</td>\n",
       "      <td>1.175821185240341</td>\n",
       "      <td>0.4048416219996121</td>\n",
       "      <td>1.3274861483760065</td>\n",
       "      <td>2.4829208867768844</td>\n",
       "      <td>0.0256622020706172</td>\n",
       "      <td>0.13563613652058826</td>\n",
       "      <td>A</td>\n",
       "      <td>0</td>\n",
       "      <td>0</td>\n",
       "      <td>6.310380157551421</td>\n",
       "      <td>6.277630789437696</td>\n",
       "      <td>0.7405211064145256</td>\n",
       "      <td>6.310380157551421</td>\n",
       "      <td>1</td>\n",
       "      <td>1</td>\n",
       "    </tr>\n",
       "    <tr>\n",
       "      <th>3</th>\n",
       "      <td>270</td>\n",
       "      <td>0.3990463456401302</td>\n",
       "      <td>1.4950341199028865</td>\n",
       "      <td>0.10267331075144027</td>\n",
       "      <td>0.3728201653463098</td>\n",
       "      <td>0.2789308377814992</td>\n",
       "      <td>1.3964133762134665</td>\n",
       "      <td>1.5590047374449285</td>\n",
       "      <td>D</td>\n",
       "      <td>0</td>\n",
       "      <td>0</td>\n",
       "      <td>6.83028091131765</td>\n",
       "      <td>5.532314623663719</td>\n",
       "      <td>0.07384832948304243</td>\n",
       "      <td>6.83028091131765</td>\n",
       "      <td>1</td>\n",
       "      <td>1</td>\n",
       "    </tr>\n",
       "    <tr>\n",
       "      <th>4</th>\n",
       "      <td>291</td>\n",
       "      <td>0.4810271184607877</td>\n",
       "      <td>1.4309983256785614</td>\n",
       "      <td>0.18124938655002795</td>\n",
       "      <td>6.4225515882935005</td>\n",
       "      <td>3.2989183198402836</td>\n",
       "      <td>0.0709719819607415</td>\n",
       "      <td>0.507420611165732</td>\n",
       "      <td>A</td>\n",
       "      <td>0</td>\n",
       "      <td>1</td>\n",
       "      <td>0.9458751054056216</td>\n",
       "      <td>1.1695864518718513</td>\n",
       "      <td>0.29882738240783224</td>\n",
       "      <td>0.9458751054056216</td>\n",
       "      <td>1</td>\n",
       "      <td>1</td>\n",
       "    </tr>\n",
       "  </tbody>\n",
       "</table>\n",
       "</div>"
      ],
      "text/plain": [
       "    id                  x1                  x2                   x3  \\\n",
       "0  156   1.126635922106507  1.3384885094239838   1.8328551818189531   \n",
       "1  189  1.5430145954067358  1.0595239303015498    1.250547439864795   \n",
       "2  258   1.582938397335082   1.175821185240341   0.4048416219996121   \n",
       "3  270  0.3990463456401302  1.4950341199028865  0.10267331075144027   \n",
       "4  291  0.4810271184607877  1.4309983256785614  0.18124938655002795   \n",
       "\n",
       "                   x4                  x5         x_long_tail1  \\\n",
       "0   2.992001880776374   3.411340013139924  0.10608597596303615   \n",
       "1   3.465457069042979   4.827566453415302    1.710014847954909   \n",
       "2  1.3274861483760065  2.4829208867768844   0.0256622020706172   \n",
       "3  0.3728201653463098  0.2789308377814992   1.3964133762134665   \n",
       "4  6.4225515882935005  3.2989183198402836   0.0709719819607415   \n",
       "\n",
       "          x_long_tail2 x_cat1 treatment t1                   y  \\\n",
       "0  0.13462216744754896      C         1  1  24.593723892408768   \n",
       "1   0.0402026370799724      B         1  1  13.454691949926122   \n",
       "2  0.13563613652058826      A         0  0   6.310380157551421   \n",
       "3   1.5590047374449285      D         0  0    6.83028091131765   \n",
       "4    0.507420611165732      A         0  1  0.9458751054056216   \n",
       "\n",
       "        numerator_pre               weight           numerator denominator  \\\n",
       "0   8.552960583941465   0.5539647706685233  24.593723892408768           1   \n",
       "1   6.846247286692203  0.16421181697594345  13.454691949926122           1   \n",
       "2   6.277630789437696   0.7405211064145256   6.310380157551421           1   \n",
       "3   5.532314623663719  0.07384832948304243    6.83028091131765           1   \n",
       "4  1.1695864518718513  0.29882738240783224  0.9458751054056216           1   \n",
       "\n",
       "  denominator_pre  \n",
       "0               1  \n",
       "1               1  \n",
       "2               1  \n",
       "3               1  \n",
       "4               1  "
      ]
     },
     "execution_count": 3,
     "metadata": {},
     "output_type": "execute_result"
    }
   ],
   "source": [
    "sql_instance.sql(\"select * from test_data_small limit 5;\")"
   ]
  },
  {
   "cell_type": "code",
   "execution_count": 4,
   "id": "aaf73f3a-aafd-4850-b888-5d5235c1bdd1",
   "metadata": {},
   "outputs": [
    {
     "name": "stdout",
     "output_type": "stream",
     "text": [
      "数据表总样本量：   count()\n",
      "0   10000\n"
     ]
    }
   ],
   "source": [
    "n = sql_instance.sql(\"select count(*) from test_data_small;\")\n",
    "print(\"数据表总样本量：\",n)"
   ]
  },
  {
   "cell_type": "markdown",
   "id": "0c806454-d5ec-4d54-bb3e-d18ff949492b",
   "metadata": {},
   "source": [
    "## 数据处理工具"
   ]
  },
  {
   "cell_type": "markdown",
   "id": "0431c116-6c1a-4222-b407-f5b82b9b1882",
   "metadata": {},
   "source": [
    "### data split       "
   ]
  },
  {
   "cell_type": "markdown",
   "id": "5943ea77-1fb4-44d3-affb-979682a5ddbf",
   "metadata": {},
   "source": [
    "把数据集按照给定比例分成训练集和测试集，并存入两张新的数据表"
   ]
  },
  {
   "cell_type": "code",
   "execution_count": 8,
   "id": "b0e52db7-efec-4abf-b889-bf12c1a5754a",
   "metadata": {},
   "outputs": [
    {
     "name": "stdout",
     "output_type": "stream",
     "text": [
      "running, please wait\n",
      "donetime cost: 1.4748237580060959 Seconds\n",
      "running, please wait\n",
      "donetime cost: 1.5247278213500977 Seconds\n",
      "running, please wait\n",
      "donetime cost: 1.4725342318415642 Seconds\n",
      "running, please wait\n",
      "donetime cost: 0.5392889603972435 Seconds\n",
      "table_train: test_data_small_1697641023_train\n",
      "table_test: test_data_small_1697641023_test\n"
     ]
    }
   ],
   "source": [
    "from fast_causal_inference.lib.tools import *\n",
    "table = 'test_data_small'\n",
    "table_train,table_test = data_split(table,0.5)"
   ]
  },
  {
   "cell_type": "markdown",
   "id": "606f761c-4782-4467-bce9-4dddb5a7e6f8",
   "metadata": {},
   "source": [
    "### describe      "
   ]
  },
  {
   "cell_type": "markdown",
   "id": "1ada20f8-bf0c-42ab-a247-80969d3addde",
   "metadata": {},
   "source": [
    "对给定表中的数值型列进行描述性分析，包括均值、标准差、最大值、最小值、分位点、样本量"
   ]
  },
  {
   "cell_type": "code",
   "execution_count": 9,
   "id": "8ba668ae-7e92-486a-a5da-bff5bc6cb34a",
   "metadata": {},
   "outputs": [
    {
     "data": {
      "text/html": [
       "<div>\n",
       "<style scoped>\n",
       "    .dataframe tbody tr th:only-of-type {\n",
       "        vertical-align: middle;\n",
       "    }\n",
       "\n",
       "    .dataframe tbody tr th {\n",
       "        vertical-align: top;\n",
       "    }\n",
       "\n",
       "    .dataframe thead th {\n",
       "        text-align: right;\n",
       "    }\n",
       "</style>\n",
       "<table border=\"1\" class=\"dataframe\">\n",
       "  <thead>\n",
       "    <tr style=\"text-align: right;\">\n",
       "      <th></th>\n",
       "      <th>count</th>\n",
       "      <th>std</th>\n",
       "      <th>min</th>\n",
       "      <th>quantile_0.25</th>\n",
       "      <th>quantile_0.5</th>\n",
       "      <th>quantile_0.75</th>\n",
       "      <th>quantile_0.90</th>\n",
       "      <th>quantile_0.99</th>\n",
       "      <th>max</th>\n",
       "    </tr>\n",
       "  </thead>\n",
       "  <tbody>\n",
       "    <tr>\n",
       "      <th>id</th>\n",
       "      <td>10000.0</td>\n",
       "      <td>2886.895680</td>\n",
       "      <td>0.000000</td>\n",
       "      <td>2508.750000</td>\n",
       "      <td>5023.500000</td>\n",
       "      <td>7531.250000</td>\n",
       "      <td>8999.900000</td>\n",
       "      <td>9896.270000</td>\n",
       "      <td>9999.000000</td>\n",
       "    </tr>\n",
       "    <tr>\n",
       "      <th>x1</th>\n",
       "      <td>10000.0</td>\n",
       "      <td>0.597495</td>\n",
       "      <td>0.000068</td>\n",
       "      <td>0.308642</td>\n",
       "      <td>0.670117</td>\n",
       "      <td>1.140167</td>\n",
       "      <td>1.632613</td>\n",
       "      <td>2.573959</td>\n",
       "      <td>3.801660</td>\n",
       "    </tr>\n",
       "    <tr>\n",
       "      <th>x2</th>\n",
       "      <td>10000.0</td>\n",
       "      <td>1.201742</td>\n",
       "      <td>0.000075</td>\n",
       "      <td>0.634496</td>\n",
       "      <td>1.328577</td>\n",
       "      <td>2.270187</td>\n",
       "      <td>3.269849</td>\n",
       "      <td>5.095239</td>\n",
       "      <td>8.893264</td>\n",
       "    </tr>\n",
       "    <tr>\n",
       "      <th>x3</th>\n",
       "      <td>10000.0</td>\n",
       "      <td>0.987922</td>\n",
       "      <td>0.000439</td>\n",
       "      <td>0.291029</td>\n",
       "      <td>0.697518</td>\n",
       "      <td>1.374604</td>\n",
       "      <td>2.270360</td>\n",
       "      <td>4.544576</td>\n",
       "      <td>9.417911</td>\n",
       "    </tr>\n",
       "    <tr>\n",
       "      <th>x4</th>\n",
       "      <td>10000.0</td>\n",
       "      <td>1.971388</td>\n",
       "      <td>0.000400</td>\n",
       "      <td>0.560478</td>\n",
       "      <td>1.382331</td>\n",
       "      <td>2.782576</td>\n",
       "      <td>4.638931</td>\n",
       "      <td>9.301886</td>\n",
       "      <td>19.830242</td>\n",
       "    </tr>\n",
       "    <tr>\n",
       "      <th>x5</th>\n",
       "      <td>10000.0</td>\n",
       "      <td>1.437626</td>\n",
       "      <td>0.000984</td>\n",
       "      <td>1.228157</td>\n",
       "      <td>2.484281</td>\n",
       "      <td>3.731681</td>\n",
       "      <td>4.464565</td>\n",
       "      <td>4.946469</td>\n",
       "      <td>4.999841</td>\n",
       "    </tr>\n",
       "    <tr>\n",
       "      <th>x_long_tail1</th>\n",
       "      <td>10000.0</td>\n",
       "      <td>0.883486</td>\n",
       "      <td>0.000021</td>\n",
       "      <td>0.099514</td>\n",
       "      <td>0.262593</td>\n",
       "      <td>0.595834</td>\n",
       "      <td>1.191102</td>\n",
       "      <td>3.972097</td>\n",
       "      <td>28.065146</td>\n",
       "    </tr>\n",
       "    <tr>\n",
       "      <th>x_long_tail2</th>\n",
       "      <td>10000.0</td>\n",
       "      <td>3.048051</td>\n",
       "      <td>0.000002</td>\n",
       "      <td>0.149709</td>\n",
       "      <td>0.406744</td>\n",
       "      <td>0.996520</td>\n",
       "      <td>2.105082</td>\n",
       "      <td>9.333730</td>\n",
       "      <td>156.238517</td>\n",
       "    </tr>\n",
       "    <tr>\n",
       "      <th>treatment</th>\n",
       "      <td>10000.0</td>\n",
       "      <td>0.499937</td>\n",
       "      <td>0.000000</td>\n",
       "      <td>0.000000</td>\n",
       "      <td>1.000000</td>\n",
       "      <td>1.000000</td>\n",
       "      <td>1.000000</td>\n",
       "      <td>1.000000</td>\n",
       "      <td>1.000000</td>\n",
       "    </tr>\n",
       "    <tr>\n",
       "      <th>t1</th>\n",
       "      <td>10000.0</td>\n",
       "      <td>0.500025</td>\n",
       "      <td>0.000000</td>\n",
       "      <td>0.000000</td>\n",
       "      <td>1.000000</td>\n",
       "      <td>1.000000</td>\n",
       "      <td>1.000000</td>\n",
       "      <td>1.000000</td>\n",
       "      <td>1.000000</td>\n",
       "    </tr>\n",
       "    <tr>\n",
       "      <th>y</th>\n",
       "      <td>10000.0</td>\n",
       "      <td>13.830780</td>\n",
       "      <td>0.000028</td>\n",
       "      <td>6.011856</td>\n",
       "      <td>11.899017</td>\n",
       "      <td>20.875379</td>\n",
       "      <td>32.344308</td>\n",
       "      <td>65.519490</td>\n",
       "      <td>187.508227</td>\n",
       "    </tr>\n",
       "    <tr>\n",
       "      <th>numerator_pre</th>\n",
       "      <td>10000.0</td>\n",
       "      <td>3.942645</td>\n",
       "      <td>0.004454</td>\n",
       "      <td>4.110456</td>\n",
       "      <td>6.323346</td>\n",
       "      <td>9.091568</td>\n",
       "      <td>12.107504</td>\n",
       "      <td>18.924662</td>\n",
       "      <td>32.044603</td>\n",
       "    </tr>\n",
       "    <tr>\n",
       "      <th>weight</th>\n",
       "      <td>10000.0</td>\n",
       "      <td>0.287952</td>\n",
       "      <td>0.000091</td>\n",
       "      <td>0.246751</td>\n",
       "      <td>0.501574</td>\n",
       "      <td>0.749311</td>\n",
       "      <td>0.897442</td>\n",
       "      <td>0.989508</td>\n",
       "      <td>0.999931</td>\n",
       "    </tr>\n",
       "    <tr>\n",
       "      <th>numerator</th>\n",
       "      <td>10000.0</td>\n",
       "      <td>13.830780</td>\n",
       "      <td>0.000028</td>\n",
       "      <td>6.011856</td>\n",
       "      <td>11.899017</td>\n",
       "      <td>20.875379</td>\n",
       "      <td>32.344308</td>\n",
       "      <td>65.519490</td>\n",
       "      <td>187.508227</td>\n",
       "    </tr>\n",
       "    <tr>\n",
       "      <th>denominator</th>\n",
       "      <td>10000.0</td>\n",
       "      <td>0.000000</td>\n",
       "      <td>1.000000</td>\n",
       "      <td>1.000000</td>\n",
       "      <td>1.000000</td>\n",
       "      <td>1.000000</td>\n",
       "      <td>1.000000</td>\n",
       "      <td>1.000000</td>\n",
       "      <td>1.000000</td>\n",
       "    </tr>\n",
       "    <tr>\n",
       "      <th>denominator_pre</th>\n",
       "      <td>10000.0</td>\n",
       "      <td>0.000000</td>\n",
       "      <td>1.000000</td>\n",
       "      <td>1.000000</td>\n",
       "      <td>1.000000</td>\n",
       "      <td>1.000000</td>\n",
       "      <td>1.000000</td>\n",
       "      <td>1.000000</td>\n",
       "      <td>1.000000</td>\n",
       "    </tr>\n",
       "  </tbody>\n",
       "</table>\n",
       "</div>"
      ],
      "text/plain": [
       "                   count          std       min  quantile_0.25  quantile_0.5  \\\n",
       "id               10000.0  2886.895680  0.000000    2508.750000   5023.500000   \n",
       "x1               10000.0     0.597495  0.000068       0.308642      0.670117   \n",
       "x2               10000.0     1.201742  0.000075       0.634496      1.328577   \n",
       "x3               10000.0     0.987922  0.000439       0.291029      0.697518   \n",
       "x4               10000.0     1.971388  0.000400       0.560478      1.382331   \n",
       "x5               10000.0     1.437626  0.000984       1.228157      2.484281   \n",
       "x_long_tail1     10000.0     0.883486  0.000021       0.099514      0.262593   \n",
       "x_long_tail2     10000.0     3.048051  0.000002       0.149709      0.406744   \n",
       "treatment        10000.0     0.499937  0.000000       0.000000      1.000000   \n",
       "t1               10000.0     0.500025  0.000000       0.000000      1.000000   \n",
       "y                10000.0    13.830780  0.000028       6.011856     11.899017   \n",
       "numerator_pre    10000.0     3.942645  0.004454       4.110456      6.323346   \n",
       "weight           10000.0     0.287952  0.000091       0.246751      0.501574   \n",
       "numerator        10000.0    13.830780  0.000028       6.011856     11.899017   \n",
       "denominator      10000.0     0.000000  1.000000       1.000000      1.000000   \n",
       "denominator_pre  10000.0     0.000000  1.000000       1.000000      1.000000   \n",
       "\n",
       "                 quantile_0.75  quantile_0.90  quantile_0.99          max  \n",
       "id                 7531.250000    8999.900000    9896.270000  9999.000000  \n",
       "x1                    1.140167       1.632613       2.573959     3.801660  \n",
       "x2                    2.270187       3.269849       5.095239     8.893264  \n",
       "x3                    1.374604       2.270360       4.544576     9.417911  \n",
       "x4                    2.782576       4.638931       9.301886    19.830242  \n",
       "x5                    3.731681       4.464565       4.946469     4.999841  \n",
       "x_long_tail1          0.595834       1.191102       3.972097    28.065146  \n",
       "x_long_tail2          0.996520       2.105082       9.333730   156.238517  \n",
       "treatment             1.000000       1.000000       1.000000     1.000000  \n",
       "t1                    1.000000       1.000000       1.000000     1.000000  \n",
       "y                    20.875379      32.344308      65.519490   187.508227  \n",
       "numerator_pre         9.091568      12.107504      18.924662    32.044603  \n",
       "weight                0.749311       0.897442       0.989508     0.999931  \n",
       "numerator            20.875379      32.344308      65.519490   187.508227  \n",
       "denominator           1.000000       1.000000       1.000000     1.000000  \n",
       "denominator_pre       1.000000       1.000000       1.000000     1.000000  "
      ]
     },
     "execution_count": 9,
     "metadata": {},
     "output_type": "execute_result"
    }
   ],
   "source": [
    "from fast_causal_inference.lib.tools import *\n",
    "table = 'test_data_small'\n",
    "describe(table,'*')"
   ]
  },
  {
   "cell_type": "markdown",
   "id": "6070f7a9-9c71-40b4-8810-019b9125cfb0",
   "metadata": {},
   "source": [
    "### histplot      "
   ]
  },
  {
   "cell_type": "markdown",
   "id": "4c2f73dd-b5ac-434a-815e-43c8c728eea9",
   "metadata": {},
   "source": [
    "绘制分布直方图，数值型的列，绘制直方图，并伴有KDE曲线；字符型的列，绘制条形图"
   ]
  },
  {
   "cell_type": "code",
   "execution_count": 5,
   "id": "68be4966-032a-484d-ad3e-f72d0c52bea9",
   "metadata": {},
   "outputs": [
    {
     "data": {
      "image/png": "[encoded data removed]",
      "text/plain": [
       "<Figure size 432x288 with 1 Axes>"
      ]
     },
     "metadata": {
      "needs_background": "light"
     },
     "output_type": "display_data"
    },
    {
     "name": "stdout",
     "output_type": "stream",
     "text": [
      "The type of x_cat1 is not numeric\n"
     ]
    },
    {
     "data": {
      "image/png": "[encoded data removed]",
      "text/plain": [
       "<Figure size 432x288 with 1 Axes>"
      ]
     },
     "metadata": {},
     "output_type": "display_data"
    }
   ],
   "source": [
    "from fast_causal_inference.lib.tools import *\n",
    "# 数值型的列，绘制直方图，并伴有KDE曲线\n",
    "table = 'test_data_small'\n",
    "col = 'x1'\n",
    "histplot(table,col,bin_num=50)\n",
    "\n",
    "# 字符型的列，绘制条形图\n",
    "table = 'test_data_small'\n",
    "col = 'x_cat1'\n",
    "histplot(table,col,bin_num=50)"
   ]
  },
  {
   "cell_type": "markdown",
   "id": "e5ae9495-44b3-4b2a-8902-4726aafd5664",
   "metadata": {},
   "source": [
    "### boxplot  "
   ]
  },
  {
   "cell_type": "markdown",
   "id": "2a5214c4-9e74-4e16-a549-65fa1fb3710d",
   "metadata": {},
   "source": [
    "绘制箱线图"
   ]
  },
  {
   "cell_type": "code",
   "execution_count": 6,
   "id": "60d83f46-be92-461f-9d57-94f15aaf9dd6",
   "metadata": {},
   "outputs": [
    {
     "name": "stdout",
     "output_type": "stream",
     "text": [
      "min: 6.835257171676114e-05\n",
      "25_quantile: 0.30070456351583164\n",
      "50_quantile: 0.6597333324955622\n",
      "75_quantile: 1.1372019628384529\n",
      "max: 3.8016602149671153\n"
     ]
    },
    {
     "data": {
      "image/png": "[encoded data removed]",
      "text/plain": [
       "<Figure size 432x288 with 1 Axes>"
      ]
     },
     "metadata": {},
     "output_type": "display_data"
    }
   ],
   "source": [
    "from fast_causal_inference.lib.tools import *\n",
    "\n",
    "# col必须是数值型的列，只能输入1列。\n",
    "table = 'test_data_small'\n",
    "col = 'x1'\n",
    "# 最小值，1/4分位点，中位数，3/4分位点，最大值。绘制的图片。\n",
    "boxplot(table,col)"
   ]
  },
  {
   "cell_type": "markdown",
   "id": "c5e181b3-e4d5-4a93-9550-f19360e07db2",
   "metadata": {},
   "source": [
    "## 因果推断工具"
   ]
  },
  {
   "cell_type": "markdown",
   "id": "5faeb9b5-62cb-4ae2-9bf9-dbe267f73572",
   "metadata": {},
   "source": [
    "### test和estimator"
   ]
  },
  {
   "cell_type": "markdown",
   "id": "24cbbddc-e000-44a8-b30c-a8bcee610bff",
   "metadata": {},
   "source": [
    "#### ttest"
   ]
  },
  {
   "cell_type": "markdown",
   "id": "08387988-cc69-4671-90eb-f9ea3b5d3ba5",
   "metadata": {},
   "source": [
    "做双样本t检验，关心的指标是 numerator/denominator，例如点击率指标，numerator代表点击，denominator代表曝光"
   ]
  },
  {
   "cell_type": "code",
   "execution_count": 2,
   "id": "765a6082-aeb2-4388-9673-75881538d1e7",
   "metadata": {},
   "outputs": [
    {
     "data": {
      "text/html": [
       "<div>\n",
       "<style scoped>\n",
       "    .dataframe tbody tr th:only-of-type {\n",
       "        vertical-align: middle;\n",
       "    }\n",
       "\n",
       "    .dataframe tbody tr th {\n",
       "        vertical-align: top;\n",
       "    }\n",
       "\n",
       "    .dataframe thead th {\n",
       "        text-align: right;\n",
       "    }\n",
       "</style>\n",
       "<table border=\"1\" class=\"dataframe\">\n",
       "  <thead>\n",
       "    <tr style=\"text-align: right;\">\n",
       "      <th></th>\n",
       "      <th>estimate</th>\n",
       "      <th>stderr</th>\n",
       "      <th>t-statistic</th>\n",
       "      <th>p-value</th>\n",
       "      <th>lower</th>\n",
       "      <th>upper</th>\n",
       "    </tr>\n",
       "  </thead>\n",
       "  <tbody>\n",
       "    <tr>\n",
       "      <th>0</th>\n",
       "      <td>16.438494</td>\n",
       "      <td>0.219140</td>\n",
       "      <td>75.013786</td>\n",
       "      <td>0.000000</td>\n",
       "      <td>16.008882</td>\n",
       "      <td>16.868106</td>\n",
       "    </tr>\n",
       "  </tbody>\n",
       "</table>\n",
       "</div>"
      ],
      "text/plain": [
       "    estimate    stderr t-statistic   p-value      lower      upper\n",
       "0  16.438494  0.219140   75.013786  0.000000  16.008882  16.868106"
      ]
     },
     "execution_count": 2,
     "metadata": {},
     "output_type": "execute_result"
    }
   ],
   "source": [
    "ttest = sql_instance.sql(\"\"\"select \n",
    "                                  ttest_2samp(avg(numerator)/avg(denominator),treatment,'two-sided') as ttest_result\n",
    "                            from \n",
    "                                  test_data_small\"\"\")\n",
    "# 某个cell ttest结果转pandas\n",
    "fast_causal_inference.to_pandas(ttest['ttest_result'])"
   ]
  },
  {
   "cell_type": "markdown",
   "id": "ddf923e7-b211-4482-bbb2-6cb6c15c1445",
   "metadata": {},
   "source": [
    "##### ttest with CUPED"
   ]
  },
  {
   "cell_type": "code",
   "execution_count": 3,
   "id": "6ca0923f",
   "metadata": {},
   "outputs": [
    {
     "data": {
      "text/html": [
       "<div>\n",
       "<style scoped>\n",
       "    .dataframe tbody tr th:only-of-type {\n",
       "        vertical-align: middle;\n",
       "    }\n",
       "\n",
       "    .dataframe tbody tr th {\n",
       "        vertical-align: top;\n",
       "    }\n",
       "\n",
       "    .dataframe thead th {\n",
       "        text-align: right;\n",
       "    }\n",
       "</style>\n",
       "<table border=\"1\" class=\"dataframe\">\n",
       "  <thead>\n",
       "    <tr style=\"text-align: right;\">\n",
       "      <th></th>\n",
       "      <th>estimate</th>\n",
       "      <th>stderr</th>\n",
       "      <th>t-statistic</th>\n",
       "      <th>p-value</th>\n",
       "      <th>lower</th>\n",
       "      <th>upper</th>\n",
       "    </tr>\n",
       "  </thead>\n",
       "  <tbody>\n",
       "    <tr>\n",
       "      <th>0</th>\n",
       "      <td>16.256205</td>\n",
       "      <td>0.173579</td>\n",
       "      <td>93.653167</td>\n",
       "      <td>0.000000</td>\n",
       "      <td>15.915913</td>\n",
       "      <td>16.596498</td>\n",
       "    </tr>\n",
       "  </tbody>\n",
       "</table>\n",
       "</div>"
      ],
      "text/plain": [
       "    estimate    stderr t-statistic   p-value      lower      upper\n",
       "0  16.256205  0.173579   93.653167  0.000000  15.915913  16.596498"
      ]
     },
     "execution_count": 3,
     "metadata": {},
     "output_type": "execute_result"
    }
   ],
   "source": [
    "ttest = sql_instance.sql(\"\"\"select \n",
    "                                  ttest_2samp(avg(numerator)/avg(denominator),treatment,'two-sided',\n",
    "                                  avg(numerator_pre)/avg(denominator_pre)) as ttest_result \n",
    "                            from \n",
    "                                  test_data_small\"\"\")\n",
    "# 某个cell ttest结果转pandas\n",
    "fast_causal_inference.to_pandas(ttest['ttest_result'])"
   ]
  },
  {
   "cell_type": "markdown",
   "id": "df42e8d3",
   "metadata": {},
   "source": [
    "##### 维度下钻的ttest"
   ]
  },
  {
   "cell_type": "code",
   "execution_count": 9,
   "id": "b518e91e",
   "metadata": {
    "tags": []
   },
   "outputs": [
    {
     "data": {
      "text/html": [
       "<div>\n",
       "<style scoped>\n",
       "    .dataframe tbody tr th:only-of-type {\n",
       "        vertical-align: middle;\n",
       "    }\n",
       "\n",
       "    .dataframe tbody tr th {\n",
       "        vertical-align: top;\n",
       "    }\n",
       "\n",
       "    .dataframe thead th {\n",
       "        text-align: right;\n",
       "    }\n",
       "</style>\n",
       "<table border=\"1\" class=\"dataframe\">\n",
       "  <thead>\n",
       "    <tr style=\"text-align: right;\">\n",
       "      <th></th>\n",
       "      <th>estimate</th>\n",
       "      <th>stderr</th>\n",
       "      <th>t-statistic</th>\n",
       "      <th>p-value</th>\n",
       "      <th>lower</th>\n",
       "      <th>upper</th>\n",
       "    </tr>\n",
       "  </thead>\n",
       "  <tbody>\n",
       "    <tr>\n",
       "      <th>0</th>\n",
       "      <td>11.605660</td>\n",
       "      <td>0.391090</td>\n",
       "      <td>29.675148</td>\n",
       "      <td>0.000000</td>\n",
       "      <td>10.838171</td>\n",
       "      <td>12.373149</td>\n",
       "    </tr>\n",
       "    <tr>\n",
       "      <th>1</th>\n",
       "      <td>17.699323</td>\n",
       "      <td>0.342373</td>\n",
       "      <td>51.696012</td>\n",
       "      <td>0.000000</td>\n",
       "      <td>17.027411</td>\n",
       "      <td>18.371234</td>\n",
       "    </tr>\n",
       "    <tr>\n",
       "      <th>2</th>\n",
       "      <td>17.180807</td>\n",
       "      <td>0.352260</td>\n",
       "      <td>48.773115</td>\n",
       "      <td>0.000000</td>\n",
       "      <td>16.489546</td>\n",
       "      <td>17.872067</td>\n",
       "    </tr>\n",
       "    <tr>\n",
       "      <th>3</th>\n",
       "      <td>17.474216</td>\n",
       "      <td>0.383465</td>\n",
       "      <td>45.569312</td>\n",
       "      <td>0.000000</td>\n",
       "      <td>16.721708</td>\n",
       "      <td>18.226724</td>\n",
       "    </tr>\n",
       "    <tr>\n",
       "      <th>4</th>\n",
       "      <td>17.279634</td>\n",
       "      <td>0.316981</td>\n",
       "      <td>54.513237</td>\n",
       "      <td>0.000000</td>\n",
       "      <td>16.657639</td>\n",
       "      <td>17.901629</td>\n",
       "    </tr>\n",
       "  </tbody>\n",
       "</table>\n",
       "</div>"
      ],
      "text/plain": [
       "    estimate    stderr t-statistic   p-value      lower      upper\n",
       "0  11.605660  0.391090   29.675148  0.000000  10.838171  12.373149\n",
       "1  17.699323  0.342373   51.696012  0.000000  17.027411  18.371234\n",
       "2  17.180807  0.352260   48.773115  0.000000  16.489546  17.872067\n",
       "3  17.474216  0.383465   45.569312  0.000000  16.721708  18.226724\n",
       "4  17.279634  0.316981   54.513237  0.000000  16.657639  17.901629"
      ]
     },
     "execution_count": 9,
     "metadata": {},
     "output_type": "execute_result"
    }
   ],
   "source": [
    "ttest = sql_instance.sql(\"\"\"select \n",
    "                                  x_cat1,ttest_2samp(avg(numerator)/avg(denominator),treatment,'two-sided',\n",
    "                                  avg(numerator_pre)/avg(denominator_pre)) as ttest_result \n",
    "                            from \n",
    "                                  test_data_small\n",
    "                            group by \n",
    "                                  x_cat1\"\"\")\n",
    "# 某个cell ttest结果转pandas\n",
    "fast_causal_inference.to_pandas(ttest['ttest_result'])"
   ]
  },
  {
   "cell_type": "markdown",
   "id": "4b11f712-c43f-484b-87c6-82d378f7bcf4",
   "metadata": {},
   "source": [
    "#### SRM"
   ]
  },
  {
   "cell_type": "code",
   "execution_count": 4,
   "id": "3e114ce8-88ec-42e5-99ec-9defa0339d5b",
   "metadata": {},
   "outputs": [
    {
     "data": {
      "text/html": [
       "<div>\n",
       "<style scoped>\n",
       "    .dataframe tbody tr th:only-of-type {\n",
       "        vertical-align: middle;\n",
       "    }\n",
       "\n",
       "    .dataframe tbody tr th {\n",
       "        vertical-align: top;\n",
       "    }\n",
       "\n",
       "    .dataframe thead th {\n",
       "        text-align: right;\n",
       "    }\n",
       "</style>\n",
       "<table border=\"1\" class=\"dataframe\">\n",
       "  <thead>\n",
       "    <tr style=\"text-align: right;\">\n",
       "      <th></th>\n",
       "      <th>groupname</th>\n",
       "      <th>f_obs</th>\n",
       "      <th>ratio</th>\n",
       "      <th>chisquare</th>\n",
       "      <th>p-value</th>\n",
       "    </tr>\n",
       "  </thead>\n",
       "  <tbody>\n",
       "    <tr>\n",
       "      <th>0</th>\n",
       "      <td>0</td>\n",
       "      <td>4906.000000</td>\n",
       "      <td>1.000000</td>\n",
       "      <td>3.534400</td>\n",
       "      <td>0.060108</td>\n",
       "    </tr>\n",
       "    <tr>\n",
       "      <th>1</th>\n",
       "      <td>1</td>\n",
       "      <td>5094.000000</td>\n",
       "      <td>1.000000</td>\n",
       "      <td>None</td>\n",
       "      <td>None</td>\n",
       "    </tr>\n",
       "  </tbody>\n",
       "</table>\n",
       "</div>"
      ],
      "text/plain": [
       "  groupname        f_obs     ratio chisquare   p-value\n",
       "0         0  4906.000000  1.000000  3.534400  0.060108\n",
       "1         1  5094.000000  1.000000      None      None"
      ]
     },
     "execution_count": 4,
     "metadata": {},
     "output_type": "execute_result"
    }
   ],
   "source": [
    "result = sql_instance.sql(\"\"\"SELECT  \n",
    "                                   SRM(1, treatment, [1,1]) as srm\n",
    "                            FROM  \n",
    "                                   test_data_small\"\"\")\n",
    "fast_causal_inference.to_pandas(result['srm'])"
   ]
  },
  {
   "cell_type": "markdown",
   "id": "062290c4-bb48-400c-a642-67f51a937d43",
   "metadata": {},
   "source": [
    "#### IPW"
   ]
  },
  {
   "cell_type": "markdown",
   "id": "7cad8c61-533d-4459-9277-5529f2e9db04",
   "metadata": {},
   "source": [
    "采用IPW估计量估计ATE，并做假设检验"
   ]
  },
  {
   "cell_type": "code",
   "execution_count": 11,
   "id": "ad9068a1-9c33-46f2-8971-7e35f4c2dfb8",
   "metadata": {},
   "outputs": [
    {
     "data": {
      "text/plain": [
       "{'ATE': 101.13761350327832,\n",
       " 'stddev': 1.8878538312539235,\n",
       " 'p_value': 0.0,\n",
       " 'confidence_interval': [97.43741999402063, 104.837807012536]}"
      ]
     },
     "execution_count": 11,
     "metadata": {},
     "output_type": "execute_result"
    }
   ],
   "source": [
    "from fast_causal_inference.lib.estimators import *\n",
    "Y='y'\n",
    "T='t1'\n",
    "table = 'test_data_small'\n",
    "X = ['x1', 'x2', 'x3', 'x4', 'x5', 'x_long_tail1', 'x_long_tail2']\n",
    "categorical_columns = ['x_cat1']\n",
    "IPWestimator(table,Y,T,P='weight',n=100000,B=500)\n"
   ]
  },
  {
   "cell_type": "markdown",
   "id": "7ca2ea58-e7ed-4b2a-9952-a155961837b6",
   "metadata": {},
   "source": [
    "### 回归模型"
   ]
  },
  {
   "cell_type": "markdown",
   "id": "d73444a0",
   "metadata": {},
   "source": [
    "#### OLS"
   ]
  },
  {
   "cell_type": "code",
   "execution_count": 6,
   "id": "abc64c70-8d8d-4859-a16e-45a60e528d5c",
   "metadata": {},
   "outputs": [
    {
     "name": "stdout",
     "output_type": "stream",
     "text": [
      "                                                 res\n",
      "0  Call:\\n  lm( formula = y ~ x1 + x2 )\\n\\n  Coef...\n",
      "Call:\n",
      "lm(formula = y ~ + x1 + x2)\n",
      "\n",
      "Coefficients:\n",
      "\t\tEstimate    Std. Error\tt value\t    Pr(>|t|)\n",
      "(Intercept)\t4.046845    0.244046    16.58231    0.0         \n",
      "x1\t\t2.091969    0.193145    10.831074   0.0         \n",
      "x2\t\t6.261992    0.09603     65.208725   0.0         \n",
      "\n",
      "Residual standard error: 11.539717 on 9997 degrees of freedom\n",
      "Multiple R-squared: 0.303999, Adjusted R-squared: 0.303859\n",
      "F-statistic: 2183.238473 on 2 and 9997 DF,  p-value: 0.0\n",
      "estimate [4.046845, 2.091969, 6.261992]\n",
      "stderr [0.244046, 0.193145, 0.09603]\n",
      "t_values [16.58231, 10.831074, 65.208725]\n",
      "pr [0.0, 0.0, 0.0]\n"
     ]
    }
   ],
   "source": [
    "# ols\n",
    "result = sql_instance.sql(f\"\"\"SELECT \n",
    "                                    ols(y~x1+x2) AS res\n",
    "                              FROM\n",
    "                                    test_data_small\"\"\")\n",
    "print(result)\n",
    "from fast_causal_inference.lib.ols import Ols\n",
    "ols_obj = Ols(result['res'][0])\n",
    "print(ols_obj)\n",
    "print(\"estimate\", ols_obj.get_estimate())\n",
    "print(\"stderr\", ols_obj.get_stderr())\n",
    "print(\"t_values\", ols_obj.get_t_values())\n",
    "print(\"pr\", ols_obj.get_pr())"
   ]
  },
  {
   "cell_type": "code",
   "execution_count": 14,
   "id": "93e555cf-129f-4a89-8ec1-2c4738812100",
   "metadata": {},
   "outputs": [
    {
     "data": {
      "text/html": [
       "<div>\n",
       "<style scoped>\n",
       "    .dataframe tbody tr th:only-of-type {\n",
       "        vertical-align: middle;\n",
       "    }\n",
       "\n",
       "    .dataframe tbody tr th {\n",
       "        vertical-align: top;\n",
       "    }\n",
       "\n",
       "    .dataframe thead th {\n",
       "        text-align: right;\n",
       "    }\n",
       "</style>\n",
       "<table border=\"1\" class=\"dataframe\">\n",
       "  <thead>\n",
       "    <tr style=\"text-align: right;\">\n",
       "      <th></th>\n",
       "      <th>res</th>\n",
       "    </tr>\n",
       "  </thead>\n",
       "  <tbody>\n",
       "    <tr>\n",
       "      <th>0</th>\n",
       "      <td>14.785336326451935</td>\n",
       "    </tr>\n",
       "    <tr>\n",
       "      <th>1</th>\n",
       "      <td>13.909513430256586</td>\n",
       "    </tr>\n",
       "    <tr>\n",
       "      <th>2</th>\n",
       "      <td>14.721285276824894</td>\n",
       "    </tr>\n",
       "    <tr>\n",
       "      <th>3</th>\n",
       "      <td>14.243529144632323</td>\n",
       "    </tr>\n",
       "    <tr>\n",
       "      <th>4</th>\n",
       "      <td>14.014038705472018</td>\n",
       "    </tr>\n",
       "    <tr>\n",
       "      <th>5</th>\n",
       "      <td>12.36148792093735</td>\n",
       "    </tr>\n",
       "    <tr>\n",
       "      <th>6</th>\n",
       "      <td>25.75146455692826</td>\n",
       "    </tr>\n",
       "    <tr>\n",
       "      <th>7</th>\n",
       "      <td>14.109229854143258</td>\n",
       "    </tr>\n",
       "    <tr>\n",
       "      <th>8</th>\n",
       "      <td>23.582414432072795</td>\n",
       "    </tr>\n",
       "    <tr>\n",
       "      <th>9</th>\n",
       "      <td>16.559592287717535</td>\n",
       "    </tr>\n",
       "  </tbody>\n",
       "</table>\n",
       "</div>"
      ],
      "text/plain": [
       "                  res\n",
       "0  14.785336326451935\n",
       "1  13.909513430256586\n",
       "2  14.721285276824894\n",
       "3  14.243529144632323\n",
       "4  14.014038705472018\n",
       "5   12.36148792093735\n",
       "6   25.75146455692826\n",
       "7  14.109229854143258\n",
       "8  23.582414432072795\n",
       "9  16.559592287717535"
      ]
     },
     "execution_count": 14,
     "metadata": {},
     "output_type": "execute_result"
    }
   ],
   "source": [
    "# predict\n",
    "#写法1：只适用于在相同数据上做训练和预测\n",
    "sql_instance.sql(f\"\"\"SELECT\n",
    "                                    predict(olsState(y+x1+x2),x1,x2) AS res\n",
    "                              FROM\n",
    "                                    test_data_small\n",
    "                              limit 10\"\"\")"
   ]
  },
  {
   "cell_type": "code",
   "execution_count": 15,
   "id": "f9e1d808-c7b5-4b78-89da-949da8cd0967",
   "metadata": {},
   "outputs": [
    {
     "data": {
      "text/html": [
       "<div>\n",
       "<style scoped>\n",
       "    .dataframe tbody tr th:only-of-type {\n",
       "        vertical-align: middle;\n",
       "    }\n",
       "\n",
       "    .dataframe tbody tr th {\n",
       "        vertical-align: top;\n",
       "    }\n",
       "\n",
       "    .dataframe thead th {\n",
       "        text-align: right;\n",
       "    }\n",
       "</style>\n",
       "<table border=\"1\" class=\"dataframe\">\n",
       "  <thead>\n",
       "    <tr style=\"text-align: right;\">\n",
       "      <th></th>\n",
       "      <th>y_pre</th>\n",
       "    </tr>\n",
       "  </thead>\n",
       "  <tbody>\n",
       "    <tr>\n",
       "      <th>0</th>\n",
       "      <td>14.785336326451928</td>\n",
       "    </tr>\n",
       "    <tr>\n",
       "      <th>1</th>\n",
       "      <td>13.909513430256581</td>\n",
       "    </tr>\n",
       "    <tr>\n",
       "      <th>2</th>\n",
       "      <td>14.721285276824888</td>\n",
       "    </tr>\n",
       "    <tr>\n",
       "      <th>3</th>\n",
       "      <td>14.243529144632314</td>\n",
       "    </tr>\n",
       "    <tr>\n",
       "      <th>4</th>\n",
       "      <td>14.014038705472007</td>\n",
       "    </tr>\n",
       "    <tr>\n",
       "      <th>5</th>\n",
       "      <td>12.361487920937336</td>\n",
       "    </tr>\n",
       "    <tr>\n",
       "      <th>6</th>\n",
       "      <td>25.75146455692827</td>\n",
       "    </tr>\n",
       "    <tr>\n",
       "      <th>7</th>\n",
       "      <td>14.10922985414325</td>\n",
       "    </tr>\n",
       "    <tr>\n",
       "      <th>8</th>\n",
       "      <td>23.58241443207281</td>\n",
       "    </tr>\n",
       "    <tr>\n",
       "      <th>9</th>\n",
       "      <td>16.559592287717535</td>\n",
       "    </tr>\n",
       "  </tbody>\n",
       "</table>\n",
       "</div>"
      ],
      "text/plain": [
       "                y_pre\n",
       "0  14.785336326451928\n",
       "1  13.909513430256581\n",
       "2  14.721285276824888\n",
       "3  14.243529144632314\n",
       "4  14.014038705472007\n",
       "5  12.361487920937336\n",
       "6   25.75146455692827\n",
       "7   14.10922985414325\n",
       "8   23.58241443207281\n",
       "9  16.559592287717535"
      ]
     },
     "execution_count": 15,
     "metadata": {},
     "output_type": "execute_result"
    }
   ],
   "source": [
    "#写法2:适用于在相同或者不同数据集分别做训练和预测\n",
    "sql_instance.sql(f\"\"\"WITH (\n",
    "                                    SELECT\n",
    "                                            OlsState(y,x1,x2) AS model\n",
    "                                    FROM\n",
    "                                            test_data_small\n",
    "                                   ) AS model\n",
    "                              SELECT\n",
    "                                    evalMLMethod (model,x1,x2) AS y_pre\n",
    "                              FROM\n",
    "                                    test_data_small\n",
    "                              limit 10\"\"\")"
   ]
  },
  {
   "cell_type": "markdown",
   "id": "a378c702-4c08-4739-b829-4fd28483bca2",
   "metadata": {},
   "source": [
    "#### WLS"
   ]
  },
  {
   "cell_type": "code",
   "execution_count": 7,
   "id": "400a226c-f68a-41aa-b8d4-b9806eeb7633",
   "metadata": {},
   "outputs": [
    {
     "name": "stdout",
     "output_type": "stream",
     "text": [
      "                                                 res\n",
      "0  Call:\\n  lm( formula = y ~ x1 + x2 )\\n\\n  Coef...\n",
      "Call:\n",
      "  lm( formula = y ~ x1 + x2 )\n",
      "\n",
      "  Coefficients:\n",
      "  .               Estimate    Std. Error  t value     Pr(>|t|)    \n",
      "  (Intercept)     3.870708    0.248230    15.593206   0.000000    \n",
      "  x1              2.318673    0.196581    11.795025   0.000000    \n",
      "  x2              6.300006    0.096728    65.130929   0.000000    \n",
      "\n",
      "  Residual standard error: 8.266985 on 9997 degrees of freedom\n",
      "  Multiple R-squared: 0.337333, Adjusted R-squared: 0.337201\n",
      "  F-statistic: 2544.506453 on 2 and 9997 DF,  p-value: 0.000000\n",
      "\n"
     ]
    }
   ],
   "source": [
    "result = sql_instance.sql(f\"\"\"SELECT\n",
    "                                    wls(y~x1+x2,weight) as res\n",
    "                              from \n",
    "                                    test_data_small\"\"\")\n",
    "print(result)\n",
    "print(result[\"res\"][0])"
   ]
  },
  {
   "cell_type": "markdown",
   "id": "241fe745-0c4d-4a5e-bcee-e8ac354f3b55",
   "metadata": {},
   "source": [
    "#### Lasso"
   ]
  },
  {
   "cell_type": "code",
   "execution_count": 2,
   "id": "0404a432-164b-48d8-81c8-3e7548a69e4a",
   "metadata": {},
   "outputs": [
    {
     "name": "stdout",
     "output_type": "stream",
     "text": [
      "                                                                            lasso\n",
      "0  [0.2639738685896894,0.6924030332230416,0.37547697677337344,0.3138251386506572]\n"
     ]
    }
   ],
   "source": [
    "# 训练\n",
    "ols = sql_instance.sql(f\"\"\"SELECT\n",
    "                                stochasticLinearRegression(0.001, 0.1, 15, 'Lasso')(y, x1, x2, x3) as lasso\n",
    "                           FROM\n",
    "                                test_data_small\"\"\")\n",
    "print(ols.to_string())"
   ]
  },
  {
   "cell_type": "code",
   "execution_count": 3,
   "id": "be5ece38-679e-4a9b-ab55-3ca9cdc44718",
   "metadata": {},
   "outputs": [
    {
     "data": {
      "text/html": [
       "<div>\n",
       "<style scoped>\n",
       "    .dataframe tbody tr th:only-of-type {\n",
       "        vertical-align: middle;\n",
       "    }\n",
       "\n",
       "    .dataframe tbody tr th {\n",
       "        vertical-align: top;\n",
       "    }\n",
       "\n",
       "    .dataframe thead th {\n",
       "        text-align: right;\n",
       "    }\n",
       "</style>\n",
       "<table border=\"1\" class=\"dataframe\">\n",
       "  <thead>\n",
       "    <tr style=\"text-align: right;\">\n",
       "      <th></th>\n",
       "      <th>y_pred</th>\n",
       "    </tr>\n",
       "  </thead>\n",
       "  <tbody>\n",
       "    <tr>\n",
       "      <th>0</th>\n",
       "      <td>1.9992073422380825</td>\n",
       "    </tr>\n",
       "    <tr>\n",
       "      <th>1</th>\n",
       "      <td>1.7366716337422385</td>\n",
       "    </tr>\n",
       "    <tr>\n",
       "      <th>2</th>\n",
       "      <td>1.5371436559490688</td>\n",
       "    </tr>\n",
       "    <tr>\n",
       "      <th>3</th>\n",
       "      <td>1.3435729405915728</td>\n",
       "    </tr>\n",
       "    <tr>\n",
       "      <th>4</th>\n",
       "      <td>1.3504002355451</td>\n",
       "    </tr>\n",
       "    <tr>\n",
       "      <th>5</th>\n",
       "      <td>1.2258104332174165</td>\n",
       "    </tr>\n",
       "    <tr>\n",
       "      <th>6</th>\n",
       "      <td>2.985064366925796</td>\n",
       "    </tr>\n",
       "    <tr>\n",
       "      <th>7</th>\n",
       "      <td>1.3773521025791897</td>\n",
       "    </tr>\n",
       "    <tr>\n",
       "      <th>8</th>\n",
       "      <td>2.3833991101533063</td>\n",
       "    </tr>\n",
       "    <tr>\n",
       "      <th>9</th>\n",
       "      <td>2.2616335915817287</td>\n",
       "    </tr>\n",
       "  </tbody>\n",
       "</table>\n",
       "</div>"
      ],
      "text/plain": [
       "               y_pred\n",
       "0  1.9992073422380825\n",
       "1  1.7366716337422385\n",
       "2  1.5371436559490688\n",
       "3  1.3435729405915728\n",
       "4     1.3504002355451\n",
       "5  1.2258104332174165\n",
       "6   2.985064366925796\n",
       "7  1.3773521025791897\n",
       "8  2.3833991101533063\n",
       "9  2.2616335915817287"
      ]
     },
     "execution_count": 3,
     "metadata": {},
     "output_type": "execute_result"
    }
   ],
   "source": [
    "# 预测\n",
    "ols = sql_instance.sql(f\"\"\"WITH (\n",
    "                            SELECT\n",
    "                                  stochasticLinearRegressionState(0.001, 0.1, 15, 'Lasso')(y, x1, x2, x3) AS model\n",
    "                            FROM\n",
    "                                  test_data_small\n",
    "                            ) AS model\n",
    "                            SELECT\n",
    "                                   evalMLMethod(model,x1,x2,x3) AS y_pred\n",
    "                            FROM\n",
    "                                   test_data_small\n",
    "                            limit 10\"\"\")\n",
    "ols"
   ]
  },
  {
   "cell_type": "markdown",
   "id": "42c79aed-aa7f-4dba-b921-88bea4320728",
   "metadata": {},
   "source": [
    "### 观测性分析"
   ]
  },
  {
   "cell_type": "markdown",
   "id": "9b8263e3",
   "metadata": {
    "tags": []
   },
   "source": [
    "#### IV"
   ]
  },
  {
   "cell_type": "markdown",
   "id": "ad1739d4",
   "metadata": {},
   "source": [
    "这里的IV方程如下：  \n",
    "$$Y = X3_{est} + X1 + X2$$\n",
    "$$X3 = treatment+X1 + X2$$\n"
   ]
  },
  {
   "cell_type": "code",
   "execution_count": 6,
   "id": "f34f6eab",
   "metadata": {},
   "outputs": [
    {
     "name": "stdout",
     "output_type": "stream",
     "text": [
      "                                                                                                                                                                                                                                                                                                                                                                                                                                                                                                                                                                                                                    iv\n",
      "0  Call:\\n  lm( formula = y ~ x1 + x2 + x3 )\\n\\n  Coefficients:\\n  .               Estimate    Std. Error  t value     Pr(>|t|)    \\n  (Intercept)     -0.936576   0.184904    -5.065214   0.000000    \\n  x1              21.801233   0.298340    73.075190   0.000000    \\n  x2              0.059430    0.285471    0.208182    0.835091    \\n  x3              3.531304    0.182881    19.309288   0.000000    \\n\\n  Residual standard error: 8.149669 on 9996 degrees of freedom\\n  Multiple R-squared: 0.652899, Adjusted R-squared: 0.652795\\n  F-statistic: 6267.502580 on 3 and 9996 DF,  p-value: 0.000000\\n\n",
      "Call:\n",
      "  lm( formula = y ~ x1 + x2 + x3 )\n",
      "\n",
      "  Coefficients:\n",
      "  .               Estimate    Std. Error  t value     Pr(>|t|)    \n",
      "  (Intercept)     -0.936576   0.184904    -5.065214   0.000000    \n",
      "  x1              21.801233   0.298340    73.075190   0.000000    \n",
      "  x2              0.059430    0.285471    0.208182    0.835091    \n",
      "  x3              3.531304    0.182881    19.309288   0.000000    \n",
      "\n",
      "  Residual standard error: 8.149669 on 9996 degrees of freedom\n",
      "  Multiple R-squared: 0.652899, Adjusted R-squared: 0.652795\n",
      "  F-statistic: 6267.502580 on 3 and 9996 DF,  p-value: 0.000000\n",
      "\n"
     ]
    }
   ],
   "source": [
    "# iv \n",
    "iv = sql_instance.sql(\"\"\"\n",
    "                        SELECT\n",
    "                              ivregression(y~(t1~treatment)+x1+x2) as iv\n",
    "                        FROM\n",
    "                              test_data_small\"\"\")\n",
    "print(iv.to_string())\n",
    "print(iv[\"iv\"][0])"
   ]
  },
  {
   "cell_type": "markdown",
   "id": "0255c331",
   "metadata": {
    "tags": []
   },
   "source": [
    "#### matching"
   ]
  },
  {
   "cell_type": "code",
   "execution_count": 7,
   "id": "190fa903",
   "metadata": {
    "tags": []
   },
   "outputs": [
    {
     "data": {
      "text/html": [
       "<div>\n",
       "<style scoped>\n",
       "    .dataframe tbody tr th:only-of-type {\n",
       "        vertical-align: middle;\n",
       "    }\n",
       "\n",
       "    .dataframe tbody tr th {\n",
       "        vertical-align: top;\n",
       "    }\n",
       "\n",
       "    .dataframe thead th {\n",
       "        text-align: right;\n",
       "    }\n",
       "</style>\n",
       "<table border=\"1\" class=\"dataframe\">\n",
       "  <thead>\n",
       "    <tr style=\"text-align: right;\">\n",
       "      <th></th>\n",
       "      <th>treatment</th>\n",
       "      <th>weight</th>\n",
       "      <th>matchingIndex</th>\n",
       "    </tr>\n",
       "  </thead>\n",
       "  <tbody>\n",
       "    <tr>\n",
       "      <th>0</th>\n",
       "      <td>0</td>\n",
       "      <td>0.05151360626601853</td>\n",
       "      <td>1</td>\n",
       "    </tr>\n",
       "    <tr>\n",
       "      <th>1</th>\n",
       "      <td>1</td>\n",
       "      <td>0.1114289778800367</td>\n",
       "      <td>-1</td>\n",
       "    </tr>\n",
       "    <tr>\n",
       "      <th>2</th>\n",
       "      <td>0</td>\n",
       "      <td>0.04563115729039435</td>\n",
       "      <td>2</td>\n",
       "    </tr>\n",
       "    <tr>\n",
       "      <th>3</th>\n",
       "      <td>1</td>\n",
       "      <td>0.1758080157794233</td>\n",
       "      <td>-2</td>\n",
       "    </tr>\n",
       "    <tr>\n",
       "      <th>4</th>\n",
       "      <td>0</td>\n",
       "      <td>0.09130193974460243</td>\n",
       "      <td>3</td>\n",
       "    </tr>\n",
       "    <tr>\n",
       "      <th>5</th>\n",
       "      <td>1</td>\n",
       "      <td>0.1331621099438821</td>\n",
       "      <td>-3</td>\n",
       "    </tr>\n",
       "    <tr>\n",
       "      <th>6</th>\n",
       "      <td>1</td>\n",
       "      <td>0.10312681079208352</td>\n",
       "      <td>-4</td>\n",
       "    </tr>\n",
       "    <tr>\n",
       "      <th>7</th>\n",
       "      <td>0</td>\n",
       "      <td>0.18475221239031903</td>\n",
       "      <td>4</td>\n",
       "    </tr>\n",
       "    <tr>\n",
       "      <th>8</th>\n",
       "      <td>0</td>\n",
       "      <td>0.04837618721275183</td>\n",
       "      <td>5</td>\n",
       "    </tr>\n",
       "    <tr>\n",
       "      <th>9</th>\n",
       "      <td>1</td>\n",
       "      <td>0.16253411065605206</td>\n",
       "      <td>-5</td>\n",
       "    </tr>\n",
       "  </tbody>\n",
       "</table>\n",
       "</div>"
      ],
      "text/plain": [
       "  treatment               weight matchingIndex\n",
       "0         0  0.05151360626601853             1\n",
       "1         1   0.1114289778800367            -1\n",
       "2         0  0.04563115729039435             2\n",
       "3         1   0.1758080157794233            -2\n",
       "4         0  0.09130193974460243             3\n",
       "5         1   0.1331621099438821            -3\n",
       "6         1  0.10312681079208352            -4\n",
       "7         0  0.18475221239031903             4\n",
       "8         0  0.04837618721275183             5\n",
       "9         1  0.16253411065605206            -5"
      ]
     },
     "execution_count": 7,
     "metadata": {},
     "output_type": "execute_result"
    }
   ],
   "source": [
    "# propensitysocre 匹配\n",
    "data = sql_instance.sql(\"\"\"SELECT\n",
    "                                 treatment,weight,caliperMatching(if(treatment=1,-1,1),weight,0.2) AS matchingIndex\n",
    "                           FROM\n",
    "                                 test_data_small\n",
    "                           WHERE matchingIndex != 0\n",
    "                           ORDER by abs(matchingIndex)\n",
    "                           limit 10\"\"\")\n",
    "data"
   ]
  },
  {
   "cell_type": "code",
   "execution_count": 8,
   "id": "cbf4990b-d425-4e13-9f7e-f57301439055",
   "metadata": {},
   "outputs": [
    {
     "data": {
      "text/html": [
       "<div>\n",
       "<style scoped>\n",
       "    .dataframe tbody tr th:only-of-type {\n",
       "        vertical-align: middle;\n",
       "    }\n",
       "\n",
       "    .dataframe tbody tr th {\n",
       "        vertical-align: top;\n",
       "    }\n",
       "\n",
       "    .dataframe thead th {\n",
       "        text-align: right;\n",
       "    }\n",
       "</style>\n",
       "<table border=\"1\" class=\"dataframe\">\n",
       "  <thead>\n",
       "    <tr style=\"text-align: right;\">\n",
       "      <th></th>\n",
       "      <th>treatment</th>\n",
       "      <th>x_cat1</th>\n",
       "      <th>matchingIndex</th>\n",
       "    </tr>\n",
       "  </thead>\n",
       "  <tbody>\n",
       "    <tr>\n",
       "      <th>0</th>\n",
       "      <td>0</td>\n",
       "      <td>B</td>\n",
       "      <td>1</td>\n",
       "    </tr>\n",
       "    <tr>\n",
       "      <th>1</th>\n",
       "      <td>1</td>\n",
       "      <td>B</td>\n",
       "      <td>-1</td>\n",
       "    </tr>\n",
       "    <tr>\n",
       "      <th>2</th>\n",
       "      <td>1</td>\n",
       "      <td>B</td>\n",
       "      <td>-2</td>\n",
       "    </tr>\n",
       "    <tr>\n",
       "      <th>3</th>\n",
       "      <td>0</td>\n",
       "      <td>B</td>\n",
       "      <td>2</td>\n",
       "    </tr>\n",
       "    <tr>\n",
       "      <th>4</th>\n",
       "      <td>0</td>\n",
       "      <td>B</td>\n",
       "      <td>3</td>\n",
       "    </tr>\n",
       "    <tr>\n",
       "      <th>5</th>\n",
       "      <td>1</td>\n",
       "      <td>B</td>\n",
       "      <td>-3</td>\n",
       "    </tr>\n",
       "    <tr>\n",
       "      <th>6</th>\n",
       "      <td>0</td>\n",
       "      <td>B</td>\n",
       "      <td>4</td>\n",
       "    </tr>\n",
       "    <tr>\n",
       "      <th>7</th>\n",
       "      <td>1</td>\n",
       "      <td>B</td>\n",
       "      <td>-4</td>\n",
       "    </tr>\n",
       "    <tr>\n",
       "      <th>8</th>\n",
       "      <td>1</td>\n",
       "      <td>B</td>\n",
       "      <td>-5</td>\n",
       "    </tr>\n",
       "    <tr>\n",
       "      <th>9</th>\n",
       "      <td>0</td>\n",
       "      <td>B</td>\n",
       "      <td>5</td>\n",
       "    </tr>\n",
       "  </tbody>\n",
       "</table>\n",
       "</div>"
      ],
      "text/plain": [
       "  treatment x_cat1 matchingIndex\n",
       "0         0      B             1\n",
       "1         1      B            -1\n",
       "2         1      B            -2\n",
       "3         0      B             2\n",
       "4         0      B             3\n",
       "5         1      B            -3\n",
       "6         0      B             4\n",
       "7         1      B            -4\n",
       "8         1      B            -5\n",
       "9         0      B             5"
      ]
     },
     "execution_count": 8,
     "metadata": {},
     "output_type": "execute_result"
    }
   ],
   "source": [
    "# 精确匹配\n",
    "data = sql_instance.sql(\"\"\"SELECT\n",
    "                                 treatment,x_cat1,exactMatching(if(treatment=1,-1,1),x_cat1) as matchingIndex\n",
    "                           FROM\n",
    "                                 test_data_small\n",
    "                           WHERE matchingIndex != 0\n",
    "                           ORDER by abs(matchingIndex)\n",
    "                           limit 10\"\"\")\n",
    "data"
   ]
  },
  {
   "cell_type": "markdown",
   "id": "eb020370-6807-4e9f-b37c-49784ebf5f3e",
   "metadata": {},
   "source": [
    "### 实验平台"
   ]
  },
  {
   "cell_type": "code",
   "execution_count": 12,
   "id": "40235189-1d19-4b0b-bd86-d60254ae1318",
   "metadata": {},
   "outputs": [
    {
     "name": "stdout",
     "output_type": "stream",
     "text": [
      "groupname   numerator   denominator  mean        std_samp    \n",
      "  A           6856        2071951      0.003309    1.006616    \n",
      "  B           4615        762813       0.006050    1.077599    \n",
      "\n",
      "  diff_relative   95%_relative_CI            p-value     t-statistic  diff        95%_CI                   power       recommend_samples \n",
      "  82.836244%      [-1.351373%,  167.023861%] 0.053270    1.932725     0.002741    [-0.000045,  0.005527]   0.050016    43993278850       \n",
      "\n"
     ]
    }
   ],
   "source": [
    "xexpt_ttest = sql_instance.sql(\"\"\"\n",
    "SELECT \n",
    "    xexpt_ttest_2samp(numerator, denominator, if(groupname = 'B1','B','A'), uin, 0.05, 0.005, 0.8) as xexpt_ttest\n",
    "FROM\n",
    "    expt_detail_20203943_bearlyhuang_1697701184478\n",
    "where\n",
    "    metric_id = 41474\n",
    "    and groupname in ('A1','A2','B1');\n",
    "\"\"\")\n",
    "print(xexpt_ttest['xexpt_ttest'][0])"
   ]
  },
  {
   "cell_type": "markdown",
   "id": "f89a3202",
   "metadata": {
    "tags": []
   },
   "source": [
    "### Uplift模型"
   ]
  },
  {
   "cell_type": "markdown",
   "id": "42bd5e52-ec47-41db-a472-e66b6a5c3b25",
   "metadata": {},
   "source": [
    "#### causal tree"
   ]
  },
  {
   "cell_type": "code",
   "execution_count": 27,
   "id": "70d89711-3e79-487b-8a8f-b431a303bdf3",
   "metadata": {},
   "outputs": [
    {
     "name": "stdout",
     "output_type": "stream",
     "text": [
      "****STEP1.  Table check.\n",
      "debug\n",
      "****STEP2.  Bucket the continuous variables(cut_x_names).\n",
      "****STEP3.  Create new table for training causaltree:  test_data_small_1695727034_new .\n",
      "running, please wait\n",
      "donetime cost: 9.263142044001142 Seconds\n",
      "\t train data samples: 5011,predict data samples: 4989\n",
      "****STEP4.  Build tree.\n",
      "================================== start buildTree -- maxDepth: 2, nodePosition: root==================================\n",
      "--------start leftNode - build -- depth: 0, nodePosition: LL--------\n",
      "no split points that satisfy the condition,stop splitting as a leaf node\n",
      "--------start rightNode - build -- depth: 0, nodePosition: LR--------\n",
      "--------start leftNode - build -- depth: 1, nodePosition: LRL--------\n",
      "Reach the maxDepth, stop as a leaf node\n",
      "--------start rightNode - build -- depth: 1, nodePosition: LRR--------\n",
      "Reach the maxDepth, stop as a leaf node\n",
      "============================================== build Tree Sucessfully=====================================================\n",
      "****STEP5.  Estimate CATE.\n",
      "============================================== compute Tree Sucessfully=====================================================\n",
      "running, please wait\n",
      "donetime cost: 0.35762881800474133 Seconds\n"
     ]
    },
    {
     "data": {
      "image/png": "[encoded data removed]",
      "text/plain": [
       "<Figure size 1200x480 with 2 Axes>"
      ]
     },
     "metadata": {},
     "output_type": "display_data"
    },
    {
     "name": "stdout",
     "output_type": "stream",
     "text": [
      "running, please wait\n",
      "donetime cost: 0.6487586600123905 Seconds\n",
      "running, please wait\n",
      "donetime cost: 2.393926336997538 Seconds\n",
      "running, please wait\n",
      "donetime cost: 1.7802088680036832 Seconds\n",
      "running, please wait\n",
      "donetime cost: 0.48902187499334104 Seconds\n"
     ]
    }
   ],
   "source": [
    "from fast_causal_inference.lib.causaltree import CausalTree\n",
    "\n",
    "Y='y'\n",
    "T='treatment'\n",
    "table = 'test_data_small'\n",
    "X = 'x1+x2+x3+x4+x5+x_long_tail1+x_long_tail2'\n",
    "needcut_X = 'x1+x2+x3+x4+x5+x_long_tail1+x_long_tail2'\n",
    "\n",
    "hte = CausalTree(depth = 2)\n",
    "hte.fit(Y,T,X,needcut_X,table)\n",
    "\n",
    "# 输出树结构的图（可下载）\n",
    "treeplot = hte.treeplot()\n",
    "treeplot.render('digraph.gv', view=False) # 可以在digraph.gv.pdf文件里查看tree的完整图片并下载\n",
    "\n",
    "# 输出训练集上的uplift curve\n",
    "hte.hte_plot() \n",
    "# 输出变量重要性\n",
    "hte.feature_importance \n",
    "fast_causal_inference.clickhouse_drop_view(clickhouse_view_name=\"test_table_small_causaltree_dep2\") \n",
    "hte.effect_2_clickhouse(table_output='test_table_small_causaltree_dep2') # 指定一张带预测的表，预测该表的HTE"
   ]
  },
  {
   "cell_type": "code",
   "execution_count": 28,
   "id": "297683fd-001a-4fb1-a178-d30259e6d9ba",
   "metadata": {},
   "outputs": [
    {
     "data": {
      "text/html": [
       "<div>\n",
       "<style scoped>\n",
       "    .dataframe tbody tr th:only-of-type {\n",
       "        vertical-align: middle;\n",
       "    }\n",
       "\n",
       "    .dataframe tbody tr th {\n",
       "        vertical-align: top;\n",
       "    }\n",
       "\n",
       "    .dataframe thead th {\n",
       "        text-align: right;\n",
       "    }\n",
       "</style>\n",
       "<table border=\"1\" class=\"dataframe\">\n",
       "  <thead>\n",
       "    <tr style=\"text-align: right;\">\n",
       "      <th></th>\n",
       "      <th>featName</th>\n",
       "      <th>importance</th>\n",
       "    </tr>\n",
       "  </thead>\n",
       "  <tbody>\n",
       "    <tr>\n",
       "      <th>0</th>\n",
       "      <td>x1_buckets</td>\n",
       "      <td>388.119065</td>\n",
       "    </tr>\n",
       "    <tr>\n",
       "      <th>4</th>\n",
       "      <td>x_long_tail2_buckets</td>\n",
       "      <td>377.268796</td>\n",
       "    </tr>\n",
       "    <tr>\n",
       "      <th>1</th>\n",
       "      <td>x2_buckets</td>\n",
       "      <td>137.856331</td>\n",
       "    </tr>\n",
       "    <tr>\n",
       "      <th>2</th>\n",
       "      <td>x3_buckets</td>\n",
       "      <td>88.030017</td>\n",
       "    </tr>\n",
       "    <tr>\n",
       "      <th>3</th>\n",
       "      <td>x4_buckets</td>\n",
       "      <td>11.507805</td>\n",
       "    </tr>\n",
       "  </tbody>\n",
       "</table>\n",
       "</div>"
      ],
      "text/plain": [
       "               featName  importance\n",
       "0            x1_buckets  388.119065\n",
       "4  x_long_tail2_buckets  377.268796\n",
       "1            x2_buckets  137.856331\n",
       "2            x3_buckets   88.030017\n",
       "3            x4_buckets   11.507805"
      ]
     },
     "execution_count": 28,
     "metadata": {},
     "output_type": "execute_result"
    }
   ],
   "source": [
    "hte.feature_importance "
   ]
  },
  {
   "cell_type": "code",
   "execution_count": 29,
   "id": "3c3e5736-48a9-4591-857a-eed206f070ef",
   "metadata": {},
   "outputs": [
    {
     "data": {
      "image/svg+xml": [
       "<?xml version=\"1.0\" encoding=\"UTF-8\" standalone=\"no\"?>\n",
       "<!DOCTYPE svg PUBLIC \"-//W3C//DTD SVG 1.1//EN\"\n",
       " \"http://www.w3.org/Graphics/SVG/1.1/DTD/svg11.dtd\">\n",
       "<!-- Generated by graphviz version 2.40.1 (0)\n",
       " -->\n",
       "<!-- Title: %3 Pages: 1 -->\n",
       "<svg width=\"721pt\" height=\"397pt\"\n",
       " viewBox=\"0.00 0.00 721.26 396.78\" xmlns=\"http://www.w3.org/2000/svg\" xmlns:xlink=\"http://www.w3.org/1999/xlink\">\n",
       "<g id=\"graph0\" class=\"graph\" transform=\"scale(1 1) rotate(0) translate(4 392.7838)\">\n",
       "<title>%3</title>\n",
       "<polygon fill=\"#ffffff\" stroke=\"transparent\" points=\"-4,4 -4,-392.7838 717.2569,-392.7838 717.2569,4 -4,4\"/>\n",
       "<!-- 1.0 -->\n",
       "<g id=\"node1\" class=\"node\">\n",
       "<title>1.0</title>\n",
       "<ellipse fill=\"none\" stroke=\"#000000\" cx=\"276.229\" cy=\"-347.7716\" rx=\"117.2596\" ry=\"41.0244\"/>\n",
       "<text text-anchor=\"middle\" x=\"276.229\" y=\"-365.5716\" font-family=\"Times,serif\" font-size=\"9.00\" fill=\"#000000\">Node : 1</text>\n",
       "<text text-anchor=\"middle\" x=\"276.229\" y=\"-355.5716\" font-family=\"Times,serif\" font-size=\"9.00\" fill=\"#000000\">sample_ratio:100.0%</text>\n",
       "<text text-anchor=\"middle\" x=\"276.229\" y=\"-345.5716\" font-family=\"Times,serif\" font-size=\"9.00\" fill=\"#000000\">CATE : &#45;0.0347 &#160;(p_value:0.82)</text>\n",
       "<text text-anchor=\"middle\" x=\"276.229\" y=\"-335.5716\" font-family=\"Times,serif\" font-size=\"9.00\" fill=\"#000000\">sample size: control 2459; &#160;treatment 2530</text>\n",
       "<text text-anchor=\"middle\" x=\"276.229\" y=\"-325.5716\" font-family=\"Times,serif\" font-size=\"9.00\" fill=\"#000000\">mean: control 9.0638; &#160;treatment 9.0291</text>\n",
       "</g>\n",
       "<!-- 2.0 -->\n",
       "<g id=\"node2\" class=\"node\">\n",
       "<title>2.0</title>\n",
       "<ellipse fill=\"none\" stroke=\"#000000\" cx=\"132.229\" cy=\"-215.6051\" rx=\"132.4583\" ry=\"55.3091\"/>\n",
       "<text text-anchor=\"middle\" x=\"132.229\" y=\"-243.4051\" font-family=\"Times,serif\" font-size=\"9.00\" fill=\"#000000\">Node : 2</text>\n",
       "<text text-anchor=\"middle\" x=\"132.229\" y=\"-233.4051\" font-family=\"Times,serif\" font-size=\"9.00\" fill=\"#000000\">split_criterion: &#160;&#160;x1_buckets in [&#39;[&#45;inf,&#45;0.6897)&#39;,</text>\n",
       "<text text-anchor=\"middle\" x=\"132.229\" y=\"-223.4051\" font-family=\"Times,serif\" font-size=\"9.00\" fill=\"#000000\">&#39;[1.3096,1.6572)&#39;, &#39;[1.6572,2.295)&#39;, &#39;[2.295,inf)&#39;]</text>\n",
       "<text text-anchor=\"middle\" x=\"132.229\" y=\"-213.4051\" font-family=\"Times,serif\" font-size=\"9.00\" fill=\"#000000\">sample_ratio:34.8%</text>\n",
       "<text text-anchor=\"middle\" x=\"132.229\" y=\"-203.4051\" font-family=\"Times,serif\" font-size=\"9.00\" fill=\"#000000\">CATE : 0.3122 &#160;(p_value:0.24)</text>\n",
       "<text text-anchor=\"middle\" x=\"132.229\" y=\"-193.4051\" font-family=\"Times,serif\" font-size=\"9.00\" fill=\"#000000\">sample size: control 887; &#160;treatment 849</text>\n",
       "<text text-anchor=\"middle\" x=\"132.229\" y=\"-183.4051\" font-family=\"Times,serif\" font-size=\"9.00\" fill=\"#000000\">mean: control 8.7872; &#160;treatment 9.0994</text>\n",
       "</g>\n",
       "<!-- 1.0&#45;&gt;2.0 -->\n",
       "<g id=\"edge1\" class=\"edge\">\n",
       "<title>1.0&#45;&gt;2.0</title>\n",
       "<path fill=\"none\" stroke=\"#000000\" d=\"M234.1911,-309.1883C221.7934,-297.8094 207.9531,-285.1064 194.5666,-272.82\"/>\n",
       "<polygon fill=\"#000000\" stroke=\"#000000\" points=\"196.9224,-270.2315 187.1884,-266.0481 192.189,-275.3886 196.9224,-270.2315\"/>\n",
       "</g>\n",
       "<!-- 3.0 -->\n",
       "<g id=\"node3\" class=\"node\">\n",
       "<title>3.0</title>\n",
       "<ellipse fill=\"none\" stroke=\"#000000\" cx=\"420.229\" cy=\"-215.6051\" rx=\"137.7717\" ry=\"55.3091\"/>\n",
       "<text text-anchor=\"middle\" x=\"420.229\" y=\"-243.4051\" font-family=\"Times,serif\" font-size=\"9.00\" fill=\"#000000\">Node : 3</text>\n",
       "<text text-anchor=\"middle\" x=\"420.229\" y=\"-233.4051\" font-family=\"Times,serif\" font-size=\"9.00\" fill=\"#000000\">split_criterion: &#160;&#160;x1_buckets in [&#39;[&#45;0.0172,0.6744)&#39;,</text>\n",
       "<text text-anchor=\"middle\" x=\"420.229\" y=\"-223.4051\" font-family=\"Times,serif\" font-size=\"9.00\" fill=\"#000000\">&#39;[&#45;0.6897,&#45;0.0172)&#39;, &#39;[0.6744,1.3096)&#39;]</text>\n",
       "<text text-anchor=\"middle\" x=\"420.229\" y=\"-213.4051\" font-family=\"Times,serif\" font-size=\"9.00\" fill=\"#000000\">sample_ratio:65.2%</text>\n",
       "<text text-anchor=\"middle\" x=\"420.229\" y=\"-203.4051\" font-family=\"Times,serif\" font-size=\"9.00\" fill=\"#000000\">CATE : &#45;0.2263 &#160;(p_value:0.22)</text>\n",
       "<text text-anchor=\"middle\" x=\"420.229\" y=\"-193.4051\" font-family=\"Times,serif\" font-size=\"9.00\" fill=\"#000000\">sample size: control 1572; &#160;treatment 1681</text>\n",
       "<text text-anchor=\"middle\" x=\"420.229\" y=\"-183.4051\" font-family=\"Times,serif\" font-size=\"9.00\" fill=\"#000000\">mean: control 9.2199; &#160;treatment 8.9936</text>\n",
       "</g>\n",
       "<!-- 1.0&#45;&gt;3.0 -->\n",
       "<g id=\"edge2\" class=\"edge\">\n",
       "<title>1.0&#45;&gt;3.0</title>\n",
       "<path fill=\"none\" stroke=\"#000000\" d=\"M318.2668,-309.1883C330.4804,-297.9784 344.0939,-285.4836 357.2944,-273.3679\"/>\n",
       "<polygon fill=\"#000000\" stroke=\"#000000\" points=\"360.0046,-275.6312 365.0052,-266.2908 355.2712,-270.4741 360.0046,-275.6312\"/>\n",
       "</g>\n",
       "<!-- 6.0 -->\n",
       "<g id=\"node4\" class=\"node\">\n",
       "<title>6.0</title>\n",
       "<ellipse fill=\"none\" stroke=\"#000000\" cx=\"279.229\" cy=\"-62.2254\" rx=\"112.36\" ry=\"55.3091\"/>\n",
       "<text text-anchor=\"middle\" x=\"279.229\" y=\"-90.0254\" font-family=\"Times,serif\" font-size=\"9.00\" fill=\"#000000\">Node : 6</text>\n",
       "<text text-anchor=\"middle\" x=\"279.229\" y=\"-80.0254\" font-family=\"Times,serif\" font-size=\"9.00\" fill=\"#000000\">split_criterion: &#160;&#160;x_long_tail2_buckets in</text>\n",
       "<text text-anchor=\"middle\" x=\"279.229\" y=\"-70.0254\" font-family=\"Times,serif\" font-size=\"9.00\" fill=\"#000000\">[&#39;[2.1658,3.3743)&#39;, &#39;[3.3743,8.7534)&#39;]</text>\n",
       "<text text-anchor=\"middle\" x=\"279.229\" y=\"-60.0254\" font-family=\"Times,serif\" font-size=\"9.00\" fill=\"#000000\">sample_ratio:6.17%</text>\n",
       "<text text-anchor=\"middle\" x=\"279.229\" y=\"-50.0254\" font-family=\"Times,serif\" font-size=\"9.00\" fill=\"#000000\">CATE : 0.6553 &#160;(p_value:0.3)</text>\n",
       "<text text-anchor=\"middle\" x=\"279.229\" y=\"-40.0254\" font-family=\"Times,serif\" font-size=\"9.00\" fill=\"#000000\">sample size: control 147; &#160;treatment 161</text>\n",
       "<text text-anchor=\"middle\" x=\"279.229\" y=\"-30.0254\" font-family=\"Times,serif\" font-size=\"9.00\" fill=\"#000000\">mean: control 8.9671; &#160;treatment 9.6224</text>\n",
       "</g>\n",
       "<!-- 3.0&#45;&gt;6.0 -->\n",
       "<g id=\"edge3\" class=\"edge\">\n",
       "<title>3.0&#45;&gt;6.0</title>\n",
       "<path fill=\"none\" stroke=\"#000000\" d=\"M372.4928,-163.6777C359.5664,-149.6164 345.4962,-134.3108 332.296,-119.9516\"/>\n",
       "<polygon fill=\"#000000\" stroke=\"#000000\" points=\"334.8275,-117.5338 325.4831,-112.5406 329.6741,-122.2712 334.8275,-117.5338\"/>\n",
       "</g>\n",
       "<!-- 7.0 -->\n",
       "<g id=\"node5\" class=\"node\">\n",
       "<title>7.0</title>\n",
       "<ellipse fill=\"none\" stroke=\"#000000\" cx=\"561.229\" cy=\"-62.2254\" rx=\"152.0559\" ry=\"62.4516\"/>\n",
       "<text text-anchor=\"middle\" x=\"561.229\" y=\"-95.0254\" font-family=\"Times,serif\" font-size=\"9.00\" fill=\"#000000\">Node : 7</text>\n",
       "<text text-anchor=\"middle\" x=\"561.229\" y=\"-85.0254\" font-family=\"Times,serif\" font-size=\"9.00\" fill=\"#000000\">split_criterion: &#160;&#160;x_long_tail2_buckets in [&#39;[&#45;inf,0.1508)&#39;,</text>\n",
       "<text text-anchor=\"middle\" x=\"561.229\" y=\"-75.0254\" font-family=\"Times,serif\" font-size=\"9.00\" fill=\"#000000\">&#39;[0.1508,0.4153)&#39;, &#39;[0.4153,1.0011)&#39;, &#39;[1.0011,2.1658)&#39;,</text>\n",
       "<text text-anchor=\"middle\" x=\"561.229\" y=\"-65.0254\" font-family=\"Times,serif\" font-size=\"9.00\" fill=\"#000000\">&#39;[8.7534,inf)&#39;]</text>\n",
       "<text text-anchor=\"middle\" x=\"561.229\" y=\"-55.0254\" font-family=\"Times,serif\" font-size=\"9.00\" fill=\"#000000\">sample_ratio:59.03%</text>\n",
       "<text text-anchor=\"middle\" x=\"561.229\" y=\"-45.0254\" font-family=\"Times,serif\" font-size=\"9.00\" fill=\"#000000\">CATE : &#45;0.3189 &#160;(p_value:0.1)</text>\n",
       "<text text-anchor=\"middle\" x=\"561.229\" y=\"-35.0254\" font-family=\"Times,serif\" font-size=\"9.00\" fill=\"#000000\">sample size: control 1425; &#160;treatment 1520</text>\n",
       "<text text-anchor=\"middle\" x=\"561.229\" y=\"-25.0254\" font-family=\"Times,serif\" font-size=\"9.00\" fill=\"#000000\">mean: control 9.246; &#160;treatment 8.927</text>\n",
       "</g>\n",
       "<!-- 3.0&#45;&gt;7.0 -->\n",
       "<g id=\"edge4\" class=\"edge\">\n",
       "<title>3.0&#45;&gt;7.0</title>\n",
       "<path fill=\"none\" stroke=\"#000000\" d=\"M467.9651,-163.6777C478.3855,-152.3424 489.5492,-140.1986 500.4013,-128.3937\"/>\n",
       "<polygon fill=\"#000000\" stroke=\"#000000\" points=\"503.2856,-130.4278 507.4767,-120.6971 498.1322,-125.6904 503.2856,-130.4278\"/>\n",
       "</g>\n",
       "</g>\n",
       "</svg>\n"
      ],
      "text/plain": [
       "<graphviz.graphs.Digraph at 0x7fb4684e6e48>"
      ]
     },
     "execution_count": 29,
     "metadata": {},
     "output_type": "execute_result"
    }
   ],
   "source": [
    "treeplot"
   ]
  },
  {
   "cell_type": "markdown",
   "id": "46de1d08-cdbd-4999-94f4-112ba2c0eece",
   "metadata": {},
   "source": [
    "#### DML"
   ]
  },
  {
   "cell_type": "markdown",
   "id": "cbec589c-1ff0-412b-8a88-b519129a69fd",
   "metadata": {},
   "source": [
    "##### LinearDML  "
   ]
  },
  {
   "cell_type": "code",
   "execution_count": 13,
   "id": "c9aa634d-1966-4310-9867-a2c8851af88c",
   "metadata": {},
   "outputs": [
    {
     "name": "stdout",
     "output_type": "stream",
     "text": [
      "\t\tCoefficient Results\n",
      "\t\tEstimate    Std. Error\tt value\t    Pr(>|t|)\n",
      "x0\t\t1.476736    0.209774    7.039634    0.0         \n",
      "x1\t\t4.791119    0.104205    45.977995   0.0         \n",
      "\n",
      "\t\tCATE Intercept Results\n",
      "\t\tEstimate    Std. Error\tt value\t    Pr(>|t|)\n",
      "cate_intercept\t-0.411417   0.262667    -1.566307   0.117308    \n",
      "\n",
      "  avg(evalMLMethod(final_model, x1, x2, 1))\n",
      "0                         8.350150021739521\n",
      "mean_point\tci_mean_lower\tci_mean_upper\t\n",
      "8.3303375933\t8.0869844388\t8.5736907478\t\n",
      "               predict\n",
      "0   7.6830715452068095\n",
      "1    6.959907064121559\n",
      "2    7.577251795332628\n",
      "3    7.358158931979811\n",
      "4    7.172040598312095\n",
      "..                 ...\n",
      "95    8.42863995456323\n",
      "96  1.0164886773052288\n",
      "97  4.5293284385760995\n",
      "98  17.623252383076906\n",
      "99  3.5405680085627287\n",
      "\n",
      "[100 rows x 1 columns]\n",
      "running, please wait\n",
      "donetime cost: 3.4663355946540833 Seconds\n",
      "running, please wait\n",
      "donetime cost: 19.72909963130951 Seconds\n",
      "   evalMLMethod(final_model, 'confidence', 0.95, x2, x3, 1)\n",
      "0   [10.362154320085331,10.02176502094482,10.70254...      \n",
      "1   [7.156926529959775,6.878647259569604,7.4352058...      \n",
      "2   [3.27267894339857,2.8934980460951185,3.6518598...      \n",
      "3   [2.2952925545381846,1.8079361020136164,2.78264...      \n",
      "4   [2.577498590511,2.115718619651764,3.0392785613...      \n",
      "..                                                ...      \n",
      "95  [4.65114807708507,4.133666818787687,5.16862933...      \n",
      "96  [0.4705143329648347,-0.0021868205153215414,0.9...      \n",
      "97  [5.1100674013629925,4.8121365950227,5.40799820...      \n",
      "98  [7.193113239081118,5.948216979473351,8.4380094...      \n",
      "99  [1.576261970188904,1.2024811146556018,1.950042...      \n",
      "\n",
      "[100 rows x 1 columns]\n",
      "running, please wait\n",
      "donetime cost: 0.38999146968126297 Seconds\n",
      "running, please wait\n",
      "donetime cost: 2.169022709131241 Seconds\n"
     ]
    }
   ],
   "source": [
    "from fast_causal_inference.lib.linear_dml import *\n",
    "\n",
    "Y='y'\n",
    "T='treatment'\n",
    "table = 'test_data_small'\n",
    "features = ['x1', 'x2']\n",
    "X_fordml = '+'.join(features)\n",
    "W='x3'\n",
    "model = LinearDML(Y=Y,T=T,X=X_fordml,W=W, model_y=\"Ols\", model_t=\"stochasticLogisticRegression(1.0, 1.0, 10)\", cv=2, table=table)\n",
    "\n",
    "\n",
    "print(model.summary())\n",
    "print(model.ate('x1+x2',0,1))\n",
    "print(model.ate_interval('x1+x2',0,1,alpha=0.05))\n",
    "print(model.effect('x1+x2',0,1))\n",
    "clickhouse_drop_view(clickhouse_view_name=\"test_table_output1\") \n",
    "model.effect('x1+x2',0,1,table_output='test_table_output1') # effect预测结果存到表里\n",
    "print(model.effect_interval('x2+x3',0,1,0.05))\n",
    "clickhouse_drop_view(clickhouse_view_name=\"test_table_output2\") \n",
    "model.effect_interval('x1+x2',0,1,0.05,table_output='test_table_output2') # effect预测结果存到表里"
   ]
  },
  {
   "cell_type": "markdown",
   "id": "21d64dcc-f832-4ce4-8601-9e833f067c3a",
   "metadata": {},
   "source": [
    "##### LinearDML (T进行treatment_featurizer)"
   ]
  },
  {
   "cell_type": "code",
   "execution_count": null,
   "id": "bd917c97-0eba-4c38-aab7-cc32332c532c",
   "metadata": {},
   "outputs": [],
   "source": [
    "from fast_causal_inference.lib.linear_dml import *\n",
    "Y='y'\n",
    "T='treatment'\n",
    "table = 'test_data_small'\n",
    "features = ['x1', 'x2']\n",
    "X_fordml = '+'.join(features)\n",
    "W='x3'\n",
    "model = LinearDML(Y=Y,T=T,X=X_fordml,W=W, model_y=\"ols\", model_t=\"ols\", cv=2, table=table, treatment_featurizer=polynomial_features('rand()', 3))\n",
    "print('\\n----summary----')\n",
    "print(model.summary())\n",
    "print(model.effect(T0=0.1, T1=0.2))\n",
    "print(model.const_marginal_effect())\n",
    "print(model.marginal_effect())\n",
    "print(model.marginal_ate())"
   ]
  },
  {
   "cell_type": "markdown",
   "id": "4fa7b74b-cb58-4562-a98e-cbed9b540687",
   "metadata": {},
   "source": [
    "##### NonparamDML"
   ]
  },
  {
   "cell_type": "code",
   "execution_count": 16,
   "id": "0e35771f-1aec-4c56-8d7b-53f4ba1d5159",
   "metadata": {},
   "outputs": [
    {
     "name": "stdout",
     "output_type": "stream",
     "text": [
      "\t\tCoefficient Results\n",
      "\t\tEstimate    Std. Error\tt value\t    Pr(>|t|)\n",
      "x0\t\t2.384758    0.200711    11.88154    0.0         \n",
      "x1\t\t9.146569    0.099732    91.711491   0.0         \n",
      "\n",
      "\t\tCATE Intercept Results\n",
      "\t\tEstimate    Std. Error\tt value\t    Pr(>|t|)\n",
      "cate_intercept\t0.003034    0.253375    0.011975    0.990446    \n",
      "\n"
     ]
    }
   ],
   "source": [
    "from fast_causal_inference.lib.linear_dml import NonParamDML\n",
    "\n",
    "Y='y'\n",
    "T='treatment'\n",
    "table = 'test_data_small'\n",
    "features = ['x1', 'x2']\n",
    "X_fordml = '+'.join(features)\n",
    "W='x3'\n",
    "\n",
    "model = NonParamDML(table=table, Y=Y,T=T,X=X_fordml, model_y='Ols', model_t='Ols', cv=2)\n",
    "print(model.summary())"
   ]
  },
  {
   "cell_type": "markdown",
   "id": "7f690bc1-8726-4554-9d8a-1d2ef208fc80",
   "metadata": {},
   "source": [
    "#### Uplift模型评估"
   ]
  },
  {
   "cell_type": "markdown",
   "id": "1db6cac3-3741-4009-9630-9fda254b45f4",
   "metadata": {},
   "source": [
    "这里是对比了用causaltree 不同深度的模型，在预测集上的uplift curve"
   ]
  },
  {
   "cell_type": "code",
   "execution_count": 26,
   "id": "e5ff41a5-41c4-4117-a062-97163e9dfc46",
   "metadata": {
    "tags": []
   },
   "outputs": [
    {
     "name": "stdout",
     "output_type": "stream",
     "text": [
      "****STEP1.  Table check.\n",
      "debug\n",
      "****STEP2.  Bucket the continuous variables(cut_x_names).\n",
      "****STEP3.  Create new table for training causaltree:  test_data_small_1695718932_new .\n",
      "running, please wait\n",
      "donetime cost: 8.061152239970397 Seconds\n",
      "\t train data samples: 5023,predict data samples: 4977\n",
      "****STEP4.  Build tree.\n",
      "================================== start buildTree -- maxDepth: 2, nodePosition: root==================================\n",
      "--------start leftNode - build -- depth: 0, nodePosition: LL--------\n",
      "no split points that satisfy the condition,stop splitting as a leaf node\n",
      "--------start rightNode - build -- depth: 0, nodePosition: LR--------\n",
      "--------start leftNode - build -- depth: 1, nodePosition: LRL--------\n",
      "Reach the maxDepth, stop as a leaf node\n",
      "--------start rightNode - build -- depth: 1, nodePosition: LRR--------\n",
      "Reach the maxDepth, stop as a leaf node\n",
      "============================================== build Tree Sucessfully=====================================================\n",
      "****STEP5.  Estimate CATE.\n",
      "============================================== compute Tree Sucessfully=====================================================\n",
      "running, please wait\n",
      "donetime cost: 14.143815284012817 Seconds\n",
      "running, please wait\n",
      "donetime cost: 29.055268233991228 Seconds\n",
      "running, please wait\n",
      "donetime cost: 6.629133032052778 Seconds\n",
      "running, please wait\n",
      "donetime cost: 1.99889337195782 Seconds\n",
      "running, please wait\n",
      "donetime cost: 0.5818957510055043 Seconds\n",
      "****STEP1.  Table check.\n",
      "debug\n",
      "****STEP2.  Bucket the continuous variables(cut_x_names).\n",
      "****STEP3.  Create new table for training causaltree:  test_data_small_1695719005_new .\n",
      "running, please wait\n",
      "donetime cost: 3.9097324309987016 Seconds\n",
      "\t train data samples: 5021,predict data samples: 4979\n",
      "****STEP4.  Build tree.\n",
      "================================== start buildTree -- maxDepth: 2, nodePosition: root==================================\n",
      "--------start leftNode - build -- depth: 0, nodePosition: LL--------\n",
      "no split points that satisfy the condition,stop splitting as a leaf node\n",
      "--------start rightNode - build -- depth: 0, nodePosition: LR--------\n",
      "--------start leftNode - build -- depth: 1, nodePosition: LRL--------\n",
      "Reach the maxDepth, stop as a leaf node\n",
      "--------start rightNode - build -- depth: 1, nodePosition: LRR--------\n",
      "Reach the maxDepth, stop as a leaf node\n",
      "============================================== build Tree Sucessfully=====================================================\n",
      "****STEP5.  Estimate CATE.\n",
      "============================================== compute Tree Sucessfully=====================================================\n",
      "running, please wait\n",
      "donetime cost: 12.02658678102307 Seconds\n",
      "running, please wait\n",
      "donetime cost: 2.4402535340050235 Seconds\n",
      "running, please wait\n",
      "donetime cost: 2.3217645529657602 Seconds\n",
      "running, please wait\n",
      "donetime cost: 1.573217711003963 Seconds\n",
      "running, please wait\n",
      "donetime cost: 1.43057842500275 Seconds\n"
     ]
    }
   ],
   "source": [
    "# 先训练2个模型\n",
    "\n",
    "from fast_causal_inference.lib.causaltree import CausalTree\n",
    "Y='y'\n",
    "T='treatment'\n",
    "table = 'test_data_small'\n",
    "X = 'x1+x2+x3+x4+x5+x_long_tail1+x_long_tail2'\n",
    "needcut_X = 'x1+x2+x3+x4+x5+x_long_tail1+x_long_tail2'\n",
    "\n",
    "hte = CausalTree(depth = 2)\n",
    "hte.fit(Y,T,X,needcut_X,table)\n",
    "fast_causal_inference.clickhouse_drop_view(clickhouse_view_name=\"test_table_small_causaltree_dep2\") \n",
    "hte.effect_2_clickhouse(table_output='test_table_small_causaltree_dep2') # 指定一张带预测的表，预测该表的HTE\n",
    "\n",
    "hte = CausalTree(depth = 2)\n",
    "hte.fit(Y,T,X,needcut_X,table)\n",
    "fast_causal_inference.clickhouse_drop_view(clickhouse_view_name=\"test_table_small_causaltree_dep3\") \n",
    "hte.effect_2_clickhouse(table_output='test_table_small_causaltree_dep3') # 指定一张带预测的表，预测该表的HTE"
   ]
  },
  {
   "cell_type": "code",
   "execution_count": 32,
   "id": "0ff7cf0d",
   "metadata": {},
   "outputs": [
    {
     "name": "stdout",
     "output_type": "stream",
     "text": [
      "select lift(effect,y,treatment,100,false) from test_table_small_causaltree_dep2\n",
      "   ratio                  lift                  gain                  ate  \\\n",
      "0   0.01    0.4405831545068281  0.004405831545068281  0.04431271074653015   \n",
      "1   0.02    0.6367920014036054  0.012735840028072107  0.04431271074653015   \n",
      "2   0.03    0.7257701743264073   0.02177310522979222  0.04431271074653015   \n",
      "3   0.04    0.6764420008881616  0.027057680035526468  0.04431271074653015   \n",
      "4   0.05    0.4809535583151753  0.024047677915758764  0.04431271074653015   \n",
      "..   ...                   ...                   ...                  ...   \n",
      "95  0.96   0.03631838804251709    0.0348656525208164  0.04431271074653015   \n",
      "96  0.97   0.02911600572568093  0.028242525553910502  0.04431271074653015   \n",
      "97  0.98  0.033020404699716926  0.032359996605722585  0.04431271074653015   \n",
      "98  0.99  0.022651231795720175  0.022424719477762974  0.04431271074653015   \n",
      "99   1.0   0.04431271074652142   0.04431271074652142  0.04431271074653015   \n",
      "\n",
      "              ramdom_gain  \n",
      "0    4.431271074653015E-4  \n",
      "1     8.86254214930603E-4  \n",
      "2   0.0013293813223959044  \n",
      "3    0.001772508429861206  \n",
      "4   0.0022156355373265076  \n",
      "..                    ...  \n",
      "95    0.04254020231666894  \n",
      "96    0.04298332942413424  \n",
      "97   0.043426456531599544  \n",
      "98   0.043869583639064846  \n",
      "99    0.04431271074653015  \n",
      "\n",
      "[100 rows x 5 columns]\n",
      "select lift(effect,y,treatment,100,false) from test_table_small_causaltree_dep3\n",
      "   ratio                  lift                    gain                 ate  \\\n",
      "0   0.01  -0.40881019631889715  -0.0040881019631889715  0.0443127107465156   \n",
      "1   0.02   0.09284139810356272   0.0018568279620712544  0.0443127107465156   \n",
      "2   0.03   0.10225356104499074    0.003067606831349722  0.0443127107465156   \n",
      "3   0.04    0.7629931030155818     0.03051972412062327  0.0443127107465156   \n",
      "4   0.05    0.4663360749118075    0.023316803745590378  0.0443127107465156   \n",
      "..   ...                   ...                     ...                 ...   \n",
      "95  0.96   0.03427474309132839     0.03290375336767526  0.0443127107465156   \n",
      "96  0.97  0.030322905519191878     0.02941321835361612  0.0443127107465156   \n",
      "97  0.98  0.030684705160478262    0.030071011057268695  0.0443127107465156   \n",
      "98  0.99  0.023335311762975697     0.02310195864534594  0.0443127107465156   \n",
      "99   1.0   0.04431271074649813     0.04431271074649813  0.0443127107465156   \n",
      "\n",
      "              ramdom_gain  \n",
      "0     4.43127107465156E-4  \n",
      "1     8.86254214930312E-4  \n",
      "2   0.0013293813223954679  \n",
      "3    0.001772508429860624  \n",
      "4     0.00221563553732578  \n",
      "..                    ...  \n",
      "95    0.04254020231665497  \n",
      "96    0.04298332942412013  \n",
      "97   0.043426456531585285  \n",
      "98    0.04386958363905044  \n",
      "99     0.0443127107465156  \n",
      "\n",
      "[100 rows x 5 columns]\n"
     ]
    },
    {
     "data": {
      "image/png": "[encoded data removed]",
      "text/plain": [
       "<Figure size 1200x480 with 2 Axes>"
      ]
     },
     "metadata": {},
     "output_type": "display_data"
    }
   ],
   "source": [
    "# 对比两个模型的效果\n",
    "\n",
    "from fast_causal_inference.lib.metrics import *\n",
    "tmp1 = get_lift_gain(\"effect\", \"y\", \"treatment\", \"test_table_small_causaltree_dep2\",discrete_treatment=False, K=100)\n",
    "tmp1.summary()\n",
    "tmp2 = get_lift_gain(\"effect\", \"y\", \"treatment\", \"test_table_small_causaltree_dep3\",discrete_treatment=False, K=100)\n",
    "tmp2.summary()\n",
    "hte_plot([tmp1, tmp2],labels=['depth=2','depth=3'])"
   ]
  },
  {
   "cell_type": "markdown",
   "id": "6900848c-1015-45d9-b4ef-e7ee3bf8540d",
   "metadata": {
    "tags": []
   },
   "source": [
    "### ML模型（spark）"
   ]
  },
  {
   "cell_type": "markdown",
   "id": "96e3c5a4-191c-4ee9-839c-dea6ebe3d1b1",
   "metadata": {},
   "source": [
    "采用pyspark做逻辑回归，并把回归后的结果导出到新的表中，预测概率的列名叫'score'  \n",
    "注意：这里需要申请spark资源"
   ]
  },
  {
   "cell_type": "code",
   "execution_count": null,
   "id": "96700dff-6540-47b6-a682-8e02f8e176e5",
   "metadata": {},
   "outputs": [
    {
     "name": "stdout",
     "output_type": "stream",
     "text": [
      "******************************\n",
      "AUC:  0.8825068200041265\n",
      "******************************\n",
      "running, please wait\n",
      "[2023-09-26 17:11:11] tdw.py line:378 INFO - dataframe count=10000\n",
      "[2023-09-26 17:11:11] tdw.py line:337 INFO - clickhouse table auto create table\n",
      "donetime cost: 36.0409711439861 Seconds\n",
      "******************************\n",
      "table_output: test_data_small_1695719461\n",
      "******************************\n"
     ]
    },
    {
     "data": {
      "text/plain": [
       "{'id': 'UUID',\n",
       " 'x1': 'Float64',\n",
       " 'x2': 'Float64',\n",
       " 'x3': 'Float64',\n",
       " 'x4': 'Float64',\n",
       " 'x5': 'Float64',\n",
       " 'x_long_tail1': 'Float64',\n",
       " 'x_long_tail2': 'Float64',\n",
       " 'x_cat1': 'String',\n",
       " 'treatment': 'Int64',\n",
       " 'numerator_pre': 'Float64',\n",
       " 'denominator_pre': 'Int64',\n",
       " 'numerator': 'Float64',\n",
       " 'denominator': 'Int64',\n",
       " 'y': 'Float64',\n",
       " 't1': 'Int64',\n",
       " 'weight': 'Float64',\n",
       " 'score': 'Float32',\n",
       " 'day_': 'Date'}"
      ]
     },
     "execution_count": 4,
     "metadata": {},
     "output_type": "execute_result"
    }
   ],
   "source": [
    "from fast_causal_inference.lib.ml_spark import *\n",
    "Y='y'\n",
    "T='t1'\n",
    "table = 'test_data_small'\n",
    "X = ['x1', 'x2', 'x3', 'x4', 'x5', 'x_long_tail1', 'x_long_tail2']\n",
    "categorical_columns = ['x_cat1']\n",
    "table_output = LogisticRegression_spark(spark,\n",
    "                         table,T,X,categorical_columns,\n",
    "                         maxIter=40, regParam=0, elasticNetParam=0.6)\n",
    "\n",
    "from fast_causal_inference.lib.tools import *\n",
    "get_columns(table_output)"
   ]
  }
 ],
 "metadata": {
  "kernelspec": {
   "display_name": "Python 3 (ipykernel)",
   "language": "python",
   "name": "python3"
  },
  "language_info": {
   "codemirror_mode": {
    "name": "ipython",
    "version": 3
   },
   "file_extension": ".py",
   "mimetype": "text/x-python",
   "name": "python",
   "nbconvert_exporter": "python",
   "pygments_lexer": "ipython3",
   "version": "3.7.7"
  },
  "toc-autonumbering": true
 },
 "nbformat": 4,
 "nbformat_minor": 5
}
