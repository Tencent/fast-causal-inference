{
 "cells": [
  {
   "cell_type": "markdown",
   "id": "c0b4b139-0484-47c7-a9ce-247968aedd48",
   "metadata": {},
   "source": [
    "## 安装package"
   ]
  },
  {
   "cell_type": "markdown",
   "id": "41ad7ea6-b625-4c88-9c7b-bf09d436e9ad",
   "metadata": {},
   "source": [
    "<font color=#FF000 >安装后需要在 jupyter 页面重启  kernel，才会生效</font>  \n",
    "<font color=#FF000 >必须！python3.7的kernel, 否则会遇到组件兼容性问题</font>"
   ]
  },
  {
   "cell_type": "code",
   "execution_count": null,
   "id": "84047222-8303-4091-99ad-986174a53fc5",
   "metadata": {},
   "outputs": [],
   "source": [
    "#（建议）安装最新版本\n",
    "!pip install --verbose -U fast-causal-inference"
   ]
  },
  {
   "cell_type": "markdown",
   "id": "1a303640-afd2-46c4-ad50-9d9036d6c57e",
   "metadata": {
    "tags": []
   },
   "source": [
    "## 初始化fast_causal_inference"
   ]
  },
  {
   "cell_type": "code",
   "execution_count": 2,
   "id": "6279fa4d",
   "metadata": {
    "tags": []
   },
   "outputs": [],
   "source": [
    "import fast_causal_inference\n",
    "#支持业务多租户安全隔离，请首先初始化租户信息才可进行后续使用\n",
    "fast_causal_inference.set_default(tenant_id='${guest_tenant_id}', tenant_secret_key='${guest_tenant_secret_key}')\n",
    "sql_instance = fast_causal_inference.create()"
   ]
  },
  {
   "cell_type": "markdown",
   "id": "31e9093d-eb90-430a-a212-635595724548",
   "metadata": {},
   "source": [
    "### 创建/删除  clickhouse表(视图)\n",
    "<font color=#FF000 >建议用户基于此function在clickhouse中创建/删除表 </font>  "
   ]
  },
  {
   "cell_type": "markdown",
   "id": "2903ddff-3ef9-4174-9496-00e3920b3c71",
   "metadata": {},
   "source": [
    "#### 创建表： 写完整查询SQL"
   ]
  },
  {
   "cell_type": "code",
   "execution_count": 3,
   "id": "2ad46dac-31e6-4f28-8fb4-7649060b1f94",
   "metadata": {},
   "outputs": [
    {
     "name": "stdout",
     "output_type": "stream",
     "text": [
      "running, please wait\n",
      "[2023-10-18 21:56:50] clickhouse.py line:532 INFO - 3\n",
      "donetime cost: 1.3996154814958572 Seconds\n"
     ]
    },
    {
     "data": {
      "text/plain": [
       "'\\n    创建实验指标明细视图:sql_statement, sql_table_name, sql_where, sql_group_by, sql_limit 会组成完整sql\\n参数：\\n    :param clickhouse_view_name: clikchouse视图/物理表名称\\n    :param sql_statement:  查询子语句 如果is_sql_complete为True, 则为创建表的完整查询\\n    :param is_sql_complete(默认False) sql_statement字段是否提供的是完整的sql声明,  如果为True，则不需要额外提供sql_table_name, sql_where, sql_group_by, sql_limit \\n'"
      ]
     },
     "execution_count": 3,
     "metadata": {},
     "output_type": "execute_result"
    }
   ],
   "source": [
    "fast_causal_inference.clickhouse_create_view(\n",
    "                            clickhouse_view_name=\"a20231018_bearlyhuang4\", \n",
    "                            sql_statement=\"\"\"\n",
    "                            WITH (\n",
    "                                    SELECT\n",
    "                                            OlsState(y,x1,x2) AS model\n",
    "                                    FROM\n",
    "                                            test_data_small\n",
    "                                   ) AS model\n",
    "                              SELECT\n",
    "                                    evalMLMethod (model,x1,x2) AS y_pre\n",
    "                              FROM\n",
    "                                    test_data_small\n",
    "                              limit 10\"\"\",\n",
    "                              is_sql_complete=True, is_use_local=False)\n",
    "\"\"\"\n",
    "    创建实验指标明细视图:sql_statement, sql_table_name, sql_where, sql_group_by, sql_limit 会组成完整sql\n",
    "参数：\n",
    "    :param clickhouse_view_name: clikchouse视图/物理表名称\n",
    "    :param sql_statement:  查询子语句 如果is_sql_complete为True, 则为创建表的完整查询\n",
    "    :param is_sql_complete(默认False) sql_statement字段是否提供的是完整的sql声明,  如果为True，则不需要额外提供sql_table_name, sql_where, sql_group_by, sql_limit \n",
    "\"\"\""
   ]
  },
  {
   "cell_type": "markdown",
   "id": "40c1d98f-c38a-4118-9959-20b024103997",
   "metadata": {},
   "source": [
    "#### 删除表"
   ]
  },
  {
   "cell_type": "code",
   "execution_count": 4,
   "id": "74797525-7c6c-4313-8545-5fbf71cceecd",
   "metadata": {},
   "outputs": [
    {
     "name": "stdout",
     "output_type": "stream",
     "text": [
      "running, please wait\n",
      "donetime cost: 0.4244374483823776 Seconds\n"
     ]
    },
    {
     "data": {
      "text/plain": [
       "'\\n    在集群删除视图/物理表, 删除操作需谨慎\\n    :param clickhouse_view_name:  视图或物理表名称\\n'"
      ]
     },
     "execution_count": 4,
     "metadata": {},
     "output_type": "execute_result"
    }
   ],
   "source": [
    "fast_causal_inference.clickhouse_drop_view(clickhouse_view_name=\"a20231018_bearlyhuang4\") \n",
    "\"\"\"\n",
    "    在集群删除视图/物理表, 删除操作需谨慎\n",
    "    :param clickhouse_view_name:  视图或物理表名称\n",
    "\"\"\""
   ]
  },
  {
   "cell_type": "markdown",
   "id": "806fcb37-f8a9-4b51-bb20-db19f0566de5",
   "metadata": {},
   "source": [
    "## 将外部数据导到clickhouse里\n",
    "如果只是想试用，不需要导入自己的数据做分析，可以跳过这一步"
   ]
  },
  {
   "cell_type": "markdown",
   "id": "adb0a802-c2b4-4c72-9f82-d89d2bae6249",
   "metadata": {},
   "source": [
    "#### tdw数据: thive表 >> clickhouse（通过spark）"
   ]
  },
  {
   "cell_type": "code",
   "execution_count": null,
   "id": "5991c2bf-9440-4190-9586-cadf6d463d2a",
   "metadata": {},
   "outputs": [],
   "source": [
    "# 申请sparkSession\n",
    "spark = fast_causal_inference.get_spark_session(group_id='', gaia_id='') # group_id,gaia_id 参考 notebook上默认文件！Spark 资源池.html\n",
    "# spark = fast_causal_inference.get_spark_session(group_id='', gaia_id='',driver_cores=4, driver_memory=\"8g\", executor_cores=2, executor_memory=\"10g\", spark_eventLog_compress=\"false\")"
   ]
  },
  {
   "cell_type": "code",
   "execution_count": null,
   "id": "ed3b2fa3-3aeb-448f-97ab-553b23da4c4e",
   "metadata": {},
   "outputs": [],
   "source": [
    "# thive dataframe\n",
    "from pytoolkit import TDWSQLProvider\n",
    "tdw= TDWSQLProvider(spark, \n",
    "                    user='tdw_rtx',# tdw账号：\"tdw_rtx\"\n",
    "                    passwd='', #查看tdw账号密码 ${tdw_password}\n",
    "                    db='') # 查询的数据库\n",
    "thive_df=tdw.table(tblName='', #表名\n",
    "                   priParts=['p_']) #如果是分区表需要加上所取分区： “p_分区名称” \n",
    "# 如果该表已经存在，需要用clickhouse_drop_view将其删除\n",
    "# fast_causal_inference.clickhouse_drop_view(clickhouse_view_name=\"test_data_small_20230920_thive\")\n",
    "fast_causal_inference.dataframe_2_clickhouse(dataframe=thive_df, \n",
    "                                             clickhouse_table_name=\"test_data_small_20231017_thive\")"
   ]
  },
  {
   "cell_type": "markdown",
   "id": "66e7108d-c9e0-44c6-91da-fefcaf84a46c",
   "metadata": {},
   "source": [
    "#### tdw数据: iceberge表 >> clickhouse（通过spark）"
   ]
  },
  {
   "cell_type": "code",
   "execution_count": null,
   "id": "a4e96c58-c8fa-4230-88b3-a6d6e3fd8972",
   "metadata": {},
   "outputs": [],
   "source": [
    "# 申请sparkSession 需要指定cmk, 下载 ${tdw_cmk} 到notebook\n",
    "# spark.stop()\n",
    "spark = fast_causal_inference.get_spark_session(group_id='', gaia_id='', cmk=\"/home/bearlyhuang/bearlyhuang.cmk\")"
   ]
  },
  {
   "cell_type": "code",
   "execution_count": null,
   "id": "b1d6ef1b-a5d2-4448-9432-a467afc9a9b7",
   "metadata": {},
   "outputs": [],
   "source": [
    "# iceberg dataframe\n",
    "iceberg_df = spark.read.format(\"iceberg\").load(\"\").limit(100) # 数据库.表名称\n",
    "# 如果该表已经存在，需要用clickhouse_drop_view将其删除\n",
    "# fast_causal_inference.clickhouse_drop_view(clickhouse_view_name=\"test_data_small_20231017_iceberg\")\n",
    "fast_causal_inference.dataframe_2_clickhouse(dataframe=iceberg_df, \n",
    "                                             clickhouse_table_name=\"test_data_small_20231017_iceberg\")"
   ]
  },
  {
   "cell_type": "markdown",
   "id": "ca6e772e-51a9-4e5b-88fe-099798ee7bcc",
   "metadata": {},
   "source": [
    "#### clickhouse >> spark "
   ]
  },
  {
   "cell_type": "code",
   "execution_count": null,
   "id": "70c53ff6-eea0-45a3-a700-a2c6eda2858f",
   "metadata": {},
   "outputs": [],
   "source": [
    "df = fast_causal_inference.clickhouse_2_dataframe(spark, clickhouse_table_name='test_data_small_20230920_thive')\n",
    "df.show()"
   ]
  },
  {
   "cell_type": "markdown",
   "id": "5631ada4-a315-4f2b-94bb-64a6425c3038",
   "metadata": {},
   "source": [
    "#### 本地数据表csv <<>> clickhouse"
   ]
  },
  {
   "cell_type": "code",
   "execution_count": 2,
   "id": "079189b5-5e2e-4ed4-b451-57b0575b239a",
   "metadata": {},
   "outputs": [
    {
     "name": "stdout",
     "output_type": "stream",
     "text": [
      "running, please wait\n",
      "donetime cost: 0.5833354592323303 Seconds\n"
     ]
    }
   ],
   "source": [
    "# csv >> clickhouse    csv文件请将第一行应表示为列名\n",
    "fast_causal_inference.csv_2_clickhouse(csv_file_abs_path=\"test_load.csv\", clickhouse_table_name=\"test_load3\")"
   ]
  },
  {
   "cell_type": "code",
   "execution_count": 3,
   "id": "6572ffad-2637-4d6b-8f08-6e815332a4e6",
   "metadata": {},
   "outputs": [
    {
     "name": "stdout",
     "output_type": "stream",
     "text": [
      "running, please wait\n",
      "donetime cost: 0.749113954603672 Seconds\n"
     ]
    }
   ],
   "source": [
    "# clickhouse >> csv\n",
    "fast_causal_inference.clickhouse_2_csv(csv_file_abs_path=\"test_load2.csv\", clickhouse_table_name=\"test_load3\")"
   ]
  }
 ],
 "metadata": {
  "kernelspec": {
   "display_name": "Python 3 (ipykernel)",
   "language": "python",
   "name": "python3"
  },
  "language_info": {
   "codemirror_mode": {
    "name": "ipython",
    "version": 3
   },
   "file_extension": ".py",
   "mimetype": "text/x-python",
   "name": "python",
   "nbconvert_exporter": "python",
   "pygments_lexer": "ipython3",
   "version": "3.7.7"
  },
  "toc-autonumbering": true
 },
 "nbformat": 4,
 "nbformat_minor": 5
}
